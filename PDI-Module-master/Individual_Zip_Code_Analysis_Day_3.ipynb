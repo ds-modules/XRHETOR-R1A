{
 "cells": [
  {
   "cell_type": "markdown",
   "metadata": {},
   "source": [
    "# Day 3\n",
    "## Free Response\n",
    "\n",
    "Using support from the data sets you analyzed previously and your answers to the questions in the two notebooks, choose one of the following prompts and write 2-3 paragraphs. Present your answer in a structured and formal argument, and feel free to expand your response to any of the questions with data/facts you find relevant and intersting.  "
   ]
  },
  {
   "cell_type": "markdown",
   "metadata": {},
   "source": [
    "### Prompts\n",
    "1. Are early voting/vote by mail results a good indicator of who will win the election? Consider what you know about who tends to vote early, and who doesn’t. How might early voting results be skewed?\n",
    "\n",
    "2. Design a population that would be ideal for a Democratic candidate, and one that would be ideal for a Republican candidate. Create a few “sample voters” for each case, and be sure to defend each demographic choice you make (age, gender, ethnicity, etc). \n",
    "\n",
    "3. Certain demographics are markedly more polarized than others. Select a few of those demographics, and explain why you believe this is the case. Reliable outside sources may be useful here, but use them to support your own argument (not the other way around). \n",
    "\n",
    "4. Create your own prompt! Feel free to write about anything related to what we’ve covered over the past few days, so long as you craft an argument supported by data."
   ]
  },
  {
   "cell_type": "markdown",
   "metadata": {},
   "source": [
    "(Type Your Response Here)\n",
    "\n",
    "\n"
   ]
  },
  {
   "cell_type": "markdown",
   "metadata": {},
   "source": [
    "## Further Analysis\n",
    "We have included some functions below that you can use for further analysis as election and polling data updates over the next few weeks. \n",
    "\n",
    "Like previously, remember to run all of the cells and in the order they are presented. You can also use the plus (+) button located on the top left of the notebook (next to the save button) to create new cells, and the scissor button to delete cells. Feel free to experiment more with the iPython notebook and create your own functions as you become more familiar with the environment!"
   ]
  },
  {
   "cell_type": "code",
   "execution_count": 18,
   "metadata": {
    "collapsed": true
   },
   "outputs": [],
   "source": [
    "# Import helpful libraries, make sure you run this cell first!\n",
    "from datascience import * \n",
    "import numpy as np\n",
    "import matplotlib "
   ]
  },
  {
   "cell_type": "markdown",
   "metadata": {},
   "source": [
    "## Helpful Functions\n",
    "Each function has a description of what it does and its inputs. Make sure you follow the input structure of the function or running it may result in errors! We have also included a demo at the bottom on how to use all of these functions on a sample dataset. "
   ]
  },
  {
   "cell_type": "code",
   "execution_count": 19,
   "metadata": {
    "collapsed": true
   },
   "outputs": [],
   "source": [
    "def create_table(filename):\n",
    "    \"\"\"\n",
    "    Description: Returns a table out of the file with the input filename\n",
    "    Input:\n",
    "        filename - the name of the file that you want to create a table out of (i.e. 'Party v Age.csv')\n",
    "    \"\"\"\n",
    "    return Table().read_table(filename)"
   ]
  },
  {
   "cell_type": "code",
   "execution_count": 62,
   "metadata": {
    "collapsed": false
   },
   "outputs": [],
   "source": [
    "def display_table(table, number_of_rows=''):\n",
    "    \"\"\"\n",
    "    Description: Displays the input table with the number of rows you want displayed\n",
    "    Inputs:\n",
    "        table - the name of the table that you want to display\n",
    "        number_of_rows - the number of rows you want to display (default is all rows)\n",
    "    \"\"\"\n",
    "    return table.show(number_of_rows)"
   ]
  },
  {
   "cell_type": "code",
   "execution_count": 21,
   "metadata": {
    "collapsed": true
   },
   "outputs": [],
   "source": [
    "def bar_graph(table, column_name):\n",
    "    \"\"\"\n",
    "    Description:\n",
    "    Inputs: \n",
    "        \n",
    "    \"\"\"\n",
    "    return table.barh(column_name)"
   ]
  },
  {
   "cell_type": "code",
   "execution_count": 22,
   "metadata": {
    "collapsed": true
   },
   "outputs": [],
   "source": [
    "def remove_column(table, column_name):\n",
    "    \"\"\"\n",
    "    Description: Returns a table with the input column removed from it\n",
    "    Inputs:\n",
    "        table - the name of the table that you want the column removed from\n",
    "        column_name - the name of the column that you want to remove\n",
    "    \"\"\"\n",
    "    return table.drop(column_name)"
   ]
  },
  {
   "cell_type": "code",
   "execution_count": 23,
   "metadata": {
    "collapsed": true
   },
   "outputs": [],
   "source": [
    "def sum_column(table, column_name):\n",
    "    \"\"\"\n",
    "    Description: Returns the sum of all the elements in the input column\n",
    "    Inputs:\n",
    "        table - the name of the table you want to sum from\n",
    "        column_name - the name of the column that you want to sum the counts for, make sure the column has only numbers\n",
    "    \"\"\"\n",
    "    return sum(table[column_name])"
   ]
  },
  {
   "cell_type": "code",
   "execution_count": 24,
   "metadata": {
    "collapsed": true
   },
   "outputs": [],
   "source": [
    "def avg_column(table, column_name):\n",
    "    \"\"\"\n",
    "    Description: Returns the average of all the elements in the input column\n",
    "    Inputs:\n",
    "        table - the name of the table you want to take the average from\n",
    "        column_name - the name of the column that you want to sum the counts for, make sure the column has only numbers\n",
    "    \"\"\"\n",
    "    return np.average(table[column_name])"
   ]
  },
  {
   "cell_type": "code",
   "execution_count": 36,
   "metadata": {
    "collapsed": true
   },
   "outputs": [],
   "source": [
    "def get_specific_data(table, column_name, value):\n",
    "    \"\"\"\n",
    "    Description: Returns just the data where the elements in a column are of a specific value \n",
    "    Inputs:\n",
    "        table - the name of the table you want to get data from\n",
    "        column_name - the column name that you want to filter by\n",
    "        value: the value in the specified column that you are querying for\n",
    "    \"\"\"\n",
    "    return table.where(table.column(column_name) == value)"
   ]
  },
  {
   "cell_type": "code",
   "execution_count": 50,
   "metadata": {
    "collapsed": true
   },
   "outputs": [],
   "source": [
    "def min_element_entry(table, column_name):\n",
    "    \"\"\"\n",
    "    Description: Returns the row in the table that contains the lowest entry out of that input column's elements \n",
    "    Inputs:\n",
    "        table - the name of the table you want to get data from\n",
    "        column_name - the name of the column that you want to get the minimum entry of \n",
    "    \"\"\"\n",
    "    min_element = min(table[column_name])\n",
    "    return table.where(table.column(column_name) == min_element)"
   ]
  },
  {
   "cell_type": "code",
   "execution_count": 49,
   "metadata": {
    "collapsed": true
   },
   "outputs": [],
   "source": [
    "def max_element_entry(table, column_name):\n",
    "    \"\"\"\n",
    "    Description: Returns the row in the table that contains the highest entry out of that input column's elements \n",
    "    Inputs:\n",
    "        table - the name of the table you want to get data from\n",
    "        column_name - the name of the column that you want to get the maximum entry of \n",
    "    \"\"\"\n",
    "    max_element = max(table[column_name])\n",
    "    return table.where(table.column(column_name) == max_element)"
   ]
  },
  {
   "cell_type": "markdown",
   "metadata": {},
   "source": [
    "## Demo: How each function is called and used"
   ]
  },
  {
   "cell_type": "code",
   "execution_count": 60,
   "metadata": {
    "collapsed": false
   },
   "outputs": [
    {
     "data": {
      "text/html": [
       "<table border=\"1\" class=\"dataframe\">\n",
       "    <thead>\n",
       "        <tr>\n",
       "            <th>Age</th> <th>D</th> <th>R</th> <th>DS</th> <th>Zip</th>\n",
       "        </tr>\n",
       "    </thead>\n",
       "    <tbody>\n",
       "        <tr>\n",
       "            <td>Age1824</td> <td>509 </td> <td>65  </td> <td>192 </td> <td>90025</td>\n",
       "        </tr>\n",
       "    </tbody>\n",
       "        <tr>\n",
       "            <td>Age2534</td> <td>2760</td> <td>437 </td> <td>1253</td> <td>90025</td>\n",
       "        </tr>\n",
       "    </tbody>\n",
       "        <tr>\n",
       "            <td>Age3544</td> <td>1843</td> <td>420 </td> <td>1056</td> <td>90025</td>\n",
       "        </tr>\n",
       "    </tbody>\n",
       "        <tr>\n",
       "            <td>Age4554</td> <td>1497</td> <td>381 </td> <td>685 </td> <td>90025</td>\n",
       "        </tr>\n",
       "    </tbody>\n",
       "        <tr>\n",
       "            <td>Age5564</td> <td>1399</td> <td>390 </td> <td>454 </td> <td>90025</td>\n",
       "        </tr>\n",
       "    </tbody>\n",
       "        <tr>\n",
       "            <td>Age65NA</td> <td>2116</td> <td>752 </td> <td>522 </td> <td>90025</td>\n",
       "        </tr>\n",
       "    </tbody>\n",
       "        <tr>\n",
       "            <td>Age1824</td> <td>477 </td> <td>218 </td> <td>239 </td> <td>90266</td>\n",
       "        </tr>\n",
       "    </tbody>\n",
       "        <tr>\n",
       "            <td>Age2534</td> <td>814 </td> <td>481 </td> <td>575 </td> <td>90266</td>\n",
       "        </tr>\n",
       "    </tbody>\n",
       "        <tr>\n",
       "            <td>Age3544</td> <td>1075</td> <td>799 </td> <td>780 </td> <td>90266</td>\n",
       "        </tr>\n",
       "    </tbody>\n",
       "        <tr>\n",
       "            <td>Age4554</td> <td>1563</td> <td>1828</td> <td>1079</td> <td>90266</td>\n",
       "        </tr>\n",
       "    </tbody>\n",
       "        <tr>\n",
       "            <td>Age5564</td> <td>1663</td> <td>1734</td> <td>675 </td> <td>90266</td>\n",
       "        </tr>\n",
       "    </tbody>\n",
       "        <tr>\n",
       "            <td>Age65NA</td> <td>2050</td> <td>2440</td> <td>621 </td> <td>90266</td>\n",
       "        </tr>\n",
       "    </tbody>\n",
       "        <tr>\n",
       "            <td>Age1824</td> <td>451 </td> <td>97  </td> <td>157 </td> <td>90272</td>\n",
       "        </tr>\n",
       "    </tbody>\n",
       "        <tr>\n",
       "            <td>Age2534</td> <td>553 </td> <td>197 </td> <td>300 </td> <td>90272</td>\n",
       "        </tr>\n",
       "    </tbody>\n",
       "        <tr>\n",
       "            <td>Age3544</td> <td>647 </td> <td>302 </td> <td>431 </td> <td>90272</td>\n",
       "        </tr>\n",
       "    </tbody>\n",
       "        <tr>\n",
       "            <td>Age4554</td> <td>1241</td> <td>731 </td> <td>564 </td> <td>90272</td>\n",
       "        </tr>\n",
       "    </tbody>\n",
       "        <tr>\n",
       "            <td>Age5564</td> <td>1569</td> <td>848 </td> <td>510 </td> <td>90272</td>\n",
       "        </tr>\n",
       "    </tbody>\n",
       "        <tr>\n",
       "            <td>Age65NA</td> <td>2434</td> <td>1739</td> <td>564 </td> <td>90272</td>\n",
       "        </tr>\n",
       "    </tbody>\n",
       "        <tr>\n",
       "            <td>Age1824</td> <td>257 </td> <td>257 </td> <td>203 </td> <td>90274</td>\n",
       "        </tr>\n",
       "    </tbody>\n",
       "        <tr>\n",
       "            <td>Age2534</td> <td>314 </td> <td>349 </td> <td>306 </td> <td>90274</td>\n",
       "        </tr>\n",
       "    </tbody>\n",
       "        <tr>\n",
       "            <td>Age3544</td> <td>345 </td> <td>461 </td> <td>329 </td> <td>90274</td>\n",
       "        </tr>\n",
       "    </tbody>\n",
       "        <tr>\n",
       "            <td>Age4554</td> <td>721 </td> <td>1404</td> <td>579 </td> <td>90274</td>\n",
       "        </tr>\n",
       "    </tbody>\n",
       "        <tr>\n",
       "            <td>Age5564</td> <td>967 </td> <td>1743</td> <td>590 </td> <td>90274</td>\n",
       "        </tr>\n",
       "    </tbody>\n",
       "        <tr>\n",
       "            <td>Age65NA</td> <td>1590</td> <td>3415</td> <td>634 </td> <td>90274</td>\n",
       "        </tr>\n",
       "    </tbody>\n",
       "        <tr>\n",
       "            <td>Age1824</td> <td>480 </td> <td>108 </td> <td>189 </td> <td>91505</td>\n",
       "        </tr>\n",
       "    </tbody>\n",
       "        <tr>\n",
       "            <td>Age2534</td> <td>1302</td> <td>326 </td> <td>639 </td> <td>91505</td>\n",
       "        </tr>\n",
       "    </tbody>\n",
       "        <tr>\n",
       "            <td>Age3544</td> <td>1621</td> <td>404 </td> <td>780 </td> <td>91505</td>\n",
       "        </tr>\n",
       "    </tbody>\n",
       "        <tr>\n",
       "            <td>Age4554</td> <td>1664</td> <td>809 </td> <td>768 </td> <td>91505</td>\n",
       "        </tr>\n",
       "    </tbody>\n",
       "        <tr>\n",
       "            <td>Age5564</td> <td>1460</td> <td>802 </td> <td>462 </td> <td>91505</td>\n",
       "        </tr>\n",
       "    </tbody>\n",
       "        <tr>\n",
       "            <td>Age65NA</td> <td>1545</td> <td>1157</td> <td>398 </td> <td>91505</td>\n",
       "        </tr>\n",
       "    </tbody>\n",
       "        <tr>\n",
       "            <td>Age1824</td> <td>340 </td> <td>19  </td> <td>68  </td> <td>91602</td>\n",
       "        </tr>\n",
       "    </tbody>\n",
       "        <tr>\n",
       "            <td>Age2534</td> <td>2034</td> <td>193 </td> <td>528 </td> <td>91602</td>\n",
       "        </tr>\n",
       "    </tbody>\n",
       "        <tr>\n",
       "            <td>Age3544</td> <td>2097</td> <td>230 </td> <td>570 </td> <td>91602</td>\n",
       "        </tr>\n",
       "    </tbody>\n",
       "        <tr>\n",
       "            <td>Age4554</td> <td>1900</td> <td>354 </td> <td>427 </td> <td>91602</td>\n",
       "        </tr>\n",
       "    </tbody>\n",
       "        <tr>\n",
       "            <td>Age5564</td> <td>1624</td> <td>324 </td> <td>279 </td> <td>91602</td>\n",
       "        </tr>\n",
       "    </tbody>\n",
       "        <tr>\n",
       "            <td>Age65NA</td> <td>1744</td> <td>536 </td> <td>244 </td> <td>91602</td>\n",
       "        </tr>\n",
       "    </tbody>\n",
       "        <tr>\n",
       "            <td>Age1824</td> <td>341 </td> <td>50  </td> <td>152 </td> <td>91792</td>\n",
       "        </tr>\n",
       "    </tbody>\n",
       "        <tr>\n",
       "            <td>Age2534</td> <td>686 </td> <td>181 </td> <td>358 </td> <td>91792</td>\n",
       "        </tr>\n",
       "    </tbody>\n",
       "        <tr>\n",
       "            <td>Age3544</td> <td>717 </td> <td>224 </td> <td>324 </td> <td>91792</td>\n",
       "        </tr>\n",
       "    </tbody>\n",
       "        <tr>\n",
       "            <td>Age4554</td> <td>786 </td> <td>342 </td> <td>361 </td> <td>91792</td>\n",
       "        </tr>\n",
       "    </tbody>\n",
       "        <tr>\n",
       "            <td>Age5564</td> <td>868 </td> <td>422 </td> <td>373 </td> <td>91792</td>\n",
       "        </tr>\n",
       "    </tbody>\n",
       "        <tr>\n",
       "            <td>Age65NA</td> <td>1285</td> <td>719 </td> <td>433 </td> <td>91792</td>\n",
       "        </tr>\n",
       "    </tbody>\n",
       "        <tr>\n",
       "            <td>Age1824</td> <td>461 </td> <td>288 </td> <td>321 </td> <td>92009</td>\n",
       "        </tr>\n",
       "    </tbody>\n",
       "        <tr>\n",
       "            <td>Age2534</td> <td>642 </td> <td>587 </td> <td>538 </td> <td>92009</td>\n",
       "        </tr>\n",
       "    </tbody>\n",
       "        <tr>\n",
       "            <td>Age3544</td> <td>1193</td> <td>1193</td> <td>1032</td> <td>92009</td>\n",
       "        </tr>\n",
       "    </tbody>\n",
       "        <tr>\n",
       "            <td>Age4554</td> <td>1528</td> <td>2412</td> <td>1275</td> <td>92009</td>\n",
       "        </tr>\n",
       "    </tbody>\n",
       "        <tr>\n",
       "            <td>Age5564</td> <td>1493</td> <td>2298</td> <td>913 </td> <td>92009</td>\n",
       "        </tr>\n",
       "    </tbody>\n",
       "        <tr>\n",
       "            <td>Age65NA</td> <td>1886</td> <td>2705</td> <td>1030</td> <td>92009</td>\n",
       "        </tr>\n",
       "    </tbody>\n",
       "        <tr>\n",
       "            <td>Age1824</td> <td>114 </td> <td>46  </td> <td>77  </td> <td>92075</td>\n",
       "        </tr>\n",
       "    </tbody>\n",
       "        <tr>\n",
       "            <td>Age2534</td> <td>261 </td> <td>129 </td> <td>209 </td> <td>92075</td>\n",
       "        </tr>\n",
       "    </tbody>\n",
       "        <tr>\n",
       "            <td>Age3544</td> <td>329 </td> <td>219 </td> <td>292 </td> <td>92075</td>\n",
       "        </tr>\n",
       "    </tbody>\n",
       "        <tr>\n",
       "            <td>Age4554</td> <td>403 </td> <td>435 </td> <td>321 </td> <td>92075</td>\n",
       "        </tr>\n",
       "    </tbody>\n",
       "        <tr>\n",
       "            <td>Age5564</td> <td>501 </td> <td>533 </td> <td>294 </td> <td>92075</td>\n",
       "        </tr>\n",
       "    </tbody>\n",
       "        <tr>\n",
       "            <td>Age65NA</td> <td>782 </td> <td>1060</td> <td>398 </td> <td>92075</td>\n",
       "        </tr>\n",
       "    </tbody>\n",
       "        <tr>\n",
       "            <td>Age1824</td> <td>415 </td> <td>127 </td> <td>256 </td> <td>92243</td>\n",
       "        </tr>\n",
       "    </tbody>\n",
       "        <tr>\n",
       "            <td>Age2534</td> <td>862 </td> <td>334 </td> <td>468 </td> <td>92243</td>\n",
       "        </tr>\n",
       "    </tbody>\n",
       "        <tr>\n",
       "            <td>Age3544</td> <td>712 </td> <td>399 </td> <td>451 </td> <td>92243</td>\n",
       "        </tr>\n",
       "    </tbody>\n",
       "        <tr>\n",
       "            <td>Age4554</td> <td>926 </td> <td>588 </td> <td>430 </td> <td>92243</td>\n",
       "        </tr>\n",
       "    </tbody>\n",
       "        <tr>\n",
       "            <td>Age5564</td> <td>1334</td> <td>788 </td> <td>441 </td> <td>92243</td>\n",
       "        </tr>\n",
       "    </tbody>\n",
       "        <tr>\n",
       "            <td>Age65NA</td> <td>1858</td> <td>1074</td> <td>367 </td> <td>92243</td>\n",
       "        </tr>\n",
       "    </tbody>\n",
       "        <tr>\n",
       "            <td>Age1824</td> <td>353 </td> <td>191 </td> <td>372 </td> <td>92603</td>\n",
       "        </tr>\n",
       "    </tbody>\n",
       "        <tr>\n",
       "            <td>Age2534</td> <td>467 </td> <td>367 </td> <td>479 </td> <td>92603</td>\n",
       "        </tr>\n",
       "    </tbody>\n",
       "        <tr>\n",
       "            <td>Age3544</td> <td>460 </td> <td>487 </td> <td>531 </td> <td>92603</td>\n",
       "        </tr>\n",
       "    </tbody>\n",
       "        <tr>\n",
       "            <td>Age4554</td> <td>617 </td> <td>757 </td> <td>754 </td> <td>92603</td>\n",
       "        </tr>\n",
       "    </tbody>\n",
       "        <tr>\n",
       "            <td>Age5564</td> <td>577 </td> <td>882 </td> <td>535 </td> <td>92603</td>\n",
       "        </tr>\n",
       "    </tbody>\n",
       "        <tr>\n",
       "            <td>Age65NA</td> <td>669 </td> <td>1174</td> <td>463 </td> <td>92603</td>\n",
       "        </tr>\n",
       "    </tbody>\n",
       "        <tr>\n",
       "            <td>Age1824</td> <td>881 </td> <td>400 </td> <td>879 </td> <td>92620</td>\n",
       "        </tr>\n",
       "    </tbody>\n",
       "        <tr>\n",
       "            <td>Age2534</td> <td>1475</td> <td>860 </td> <td>1308</td> <td>92620</td>\n",
       "        </tr>\n",
       "    </tbody>\n",
       "        <tr>\n",
       "            <td>Age3544</td> <td>1518</td> <td>1146</td> <td>1766</td> <td>92620</td>\n",
       "        </tr>\n",
       "    </tbody>\n",
       "        <tr>\n",
       "            <td>Age4554</td> <td>1353</td> <td>1600</td> <td>1624</td> <td>92620</td>\n",
       "        </tr>\n",
       "    </tbody>\n",
       "        <tr>\n",
       "            <td>Age5564</td> <td>1204</td> <td>1650</td> <td>1006</td> <td>92620</td>\n",
       "        </tr>\n",
       "    </tbody>\n",
       "        <tr>\n",
       "            <td>Age65NA</td> <td>1224</td> <td>1933</td> <td>831 </td> <td>92620</td>\n",
       "        </tr>\n",
       "    </tbody>\n",
       "        <tr>\n",
       "            <td>Age1824</td> <td>191 </td> <td>85  </td> <td>123 </td> <td>93923</td>\n",
       "        </tr>\n",
       "    </tbody>\n",
       "        <tr>\n",
       "            <td>Age2534</td> <td>244 </td> <td>125 </td> <td>175 </td> <td>93923</td>\n",
       "        </tr>\n",
       "    </tbody>\n",
       "        <tr>\n",
       "            <td>Age3544</td> <td>276 </td> <td>138 </td> <td>200 </td> <td>93923</td>\n",
       "        </tr>\n",
       "    </tbody>\n",
       "        <tr>\n",
       "            <td>Age4554</td> <td>440 </td> <td>374 </td> <td>290 </td> <td>93923</td>\n",
       "        </tr>\n",
       "    </tbody>\n",
       "        <tr>\n",
       "            <td>Age5564</td> <td>742 </td> <td>519 </td> <td>359 </td> <td>93923</td>\n",
       "        </tr>\n",
       "    </tbody>\n",
       "        <tr>\n",
       "            <td>Age65NA</td> <td>1889</td> <td>1803</td> <td>777 </td> <td>93923</td>\n",
       "        </tr>\n",
       "    </tbody>\n",
       "        <tr>\n",
       "            <td>Age1824</td> <td>924 </td> <td>101 </td> <td>518 </td> <td>94109</td>\n",
       "        </tr>\n",
       "    </tbody>\n",
       "        <tr>\n",
       "            <td>Age2534</td> <td>6318</td> <td>958 </td> <td>3808</td> <td>94109</td>\n",
       "        </tr>\n",
       "    </tbody>\n",
       "        <tr>\n",
       "            <td>Age3544</td> <td>3212</td> <td>425 </td> <td>2072</td> <td>94109</td>\n",
       "        </tr>\n",
       "    </tbody>\n",
       "        <tr>\n",
       "            <td>Age4554</td> <td>2446</td> <td>450 </td> <td>1335</td> <td>94109</td>\n",
       "        </tr>\n",
       "    </tbody>\n",
       "        <tr>\n",
       "            <td>Age5564</td> <td>2335</td> <td>401 </td> <td>1056</td> <td>94109</td>\n",
       "        </tr>\n",
       "    </tbody>\n",
       "        <tr>\n",
       "            <td>Age65NA</td> <td>3958</td> <td>1078</td> <td>1724</td> <td>94109</td>\n",
       "        </tr>\n",
       "    </tbody>\n",
       "        <tr>\n",
       "            <td>Age1824</td> <td>547 </td> <td>52  </td> <td>317 </td> <td>94301</td>\n",
       "        </tr>\n",
       "    </tbody>\n",
       "        <tr>\n",
       "            <td>Age2534</td> <td>934 </td> <td>135 </td> <td>525 </td> <td>94301</td>\n",
       "        </tr>\n",
       "    </tbody>\n",
       "        <tr>\n",
       "            <td>Age3544</td> <td>679 </td> <td>113 </td> <td>516 </td> <td>94301</td>\n",
       "        </tr>\n",
       "    </tbody>\n",
       "        <tr>\n",
       "            <td>Age4554</td> <td>1006</td> <td>276 </td> <td>684 </td> <td>94301</td>\n",
       "        </tr>\n",
       "    </tbody>\n",
       "        <tr>\n",
       "            <td>Age5564</td> <td>1068</td> <td>397 </td> <td>324 </td> <td>94301</td>\n",
       "        </tr>\n",
       "    </tbody>\n",
       "        <tr>\n",
       "            <td>Age65NA</td> <td>1869</td> <td>642 </td> <td>585 </td> <td>94301</td>\n",
       "        </tr>\n",
       "    </tbody>\n",
       "        <tr>\n",
       "            <td>Age1824</td> <td>983 </td> <td>139 </td> <td>699 </td> <td>95129</td>\n",
       "        </tr>\n",
       "    </tbody>\n",
       "        <tr>\n",
       "            <td>Age2534</td> <td>991 </td> <td>226 </td> <td>825 </td> <td>95129</td>\n",
       "        </tr>\n",
       "    </tbody>\n",
       "        <tr>\n",
       "            <td>Age3544</td> <td>932 </td> <td>284 </td> <td>1258</td> <td>95129</td>\n",
       "        </tr>\n",
       "    </tbody>\n",
       "        <tr>\n",
       "            <td>Age4554</td> <td>1395</td> <td>575 </td> <td>2250</td> <td>95129</td>\n",
       "        </tr>\n",
       "    </tbody>\n",
       "        <tr>\n",
       "            <td>Age5564</td> <td>1313</td> <td>678 </td> <td>1300</td> <td>95129</td>\n",
       "        </tr>\n",
       "    </tbody>\n",
       "        <tr>\n",
       "            <td>Age65NA</td> <td>1747</td> <td>1087</td> <td>784 </td> <td>95129</td>\n",
       "        </tr>\n",
       "    </tbody>\n",
       "        <tr>\n",
       "            <td>Age1824</td> <td>772 </td> <td>310 </td> <td>626 </td> <td>95377</td>\n",
       "        </tr>\n",
       "    </tbody>\n",
       "        <tr>\n",
       "            <td>Age2534</td> <td>818 </td> <td>411 </td> <td>627 </td> <td>95377</td>\n",
       "        </tr>\n",
       "    </tbody>\n",
       "        <tr>\n",
       "            <td>Age3544</td> <td>1136</td> <td>670 </td> <td>723 </td> <td>95377</td>\n",
       "        </tr>\n",
       "    </tbody>\n",
       "        <tr>\n",
       "            <td>Age4554</td> <td>1558</td> <td>1109</td> <td>863 </td> <td>95377</td>\n",
       "        </tr>\n",
       "    </tbody>\n",
       "        <tr>\n",
       "            <td>Age5564</td> <td>1088</td> <td>713 </td> <td>471 </td> <td>95377</td>\n",
       "        </tr>\n",
       "    </tbody>\n",
       "        <tr>\n",
       "            <td>Age65NA</td> <td>909 </td> <td>519 </td> <td>296 </td> <td>95377</td>\n",
       "        </tr>\n",
       "    </tbody>\n",
       "</table>"
      ],
      "text/plain": [
       "<IPython.core.display.HTML object>"
      ]
     },
     "metadata": {},
     "output_type": "display_data"
    }
   ],
   "source": [
    "# Creates a table from the file 'Party v Age.csv'\n",
    "table_age = create_table('Party v Age.csv')\n",
    "table_age.show()"
   ]
  },
  {
   "cell_type": "code",
   "execution_count": 61,
   "metadata": {
    "collapsed": false
   },
   "outputs": [
    {
     "data": {
      "text/html": [
       "<table border=\"1\" class=\"dataframe\">\n",
       "    <thead>\n",
       "        <tr>\n",
       "            <th>Age</th> <th>D</th> <th>R</th> <th>DS</th> <th>Zip</th>\n",
       "        </tr>\n",
       "    </thead>\n",
       "    <tbody>\n",
       "        <tr>\n",
       "            <td>Age1824</td> <td>509 </td> <td>65  </td> <td>192 </td> <td>90025</td>\n",
       "        </tr>\n",
       "    </tbody>\n",
       "        <tr>\n",
       "            <td>Age2534</td> <td>2760</td> <td>437 </td> <td>1253</td> <td>90025</td>\n",
       "        </tr>\n",
       "    </tbody>\n",
       "        <tr>\n",
       "            <td>Age3544</td> <td>1843</td> <td>420 </td> <td>1056</td> <td>90025</td>\n",
       "        </tr>\n",
       "    </tbody>\n",
       "</table>\n",
       "<p>... (99 rows omitted)</p"
      ],
      "text/plain": [
       "<IPython.core.display.HTML object>"
      ]
     },
     "metadata": {},
     "output_type": "display_data"
    }
   ],
   "source": [
    "# Displays 3 rows of table called 'table_age'\n",
    "display_table(table_age, 3)"
   ]
  },
  {
   "cell_type": "code",
   "execution_count": 40,
   "metadata": {
    "collapsed": false
   },
   "outputs": [
    {
     "data": {
      "text/html": [
       "<table border=\"1\" class=\"dataframe\">\n",
       "    <thead>\n",
       "        <tr>\n",
       "            <th>Age</th> <th>D</th> <th>R</th> <th>DS</th> <th>Zip</th>\n",
       "        </tr>\n",
       "    </thead>\n",
       "    <tbody>\n",
       "        <tr>\n",
       "            <td>Age1824</td> <td>509 </td> <td>65  </td> <td>192 </td> <td>90025</td>\n",
       "        </tr>\n",
       "    </tbody>\n",
       "        <tr>\n",
       "            <td>Age2534</td> <td>2760</td> <td>437 </td> <td>1253</td> <td>90025</td>\n",
       "        </tr>\n",
       "    </tbody>\n",
       "        <tr>\n",
       "            <td>Age3544</td> <td>1843</td> <td>420 </td> <td>1056</td> <td>90025</td>\n",
       "        </tr>\n",
       "    </tbody>\n",
       "        <tr>\n",
       "            <td>Age4554</td> <td>1497</td> <td>381 </td> <td>685 </td> <td>90025</td>\n",
       "        </tr>\n",
       "    </tbody>\n",
       "        <tr>\n",
       "            <td>Age5564</td> <td>1399</td> <td>390 </td> <td>454 </td> <td>90025</td>\n",
       "        </tr>\n",
       "    </tbody>\n",
       "        <tr>\n",
       "            <td>Age65NA</td> <td>2116</td> <td>752 </td> <td>522 </td> <td>90025</td>\n",
       "        </tr>\n",
       "    </tbody>\n",
       "</table>"
      ],
      "text/plain": [
       "Age     | D    | R    | DS   | Zip\n",
       "Age1824 | 509  | 65   | 192  | 90025\n",
       "Age2534 | 2760 | 437  | 1253 | 90025\n",
       "Age3544 | 1843 | 420  | 1056 | 90025\n",
       "Age4554 | 1497 | 381  | 685  | 90025\n",
       "Age5564 | 1399 | 390  | 454  | 90025\n",
       "Age65NA | 2116 | 752  | 522  | 90025"
      ]
     },
     "execution_count": 40,
     "metadata": {},
     "output_type": "execute_result"
    }
   ],
   "source": [
    "# Get only the data where the element in 'Zip' column is 90025 (basically filter and return elements with zipcode 90025)\n",
    "table_age_90025 = get_specific_data(table_age, 'Zip', 90025)\n",
    "table_age_90025"
   ]
  },
  {
   "cell_type": "code",
   "execution_count": 39,
   "metadata": {
    "collapsed": false
   },
   "outputs": [
    {
     "data": {
      "text/html": [
       "<table border=\"1\" class=\"dataframe\">\n",
       "    <thead>\n",
       "        <tr>\n",
       "            <th>Age</th> <th>D</th> <th>R</th> <th>DS</th>\n",
       "        </tr>\n",
       "    </thead>\n",
       "    <tbody>\n",
       "        <tr>\n",
       "            <td>Age1824</td> <td>509 </td> <td>65  </td> <td>192 </td>\n",
       "        </tr>\n",
       "    </tbody>\n",
       "        <tr>\n",
       "            <td>Age2534</td> <td>2760</td> <td>437 </td> <td>1253</td>\n",
       "        </tr>\n",
       "    </tbody>\n",
       "        <tr>\n",
       "            <td>Age3544</td> <td>1843</td> <td>420 </td> <td>1056</td>\n",
       "        </tr>\n",
       "    </tbody>\n",
       "        <tr>\n",
       "            <td>Age4554</td> <td>1497</td> <td>381 </td> <td>685 </td>\n",
       "        </tr>\n",
       "    </tbody>\n",
       "        <tr>\n",
       "            <td>Age5564</td> <td>1399</td> <td>390 </td> <td>454 </td>\n",
       "        </tr>\n",
       "    </tbody>\n",
       "        <tr>\n",
       "            <td>Age65NA</td> <td>2116</td> <td>752 </td> <td>522 </td>\n",
       "        </tr>\n",
       "    </tbody>\n",
       "</table>"
      ],
      "text/plain": [
       "Age     | D    | R    | DS\n",
       "Age1824 | 509  | 65   | 192\n",
       "Age2534 | 2760 | 437  | 1253\n",
       "Age3544 | 1843 | 420  | 1056\n",
       "Age4554 | 1497 | 381  | 685\n",
       "Age5564 | 1399 | 390  | 454\n",
       "Age65NA | 2116 | 752  | 522"
      ]
     },
     "execution_count": 39,
     "metadata": {},
     "output_type": "execute_result"
    }
   ],
   "source": [
    "# Creates new table without the column 'Zip' from the table called 'table_age_90025'\n",
    "table_age_90025_no_zip = remove_column(table_age_90025, 'Zip')\n",
    "table_age_90025_no_zip"
   ]
  },
  {
   "cell_type": "code",
   "execution_count": 42,
   "metadata": {
    "collapsed": false
   },
   "outputs": [
    {
     "data": {
      "image/png": "[encoded data removed]",
      "text/plain": [
       "<matplotlib.figure.Figure at 0x7f80c15af7b8>"
      ]
     },
     "metadata": {},
     "output_type": "display_data"
    }
   ],
   "source": [
    "# Creates a bar graph with the column 'Age' as the axis, with counts from the other numerical columns \n",
    "# Make sure that all the other columns besides the input axis column only contain numerical entries or this will not work!\n",
    "bar_graph(table_age_90025_no_zip, 'Age')"
   ]
  },
  {
   "cell_type": "code",
   "execution_count": 43,
   "metadata": {
    "collapsed": false
   },
   "outputs": [
    {
     "data": {
      "text/plain": [
       "120567"
      ]
     },
     "execution_count": 43,
     "metadata": {},
     "output_type": "execute_result"
    }
   ],
   "source": [
    "# Returns the sum of the elements in column 'D' from table 'table_age'\n",
    "sum_column(table_age, 'D')"
   ]
  },
  {
   "cell_type": "code",
   "execution_count": 44,
   "metadata": {
    "collapsed": false
   },
   "outputs": [
    {
     "data": {
      "text/plain": [
       "1182.0294117647059"
      ]
     },
     "execution_count": 44,
     "metadata": {},
     "output_type": "execute_result"
    }
   ],
   "source": [
    "# Returns the average of the elements in column 'D' from table 'table_age'\n",
    "avg_column(table_age, 'D')"
   ]
  },
  {
   "cell_type": "code",
   "execution_count": 51,
   "metadata": {
    "collapsed": false
   },
   "outputs": [
    {
     "data": {
      "text/html": [
       "<table border=\"1\" class=\"dataframe\">\n",
       "    <thead>\n",
       "        <tr>\n",
       "            <th>Age</th> <th>D</th> <th>R</th> <th>DS</th> <th>Zip</th>\n",
       "        </tr>\n",
       "    </thead>\n",
       "    <tbody>\n",
       "        <tr>\n",
       "            <td>Age1824</td> <td>114 </td> <td>46  </td> <td>77  </td> <td>92075</td>\n",
       "        </tr>\n",
       "    </tbody>\n",
       "</table>"
      ],
      "text/plain": [
       "Age     | D    | R    | DS   | Zip\n",
       "Age1824 | 114  | 46   | 77   | 92075"
      ]
     },
     "execution_count": 51,
     "metadata": {},
     "output_type": "execute_result"
    }
   ],
   "source": [
    "# Returns the entry of table 'table_age' with the lowest count for column 'D'\n",
    "min_element_entry(table_age, 'D')"
   ]
  },
  {
   "cell_type": "code",
   "execution_count": 53,
   "metadata": {
    "collapsed": false
   },
   "outputs": [
    {
     "data": {
      "text/html": [
       "<table border=\"1\" class=\"dataframe\">\n",
       "    <thead>\n",
       "        <tr>\n",
       "            <th>Age</th> <th>D</th> <th>R</th> <th>DS</th> <th>Zip</th>\n",
       "        </tr>\n",
       "    </thead>\n",
       "    <tbody>\n",
       "        <tr>\n",
       "            <td>Age2534</td> <td>6318</td> <td>958 </td> <td>3808</td> <td>94109</td>\n",
       "        </tr>\n",
       "    </tbody>\n",
       "</table>"
      ],
      "text/plain": [
       "Age     | D    | R    | DS   | Zip\n",
       "Age2534 | 6318 | 958  | 3808 | 94109"
      ]
     },
     "execution_count": 53,
     "metadata": {},
     "output_type": "execute_result"
    }
   ],
   "source": [
    "# Returns the entry of table 'table_age' with the highest count for column 'DS'\n",
    "max_element_entry(table_age, 'DS')"
   ]
  },
  {
   "cell_type": "markdown",
   "metadata": {},
   "source": [
    "## Your Own Analysis\n",
    "Now that you've seen how graphs and tables are generated, it is your turn to pose your own questions and create your own analysis with future election data. In the following cells, experiment with the provided data files using the helper functions above. Feel free to look for more resources or reference back to the other iPython notebooks we have worked on. \n",
    "\n"
   ]
  },
  {
   "cell_type": "markdown",
   "metadata": {
    "collapsed": true
   },
   "source": [
    "Now that you've seen how the graphs and tables are generated, take some time to play around with the functions and create your own graphs/tables using the helper functions from above!. If you're having trouble, try copying code from the examples and changing around variables. Feel free to look for more resources or reference back to the other iPython notebooks we have worked on. You won't be assessed on your code; this is just a time for you to play around. If you have any questions, please ask one of us!\n",
    "\n",
    "For those intersted in experimenting more and going more in depth, <a href=\"http://data8.org/datascience/index.html\">here</a> is the documentation for the datascience module we have been using in the class!\n"
   ]
  },
  {
   "cell_type": "code",
   "execution_count": null,
   "metadata": {
    "collapsed": true
   },
   "outputs": [],
   "source": []
  },
  {
   "cell_type": "code",
   "execution_count": null,
   "metadata": {
    "collapsed": true
   },
   "outputs": [],
   "source": []
  }
 ],
 "metadata": {
  "kernelspec": {
   "display_name": "Python 3",
   "language": "python",
   "name": "python3"
  },
  "language_info": {
   "codemirror_mode": {
    "name": "ipython",
    "version": 3
   },
   "file_extension": ".py",
   "mimetype": "text/x-python",
   "name": "python",
   "nbconvert_exporter": "python",
   "pygments_lexer": "ipython3",
   "version": "3.5.2"
  }
 },
 "nbformat": 4,
 "nbformat_minor": 0
}
