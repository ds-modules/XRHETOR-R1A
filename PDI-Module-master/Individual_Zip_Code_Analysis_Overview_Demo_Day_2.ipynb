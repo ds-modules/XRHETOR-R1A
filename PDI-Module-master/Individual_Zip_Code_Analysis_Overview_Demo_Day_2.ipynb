{
 "cells": [
  {
   "cell_type": "markdown",
   "metadata": {},
   "source": [
    "# Overview Demo #\n",
    "\n",
    "### All Zipcodes ###"
   ]
  },
  {
   "cell_type": "code",
   "execution_count": 56,
   "metadata": {
    "collapsed": true
   },
   "outputs": [],
   "source": [
    "from datascience import * \n",
    "import numpy as np\n",
    "import matplotlib \n",
    "%matplotlib inline"
   ]
  },
  {
   "cell_type": "markdown",
   "metadata": {},
   "source": [
    "## Party v Gender ##"
   ]
  },
  {
   "cell_type": "code",
   "execution_count": 51,
   "metadata": {
    "collapsed": true
   },
   "outputs": [],
   "source": [
    "party_gender = Table().read_table(\"Party v Gender.csv\")"
   ]
  },
  {
   "cell_type": "code",
   "execution_count": 52,
   "metadata": {
    "collapsed": false
   },
   "outputs": [
    {
     "data": {
      "text/html": [
       "<table border=\"1\" class=\"dataframe\">\n",
       "    <thead>\n",
       "        <tr>\n",
       "            <th>Gender</th> <th>D</th> <th>R</th> <th>DS</th> <th>Zipcode</th>\n",
       "        </tr>\n",
       "    </thead>\n",
       "    <tbody>\n",
       "        <tr>\n",
       "            <td>M     </td> <td>5594</td> <td>1068</td> <td>2153</td> <td>90025  </td>\n",
       "        </tr>\n",
       "    </tbody>\n",
       "        <tr>\n",
       "            <td>F     </td> <td>4112</td> <td>1323</td> <td>1810</td> <td>90025  </td>\n",
       "        </tr>\n",
       "    </tbody>\n",
       "        <tr>\n",
       "            <td>M     </td> <td>4405</td> <td>3485</td> <td>2049</td> <td>90266  </td>\n",
       "        </tr>\n",
       "    </tbody>\n",
       "        <tr>\n",
       "            <td>F     </td> <td>3085</td> <td>3913</td> <td>1847</td> <td>90266  </td>\n",
       "        </tr>\n",
       "    </tbody>\n",
       "        <tr>\n",
       "            <td>M     </td> <td>4025</td> <td>1887</td> <td>1294</td> <td>90272  </td>\n",
       "        </tr>\n",
       "    </tbody>\n",
       "        <tr>\n",
       "            <td>F     </td> <td>2770</td> <td>1978</td> <td>1179</td> <td>90272  </td>\n",
       "        </tr>\n",
       "    </tbody>\n",
       "        <tr>\n",
       "            <td>M     </td> <td>2412</td> <td>3864</td> <td>1275</td> <td>90274  </td>\n",
       "        </tr>\n",
       "    </tbody>\n",
       "        <tr>\n",
       "            <td>F     </td> <td>1693</td> <td>3657</td> <td>1289</td> <td>90274  </td>\n",
       "        </tr>\n",
       "    </tbody>\n",
       "        <tr>\n",
       "            <td>M     </td> <td>4452</td> <td>1812</td> <td>1565</td> <td>91505  </td>\n",
       "        </tr>\n",
       "    </tbody>\n",
       "        <tr>\n",
       "            <td>F     </td> <td>3397</td> <td>1747</td> <td>1585</td> <td>91505  </td>\n",
       "        </tr>\n",
       "    </tbody>\n",
       "</table>\n",
       "<p>... (24 rows omitted)</p"
      ],
      "text/plain": [
       "Gender | D    | R    | DS   | Zipcode\n",
       "M      | 5594 | 1068 | 2153 | 90025\n",
       "F      | 4112 | 1323 | 1810 | 90025\n",
       "M      | 4405 | 3485 | 2049 | 90266\n",
       "F      | 3085 | 3913 | 1847 | 90266\n",
       "M      | 4025 | 1887 | 1294 | 90272\n",
       "F      | 2770 | 1978 | 1179 | 90272\n",
       "M      | 2412 | 3864 | 1275 | 90274\n",
       "F      | 1693 | 3657 | 1289 | 90274\n",
       "M      | 4452 | 1812 | 1565 | 91505\n",
       "F      | 3397 | 1747 | 1585 | 91505\n",
       "... (24 rows omitted)"
      ]
     },
     "execution_count": 52,
     "metadata": {},
     "output_type": "execute_result"
    }
   ],
   "source": [
    "party_gender"
   ]
  },
  {
   "cell_type": "markdown",
   "metadata": {},
   "source": [
    "### Total Voter Count ###"
   ]
  },
  {
   "cell_type": "code",
   "execution_count": 53,
   "metadata": {
    "collapsed": false
   },
   "outputs": [
    {
     "name": "stdout",
     "output_type": "stream",
     "text": [
      "Total Democrats:  100898\n",
      "Total Republicans:  64132\n",
      "Total Did Not State:  51008\n"
     ]
    },
    {
     "data": {
      "image/png": "[encoded data removed]",
      "text/plain": [
       "<matplotlib.figure.Figure at 0x7fe08513d128>"
      ]
     },
     "metadata": {},
     "output_type": "display_data"
    }
   ],
   "source": [
    "# Table for number of Democrats, Republicans, Did not State in all given zipcodes\n",
    "totals = Table().with_columns([\n",
    "        'Party', ['D', 'R', 'DS'],\n",
    "        'Count', [sum(party_gender.column('D')), sum(party_gender.column('R')), sum(party_gender.column('DS'))]\n",
    "    ])\n",
    "# Print counts\n",
    "print('Total Democrats: ', totals['Count'][0])\n",
    "print('Total Republicans: ', totals['Count'][1])\n",
    "print('Total Did Not State: ', totals['Count'][2])\n",
    "\n",
    "# Create bar graph \n",
    "totals.barh('Party')"
   ]
  },
  {
   "cell_type": "code",
   "execution_count": 54,
   "metadata": {
    "collapsed": false
   },
   "outputs": [
    {
     "data": {
      "text/html": [
       "<table border=\"1\" class=\"dataframe\">\n",
       "    <thead>\n",
       "        <tr>\n",
       "            <th>Party</th> <th>Male</th> <th>Female</th>\n",
       "        </tr>\n",
       "    </thead>\n",
       "    <tbody>\n",
       "        <tr>\n",
       "            <td>Democrat     </td> <td>47889</td> <td>53009 </td>\n",
       "        </tr>\n",
       "    </tbody>\n",
       "        <tr>\n",
       "            <td>Republican   </td> <td>32205</td> <td>31927 </td>\n",
       "        </tr>\n",
       "    </tbody>\n",
       "        <tr>\n",
       "            <td>Did not state</td> <td>24658</td> <td>26350 </td>\n",
       "        </tr>\n",
       "    </tbody>\n",
       "</table>"
      ],
      "text/plain": [
       "Party         | Male  | Female\n",
       "Democrat      | 47889 | 53009\n",
       "Republican    | 32205 | 31927\n",
       "Did not state | 24658 | 26350"
      ]
     },
     "execution_count": 54,
     "metadata": {},
     "output_type": "execute_result"
    }
   ],
   "source": [
    "# Table for number of Females/Males per Party\n",
    "pg = party_gender.select(['Gender','D','R','DS']).group('Gender', collect=sum)\n",
    "pg = pg.relabeled('D sum', 'D').relabeled('R sum', 'R').relabeled('DS sum', 'DS')\n",
    "pg = Table().with_columns([\"Party\", [\"Democrat\", \"Republican\", \"Did not state\"],\n",
    "                          \"Male\", pg.row(0)[1:],\n",
    "                          \"Female\", pg.row(1)[1:]])\n",
    "pg"
   ]
  },
  {
   "cell_type": "code",
   "execution_count": 55,
   "metadata": {
    "collapsed": false
   },
   "outputs": [
    {
     "data": {
      "image/png": "[encoded data removed]",
      "text/plain": [
       "<matplotlib.figure.Figure at 0x7fe08515e6a0>"
      ]
     },
     "metadata": {},
     "output_type": "display_data"
    }
   ],
   "source": [
    "pg.barh(\"Party\")"
   ]
  },
  {
   "cell_type": "markdown",
   "metadata": {},
   "source": [
    "## Vote By Mail Demo ##\n",
    "\n",
    "### Submission Time Key\n",
    "AE -\tAlways early\n",
    "\n",
    "SE -\tSometimes Early\n",
    "\n",
    "EL -\tEarly or Late\n",
    "\n",
    "SL -\tSometimes Late\n",
    "\n",
    "AL -\tAlways Late"
   ]
  },
  {
   "cell_type": "code",
   "execution_count": 39,
   "metadata": {
    "collapsed": true
   },
   "outputs": [],
   "source": [
    "vbm_age_time = 'AE'"
   ]
  },
  {
   "cell_type": "code",
   "execution_count": 40,
   "metadata": {
    "collapsed": false
   },
   "outputs": [
    {
     "data": {
      "text/html": [
       "<table border=\"1\" class=\"dataframe\">\n",
       "    <thead>\n",
       "        <tr>\n",
       "            <th>Age</th> <th>D</th> <th>R</th> <th>DS/O </th> <th>Submission Time</th>\n",
       "        </tr>\n",
       "    </thead>\n",
       "    <tbody>\n",
       "        <tr>\n",
       "            <td>Age1824</td> <td>41  </td> <td>22  </td> <td>31   </td> <td>AE             </td>\n",
       "        </tr>\n",
       "    </tbody>\n",
       "        <tr>\n",
       "            <td>Age2534</td> <td>200 </td> <td>77  </td> <td>120  </td> <td>AE             </td>\n",
       "        </tr>\n",
       "    </tbody>\n",
       "        <tr>\n",
       "            <td>Age3544</td> <td>253 </td> <td>136 </td> <td>196  </td> <td>AE             </td>\n",
       "        </tr>\n",
       "    </tbody>\n",
       "        <tr>\n",
       "            <td>Age4554</td> <td>353 </td> <td>274 </td> <td>197  </td> <td>AE             </td>\n",
       "        </tr>\n",
       "    </tbody>\n",
       "        <tr>\n",
       "            <td>Age5564</td> <td>406 </td> <td>298 </td> <td>214  </td> <td>AE             </td>\n",
       "        </tr>\n",
       "    </tbody>\n",
       "        <tr>\n",
       "            <td>Age65NA</td> <td>1010</td> <td>833 </td> <td>422  </td> <td>AE             </td>\n",
       "        </tr>\n",
       "    </tbody>\n",
       "</table>"
      ],
      "text/plain": [
       "Age     | D    | R    | DS/O  | Submission Time\n",
       "Age1824 | 41   | 22   | 31    | AE\n",
       "Age2534 | 200  | 77   | 120   | AE\n",
       "Age3544 | 253  | 136  | 196   | AE\n",
       "Age4554 | 353  | 274  | 197   | AE\n",
       "Age5564 | 406  | 298  | 214   | AE\n",
       "Age65NA | 1010 | 833  | 422   | AE"
      ]
     },
     "execution_count": 40,
     "metadata": {},
     "output_type": "execute_result"
    }
   ],
   "source": [
    "vbm_age = Table().read_table(\"VBM_age.csv\").relabeled('Unnamed: 0', 'Age')\n",
    "vbm_age.where(vbm_age['Submission Time'] == vbm_age_time)"
   ]
  },
  {
   "cell_type": "code",
   "execution_count": 41,
   "metadata": {
    "collapsed": false
   },
   "outputs": [],
   "source": [
    "vbm_age.drop('Submission Time').barh('Age')"
   ]
  },
  {
   "cell_type": "code",
   "execution_count": null,
   "metadata": {
    "collapsed": true
   },
   "outputs": [],
   "source": []
  }
 ],
 "metadata": {
  "kernelspec": {
   "display_name": "Python 3",
   "language": "python",
   "name": "python3"
  },
  "language_info": {
   "codemirror_mode": {
    "name": "ipython",
    "version": 3
   },
   "file_extension": ".py",
   "mimetype": "text/x-python",
   "name": "python",
   "nbconvert_exporter": "python",
   "pygments_lexer": "ipython3",
   "version": "3.5.2"
  }
 },
 "nbformat": 4,
 "nbformat_minor": 0
}
