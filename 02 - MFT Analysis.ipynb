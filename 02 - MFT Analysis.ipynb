{
 "cells": [
  {
   "cell_type": "markdown",
   "metadata": {},
   "source": [
    "#  Data Analysis: Moral Foundations Theory\n",
    "---\n",
    "<img src=\"https://c1.staticflickr.com/7/6240/6261650491_0cd6c701bb_b.jpg\" style=\"width: 500px; height: 275px;\" />\n",
    "\n",
    "### Professor Amy Tick\n",
    "\n",
    "Moral Foundations Theory (MFT) hypothesizes that people's sensitivity to the foundations is different based on their political ideology: liberals are more sensitive to care and fairness, while conservatives are equally sensitive to all five. Here, we'll explore whether we can find evidence for MFT in the campaign speeches of 2016 United States presidential candidates. For our main analysis, we'll go through the data science process we learned in Day 1 to recreate a simplified version of the analysis done by Jesse Graham, Jonathan Haidt, and Brian A. Nosek in their 2009 paper [\"Liberals and Conservatives Rely on Different Sets of Moral Foundations\"](http://projectimplicit.net/nosek/papers/GHN2009.pdf). In part 3, we'll look at other NLP techniques that might be useful in applying this theory.\n",
    "\n",
    "*Estimated Time: 50 minutes*\n",
    "\n",
    "---\n",
    "\n",
    "### Topics Covered\n",
    "- Plotting data with MatPlotLib\n",
    "- Interpreting graphs\n",
    "- Textual analysis methods\n",
    "\n",
    "### Table of Contents\n",
    "\n",
    "\n",
    "1 - [Data Set and Test Statistic](#section 1)<br>\n",
    "\n",
    "&nbsp;&nbsp;&nbsp;&nbsp;&nbsp;&nbsp; 1.1 - [2016 Campaign Speeches](#subsection 1)<br>\n",
    "\n",
    "&nbsp;&nbsp;&nbsp;&nbsp;&nbsp;&nbsp; 1.2 - [Moral Foundations Dictionary](#subsection 2) <br>\n",
    "\n",
    "2 - [Exploratory Data Analysis](#section 2)<br>\n",
    "&nbsp;&nbsp;&nbsp;&nbsp;&nbsp;&nbsp; 2.1 - [Hypothesis](#subsection 3)<br>\n",
    "\n",
    "&nbsp;&nbsp;&nbsp;&nbsp;&nbsp;&nbsp; 2.2 - [Democrats](#subsection 4)<br>\n",
    "\n",
    "&nbsp;&nbsp;&nbsp;&nbsp;&nbsp;&nbsp; 2.3 - [Republicans](#subsection 5) <br>\n",
    "\n",
    "&nbsp;&nbsp;&nbsp;&nbsp;&nbsp;&nbsp; 2.4 - [Democrats vs Republicans](#subsection 6) <br>\n",
    "\n",
    "\n",
    "**Dependencies:**"
   ]
  },
  {
   "cell_type": "code",
   "execution_count": 2,
   "metadata": {
    "collapsed": true
   },
   "outputs": [],
   "source": [
    "from datascience import *\n",
    "import numpy as np\n",
    "import pandas as pd\n",
    "import matplotlib as plt\n",
    "%matplotlib inline\n",
    "import json\n",
    "\n"
   ]
  },
  {
   "cell_type": "markdown",
   "metadata": {},
   "source": [
    "### Before we get started..."
   ]
  },
  {
   "cell_type": "markdown",
   "metadata": {},
   "source": [
    "Today is going to be a whirlwind tour through the data science process! There will probably be code you don't understand yet, and that's okay. Our goal for today is to show you the ways Data Science can be used in Rhetoric, not to immediately make you into a master programmer. If you have a question at any point (including \"I have no idea what's going on\"), don't hesitate to ask."
   ]
  },
  {
   "cell_type": "markdown",
   "metadata": {},
   "source": [
    "---\n",
    "## Part 1: Speech Data and Foundations Dictionary  <a id='section 1'></a>"
   ]
  },
  {
   "cell_type": "markdown",
   "metadata": {},
   "source": [
    "As data scientists starting a new analysis, we know we need to start with two things: some data and a question. In Part 1, we'll get familiar with our data set and determine a way to answer our question using the data."
   ]
  },
  {
   "cell_type": "markdown",
   "metadata": {},
   "source": [
    "### 2016 Campaign Speeches <a id='subsection 1'></a>"
   ]
  },
  {
   "cell_type": "markdown",
   "metadata": {},
   "source": [
    "Our data set is the texts of speeches from the 2016 US presidential campaign. Run the cell below to load the data."
   ]
  },
  {
   "cell_type": "code",
   "execution_count": 16,
   "metadata": {},
   "outputs": [
    {
     "data": {
      "text/plain": [
       "'b\\'Thank you. Thank you all very, very much. It is wonderful to be with you. I want to thank Gerry Mcentee and Tom Buffenbarger. I want to thank your Congressman Tim Ryan. Also, I want to recognize Representative Ron Gerberry, Representative Linda Bolon, Representative Lorraine Fende, Representative Sandy Harwood. I also want to thank Shelley Murray, the School Board President, and Amy Litkey the Student Rep to the School Board. And I particularly want to thank the Cheney high school and East high school marching bands. Well, hello, Youngstown, how are you tonight? I am thrilled to be here with all of you. And, it is great to see this enthusiasm and this energy. Tonight, I want to talk to you about the choice you have in this election and why that choice matters. It is about picking a president who relies not just on words, but on work, on hard work to get America back to work. That\\\\\\'s our goal. You know, when I think about what we\\\\\\'re really comparing in this election, you know, we can\\\\\\'t just have speeches, we\\\\\\'ve got to have solutions and we need those solutions for America. We have got to get America back in the solutions business. Because, while words matter, the best words in the world aren\\\\\\'t enough unless you match them with action. But, this election is not about me or my opponent, it is about you. It\\\\\\'s about your lives and your dreams and your future. I can\\\\\\'t do this without all of you here in Youngstown and across Ohio. It is going to take an effort from all of us. You may have heard that I actually loaned my campaign some money and I was honored and humbled by the support that I have received since from people like the young mom who sent me $10 and wrote that \"my two daughters are two and four and I want them to know anything is possible.\" Or the gentleman who described himself as an independent voter, a veteran and a generally cranky conservative who decided to support me. If we put pull together, I know we can do this. I hope you will go to and support this campaign because it is your campaign. I hope you will go to my website. Because if you do, you\\\\\\'ll find at Hillaryclinton.com all of my positions, everything that I have been working on. Because I know what\\\\\\'s happening in America. People are struggling. They are working the day shift, the night shift; they are trying to get by without health care. They are just one paycheck away from losing their homes. They cannot afford four more years of a president who just doesn\\\\\\'t see or hear them at all. They need a president ready on day one, to be commander and chief, ready to manage our economy and ready to beat the Republicans in November. With your help, I will be that president. This is the choice we face-- one of us is ready to be commander in chief in a dangerous world. Every day, around the world, situations arise that present new threats and new opportunities. Situations like the change of leadership in Cuba today. I have served on the Armed Services Committee. I have been to more than 80 countries, worked with world leaders, stood up to the Chinese government to declare women\\\\\\'s rights are human rights. And I am ready to end this war in Iraq, end this era of cowboy diplomacy. I will restore our leadership and moral authority in the world without delays, without on the job training from day one. One of us has a plan to provide health care for every single American, no one left out. I believe, I believe health care is a right, not a privilege and I will not rest until every American is covered. That is my solemn promise to you. The question is: who would we leave out? Do we leave out the mother I met who grabbed my arm and said the insurance company wouldn\\\\\\'t pay for the treatment that her son needed? Will we leave that family out? Who will pay for those we leave out? I don\\\\\\'t want to leave anyone out. I am not running to put band-aids on our problems; I am running to solve our problems. One of us has a plan to actually address the growing foreclosure crisis which is so terrible here in Ohio. I\\\\\\'ve called for a freeze on subprime foreclosures and interest rates to ensure that millions of families across the country won\\\\\\'t be receiving that grim letter from the bank. I\\\\\\'ve proposed $30 billion in assistance to help families avoid foreclosures and to help communities rebound from this housing crisis because no one should foreclose on the American dream and we\\\\\\'re going to stop it. One of us has a plan to revitalize our economy right now by creating millions of new clean energy jobs. And we can do that right here in Youngstown. We can put people to work. And I will also rein in the corporate special interests by eliminating more than $50 billion of George Bush\\\\\\'s special breaks for the oil companies, the drug companies and Wall Street. We\\\\\\'re going to give the middle class a break instead. We\\\\\\'ll put that money right back in your pockets once we get it back. The corporate special interests have had seven years of a president who stands up for them. I think it\\\\\\'s time we had a president who stands up for you and I will be that president. Finally, one of us has faced serious Republican opposition in the past and one of us is ready to do it again. The contrasts between me and our likely opponent on the republican side could not be starker. Senator McCain is willing to continue the war in Iraq for 100 years he said. I will start bringing troops home within 60 days. He admits he doesn\\\\\\'t understand the economy. Well, I have a plan to turn our economy around and create five million new jobs and we can. We can do that working together. Senator McCain really wants eight ears more of the same. Well, I\\\\\\'m going to deliver 21st century solutions that will move our country forward again. We\\\\\\'ll focus on the problems right here in Ohio and begin to solve them. Both Senator Obama and I would make history but only one of us is ready on day one to be commander in chief, ready to manage our economy and ready to defeat the Republicans. You know, only one of us has spent 35 years being a doer, a fighter and a champion for those who need a voice. That is what I would bring to the White House again. That is the choice in this election. After the past seven years that choice couldn\\\\\\'t be more important because for seven long years we\\\\\\'ve had a government of, by and for the corporate special interests. They have been heard first, they have been heard loudest and they have drowned out everyone else. And while you pinch pennies to stay within your budget, the president blew the bank on tax breaks for his friend and no-bid contracts for his cronies, borrowing hundreds of billions of dollars from China to pay for it all. He has signed a subprime mortgage on America\\\\\\'s economic future and that\\\\\\'s your future. And so when people ask me \"why can\\\\\\'t we get tough on China?\" well, when was the last time you got tough on your banker. And so we have to get back to fiscal responsibility in order to get tough on China because we shouldn\\\\\\'t be borrowing so much money from them. China\\\\\\'s steel comes here and our jobs go there. We play by the rules, they manipulate their currency. And we get tainted fish, lead laced toys and poisoned pet food in return. I think that\\\\\\'s a pretty raw deal, don\\\\\\'t you? Let\\\\\\'s be honest about something. When President Bush and Vice President Cheney say the economy is booming even though three million manufacturing jobs have been lost, when their administration says outsourcing is a plus for our economy, or when Senator McCain that business as usual on trade is just fine, when he thinks making tax cuts for the wealthy permanent is a top economic priority, they\\\\\\'re sending you a clear message-the struggle of middle class and working families simply don\\\\\\'t matter. Your voices just don\\\\\\'t matter. They think the economy works as long as it works for their friends at the top. When good jobs leave, they think that\\\\\\'s just the price of admission to the global marketplace. They think it would be fine if every plane, every piece of machinery, every computer and every car were made somewhere else. I could not disagree more and don\\\\\\'t you also Youngstown? Some people may call this the rust belt but that\\\\\\'s not what I see; I see some of the hardest working people in the world. I see great universities and strong neighborhoods and families. I see communities where young people should be able to find good jobs and no one should ever have to leave their family to earn their living. I see a 21st century manufacturing belt, an innovation belt, an opportunity belt that will once again put us on the forefront of the world\\\\\\'s economy. I see a middle class comeback that starts right here and right now in places like this, places just like Youngstown. In Youngstown, you have start up companies thriving as a new business incubator. Places like Warren where the GM plant I visited is. You are leading the way and producing the fuel efficient cars of the next generation. Places like Akron where cutting edge manufacturing jobs and technological innovations are really attracting and keeping highly skilled young workers. Let\\\\\\'s start working together to build the America that we believe in and let\\\\\\'s level the playing field against the corporate special interests. We\\\\\\'re going to deliver 21st century solutions to rebuild the middle class. Let\\\\\\'s get real about our future starting right now. Let\\\\\\'s get real about the future of trade in this country. Let\\\\\\'s get real about NAFTA - it simply isn\\\\\\'t working for all Americans. I\\\\\\'m not just going to talk about what\\\\\\'s wrong with NAFTA, I\\\\\\'m going to fix it and I have a four-point plan to do exactly that. First we\\\\\\'ll have the strongest possible labor and environmental standards in the core NAFTA agreement. Second, we wont let foreign countries undermine worker protection as they do right now. These companies can challenge American regulation intended to protect American workers and the environment. That is not acceptable and I will change that. I will strengthen NAFTA\\\\\\'s enforcement mechanisms to remove trade barriers and better protect American jobs. And finally, we\\\\\\'ll review this agreement and every other trade agreement regularly. If it\\\\\\'s not raising living standards right here in America and protecting American workers, then we\\\\\\'re not going to have it be a race to the bottom. We will never again let fourteen years go by without updating and modernizing our trade agreements. My opponent has taken to attacking me on NAFTA. The fact is neither of us were in the Senate at the time and I\\\\\\'ve long been a critic of the shortcomings of NAFTA. In 2005, when we were both in the Senate, Senator Dorgan proposed amendment that I thought was just common sense. It said that our trade negotiators shouldn\\\\\\'t enter into any agreement that undermines basic protections for American workers. It said we shouldn\\\\\\'t allow foreign countries to unfairly dump their products into the American marketplace in a way that damages U.S competitiveness. So I stood with American workers and I voted for it. Senator Obama stood with the Bush administration and voted against it. That is a big difference between us. My opponent claims to stand up for workers - he often talks about the plight of the Maytag workers in his home state. But the union at that plant supports me because when 1,600 jobs were being lost, they say he didn\\\\\\'t do a thing to help. We\\\\\\'re also going to get tough with China. Otherwise we\\\\\\'ll keep losing jobs. The currency manipulation has to stop, the trade barriers have to come down. China is going to have to be our trade partner, not our trade master. We\\\\\\'re going to level the playing field. It\\\\\\'s time that we make trade work for working families. That\\\\\\'s why I opposed fast-track authority for George Bush, because we can\\\\\\'t allow him to ram through deals on his way out the door. When I am president, we will take a time-out from new agreements until we have a trade policy that is genuinely pro-worker and pro-American. No one will get away with violating our trade agreements anymore because we\\\\\\'ll start enforcing them vigorously and without fail. Let\\\\\\'s get real about creating jobs right now; good jobs that pay the bills because our families can\\\\\\'t wait another minute. Manufacturing because a strong economy and strong military require a strong manufacturing base. Green collar jobs - five million of them - Jobs we\\\\\\'ll create by investing oil company\\\\\\'s record profits in clean renewable energy. How about ending their special tax rates? You\\\\\\'ve been emptying your wallets at the pump, isn\\\\\\'t it time they paid their fair share? Let\\\\\\'s get real about keeping jobs right here in Ohio and America where they belong. As president, I will send a loud and clear message to any company shipping jobs overseas. If you take jobs away from the families of Youngstown, you\\\\\\'ll pay a price because when I am president, you will never again be able to use our tax dollars to help outsource our jobs. Finally, let\\\\\\'s get real about supporting the working men and women of this country again. I\\\\\\'m proud to be here with so many of my friends from labor. I\\\\\\'m proud to have the support of more than a dozen unions representing six million working families nationwide. Sheet metal workers and sanitation workers...and machinists and bus drivers and farm workers and letter carriers and painters and teachers and nurses and child care workers and law enforcement workers and brick-layers and so much more. I am proud to be a pro-labor candidate because I always tell people if you want to know how America got its great middle class, how we got fair wages, how we got benefits and a shot at the American dream - because of unions. Because they stood up, they spoke out and they refused to back down. People sometimes ask me, when you are president will labor have a seat at the table? Here\\\\\\'s my answer - labor built that table. You better believe labor will have a seat at the table. In the end, this election comes down to one simple question. When the speeches are over and the cameras are gone, who can you count on to listen to you? You know you can count on me to stand up for you and to deliver solutions for you. If you know one thing about me it is this - when I say I\\\\\\'ll stand up for you I will and when I say I\\\\\\'ll fight for you, I will. That is what I\\\\\\'ve always done. It\\\\\\'s what I\\\\\\'ve done fighting for universal health care. We didn\\\\\\'t succeed at first but I didn\\\\\\'t give up and we\\\\\\'re going to keep fighting. We got six million kids insured, we\\\\\\'re going to get other kids insured and we\\\\\\'re going to get universal health care when I am president of the United States. Right here, that\\\\\\'s what you are doing in Youngstown. I know everyone in this room knows someone who has lost a job, maybe you\\\\\\'re that person and I know how hard that is. But you\\\\\\'re still here, you\\\\\\'re still fighting, you\\\\\\'re not going to give up on this community and neither am I. I\\\\\\'m in this race because this nation gave me every opportunity. I believe we can do the same for every family and every child here in Ohio and across America. Ohio was one of our first frontiers. It has always led us to new ones - you gave us the airplane that first raced the skies, you gave us the astronauts who explored the heavens, including my friend and hero Senator John Glenn. You gave us steel from the mills that armed America through two world wars. You put cars in our garages, you built our cities, you created those sky scrapers rushing skyward. And here in Ohio, you always dreamed big about the future. Now it\\\\\\'s time to fulfill those dreams. The question is not whether we can build the future we want, it\\\\\\'s whether we will. It is whether we will. Here\\\\\\'s my answer. We will create good jobs. We will provide health care for all. We will leave the next generation better off than the last. We will end this war. We will bring home our troops; we will take care of our veterans and serve them as honorably as they have served us. And yes, with your help, we will shatter the highest and hardest glass ceiling because that\\\\\\'s what we do in America. We break barriers, we open doors. We make sure every voice is heard. It will take leadership and hard work but we\\\\\\'ve never been short on either so I hope you will join with me. Together we will seize this moment, lift this nation and, once again, lead this world to peace and prosperity. Thank you and God bless you.\\''"
      ]
     },
     "execution_count": 16,
     "metadata": {},
     "output_type": "execute_result"
    }
   ],
   "source": [
    "# load the data from csv files into a table. \n",
    "\n",
    "speeches = pd.DataFrame()\n",
    "import os\n",
    "for file in os.listdir(path='csv'):\n",
    "    if file.endswith(\"c.csv\"):\n",
    "        if len(speeches) == 0:\n",
    "            speeches = pd.read_csv('csv/' + file)\n",
    "        else:\n",
    "            speeches = speeches.append(pd.read_csv('csv/' + file))\n",
    "\n",
    "\n",
    "speeches['Speech'].iloc[80]"
   ]
  },
  {
   "cell_type": "markdown",
   "metadata": {},
   "source": [
    "---\n",
    "Take a moment to look at this table. What information does it contain? What are the different columns? What does each row represent? How large is this table altogether? Hint: there is one Type- 'c' for campaign speech- and two different Parties- 'R' for Republican and 'D' for Democrat.\n",
    "\n",
    "Answer:"
   ]
  },
  {
   "cell_type": "markdown",
   "metadata": {},
   "source": [
    "### Moral Foundations Dictionary <a id='subsection 2'></a>"
   ]
  },
  {
   "cell_type": "markdown",
   "metadata": {
    "collapsed": true
   },
   "source": [
    "In [\"Liberals and Conservatives Rely on Different Sets of Moral Foundations\"](http://projectimplicit.net/nosek/papers/GHN2009.pdf), one of the methods Graham, Haidt, and Nosek use to measure people's use of Moral Foundations Theory is to count how often they use words related to each foundation. This will be our test statistic for today. To calculate it, we'll need a dictionary of words related to each moral foundation. \n",
    "\n",
    "The dictionary we'll use today comes from a database called [WordNet](https://wordnet.princeton.edu), in which \"nouns, verbs, adjectives and adverbs are grouped into sets of cognitive synonyms (synsets), each expressing a distinct concept.\" By querying WordNet for semantically related words, it was possible to build a dictionary automatically using a Python program.\n",
    "\n",
    "Run the cell below to load the dictionary and assign it to the variable 'mft_dict'."
   ]
  },
  {
   "cell_type": "code",
   "execution_count": 8,
   "metadata": {
    "collapsed": true
   },
   "outputs": [],
   "source": [
    "# Run this cell to load the dictionary into a variable\n",
    "with open('foundations_dict.json') as json_data:\n",
    "    mft_dict = json.load(json_data)\n"
   ]
  },
  {
   "cell_type": "markdown",
   "metadata": {},
   "source": [
    "We can see the keys of the dictionary using the .keys() function:"
   ]
  },
  {
   "cell_type": "code",
   "execution_count": 9,
   "metadata": {},
   "outputs": [
    {
     "data": {
      "text/plain": [
       "dict_keys(['authority/respect', 'care', 'fairness/proportionality', 'liberty', 'loyalty/ingroup', 'sanctity/purity'])"
      ]
     },
     "execution_count": 9,
     "metadata": {},
     "output_type": "execute_result"
    }
   ],
   "source": [
    "mft_dict.keys()"
   ]
  },
  {
   "cell_type": "markdown",
   "metadata": {},
   "source": [
    "And we can look up the entries associated with a key by putting the key in brackets:"
   ]
  },
  {
   "cell_type": "code",
   "execution_count": 10,
   "metadata": {},
   "outputs": [
    {
     "data": {
      "text/plain": [
       "['author',\n",
       " 'authoris',\n",
       " 'domin',\n",
       " 'say-so',\n",
       " 'assur',\n",
       " 'confid',\n",
       " 'sure',\n",
       " 'agenc',\n",
       " 'federal ag',\n",
       " 'government ag',\n",
       " 'bureau',\n",
       " 'offic',\n",
       " 'sanction',\n",
       " 'respect',\n",
       " 'regard',\n",
       " 'esteem',\n",
       " 'defer',\n",
       " 'obedi',\n",
       " 'valu',\n",
       " 'honor',\n",
       " 'honour',\n",
       " 'abide bi',\n",
       " 'observ']"
      ]
     },
     "execution_count": 10,
     "metadata": {},
     "output_type": "execute_result"
    }
   ],
   "source": [
    "mft_dict['authority/respect']"
   ]
  },
  {
   "cell_type": "markdown",
   "metadata": {},
   "source": [
    "Try looking up the entries for the other keys by filling in for '...' in the cell below."
   ]
  },
  {
   "cell_type": "code",
   "execution_count": 11,
   "metadata": {},
   "outputs": [
    {
     "ename": "KeyError",
     "evalue": "'...'",
     "output_type": "error",
     "traceback": [
      "\u001b[1;31m---------------------------------------------------------------------------\u001b[0m",
      "\u001b[1;31mKeyError\u001b[0m                                  Traceback (most recent call last)",
      "\u001b[1;32m<ipython-input-11-a0dd2cf03c55>\u001b[0m in \u001b[0;36m<module>\u001b[1;34m()\u001b[0m\n\u001b[1;32m----> 1\u001b[1;33m \u001b[0mmft_dict\u001b[0m\u001b[1;33m[\u001b[0m\u001b[1;34m'...'\u001b[0m\u001b[1;33m]\u001b[0m\u001b[1;33m\u001b[0m\u001b[0m\n\u001b[0m",
      "\u001b[1;31mKeyError\u001b[0m: '...'"
     ]
    }
   ],
   "source": [
    "mft_dict['...']"
   ]
  },
  {
   "cell_type": "markdown",
   "metadata": {},
   "source": [
    "There's something odd about some of the entries: they're not words! The entries in this dictionary have been **stemmed**, meaning they have been reduced to their smallest meaningful root. \n",
    "\n",
    "We can see why this is helpful with an example. Python can count the number of times a string can be found in another string using the string method 'count':"
   ]
  },
  {
   "cell_type": "code",
   "execution_count": null,
   "metadata": {
    "collapsed": true
   },
   "outputs": [],
   "source": [
    "# Counts the number of times the second string appears in the first string\n",
    "\"Data science is the best major, says data scientist.\".count('science')"
   ]
  },
  {
   "cell_type": "markdown",
   "metadata": {},
   "source": [
    "It returns one match, for the second word. But, 'scientist' is very closely related to 'science', and many times we will want to match them both. A stem allows Python to find all words with a common root. Try running the count again with a stem that matches both 'science' and 'scientist'."
   ]
  },
  {
   "cell_type": "code",
   "execution_count": null,
   "metadata": {
    "collapsed": true
   },
   "outputs": [],
   "source": [
    "# Fill in the parenthesis with a stem that will match both 'science' and 'scientist'\n",
    "\"Data science is the best major, says data scientist.\".count('...')"
   ]
  },
  {
   "cell_type": "markdown",
   "metadata": {},
   "source": [
    "Another thing you might have noticed is that all the entries in our dictionary are lowercase. This could be a problem when we do our text analysis. Try counting the number of times 'rhetoric' appears in the example sentence."
   ]
  },
  {
   "cell_type": "code",
   "execution_count": null,
   "metadata": {
    "collapsed": true
   },
   "outputs": [],
   "source": [
    "# Fill in the parenthesis to count how often 'rhetoric' appears in the sentence\n",
    "\"Rhetoric major says back: NEVER argue with a rhetoric student.\".count('...')"
   ]
  },
  {
   "cell_type": "markdown",
   "metadata": {},
   "source": [
    "We can clearly see the word 'rhetoric' appears twice, but the count function only returns 1. That's because Python differentiates between capital and lowercase letters:"
   ]
  },
  {
   "cell_type": "code",
   "execution_count": null,
   "metadata": {
    "collapsed": true
   },
   "outputs": [],
   "source": [
    "'r' is 'R'"
   ]
  },
  {
   "cell_type": "markdown",
   "metadata": {},
   "source": [
    "To get around this, we can use the .lower() function, which changes all letters in the string to lowercase:"
   ]
  },
  {
   "cell_type": "code",
   "execution_count": null,
   "metadata": {
    "collapsed": true
   },
   "outputs": [],
   "source": [
    "\"Rhetoric major says back: NEVER argue with a rhetoric student.\".lower()"
   ]
  },
  {
   "cell_type": "markdown",
   "metadata": {},
   "source": [
    "Let's add a column to our 'speeches' table that contains the lowercase text of the speeches."
   ]
  },
  {
   "cell_type": "code",
   "execution_count": 12,
   "metadata": {},
   "outputs": [
    {
     "data": {
      "text/html": [
       "<div>\n",
       "<style>\n",
       "    .dataframe thead tr:only-child th {\n",
       "        text-align: right;\n",
       "    }\n",
       "\n",
       "    .dataframe thead th {\n",
       "        text-align: left;\n",
       "    }\n",
       "\n",
       "    .dataframe tbody tr th {\n",
       "        vertical-align: top;\n",
       "    }\n",
       "</style>\n",
       "<table border=\"1\" class=\"dataframe\">\n",
       "  <thead>\n",
       "    <tr style=\"text-align: right;\">\n",
       "      <th></th>\n",
       "      <th>Candidate</th>\n",
       "      <th>Party</th>\n",
       "      <th>Type</th>\n",
       "      <th>Date</th>\n",
       "      <th>Title</th>\n",
       "      <th>Speech</th>\n",
       "      <th>clean_speech</th>\n",
       "    </tr>\n",
       "  </thead>\n",
       "  <tbody>\n",
       "    <tr>\n",
       "      <th>0</th>\n",
       "      <td>Jeb Bush</td>\n",
       "      <td>R</td>\n",
       "      <td>c</td>\n",
       "      <td>June 15, 2015</td>\n",
       "      <td>b'Remarks Announcing Candidacy for President a...</td>\n",
       "      <td>b'Thank you all very much. I always feel welco...</td>\n",
       "      <td>b thank you all very much  i always feel welco...</td>\n",
       "    </tr>\n",
       "    <tr>\n",
       "      <th>1</th>\n",
       "      <td>Jeb Bush</td>\n",
       "      <td>R</td>\n",
       "      <td>c</td>\n",
       "      <td>July 30, 2015</td>\n",
       "      <td>b'Remarks to the National Urban League Confere...</td>\n",
       "      <td>b\"Thank you all very much. I appreciate your h...</td>\n",
       "      <td>b thank you all very much  i appreciate your h...</td>\n",
       "    </tr>\n",
       "    <tr>\n",
       "      <th>2</th>\n",
       "      <td>Jeb Bush</td>\n",
       "      <td>R</td>\n",
       "      <td>c</td>\n",
       "      <td>August 11, 2015</td>\n",
       "      <td>b'Remarks at the Ronald Reagan Presidential Li...</td>\n",
       "      <td>b\"Thank you very much. It's good to be with al...</td>\n",
       "      <td>b thank you very much  it s good to be with al...</td>\n",
       "    </tr>\n",
       "    <tr>\n",
       "      <th>3</th>\n",
       "      <td>Jeb Bush</td>\n",
       "      <td>R</td>\n",
       "      <td>c</td>\n",
       "      <td>September 9, 2015</td>\n",
       "      <td>b'Remarks in Garner, North Carolina'</td>\n",
       "      <td>b'Thank you very much. I appreciate your hospi...</td>\n",
       "      <td>b thank you very much  i appreciate your hospi...</td>\n",
       "    </tr>\n",
       "    <tr>\n",
       "      <th>4</th>\n",
       "      <td>Jeb Bush</td>\n",
       "      <td>R</td>\n",
       "      <td>c</td>\n",
       "      <td>November 2, 2015</td>\n",
       "      <td>b'Remarks in Tampa, Florida'</td>\n",
       "      <td>b'Thank you. It\\'s great to be in Tampa with s...</td>\n",
       "      <td>b thank you  it  s great to be in tampa with s...</td>\n",
       "    </tr>\n",
       "  </tbody>\n",
       "</table>\n",
       "</div>"
      ],
      "text/plain": [
       "  Candidate Party Type               Date  \\\n",
       "0  Jeb Bush     R    c      June 15, 2015   \n",
       "1  Jeb Bush     R    c      July 30, 2015   \n",
       "2  Jeb Bush     R    c    August 11, 2015   \n",
       "3  Jeb Bush     R    c  September 9, 2015   \n",
       "4  Jeb Bush     R    c   November 2, 2015   \n",
       "\n",
       "                                               Title  \\\n",
       "0  b'Remarks Announcing Candidacy for President a...   \n",
       "1  b'Remarks to the National Urban League Confere...   \n",
       "2  b'Remarks at the Ronald Reagan Presidential Li...   \n",
       "3               b'Remarks in Garner, North Carolina'   \n",
       "4                       b'Remarks in Tampa, Florida'   \n",
       "\n",
       "                                              Speech  \\\n",
       "0  b'Thank you all very much. I always feel welco...   \n",
       "1  b\"Thank you all very much. I appreciate your h...   \n",
       "2  b\"Thank you very much. It's good to be with al...   \n",
       "3  b'Thank you very much. I appreciate your hospi...   \n",
       "4  b'Thank you. It\\'s great to be in Tampa with s...   \n",
       "\n",
       "                                        clean_speech  \n",
       "0  b thank you all very much  i always feel welco...  \n",
       "1  b thank you all very much  i appreciate your h...  \n",
       "2  b thank you very much  it s good to be with al...  \n",
       "3  b thank you very much  i appreciate your hospi...  \n",
       "4  b thank you  it  s great to be in tampa with s...  "
      ]
     },
     "execution_count": 12,
     "metadata": {},
     "output_type": "execute_result"
    }
   ],
   "source": [
    "def clean_text(text):\n",
    "    # remove punctuation\n",
    "    p = re.compile(r'[^\\w\\s]')\n",
    "    no_punc = p.sub(' ', text)\n",
    "    # convert to lowercase\n",
    "    no_punc_lower = no_punc.lower()\n",
    "    # split into individual words\n",
    "    return no_punc_lower\n",
    "    \n",
    "speeches['clean_speech'] = [clean_text(s) for s in speeches['Speech']]\n",
    "\n",
    "speeches.head()"
   ]
  },
  {
   "cell_type": "markdown",
   "metadata": {
    "collapsed": true
   },
   "source": [
    "What might be some pros or cons to their method versus the method used for our dictionary?\n",
    "\n",
    "Answer:"
   ]
  },
  {
   "cell_type": "markdown",
   "metadata": {},
   "source": [
    "---\n",
    "## Part 2: Exploratory Data Analysis <a id='section 2'></a>"
   ]
  },
  {
   "cell_type": "markdown",
   "metadata": {},
   "source": [
    "Now that we have our speech data and our dictionary, we can start our analysis. First, we'll formally state our hypothesis. Then, to visualize the data we'll perform 3 steps:\n",
    "1. Count the occurances of words from our dictionary in each speech\n",
    "2. Calculate how often words from each category are used by each political party\n",
    "3. Plot the percents on a bar graph"
   ]
  },
  {
   "cell_type": "markdown",
   "metadata": {},
   "source": [
    "### Hypothesis <a id='subsection 3'></a>"
   ]
  },
  {
   "cell_type": "markdown",
   "metadata": {},
   "source": [
    "An important part of data science is understanding the question you're trying to answer and formulating an appropriate hypothesis. The hypothesis must be testable given your data, and you must be able to say what kinds of results would support or refute your hypothesis. \n",
    "\n",
    "Today, our question asks whether the word use of 2016 presidential candidates aligns with Moral Foundations Theory.\n",
    "\n",
    "Think about what you know about Moral Foundations Theory. If this data is consistent with the theory, what should our analysis show for Republican candidates? What about for Democratic candidates? Try sketching a possible graph for each political party, assuming that candidates' speech aligns with the theory."
   ]
  },
  {
   "cell_type": "code",
   "execution_count": null,
   "metadata": {
    "collapsed": true
   },
   "outputs": [],
   "source": [
    "# answer"
   ]
  },
  {
   "cell_type": "markdown",
   "metadata": {},
   "source": [
    "### Democrats <a id='subsection 4'></a>"
   ]
  },
  {
   "cell_type": "markdown",
   "metadata": {
    "collapsed": true
   },
   "source": [
    "Let's start by looking at Democratic candidates. First, we need to make a table that only contains Democrats. Run the cell below to do so."
   ]
  },
  {
   "cell_type": "code",
   "execution_count": 13,
   "metadata": {},
   "outputs": [
    {
     "data": {
      "text/html": [
       "<div>\n",
       "<style>\n",
       "    .dataframe thead tr:only-child th {\n",
       "        text-align: right;\n",
       "    }\n",
       "\n",
       "    .dataframe thead th {\n",
       "        text-align: left;\n",
       "    }\n",
       "\n",
       "    .dataframe tbody tr th {\n",
       "        vertical-align: top;\n",
       "    }\n",
       "</style>\n",
       "<table border=\"1\" class=\"dataframe\">\n",
       "  <thead>\n",
       "    <tr style=\"text-align: right;\">\n",
       "      <th></th>\n",
       "      <th>Candidate</th>\n",
       "      <th>Party</th>\n",
       "      <th>Type</th>\n",
       "      <th>Date</th>\n",
       "      <th>Title</th>\n",
       "      <th>Speech</th>\n",
       "      <th>clean_speech</th>\n",
       "    </tr>\n",
       "  </thead>\n",
       "  <tbody>\n",
       "    <tr>\n",
       "      <th>0</th>\n",
       "      <td>Lincoln Chafee</td>\n",
       "      <td>D</td>\n",
       "      <td>c</td>\n",
       "      <td>June 3, 2015</td>\n",
       "      <td>b'Remarks Announcing Candidacy for President a...</td>\n",
       "      <td>b'Thank you, Bob. Thank you, Bob and Mark, ver...</td>\n",
       "      <td>b thank you  bob  thank you  bob and mark  ver...</td>\n",
       "    </tr>\n",
       "    <tr>\n",
       "      <th>1</th>\n",
       "      <td>Lincoln Chafee</td>\n",
       "      <td>D</td>\n",
       "      <td>c</td>\n",
       "      <td>July 17, 2015</td>\n",
       "      <td>b'Remarks at the Iowa Democrats Hall of Fame D...</td>\n",
       "      <td>b'Congratulations to the Hall of Fame Inductee...</td>\n",
       "      <td>b congratulations to the hall of fame inductee...</td>\n",
       "    </tr>\n",
       "    <tr>\n",
       "      <th>2</th>\n",
       "      <td>Lincoln Chafee</td>\n",
       "      <td>D</td>\n",
       "      <td>c</td>\n",
       "      <td>October 23, 2015</td>\n",
       "      <td>b'Remarks Announcing the End of Presidential C...</td>\n",
       "      <td>b'Once again it is a pleasure to join so many ...</td>\n",
       "      <td>b once again it is a pleasure to join so many ...</td>\n",
       "    </tr>\n",
       "    <tr>\n",
       "      <th>0</th>\n",
       "      <td>Hillary Clinton</td>\n",
       "      <td>D</td>\n",
       "      <td>c</td>\n",
       "      <td>January 20, 2007</td>\n",
       "      <td>b'Video Transcript: Presidential Exploratory C...</td>\n",
       "      <td>b\"HILLARY CLINTON: I announced today that I am...</td>\n",
       "      <td>b hillary clinton  i announced today that i am...</td>\n",
       "    </tr>\n",
       "    <tr>\n",
       "      <th>1</th>\n",
       "      <td>Hillary Clinton</td>\n",
       "      <td>D</td>\n",
       "      <td>c</td>\n",
       "      <td>January 22, 2007</td>\n",
       "      <td>b'Remarks in a \"Let the Conversation Begin Web...</td>\n",
       "      <td>b'SENATOR CLINTON: Hi, everyone, and welcome t...</td>\n",
       "      <td>b senator clinton  hi  everyone  and welcome t...</td>\n",
       "    </tr>\n",
       "  </tbody>\n",
       "</table>\n",
       "</div>"
      ],
      "text/plain": [
       "          Candidate Party Type              Date  \\\n",
       "0    Lincoln Chafee     D    c      June 3, 2015   \n",
       "1    Lincoln Chafee     D    c     July 17, 2015   \n",
       "2    Lincoln Chafee     D    c  October 23, 2015   \n",
       "0  Hillary Clinton      D    c  January 20, 2007   \n",
       "1  Hillary Clinton      D    c  January 22, 2007   \n",
       "\n",
       "                                               Title  \\\n",
       "0  b'Remarks Announcing Candidacy for President a...   \n",
       "1  b'Remarks at the Iowa Democrats Hall of Fame D...   \n",
       "2  b'Remarks Announcing the End of Presidential C...   \n",
       "0  b'Video Transcript: Presidential Exploratory C...   \n",
       "1  b'Remarks in a \"Let the Conversation Begin Web...   \n",
       "\n",
       "                                              Speech  \\\n",
       "0  b'Thank you, Bob. Thank you, Bob and Mark, ver...   \n",
       "1  b'Congratulations to the Hall of Fame Inductee...   \n",
       "2  b'Once again it is a pleasure to join so many ...   \n",
       "0  b\"HILLARY CLINTON: I announced today that I am...   \n",
       "1  b'SENATOR CLINTON: Hi, everyone, and welcome t...   \n",
       "\n",
       "                                        clean_speech  \n",
       "0  b thank you  bob  thank you  bob and mark  ver...  \n",
       "1  b congratulations to the hall of fame inductee...  \n",
       "2  b once again it is a pleasure to join so many ...  \n",
       "0  b hillary clinton  i announced today that i am...  \n",
       "1  b senator clinton  hi  everyone  and welcome t...  "
      ]
     },
     "execution_count": 13,
     "metadata": {},
     "output_type": "execute_result"
    }
   ],
   "source": [
    "# Filter out non-Democrat speeches\n",
    "democrats = speeches[speeches['Party'] == 'D']\n",
    "democrats.head()"
   ]
  },
  {
   "cell_type": "markdown",
   "metadata": {},
   "source": [
    "Our test statistic is the percent of words that correspond to a Moral Foundation in Democratic speeches- in other words, how often candidates use words related to a specific foundation. \n",
    "\n",
    "(Bonus question: why don't we just use the **number** of Moral Foundation words instead of the **percent** as our test statistic?)\n",
    "\n",
    "To calculate the percent, we'll first need the total number of words in each speech."
   ]
  },
  {
   "cell_type": "code",
   "execution_count": 3,
   "metadata": {},
   "outputs": [
    {
     "ename": "NameError",
     "evalue": "name 'democrats' is not defined",
     "output_type": "error",
     "traceback": [
      "\u001b[1;31m---------------------------------------------------------------------------\u001b[0m",
      "\u001b[1;31mNameError\u001b[0m                                 Traceback (most recent call last)",
      "\u001b[1;32m<ipython-input-3-aca1c9e0127e>\u001b[0m in \u001b[0;36m<module>\u001b[1;34m()\u001b[0m\n\u001b[1;32m----> 1\u001b[1;33m \u001b[0mdemocrats\u001b[0m\u001b[1;33m[\u001b[0m\u001b[1;34m'total_words'\u001b[0m\u001b[1;33m]\u001b[0m \u001b[1;33m=\u001b[0m \u001b[1;33m[\u001b[0m\u001b[0mlen\u001b[0m\u001b[1;33m(\u001b[0m\u001b[0mspeech\u001b[0m\u001b[1;33m.\u001b[0m\u001b[0msplit\u001b[0m\u001b[1;33m(\u001b[0m\u001b[1;33m)\u001b[0m\u001b[1;33m)\u001b[0m \u001b[1;32mfor\u001b[0m \u001b[0mspeech\u001b[0m \u001b[1;32min\u001b[0m \u001b[0mdemocrats\u001b[0m\u001b[1;33m[\u001b[0m\u001b[1;34m'Speech'\u001b[0m\u001b[1;33m]\u001b[0m\u001b[1;33m]\u001b[0m\u001b[1;33m\u001b[0m\u001b[0m\n\u001b[0m\u001b[0;32m      2\u001b[0m \u001b[0mdemocrats\u001b[0m\u001b[1;33m.\u001b[0m\u001b[0mhead\u001b[0m\u001b[1;33m(\u001b[0m\u001b[1;33m)\u001b[0m\u001b[1;33m\u001b[0m\u001b[0m\n",
      "\u001b[1;31mNameError\u001b[0m: name 'democrats' is not defined"
     ]
    }
   ],
   "source": [
    "democrats['total_words'] = [len(speech.split()) for speech in democrats['Speech']]\n",
    "democrats.head()"
   ]
  },
  {
   "cell_type": "markdown",
   "metadata": {},
   "source": [
    "Next, we need to calculate the number of matches to entries in our dictionary for each speech and for each foundation."
   ]
  },
  {
   "cell_type": "code",
   "execution_count": 15,
   "metadata": {},
   "outputs": [
    {
     "name": "stderr",
     "output_type": "stream",
     "text": [
      "C:\\Users\\keeley\\AppData\\Local\\conda\\conda\\envs\\dsmodules\\lib\\site-packages\\ipykernel_launcher.py:7: SettingWithCopyWarning: \n",
      "A value is trying to be set on a copy of a slice from a DataFrame.\n",
      "Try using .loc[row_indexer,col_indexer] = value instead\n",
      "\n",
      "See the caveats in the documentation: http://pandas.pydata.org/pandas-docs/stable/indexing.html#indexing-view-versus-copy\n",
      "  import sys\n"
     ]
    },
    {
     "data": {
      "text/html": [
       "<div>\n",
       "<style>\n",
       "    .dataframe thead tr:only-child th {\n",
       "        text-align: right;\n",
       "    }\n",
       "\n",
       "    .dataframe thead th {\n",
       "        text-align: left;\n",
       "    }\n",
       "\n",
       "    .dataframe tbody tr th {\n",
       "        vertical-align: top;\n",
       "    }\n",
       "</style>\n",
       "<table border=\"1\" class=\"dataframe\">\n",
       "  <thead>\n",
       "    <tr style=\"text-align: right;\">\n",
       "      <th></th>\n",
       "      <th>Candidate</th>\n",
       "      <th>Party</th>\n",
       "      <th>Type</th>\n",
       "      <th>Date</th>\n",
       "      <th>Title</th>\n",
       "      <th>Speech</th>\n",
       "      <th>clean_speech</th>\n",
       "      <th>total_words</th>\n",
       "      <th>authority/respect</th>\n",
       "      <th>care</th>\n",
       "      <th>fairness/proportionality</th>\n",
       "      <th>liberty</th>\n",
       "      <th>loyalty/ingroup</th>\n",
       "      <th>sanctity/purity</th>\n",
       "    </tr>\n",
       "  </thead>\n",
       "  <tbody>\n",
       "    <tr>\n",
       "      <th>0</th>\n",
       "      <td>Lincoln Chafee</td>\n",
       "      <td>D</td>\n",
       "      <td>c</td>\n",
       "      <td>June 3, 2015</td>\n",
       "      <td>b'Remarks Announcing Candidacy for President a...</td>\n",
       "      <td>b'Thank you, Bob. Thank you, Bob and Mark, ver...</td>\n",
       "      <td>b thank you  bob  thank you  bob and mark  ver...</td>\n",
       "      <td>5264</td>\n",
       "      <td>0.002090</td>\n",
       "      <td>0.001710</td>\n",
       "      <td>0.002090</td>\n",
       "      <td>0.000000</td>\n",
       "      <td>0.002090</td>\n",
       "      <td>0.000000</td>\n",
       "    </tr>\n",
       "    <tr>\n",
       "      <th>1</th>\n",
       "      <td>Lincoln Chafee</td>\n",
       "      <td>D</td>\n",
       "      <td>c</td>\n",
       "      <td>July 17, 2015</td>\n",
       "      <td>b'Remarks at the Iowa Democrats Hall of Fame D...</td>\n",
       "      <td>b'Congratulations to the Hall of Fame Inductee...</td>\n",
       "      <td>b congratulations to the hall of fame inductee...</td>\n",
       "      <td>700</td>\n",
       "      <td>0.002857</td>\n",
       "      <td>0.001429</td>\n",
       "      <td>0.002857</td>\n",
       "      <td>0.000000</td>\n",
       "      <td>0.004286</td>\n",
       "      <td>0.000000</td>\n",
       "    </tr>\n",
       "    <tr>\n",
       "      <th>2</th>\n",
       "      <td>Lincoln Chafee</td>\n",
       "      <td>D</td>\n",
       "      <td>c</td>\n",
       "      <td>October 23, 2015</td>\n",
       "      <td>b'Remarks Announcing the End of Presidential C...</td>\n",
       "      <td>b'Once again it is a pleasure to join so many ...</td>\n",
       "      <td>b once again it is a pleasure to join so many ...</td>\n",
       "      <td>902</td>\n",
       "      <td>0.002217</td>\n",
       "      <td>0.001109</td>\n",
       "      <td>0.002217</td>\n",
       "      <td>0.001109</td>\n",
       "      <td>0.005543</td>\n",
       "      <td>0.000000</td>\n",
       "    </tr>\n",
       "    <tr>\n",
       "      <th>0</th>\n",
       "      <td>Hillary Clinton</td>\n",
       "      <td>D</td>\n",
       "      <td>c</td>\n",
       "      <td>January 20, 2007</td>\n",
       "      <td>b'Video Transcript: Presidential Exploratory C...</td>\n",
       "      <td>b\"HILLARY CLINTON: I announced today that I am...</td>\n",
       "      <td>b hillary clinton  i announced today that i am...</td>\n",
       "      <td>330</td>\n",
       "      <td>0.003030</td>\n",
       "      <td>0.006061</td>\n",
       "      <td>0.000000</td>\n",
       "      <td>0.000000</td>\n",
       "      <td>0.009091</td>\n",
       "      <td>0.000000</td>\n",
       "    </tr>\n",
       "    <tr>\n",
       "      <th>1</th>\n",
       "      <td>Hillary Clinton</td>\n",
       "      <td>D</td>\n",
       "      <td>c</td>\n",
       "      <td>January 22, 2007</td>\n",
       "      <td>b'Remarks in a \"Let the Conversation Begin Web...</td>\n",
       "      <td>b'SENATOR CLINTON: Hi, everyone, and welcome t...</td>\n",
       "      <td>b senator clinton  hi  everyone  and welcome t...</td>\n",
       "      <td>5158</td>\n",
       "      <td>0.003296</td>\n",
       "      <td>0.002714</td>\n",
       "      <td>0.000969</td>\n",
       "      <td>0.000000</td>\n",
       "      <td>0.002520</td>\n",
       "      <td>0.000582</td>\n",
       "    </tr>\n",
       "  </tbody>\n",
       "</table>\n",
       "</div>"
      ],
      "text/plain": [
       "          Candidate Party Type              Date  \\\n",
       "0    Lincoln Chafee     D    c      June 3, 2015   \n",
       "1    Lincoln Chafee     D    c     July 17, 2015   \n",
       "2    Lincoln Chafee     D    c  October 23, 2015   \n",
       "0  Hillary Clinton      D    c  January 20, 2007   \n",
       "1  Hillary Clinton      D    c  January 22, 2007   \n",
       "\n",
       "                                               Title  \\\n",
       "0  b'Remarks Announcing Candidacy for President a...   \n",
       "1  b'Remarks at the Iowa Democrats Hall of Fame D...   \n",
       "2  b'Remarks Announcing the End of Presidential C...   \n",
       "0  b'Video Transcript: Presidential Exploratory C...   \n",
       "1  b'Remarks in a \"Let the Conversation Begin Web...   \n",
       "\n",
       "                                              Speech  \\\n",
       "0  b'Thank you, Bob. Thank you, Bob and Mark, ver...   \n",
       "1  b'Congratulations to the Hall of Fame Inductee...   \n",
       "2  b'Once again it is a pleasure to join so many ...   \n",
       "0  b\"HILLARY CLINTON: I announced today that I am...   \n",
       "1  b'SENATOR CLINTON: Hi, everyone, and welcome t...   \n",
       "\n",
       "                                        clean_speech  total_words  \\\n",
       "0  b thank you  bob  thank you  bob and mark  ver...         5264   \n",
       "1  b congratulations to the hall of fame inductee...          700   \n",
       "2  b once again it is a pleasure to join so many ...          902   \n",
       "0  b hillary clinton  i announced today that i am...          330   \n",
       "1  b senator clinton  hi  everyone  and welcome t...         5158   \n",
       "\n",
       "   authority/respect      care  fairness/proportionality   liberty  \\\n",
       "0           0.002090  0.001710                  0.002090  0.000000   \n",
       "1           0.002857  0.001429                  0.002857  0.000000   \n",
       "2           0.002217  0.001109                  0.002217  0.001109   \n",
       "0           0.003030  0.006061                  0.000000  0.000000   \n",
       "1           0.003296  0.002714                  0.000969  0.000000   \n",
       "\n",
       "   loyalty/ingroup  sanctity/purity  \n",
       "0         0.002090         0.000000  \n",
       "1         0.004286         0.000000  \n",
       "2         0.005543         0.000000  \n",
       "0         0.009091         0.000000  \n",
       "1         0.002520         0.000582  "
      ]
     },
     "execution_count": 15,
     "metadata": {},
     "output_type": "execute_result"
    }
   ],
   "source": [
    "for key in mft_dict.keys():\n",
    "    num_key_words = np.zeros(len(democrats))\n",
    "    synonyms = mft_dict[key]\n",
    "    for synonym in synonyms:\n",
    "        syn_count = np.array([sum([wd.startswith(synonym) for wd in speech.split()]) for speech in democrats['clean_speech']])\n",
    "        num_key_words += syn_count\n",
    "    democrats[key] = num_key_words / democrats['total_words'] * 100\n",
    "\n",
    "democrats.head()"
   ]
  },
  {
   "cell_type": "markdown",
   "metadata": {},
   "source": [
    "We have our proportions, but it's much easier to understand what's going on when the results are in graph form. Let's start by looking at the average proportions for Democrats as a group. Run the cell below to show a graph of the average proportions. Again, don't worry about the details of the code."
   ]
  },
  {
   "cell_type": "code",
   "execution_count": null,
   "metadata": {
    "collapsed": true
   },
   "outputs": [],
   "source": [
    "avg_dem_stats = Table().with_columns('Moral Foundation', mft_dict.keys(),\n",
    "                                    'Proportion', [np.average(democrats[mf]) for mf in mft_dict.keys()])\n",
    "avg_dem_stats.barh('Moral Foundation')"
   ]
  },
  {
   "cell_type": "markdown",
   "metadata": {},
   "source": [
    "Take a look at this graph. What does it show? Does it support our hypothesis?\n",
    "\n",
    "Answer:"
   ]
  },
  {
   "cell_type": "markdown",
   "metadata": {},
   "source": [
    "We can also look at how different candidates used different foundations."
   ]
  },
  {
   "cell_type": "code",
   "execution_count": null,
   "metadata": {
    "collapsed": true
   },
   "outputs": [],
   "source": [
    "dem_indivs = (democrats.loc[:, ['Candidate', 'authority/respect', 'care', 'loyalty/ingroup', 'fairness/proportionality',\n",
    "                               'sanctity/purity', 'liberty']]\n",
    "             .groupby(['Candidate'])\n",
    "             .mean())\n",
    "dem_indivs.plot.bar(figsize=(10, 8))"
   ]
  },
  {
   "cell_type": "code",
   "execution_count": null,
   "metadata": {
    "collapsed": true
   },
   "outputs": [],
   "source": []
  },
  {
   "cell_type": "markdown",
   "metadata": {},
   "source": [
    "### Republicans <a id='subsection 5'></a>"
   ]
  },
  {
   "cell_type": "markdown",
   "metadata": {},
   "source": [
    "Now, let's repeat the process for Republicans. Replace the ellipses with the correct code to select only Republican speeches, then run the cell to create the table. \n",
    "\n",
    "(Hint: look back at how we made the 'democrats' table to see how to fill in the ellipses)"
   ]
  },
  {
   "cell_type": "code",
   "execution_count": 16,
   "metadata": {},
   "outputs": [
    {
     "data": {
      "text/html": [
       "<div>\n",
       "<style>\n",
       "    .dataframe thead tr:only-child th {\n",
       "        text-align: right;\n",
       "    }\n",
       "\n",
       "    .dataframe thead th {\n",
       "        text-align: left;\n",
       "    }\n",
       "\n",
       "    .dataframe tbody tr th {\n",
       "        vertical-align: top;\n",
       "    }\n",
       "</style>\n",
       "<table border=\"1\" class=\"dataframe\">\n",
       "  <thead>\n",
       "    <tr style=\"text-align: right;\">\n",
       "      <th></th>\n",
       "      <th>Candidate</th>\n",
       "      <th>Party</th>\n",
       "      <th>Type</th>\n",
       "      <th>Date</th>\n",
       "      <th>Title</th>\n",
       "      <th>Speech</th>\n",
       "      <th>clean_speech</th>\n",
       "    </tr>\n",
       "  </thead>\n",
       "  <tbody>\n",
       "    <tr>\n",
       "      <th>0</th>\n",
       "      <td>Jeb Bush</td>\n",
       "      <td>R</td>\n",
       "      <td>c</td>\n",
       "      <td>June 15, 2015</td>\n",
       "      <td>b'Remarks Announcing Candidacy for President a...</td>\n",
       "      <td>b'Thank you all very much. I always feel welco...</td>\n",
       "      <td>b thank you all very much  i always feel welco...</td>\n",
       "    </tr>\n",
       "    <tr>\n",
       "      <th>1</th>\n",
       "      <td>Jeb Bush</td>\n",
       "      <td>R</td>\n",
       "      <td>c</td>\n",
       "      <td>July 30, 2015</td>\n",
       "      <td>b'Remarks to the National Urban League Confere...</td>\n",
       "      <td>b\"Thank you all very much. I appreciate your h...</td>\n",
       "      <td>b thank you all very much  i appreciate your h...</td>\n",
       "    </tr>\n",
       "    <tr>\n",
       "      <th>2</th>\n",
       "      <td>Jeb Bush</td>\n",
       "      <td>R</td>\n",
       "      <td>c</td>\n",
       "      <td>August 11, 2015</td>\n",
       "      <td>b'Remarks at the Ronald Reagan Presidential Li...</td>\n",
       "      <td>b\"Thank you very much. It's good to be with al...</td>\n",
       "      <td>b thank you very much  it s good to be with al...</td>\n",
       "    </tr>\n",
       "    <tr>\n",
       "      <th>3</th>\n",
       "      <td>Jeb Bush</td>\n",
       "      <td>R</td>\n",
       "      <td>c</td>\n",
       "      <td>September 9, 2015</td>\n",
       "      <td>b'Remarks in Garner, North Carolina'</td>\n",
       "      <td>b'Thank you very much. I appreciate your hospi...</td>\n",
       "      <td>b thank you very much  i appreciate your hospi...</td>\n",
       "    </tr>\n",
       "    <tr>\n",
       "      <th>4</th>\n",
       "      <td>Jeb Bush</td>\n",
       "      <td>R</td>\n",
       "      <td>c</td>\n",
       "      <td>November 2, 2015</td>\n",
       "      <td>b'Remarks in Tampa, Florida'</td>\n",
       "      <td>b'Thank you. It\\'s great to be in Tampa with s...</td>\n",
       "      <td>b thank you  it  s great to be in tampa with s...</td>\n",
       "    </tr>\n",
       "  </tbody>\n",
       "</table>\n",
       "</div>"
      ],
      "text/plain": [
       "  Candidate Party Type               Date  \\\n",
       "0  Jeb Bush     R    c      June 15, 2015   \n",
       "1  Jeb Bush     R    c      July 30, 2015   \n",
       "2  Jeb Bush     R    c    August 11, 2015   \n",
       "3  Jeb Bush     R    c  September 9, 2015   \n",
       "4  Jeb Bush     R    c   November 2, 2015   \n",
       "\n",
       "                                               Title  \\\n",
       "0  b'Remarks Announcing Candidacy for President a...   \n",
       "1  b'Remarks to the National Urban League Confere...   \n",
       "2  b'Remarks at the Ronald Reagan Presidential Li...   \n",
       "3               b'Remarks in Garner, North Carolina'   \n",
       "4                       b'Remarks in Tampa, Florida'   \n",
       "\n",
       "                                              Speech  \\\n",
       "0  b'Thank you all very much. I always feel welco...   \n",
       "1  b\"Thank you all very much. I appreciate your h...   \n",
       "2  b\"Thank you very much. It's good to be with al...   \n",
       "3  b'Thank you very much. I appreciate your hospi...   \n",
       "4  b'Thank you. It\\'s great to be in Tampa with s...   \n",
       "\n",
       "                                        clean_speech  \n",
       "0  b thank you all very much  i always feel welco...  \n",
       "1  b thank you all very much  i appreciate your h...  \n",
       "2  b thank you very much  it s good to be with al...  \n",
       "3  b thank you very much  i appreciate your hospi...  \n",
       "4  b thank you  it  s great to be in tampa with s...  "
      ]
     },
     "execution_count": 16,
     "metadata": {},
     "output_type": "execute_result"
    }
   ],
   "source": [
    "# Filter out non-Republican speeches\n",
    "republicans = speeches[speeches['Party'] == 'R']\n",
    "republicans.head()"
   ]
  },
  {
   "cell_type": "markdown",
   "metadata": {},
   "source": [
    "Next, we need to calculate our test statistic for Republicans. Fill in the ellipses in the cell below with the correct code to create a table with the statistics. Once again, look at how we made this table for Democrats, and think about how you need to change the code for Republicans."
   ]
  },
  {
   "cell_type": "code",
   "execution_count": 17,
   "metadata": {},
   "outputs": [
    {
     "name": "stderr",
     "output_type": "stream",
     "text": [
      "C:\\Users\\keeley\\AppData\\Local\\conda\\conda\\envs\\dsmodules\\lib\\site-packages\\ipykernel_launcher.py:2: SettingWithCopyWarning: \n",
      "A value is trying to be set on a copy of a slice from a DataFrame.\n",
      "Try using .loc[row_indexer,col_indexer] = value instead\n",
      "\n",
      "See the caveats in the documentation: http://pandas.pydata.org/pandas-docs/stable/indexing.html#indexing-view-versus-copy\n",
      "  \n"
     ]
    },
    {
     "data": {
      "text/html": [
       "<div>\n",
       "<style>\n",
       "    .dataframe thead tr:only-child th {\n",
       "        text-align: right;\n",
       "    }\n",
       "\n",
       "    .dataframe thead th {\n",
       "        text-align: left;\n",
       "    }\n",
       "\n",
       "    .dataframe tbody tr th {\n",
       "        vertical-align: top;\n",
       "    }\n",
       "</style>\n",
       "<table border=\"1\" class=\"dataframe\">\n",
       "  <thead>\n",
       "    <tr style=\"text-align: right;\">\n",
       "      <th></th>\n",
       "      <th>Candidate</th>\n",
       "      <th>Party</th>\n",
       "      <th>Type</th>\n",
       "      <th>Date</th>\n",
       "      <th>Title</th>\n",
       "      <th>Speech</th>\n",
       "      <th>clean_speech</th>\n",
       "      <th>total_words</th>\n",
       "    </tr>\n",
       "  </thead>\n",
       "  <tbody>\n",
       "    <tr>\n",
       "      <th>0</th>\n",
       "      <td>Jeb Bush</td>\n",
       "      <td>R</td>\n",
       "      <td>c</td>\n",
       "      <td>June 15, 2015</td>\n",
       "      <td>b'Remarks Announcing Candidacy for President a...</td>\n",
       "      <td>b'Thank you all very much. I always feel welco...</td>\n",
       "      <td>b thank you all very much  i always feel welco...</td>\n",
       "      <td>2126</td>\n",
       "    </tr>\n",
       "    <tr>\n",
       "      <th>1</th>\n",
       "      <td>Jeb Bush</td>\n",
       "      <td>R</td>\n",
       "      <td>c</td>\n",
       "      <td>July 30, 2015</td>\n",
       "      <td>b'Remarks to the National Urban League Confere...</td>\n",
       "      <td>b\"Thank you all very much. I appreciate your h...</td>\n",
       "      <td>b thank you all very much  i appreciate your h...</td>\n",
       "      <td>2528</td>\n",
       "    </tr>\n",
       "    <tr>\n",
       "      <th>2</th>\n",
       "      <td>Jeb Bush</td>\n",
       "      <td>R</td>\n",
       "      <td>c</td>\n",
       "      <td>August 11, 2015</td>\n",
       "      <td>b'Remarks at the Ronald Reagan Presidential Li...</td>\n",
       "      <td>b\"Thank you very much. It's good to be with al...</td>\n",
       "      <td>b thank you very much  it s good to be with al...</td>\n",
       "      <td>3624</td>\n",
       "    </tr>\n",
       "    <tr>\n",
       "      <th>3</th>\n",
       "      <td>Jeb Bush</td>\n",
       "      <td>R</td>\n",
       "      <td>c</td>\n",
       "      <td>September 9, 2015</td>\n",
       "      <td>b'Remarks in Garner, North Carolina'</td>\n",
       "      <td>b'Thank you very much. I appreciate your hospi...</td>\n",
       "      <td>b thank you very much  i appreciate your hospi...</td>\n",
       "      <td>1785</td>\n",
       "    </tr>\n",
       "    <tr>\n",
       "      <th>4</th>\n",
       "      <td>Jeb Bush</td>\n",
       "      <td>R</td>\n",
       "      <td>c</td>\n",
       "      <td>November 2, 2015</td>\n",
       "      <td>b'Remarks in Tampa, Florida'</td>\n",
       "      <td>b'Thank you. It\\'s great to be in Tampa with s...</td>\n",
       "      <td>b thank you  it  s great to be in tampa with s...</td>\n",
       "      <td>2318</td>\n",
       "    </tr>\n",
       "  </tbody>\n",
       "</table>\n",
       "</div>"
      ],
      "text/plain": [
       "  Candidate Party Type               Date  \\\n",
       "0  Jeb Bush     R    c      June 15, 2015   \n",
       "1  Jeb Bush     R    c      July 30, 2015   \n",
       "2  Jeb Bush     R    c    August 11, 2015   \n",
       "3  Jeb Bush     R    c  September 9, 2015   \n",
       "4  Jeb Bush     R    c   November 2, 2015   \n",
       "\n",
       "                                               Title  \\\n",
       "0  b'Remarks Announcing Candidacy for President a...   \n",
       "1  b'Remarks to the National Urban League Confere...   \n",
       "2  b'Remarks at the Ronald Reagan Presidential Li...   \n",
       "3               b'Remarks in Garner, North Carolina'   \n",
       "4                       b'Remarks in Tampa, Florida'   \n",
       "\n",
       "                                              Speech  \\\n",
       "0  b'Thank you all very much. I always feel welco...   \n",
       "1  b\"Thank you all very much. I appreciate your h...   \n",
       "2  b\"Thank you very much. It's good to be with al...   \n",
       "3  b'Thank you very much. I appreciate your hospi...   \n",
       "4  b'Thank you. It\\'s great to be in Tampa with s...   \n",
       "\n",
       "                                        clean_speech  total_words  \n",
       "0  b thank you all very much  i always feel welco...         2126  \n",
       "1  b thank you all very much  i appreciate your h...         2528  \n",
       "2  b thank you very much  it s good to be with al...         3624  \n",
       "3  b thank you very much  i appreciate your hospi...         1785  \n",
       "4  b thank you  it  s great to be in tampa with s...         2318  "
      ]
     },
     "execution_count": 17,
     "metadata": {},
     "output_type": "execute_result"
    }
   ],
   "source": [
    "# Calculate the proportions for Republican speeches\n",
    "republicans['total_words'] = [len(speech.split()) for speech in republicans['Speech']]\n",
    "republicans.head()"
   ]
  },
  {
   "cell_type": "markdown",
   "metadata": {},
   "source": [
    "Then, calculate foundation synonym percents:"
   ]
  },
  {
   "cell_type": "code",
   "execution_count": 18,
   "metadata": {},
   "outputs": [
    {
     "name": "stderr",
     "output_type": "stream",
     "text": [
      "C:\\Users\\keeley\\AppData\\Local\\conda\\conda\\envs\\dsmodules\\lib\\site-packages\\ipykernel_launcher.py:7: SettingWithCopyWarning: \n",
      "A value is trying to be set on a copy of a slice from a DataFrame.\n",
      "Try using .loc[row_indexer,col_indexer] = value instead\n",
      "\n",
      "See the caveats in the documentation: http://pandas.pydata.org/pandas-docs/stable/indexing.html#indexing-view-versus-copy\n",
      "  import sys\n"
     ]
    },
    {
     "data": {
      "text/html": [
       "<div>\n",
       "<style>\n",
       "    .dataframe thead tr:only-child th {\n",
       "        text-align: right;\n",
       "    }\n",
       "\n",
       "    .dataframe thead th {\n",
       "        text-align: left;\n",
       "    }\n",
       "\n",
       "    .dataframe tbody tr th {\n",
       "        vertical-align: top;\n",
       "    }\n",
       "</style>\n",
       "<table border=\"1\" class=\"dataframe\">\n",
       "  <thead>\n",
       "    <tr style=\"text-align: right;\">\n",
       "      <th></th>\n",
       "      <th>Candidate</th>\n",
       "      <th>Party</th>\n",
       "      <th>Type</th>\n",
       "      <th>Date</th>\n",
       "      <th>Title</th>\n",
       "      <th>Speech</th>\n",
       "      <th>clean_speech</th>\n",
       "      <th>total_words</th>\n",
       "      <th>authority/respect</th>\n",
       "      <th>care</th>\n",
       "      <th>fairness/proportionality</th>\n",
       "      <th>liberty</th>\n",
       "      <th>loyalty/ingroup</th>\n",
       "      <th>sanctity/purity</th>\n",
       "    </tr>\n",
       "  </thead>\n",
       "  <tbody>\n",
       "    <tr>\n",
       "      <th>0</th>\n",
       "      <td>Jeb Bush</td>\n",
       "      <td>R</td>\n",
       "      <td>c</td>\n",
       "      <td>June 15, 2015</td>\n",
       "      <td>b'Remarks Announcing Candidacy for President a...</td>\n",
       "      <td>b'Thank you all very much. I always feel welco...</td>\n",
       "      <td>b thank you all very much  i always feel welco...</td>\n",
       "      <td>2126</td>\n",
       "      <td>0.001881</td>\n",
       "      <td>0.002352</td>\n",
       "      <td>0.003293</td>\n",
       "      <td>0.0</td>\n",
       "      <td>0.003293</td>\n",
       "      <td>0.000941</td>\n",
       "    </tr>\n",
       "    <tr>\n",
       "      <th>1</th>\n",
       "      <td>Jeb Bush</td>\n",
       "      <td>R</td>\n",
       "      <td>c</td>\n",
       "      <td>July 30, 2015</td>\n",
       "      <td>b'Remarks to the National Urban League Confere...</td>\n",
       "      <td>b\"Thank you all very much. I appreciate your h...</td>\n",
       "      <td>b thank you all very much  i appreciate your h...</td>\n",
       "      <td>2528</td>\n",
       "      <td>0.003165</td>\n",
       "      <td>0.000791</td>\n",
       "      <td>0.002769</td>\n",
       "      <td>0.0</td>\n",
       "      <td>0.000791</td>\n",
       "      <td>0.000791</td>\n",
       "    </tr>\n",
       "    <tr>\n",
       "      <th>2</th>\n",
       "      <td>Jeb Bush</td>\n",
       "      <td>R</td>\n",
       "      <td>c</td>\n",
       "      <td>August 11, 2015</td>\n",
       "      <td>b'Remarks at the Ronald Reagan Presidential Li...</td>\n",
       "      <td>b\"Thank you very much. It's good to be with al...</td>\n",
       "      <td>b thank you very much  it s good to be with al...</td>\n",
       "      <td>3624</td>\n",
       "      <td>0.003311</td>\n",
       "      <td>0.001380</td>\n",
       "      <td>0.001656</td>\n",
       "      <td>0.0</td>\n",
       "      <td>0.000552</td>\n",
       "      <td>0.000828</td>\n",
       "    </tr>\n",
       "    <tr>\n",
       "      <th>3</th>\n",
       "      <td>Jeb Bush</td>\n",
       "      <td>R</td>\n",
       "      <td>c</td>\n",
       "      <td>September 9, 2015</td>\n",
       "      <td>b'Remarks in Garner, North Carolina'</td>\n",
       "      <td>b'Thank you very much. I appreciate your hospi...</td>\n",
       "      <td>b thank you very much  i appreciate your hospi...</td>\n",
       "      <td>1785</td>\n",
       "      <td>0.001681</td>\n",
       "      <td>0.000560</td>\n",
       "      <td>0.001681</td>\n",
       "      <td>0.0</td>\n",
       "      <td>0.000000</td>\n",
       "      <td>0.000000</td>\n",
       "    </tr>\n",
       "    <tr>\n",
       "      <th>4</th>\n",
       "      <td>Jeb Bush</td>\n",
       "      <td>R</td>\n",
       "      <td>c</td>\n",
       "      <td>November 2, 2015</td>\n",
       "      <td>b'Remarks in Tampa, Florida'</td>\n",
       "      <td>b'Thank you. It\\'s great to be in Tampa with s...</td>\n",
       "      <td>b thank you  it  s great to be in tampa with s...</td>\n",
       "      <td>2318</td>\n",
       "      <td>0.003020</td>\n",
       "      <td>0.001294</td>\n",
       "      <td>0.000431</td>\n",
       "      <td>0.0</td>\n",
       "      <td>0.001294</td>\n",
       "      <td>0.001294</td>\n",
       "    </tr>\n",
       "  </tbody>\n",
       "</table>\n",
       "</div>"
      ],
      "text/plain": [
       "  Candidate Party Type               Date  \\\n",
       "0  Jeb Bush     R    c      June 15, 2015   \n",
       "1  Jeb Bush     R    c      July 30, 2015   \n",
       "2  Jeb Bush     R    c    August 11, 2015   \n",
       "3  Jeb Bush     R    c  September 9, 2015   \n",
       "4  Jeb Bush     R    c   November 2, 2015   \n",
       "\n",
       "                                               Title  \\\n",
       "0  b'Remarks Announcing Candidacy for President a...   \n",
       "1  b'Remarks to the National Urban League Confere...   \n",
       "2  b'Remarks at the Ronald Reagan Presidential Li...   \n",
       "3               b'Remarks in Garner, North Carolina'   \n",
       "4                       b'Remarks in Tampa, Florida'   \n",
       "\n",
       "                                              Speech  \\\n",
       "0  b'Thank you all very much. I always feel welco...   \n",
       "1  b\"Thank you all very much. I appreciate your h...   \n",
       "2  b\"Thank you very much. It's good to be with al...   \n",
       "3  b'Thank you very much. I appreciate your hospi...   \n",
       "4  b'Thank you. It\\'s great to be in Tampa with s...   \n",
       "\n",
       "                                        clean_speech  total_words  \\\n",
       "0  b thank you all very much  i always feel welco...         2126   \n",
       "1  b thank you all very much  i appreciate your h...         2528   \n",
       "2  b thank you very much  it s good to be with al...         3624   \n",
       "3  b thank you very much  i appreciate your hospi...         1785   \n",
       "4  b thank you  it  s great to be in tampa with s...         2318   \n",
       "\n",
       "   authority/respect      care  fairness/proportionality  liberty  \\\n",
       "0           0.001881  0.002352                  0.003293      0.0   \n",
       "1           0.003165  0.000791                  0.002769      0.0   \n",
       "2           0.003311  0.001380                  0.001656      0.0   \n",
       "3           0.001681  0.000560                  0.001681      0.0   \n",
       "4           0.003020  0.001294                  0.000431      0.0   \n",
       "\n",
       "   loyalty/ingroup  sanctity/purity  \n",
       "0         0.003293         0.000941  \n",
       "1         0.000791         0.000791  \n",
       "2         0.000552         0.000828  \n",
       "3         0.000000         0.000000  \n",
       "4         0.001294         0.001294  "
      ]
     },
     "execution_count": 18,
     "metadata": {},
     "output_type": "execute_result"
    }
   ],
   "source": [
    "for key in mft_dict.keys():\n",
    "    num_key_words = np.zeros(len(republicans))\n",
    "    synonyms = mft_dict[key]\n",
    "    for synonym in synonyms:\n",
    "        syn_count = np.array([sum([wd.startswith(synonym) for wd in speech.split()]) for speech in republicans['clean_speech']])\n",
    "        num_key_words += syn_count\n",
    "    republicans[key] = num_key_words / republicans['total_words'] * 100\n",
    "    \n",
    "republicans.head()"
   ]
  },
  {
   "cell_type": "markdown",
   "metadata": {},
   "source": [
    "Then, run the next cell to show a graph of the average Republican percentages."
   ]
  },
  {
   "cell_type": "code",
   "execution_count": null,
   "metadata": {
    "collapsed": true
   },
   "outputs": [],
   "source": [
    "avg_rep_stats = Table().with_columns('Moral Foundation', mft_dict.keys(),\n",
    "                                    'Proportion', [np.mean(republicans[mf]) for mf in mft_dict.keys()])\n",
    "avg_rep_stats.barh('Moral Foundation')"
   ]
  },
  {
   "cell_type": "markdown",
   "metadata": {},
   "source": [
    "Does this graph support our hypothesis? \n",
    "Answer:"
   ]
  },
  {
   "cell_type": "markdown",
   "metadata": {},
   "source": [
    "Finally, let's look at individual Republican candidate averages."
   ]
  },
  {
   "cell_type": "code",
   "execution_count": null,
   "metadata": {
    "collapsed": true
   },
   "outputs": [],
   "source": [
    "rep_indivs = (republicans.loc[:, ['Candidate', 'authority/respect', 'care', 'loyalty/ingroup', 'fairness/proportionality',\n",
    "                               'sanctity/purity', 'liberty']]\n",
    "             .groupby(['Candidate'])\n",
    "             .mean())\n",
    "rep_indivs.plot.bar(figsize=(15, 8))"
   ]
  },
  {
   "cell_type": "markdown",
   "metadata": {},
   "source": [
    "### Democrats vs Republicans <a id='subsection 6'></a>"
   ]
  },
  {
   "cell_type": "markdown",
   "metadata": {
    "collapsed": true
   },
   "source": [
    "Comparing two groups becomes much easier when we can look at them both at the same time. Run the cell below to get a graph for side-by-side comparison."
   ]
  },
  {
   "cell_type": "code",
   "execution_count": null,
   "metadata": {
    "collapsed": true
   },
   "outputs": [],
   "source": [
    "all_avg_stats = Table().with_columns('Moral Foundation', mft_dict.keys(),\n",
    "                                    'Democrats', [np.mean(democrats[mf]) for mf in mft_dict.keys()],\n",
    "                                    'Republicans', [np.mean(republicans[mf]) for mf in mft_dict.keys()])\n",
    "all_avg_stats.barh('Moral Foundation')"
   ]
  },
  {
   "cell_type": "markdown",
   "metadata": {},
   "source": [
    "We can also compare the stats for the Democratic and Republican nominees."
   ]
  },
  {
   "cell_type": "code",
   "execution_count": null,
   "metadata": {
    "collapsed": true
   },
   "outputs": [],
   "source": [
    "all_avg_stats = Table().with_columns('Moral Foundation', mft_dict.keys(),\n",
    "                                    'Hillary Clinton', dem_indivs.loc['Hillary Clinton ', :],\n",
    "                                    'Donald Trump', rep_indivs.loc['Donald Trump', :])\n",
    "all_avg_stats.barh('Moral Foundation')"
   ]
  },
  {
   "cell_type": "markdown",
   "metadata": {},
   "source": [
    "---\n",
    "\n",
    "## Bibliography"
   ]
  },
  {
   "cell_type": "markdown",
   "metadata": {},
   "source": [
    "* Election documents scraped from http://www.presidency.ucsb.edu/2016_election.php\n",
    "* Graham, J., Haidt, J., & Nosek, B. A. (2009). Liberals and conservatives rely on different sets of moral foundations. Journal of personality and social psychology, 96(5), 1029. http://projectimplicit.net/nosek/papers/GHN2009.pdf, October 9 2017."
   ]
  },
  {
   "cell_type": "markdown",
   "metadata": {},
   "source": [
    "---\n",
    "Notebook developed by: Keeley Takimoto, Sean Seungwoo Son, Sujude Dalieh\n",
    "\n",
    "Data Science Modules: http://data.berkeley.edu/education/modules\n"
   ]
  }
 ],
 "metadata": {
  "anaconda-cloud": {},
  "kernelspec": {
   "display_name": "Python 3",
   "language": "python",
   "name": "python3"
  },
  "language_info": {
   "codemirror_mode": {
    "name": "ipython",
    "version": 3
   },
   "file_extension": ".py",
   "mimetype": "text/x-python",
   "name": "python",
   "nbconvert_exporter": "python",
   "pygments_lexer": "ipython3",
   "version": "3.6.1"
  }
 },
 "nbformat": 4,
 "nbformat_minor": 1
}
