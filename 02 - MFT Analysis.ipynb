{
 "cells": [
  {
   "cell_type": "markdown",
   "metadata": {},
   "source": [
    "#  Data Analysis: Moral Foundations Theory\n",
    "---\n",
    "<img src=\"https://c1.staticflickr.com/7/6240/6261650491_0cd6c701bb_b.jpg\" style=\"width: 500px; height: 275px;\" />\n",
    "\n",
    "### Professor Amy Tick\n",
    "\n",
    "Moral Foundations Theory (MFT) hypothesizes that people's sensitivity to the foundations is different based on their political ideology: liberals are more sensitive to care and fairness, while conservatives are equally sensitive to all five. Here, we'll explore whether we can find evidence for MFT in the campaign speeches of 2016 United States presidential candidates.\n",
    "\n",
    "*Estimated Time: 50 minutes*\n",
    "\n",
    "---\n",
    "\n",
    "### Topics Covered\n",
    "- Plotting data with MatPlotLib\n",
    "- Interpreting graphs\n",
    "- Textual analysis methods\n",
    "\n",
    "### Table of Contents\n",
    "\n",
    "\n",
    "1 - [Organizing our data](#section 1)<br>\n",
    "\n",
    "&nbsp;&nbsp;&nbsp;&nbsp;&nbsp;&nbsp; 1.1 - [2016 Campaign Speeches](#subsection 1)<br>\n",
    "\n",
    "&nbsp;&nbsp;&nbsp;&nbsp;&nbsp;&nbsp; 1.2 - [Moral Foundations Dictionary](#subsection 2) <br>\n",
    "\n",
    "2 - [Visualizing our data](#section 2)<br>\n",
    "\n",
    "&nbsp;&nbsp;&nbsp;&nbsp;&nbsp;&nbsp; 2.1 - [Democrats](#subsection 3)<br>\n",
    "\n",
    "&nbsp;&nbsp;&nbsp;&nbsp;&nbsp;&nbsp; 2.2 - [Republicans](#subsection 4) <br>\n",
    "\n",
    "&nbsp;&nbsp;&nbsp;&nbsp;&nbsp;&nbsp; 2.3 - [Democrats vs Republicans](#subsection 5) <br>\n",
    "\n",
    "3 - [Further explorations](#section 3)<br>\n",
    "\n",
    "\n",
    "\n",
    "\n",
    "**Dependencies:**"
   ]
  },
  {
   "cell_type": "code",
   "execution_count": 75,
   "metadata": {},
   "outputs": [],
   "source": [
    "from datascience import *\n",
    "import numpy as np\n",
    "import matplotlib as plt\n",
    "%matplotlib inline"
   ]
  },
  {
   "cell_type": "markdown",
   "metadata": {},
   "source": [
    "---\n",
    "## Part 1: Organizing our data  <a id='section 1'></a>"
   ]
  },
  {
   "cell_type": "markdown",
   "metadata": {},
   "source": [
    "### 2016 Campaign Speeches <a id='subsection 1'></a>"
   ]
  },
  {
   "cell_type": "markdown",
   "metadata": {},
   "source": [
    "Today, we'll be looking at the text of speeches from the 2016 US presidential campaign. Run the cell below to load the data."
   ]
  },
  {
   "cell_type": "code",
   "execution_count": 72,
   "metadata": {},
   "outputs": [
    {
     "data": {
      "text/html": [
       "<table border=\"1\" class=\"dataframe\">\n",
       "    <thead>\n",
       "        <tr>\n",
       "            <th>Candidate</th> <th>Party</th> <th>Type</th> <th>Date</th> <th>Title</th> <th>Speech</th>\n",
       "        </tr>\n",
       "    </thead>\n",
       "    <tbody>\n",
       "        <tr>\n",
       "            <td>Jeb Bush </td> <td>R    </td> <td>c   </td> <td>June 15, 2015    </td> <td>b'Remarks Announcing Candidacy for President at Miami Da ...</td> <td>b'Thank you all very much. I always feel welcome at Miam ...</td>\n",
       "        </tr>\n",
       "    </tbody>\n",
       "        <tr>\n",
       "            <td>Jeb Bush </td> <td>R    </td> <td>c   </td> <td>July 30, 2015    </td> <td>b'Remarks to the National Urban League Conference in For ...</td> <td>b\"Thank you all very much. I appreciate your hospitality ...</td>\n",
       "        </tr>\n",
       "    </tbody>\n",
       "        <tr>\n",
       "            <td>Jeb Bush </td> <td>R    </td> <td>c   </td> <td>August 11, 2015  </td> <td>b'Remarks at the Ronald Reagan Presidential Library in S ...</td> <td>b\"Thank you very much. It's good to be with all of you,  ...</td>\n",
       "        </tr>\n",
       "    </tbody>\n",
       "        <tr>\n",
       "            <td>Jeb Bush </td> <td>R    </td> <td>c   </td> <td>September 9, 2015</td> <td>b'Remarks in Garner, North Carolina'                        </td> <td>b'Thank you very much. I appreciate your hospitality tod ...</td>\n",
       "        </tr>\n",
       "    </tbody>\n",
       "        <tr>\n",
       "            <td>Jeb Bush </td> <td>R    </td> <td>c   </td> <td>November 2, 2015 </td> <td>b'Remarks in Tampa, Florida'                                </td> <td>b'Thank you. It\\'s great to be in Tampa with so many fri ...</td>\n",
       "        </tr>\n",
       "    </tbody>\n",
       "        <tr>\n",
       "            <td>Jeb Bush </td> <td>R    </td> <td>c   </td> <td>November 18, 2015</td> <td>b'Remarks at The Citadel in Charleston, South Carolina'     </td> <td>b'Thank you very much.I appreciate the hospitality of th ...</td>\n",
       "        </tr>\n",
       "    </tbody>\n",
       "        <tr>\n",
       "            <td>Jeb Bush </td> <td>R    </td> <td>p   </td> <td>June 14, 2015    </td> <td>b'Press Release - The Best Conservative Governor in America'</td> <td>b'\"Florida is a place where conservative principles have ...</td>\n",
       "        </tr>\n",
       "    </tbody>\n",
       "        <tr>\n",
       "            <td>Jeb Bush </td> <td>R    </td> <td>p   </td> <td>June 14, 2015    </td> <td>b'Press Release - Jeb: Today and Tomorrow'                  </td> <td>b'As Jeb has traveled the country, listening to voters h ...</td>\n",
       "        </tr>\n",
       "    </tbody>\n",
       "        <tr>\n",
       "            <td>Jeb Bush </td> <td>R    </td> <td>p   </td> <td>June 15, 2015    </td> <td>b'Press Release - All In For Jeb'                           </td> <td>b'Tony Alonso (AKA \"Asik\") is not a political partisan.  ...</td>\n",
       "        </tr>\n",
       "    </tbody>\n",
       "        <tr>\n",
       "            <td>Jeb Bush </td> <td>R    </td> <td>p   </td> <td>June 15, 2015    </td> <td>b'Press Release - Greatest Century'                         </td> <td>b\"As Governor of Florida, Jeb Bush made a difference and ...</td>\n",
       "        </tr>\n",
       "    </tbody>\n",
       "</table>\n",
       "<p>... (7535 rows omitted)</p"
      ],
      "text/plain": [
       "<Table(6 rows): | Candidate | Party | Type | Date | Title | Speech |>"
      ]
     },
     "execution_count": 72,
     "metadata": {},
     "output_type": "execute_result"
    }
   ],
   "source": [
    "# load the data from csv files into a table\n",
    "campaign_data = Table()\n",
    "import os\n",
    "for file in os.listdir(path='csv'):\n",
    "    if len(campaign_data) == 0:\n",
    "        campaign_data = Table().read_table('csv/' + file)\n",
    "    else:\n",
    "        campaign_data.append(Table().read_table('csv/' + file))\n",
    "\n",
    "campaign_data"
   ]
  },
  {
   "cell_type": "markdown",
   "metadata": {},
   "source": [
    "Each row represents one document: a campaign speech (Type='c'), a press release (Type='p), or a statement (Type='s'). Take a look at how many documents are contained in this table- that's a lot of data! To start, we only want to look at campaign speeches. Run the next cell to create a table with only Type 'c' documents."
   ]
  },
  {
   "cell_type": "code",
   "execution_count": 73,
   "metadata": {},
   "outputs": [
    {
     "data": {
      "text/html": [
       "<table border=\"1\" class=\"dataframe\">\n",
       "    <thead>\n",
       "        <tr>\n",
       "            <th>Candidate</th> <th>Party</th> <th>Type</th> <th>Date</th> <th>Title</th> <th>Speech</th>\n",
       "        </tr>\n",
       "    </thead>\n",
       "    <tbody>\n",
       "        <tr>\n",
       "            <td>Jeb Bush      </td> <td>R    </td> <td>c   </td> <td>June 15, 2015    </td> <td>b'Remarks Announcing Candidacy for President at Miami Da ...</td> <td>b'Thank you all very much. I always feel welcome at Miam ...</td>\n",
       "        </tr>\n",
       "    </tbody>\n",
       "        <tr>\n",
       "            <td>Jeb Bush      </td> <td>R    </td> <td>c   </td> <td>July 30, 2015    </td> <td>b'Remarks to the National Urban League Conference in For ...</td> <td>b\"Thank you all very much. I appreciate your hospitality ...</td>\n",
       "        </tr>\n",
       "    </tbody>\n",
       "        <tr>\n",
       "            <td>Jeb Bush      </td> <td>R    </td> <td>c   </td> <td>August 11, 2015  </td> <td>b'Remarks at the Ronald Reagan Presidential Library in S ...</td> <td>b\"Thank you very much. It's good to be with all of you,  ...</td>\n",
       "        </tr>\n",
       "    </tbody>\n",
       "        <tr>\n",
       "            <td>Jeb Bush      </td> <td>R    </td> <td>c   </td> <td>September 9, 2015</td> <td>b'Remarks in Garner, North Carolina'                        </td> <td>b'Thank you very much. I appreciate your hospitality tod ...</td>\n",
       "        </tr>\n",
       "    </tbody>\n",
       "        <tr>\n",
       "            <td>Jeb Bush      </td> <td>R    </td> <td>c   </td> <td>November 2, 2015 </td> <td>b'Remarks in Tampa, Florida'                                </td> <td>b'Thank you. It\\'s great to be in Tampa with so many fri ...</td>\n",
       "        </tr>\n",
       "    </tbody>\n",
       "        <tr>\n",
       "            <td>Jeb Bush      </td> <td>R    </td> <td>c   </td> <td>November 18, 2015</td> <td>b'Remarks at The Citadel in Charleston, South Carolina'     </td> <td>b'Thank you very much.I appreciate the hospitality of th ...</td>\n",
       "        </tr>\n",
       "    </tbody>\n",
       "        <tr>\n",
       "            <td>Ben Carson    </td> <td>R    </td> <td>c   </td> <td>May 4, 2015      </td> <td>b'Remarks Announcing Candidacy for President in Detroit, ...</td> <td>b'Thank you. We have limited time. Thank you. Thank you  ...</td>\n",
       "        </tr>\n",
       "    </tbody>\n",
       "        <tr>\n",
       "            <td>Ben Carson    </td> <td>R    </td> <td>c   </td> <td>July 19, 2016    </td> <td>b'Remarks to the Republican National Convention in Cleve ...</td> <td>b'Thank you. Thank you. Thank you, everyone. Thank you.  ...</td>\n",
       "        </tr>\n",
       "    </tbody>\n",
       "        <tr>\n",
       "            <td>Lincoln Chafee</td> <td>D    </td> <td>c   </td> <td>June 3, 2015     </td> <td>b'Remarks Announcing Candidacy for President at George M ...</td> <td>b'Thank you, Bob. Thank you, Bob and Mark, very much. A  ...</td>\n",
       "        </tr>\n",
       "    </tbody>\n",
       "        <tr>\n",
       "            <td>Lincoln Chafee</td> <td>D    </td> <td>c   </td> <td>July 17, 2015    </td> <td>b'Remarks at the Iowa Democrats Hall of Fame Dinner in C ...</td> <td>b'Congratulations to the Hall of Fame Inductees.Thank yo ...</td>\n",
       "        </tr>\n",
       "    </tbody>\n",
       "</table>\n",
       "<p>... (420 rows omitted)</p"
      ],
      "text/plain": [
       "<Table(6 rows): | Candidate | Party | Type | Date | Title | Speech |>"
      ]
     },
     "execution_count": 73,
     "metadata": {},
     "output_type": "execute_result"
    }
   ],
   "source": [
    "# create a new table containing only campaign speeches\n",
    "speeches = campaign_data.where('Type', 'c')\n",
    "speeches"
   ]
  },
  {
   "cell_type": "markdown",
   "metadata": {},
   "source": [
    "### Moral Foundations Dictionary <a id='subsection 2'></a>"
   ]
  },
  {
   "cell_type": "code",
   "execution_count": null,
   "metadata": {
    "collapsed": true
   },
   "outputs": [],
   "source": []
  },
  {
   "cell_type": "markdown",
   "metadata": {},
   "source": [
    "---\n",
    "## Part 2: Visualizing our data <a id='section 2'></a>"
   ]
  },
  {
   "cell_type": "markdown",
   "metadata": {},
   "source": [
    "Now that we have our speech data and our dictionary, we can start our analysis. We need to perform 3 steps:\n",
    "1. Count the occurances of words from our dictionary in each speech\n",
    "2. Calculate how often words from each category are used by each political party\n",
    "3. Plot the proportions on a bar graph\n",
    "\n",
    "Think about what you know about Moral Foundations Theory. If this data is consistent with the theory, what should the graph look like for Republican candidates? What about for Democratic candidates? "
   ]
  },
  {
   "cell_type": "markdown",
   "metadata": {},
   "source": [
    "### Democrats <a id='subsection 3'></a>"
   ]
  },
  {
   "cell_type": "code",
   "execution_count": null,
   "metadata": {
    "collapsed": true
   },
   "outputs": [],
   "source": []
  },
  {
   "cell_type": "markdown",
   "metadata": {},
   "source": [
    "### Republicans <a id='subsection 4'></a>"
   ]
  },
  {
   "cell_type": "code",
   "execution_count": null,
   "metadata": {
    "collapsed": true
   },
   "outputs": [],
   "source": []
  },
  {
   "cell_type": "markdown",
   "metadata": {},
   "source": [
    "### Democrats vs Republicans <a id='subsection 5'></a>"
   ]
  },
  {
   "cell_type": "code",
   "execution_count": null,
   "metadata": {
    "collapsed": true
   },
   "outputs": [],
   "source": []
  },
  {
   "cell_type": "markdown",
   "metadata": {},
   "source": [
    "---\n",
    "## Part 3: Further explorations <a id='section 3'></a>"
   ]
  },
  {
   "cell_type": "markdown",
   "metadata": {},
   "source": [
    "Intro to section 3 here."
   ]
  },
  {
   "cell_type": "code",
   "execution_count": 8,
   "metadata": {
    "collapsed": true
   },
   "outputs": [],
   "source": [
    "# CODE"
   ]
  },
  {
   "cell_type": "markdown",
   "metadata": {},
   "source": [
    "---\n",
    "\n",
    "## Bibliography"
   ]
  },
  {
   "cell_type": "markdown",
   "metadata": {},
   "source": [
    "Election documents scraped from http://www.presidency.ucsb.edu/2016_election.php"
   ]
  },
  {
   "cell_type": "markdown",
   "metadata": {},
   "source": [
    "---\n",
    "Notebook developed by: Keeley Takimoto, Sean Seungwoo Son, Sujude Dalieh\n",
    "\n",
    "Data Science Modules: http://data.berkeley.edu/education/modules\n"
   ]
  }
 ],
 "metadata": {
  "anaconda-cloud": {},
  "kernelspec": {
   "display_name": "Python 3",
   "language": "python",
   "name": "python3"
  },
  "language_info": {
   "codemirror_mode": {
    "name": "ipython",
    "version": 3
   },
   "file_extension": ".py",
   "mimetype": "text/x-python",
   "name": "python",
   "nbconvert_exporter": "python",
   "pygments_lexer": "ipython3",
   "version": "3.6.1"
  }
 },
 "nbformat": 4,
 "nbformat_minor": 1
}
