{
 "cells": [
  {
   "cell_type": "markdown",
   "metadata": {},
   "source": [
    "#  Data Analysis: Moral Foundations Theory\n",
    "---\n",
    "<img src=\"https://c1.staticflickr.com/7/6240/6261650491_0cd6c701bb_b.jpg\" style=\"width: 500px; height: 275px;\" />\n",
    "\n",
    "### Professor Amy Tick\n",
    "\n",
    "Moral Foundations Theory (MFT) hypothesizes that people's sensitivity to the foundations is different based on their political ideology: liberals are more sensitive to care and fairness, while conservatives are equally sensitive to all five. Here, we'll explore whether we can find evidence for MFT in the campaign speeches of 2016 United States presidential candidates. For our main analysis, we'll go through the data science process we learned in Day 1 to recreate a simplified version of the analysis done by Jesse Graham, Jonathan Haidt, and Brian A. Nosek in their 2009 paper [\"Liberals and Conservatives Rely on Different Sets of Moral Foundations\"](http://projectimplicit.net/nosek/papers/GHN2009.pdf). In part 3, we'll look at other NLP techniques that might be useful in applying this theory.\n",
    "\n",
    "*Estimated Time: 50 minutes*\n",
    "\n",
    "---\n",
    "\n",
    "### Topics Covered\n",
    "- Plotting data with MatPlotLib\n",
    "- Interpreting graphs\n",
    "- Textual analysis methods\n",
    "\n",
    "### Table of Contents\n",
    "\n",
    "\n",
    "1 - [Data Set and Test Statistic](#section 1)<br>\n",
    "\n",
    "&nbsp;&nbsp;&nbsp;&nbsp;&nbsp;&nbsp; 1.1 - [2016 Campaign Speeches](#subsection 1)<br>\n",
    "\n",
    "&nbsp;&nbsp;&nbsp;&nbsp;&nbsp;&nbsp; 1.2 - [Moral Foundations Dictionary](#subsection 2) <br>\n",
    "\n",
    "2 - [Data Analysis](#section 2)<br>\n",
    "&nbsp;&nbsp;&nbsp;&nbsp;&nbsp;&nbsp; 2.1 - [Hypothesis](#subsection 3)<br>\n",
    "\n",
    "&nbsp;&nbsp;&nbsp;&nbsp;&nbsp;&nbsp; 2.2 - [Democrats](#subsection 4)<br>\n",
    "\n",
    "&nbsp;&nbsp;&nbsp;&nbsp;&nbsp;&nbsp; 2.3 - [Republicans](#subsection 5) <br>\n",
    "\n",
    "&nbsp;&nbsp;&nbsp;&nbsp;&nbsp;&nbsp; 2.4 - [Democrats vs Republicans](#subsection 6) <br>\n",
    "\n",
    "3 - [Assignment: Analyze With Your Dictionary](#section 3)<br>\n",
    "\n",
    "\n",
    "**Dependencies:**"
   ]
  },
  {
   "cell_type": "code",
   "execution_count": 1,
   "metadata": {
    "collapsed": true
   },
   "outputs": [],
   "source": [
    "import numpy as np\n",
    "import pandas as pd\n",
    "import matplotlib.pyplot as plt\n",
    "%matplotlib inline\n",
    "import json\n",
    "from nltk.stem.snowball import SnowballStemmer\n",
    "import os\n",
    "import re"
   ]
  },
  {
   "cell_type": "markdown",
   "metadata": {},
   "source": [
    "---\n",
    "## Part 1: Speech Data and Foundations Dictionary  <a id='section 1'></a>"
   ]
  },
  {
   "cell_type": "markdown",
   "metadata": {},
   "source": [
    "As data scientists starting a new analysis, we know we need to start with two things: some data and a question. In Part 1, we'll get familiar with our data set and determine a way to answer our question using the data."
   ]
  },
  {
   "cell_type": "markdown",
   "metadata": {},
   "source": [
    "### 2016 Campaign Speeches <a id='subsection 1'></a>"
   ]
  },
  {
   "cell_type": "markdown",
   "metadata": {},
   "source": [
    "Our data set is the texts of speeches from the 2016 US presidential campaign. Run the cell below to load the data."
   ]
  },
  {
   "cell_type": "code",
   "execution_count": 2,
   "metadata": {},
   "outputs": [
    {
     "data": {
      "text/html": [
       "<div>\n",
       "<style>\n",
       "    .dataframe thead tr:only-child th {\n",
       "        text-align: right;\n",
       "    }\n",
       "\n",
       "    .dataframe thead th {\n",
       "        text-align: left;\n",
       "    }\n",
       "\n",
       "    .dataframe tbody tr th {\n",
       "        vertical-align: top;\n",
       "    }\n",
       "</style>\n",
       "<table border=\"1\" class=\"dataframe\">\n",
       "  <thead>\n",
       "    <tr style=\"text-align: right;\">\n",
       "      <th></th>\n",
       "      <th>Candidate</th>\n",
       "      <th>Party</th>\n",
       "      <th>Type</th>\n",
       "      <th>Date</th>\n",
       "      <th>Title</th>\n",
       "      <th>Speech</th>\n",
       "    </tr>\n",
       "  </thead>\n",
       "  <tbody>\n",
       "    <tr>\n",
       "      <th>0</th>\n",
       "      <td>Jeb Bush</td>\n",
       "      <td>R</td>\n",
       "      <td>c</td>\n",
       "      <td>June 15, 2015</td>\n",
       "      <td>Remarks Announcing Candidacy for President at ...</td>\n",
       "      <td>Thank you all very much. I always feel welcome...</td>\n",
       "    </tr>\n",
       "    <tr>\n",
       "      <th>1</th>\n",
       "      <td>Jeb Bush</td>\n",
       "      <td>R</td>\n",
       "      <td>c</td>\n",
       "      <td>July 30, 2015</td>\n",
       "      <td>Remarks to the National Urban League Conferenc...</td>\n",
       "      <td>Thank you all very much. I appreciate your hos...</td>\n",
       "    </tr>\n",
       "    <tr>\n",
       "      <th>2</th>\n",
       "      <td>Jeb Bush</td>\n",
       "      <td>R</td>\n",
       "      <td>c</td>\n",
       "      <td>August 11, 2015</td>\n",
       "      <td>Remarks at the Ronald Reagan Presidential Libr...</td>\n",
       "      <td>Thank you very much. It's good to be with all ...</td>\n",
       "    </tr>\n",
       "    <tr>\n",
       "      <th>3</th>\n",
       "      <td>Jeb Bush</td>\n",
       "      <td>R</td>\n",
       "      <td>c</td>\n",
       "      <td>September 9, 2015</td>\n",
       "      <td>Remarks in Garner, North Carolina</td>\n",
       "      <td>Thank you very much. I appreciate your hospita...</td>\n",
       "    </tr>\n",
       "    <tr>\n",
       "      <th>4</th>\n",
       "      <td>Jeb Bush</td>\n",
       "      <td>R</td>\n",
       "      <td>c</td>\n",
       "      <td>November 2, 2015</td>\n",
       "      <td>Remarks in Tampa, Florida</td>\n",
       "      <td>Thank you. It's great to be in Tampa with so m...</td>\n",
       "    </tr>\n",
       "  </tbody>\n",
       "</table>\n",
       "</div>"
      ],
      "text/plain": [
       "  Candidate Party Type               Date  \\\n",
       "0  Jeb Bush     R    c      June 15, 2015   \n",
       "1  Jeb Bush     R    c      July 30, 2015   \n",
       "2  Jeb Bush     R    c    August 11, 2015   \n",
       "3  Jeb Bush     R    c  September 9, 2015   \n",
       "4  Jeb Bush     R    c   November 2, 2015   \n",
       "\n",
       "                                               Title  \\\n",
       "0  Remarks Announcing Candidacy for President at ...   \n",
       "1  Remarks to the National Urban League Conferenc...   \n",
       "2  Remarks at the Ronald Reagan Presidential Libr...   \n",
       "3                  Remarks in Garner, North Carolina   \n",
       "4                          Remarks in Tampa, Florida   \n",
       "\n",
       "                                              Speech  \n",
       "0  Thank you all very much. I always feel welcome...  \n",
       "1  Thank you all very much. I appreciate your hos...  \n",
       "2  Thank you very much. It's good to be with all ...  \n",
       "3  Thank you very much. I appreciate your hospita...  \n",
       "4  Thank you. It's great to be in Tampa with so m...  "
      ]
     },
     "execution_count": 2,
     "metadata": {},
     "output_type": "execute_result"
    }
   ],
   "source": [
    "# load the data from csv files into a table. \n",
    "\n",
    "# reate an empty DataFrame\n",
    "speeches = pd.DataFrame()\n",
    "\n",
    "# The location of the files\n",
    "path = '../mft_data/csv/'\n",
    "\n",
    "# Cycle through the data files\n",
    "for file in os.listdir(path=path):\n",
    "    # Select campaign speech texts\n",
    "    if file.endswith(\"c.csv\"):\n",
    "        if len(speeches) == 0:\n",
    "            speeches = pd.read_csv(path + file)\n",
    "        else:\n",
    "            speeches = speeches.append(pd.read_csv(path + file))\n",
    "\n",
    "# Reset the DataFrame index\n",
    "speeches.reset_index(drop=True, inplace=True)\n",
    "\n",
    "# Display the first 5 rows\n",
    "speeches.head()"
   ]
  },
  {
   "cell_type": "markdown",
   "metadata": {},
   "source": [
    "---\n",
    "Take a moment to look at this table. What information does it contain? What are the different columns? What does each row represent? How large is this table altogether? "
   ]
  },
  {
   "cell_type": "markdown",
   "metadata": {},
   "source": [
    "### Moral Foundations Dictionary <a id='subsection 2'></a>"
   ]
  },
  {
   "cell_type": "markdown",
   "metadata": {
    "collapsed": true
   },
   "source": [
    "In [\"Liberals and Conservatives Rely on Different Sets of Moral Foundations\"](http://projectimplicit.net/nosek/papers/GHN2009.pdf), one of the methods Graham, Haidt, and Nosek use to measure people's use of Moral Foundations Theory is to count how often they use words related to each foundation. This will be our test statistic for today. To calculate it, we'll need a dictionary of words related to each moral foundation. \n",
    "\n",
    "The dictionary we'll use today comes from a database called [WordNet](https://wordnet.princeton.edu), in which \"nouns, verbs, adjectives and adverbs are grouped into sets of cognitive synonyms (synsets), each expressing a distinct concept.\" By querying WordNet for semantically related words, it was possible to build a dictionary automatically using a Python program.\n",
    "\n",
    "Run the cell below to load the dictionary and assign it to the variable 'mft_dict'."
   ]
  },
  {
   "cell_type": "code",
   "execution_count": 3,
   "metadata": {},
   "outputs": [],
   "source": [
    "# Run this cell to load the dictionary into the variable 'mft_dict'\n",
    "with open('../mft_data/foundations_dict.json') as json_data:\n",
    "    mft_dict = json.load(json_data)\n"
   ]
  },
  {
   "cell_type": "markdown",
   "metadata": {},
   "source": [
    "We can see the keys of the dictionary using the .keys() function:"
   ]
  },
  {
   "cell_type": "code",
   "execution_count": 4,
   "metadata": {},
   "outputs": [
    {
     "data": {
      "text/plain": [
       "dict_keys(['authority/respect', 'care', 'fairness/proportionality', 'liberty', 'loyalty/ingroup', 'sanctity/purity'])"
      ]
     },
     "execution_count": 4,
     "metadata": {},
     "output_type": "execute_result"
    }
   ],
   "source": [
    "mft_dict.keys()"
   ]
  },
  {
   "cell_type": "markdown",
   "metadata": {},
   "source": [
    "And we can look up the entries associated with a key by putting the key in brackets:"
   ]
  },
  {
   "cell_type": "code",
   "execution_count": 5,
   "metadata": {},
   "outputs": [
    {
     "data": {
      "text/plain": [
       "['author',\n",
       " 'authoris',\n",
       " 'domin',\n",
       " 'say-so',\n",
       " 'assur',\n",
       " 'confid',\n",
       " 'sure',\n",
       " 'agenc',\n",
       " 'federal ag',\n",
       " 'government ag',\n",
       " 'bureau',\n",
       " 'offic',\n",
       " 'sanction',\n",
       " 'respect',\n",
       " 'regard',\n",
       " 'esteem',\n",
       " 'defer',\n",
       " 'obedi',\n",
       " 'valu',\n",
       " 'honor',\n",
       " 'honour',\n",
       " 'abide bi',\n",
       " 'observ']"
      ]
     },
     "execution_count": 5,
     "metadata": {},
     "output_type": "execute_result"
    }
   ],
   "source": [
    "mft_dict['authority/respect']"
   ]
  },
  {
   "cell_type": "markdown",
   "metadata": {},
   "source": [
    "Try looking up the entries for the other keys by filling in for '...' in the cell below."
   ]
  },
  {
   "cell_type": "code",
   "execution_count": 6,
   "metadata": {},
   "outputs": [],
   "source": [
    "# look up a key in mft_dict\n",
    "..."
   ]
  },
  {
   "cell_type": "markdown",
   "metadata": {},
   "source": [
    "There's something odd about some of the entries: they're not words! The entries in this dictionary have been **stemmed**, meaning they have been reduced to their smallest meaningful root. \n",
    "\n",
    "We can see why this is helpful with an example. Python can count the number of times a string can be found in another string using the string method 'count':"
   ]
  },
  {
   "cell_type": "code",
   "execution_count": 7,
   "metadata": {},
   "outputs": [
    {
     "data": {
      "text/plain": [
       "1"
      ]
     },
     "execution_count": 7,
     "metadata": {},
     "output_type": "execute_result"
    }
   ],
   "source": [
    "# Counts the number of times the second string appears in the first string\n",
    "\"Data science is the best major, says data scientist.\".count('science')"
   ]
  },
  {
   "cell_type": "markdown",
   "metadata": {},
   "source": [
    "It returns one match, for the second word. But, 'scientist' is very closely related to 'science', and many times we will want to match them both. A stem allows Python to find all words with a common root. Try running the count again with a stem that matches both 'science' and 'scientist'."
   ]
  },
  {
   "cell_type": "code",
   "execution_count": 8,
   "metadata": {},
   "outputs": [
    {
     "data": {
      "text/plain": [
       "0"
      ]
     },
     "execution_count": 8,
     "metadata": {},
     "output_type": "execute_result"
    }
   ],
   "source": [
    "# Fill in the parenthesis with a stem that will match both 'science' and 'scientist'\n",
    "\"Data science is the best major, says data scientist.\".count('...')"
   ]
  },
  {
   "cell_type": "markdown",
   "metadata": {},
   "source": [
    "Another thing you might have noticed is that all the entries in our dictionary are lowercase. This could be a problem when we do our text analysis. Try counting the number of times 'rhetoric' appears in the example sentence."
   ]
  },
  {
   "cell_type": "code",
   "execution_count": 9,
   "metadata": {},
   "outputs": [
    {
     "data": {
      "text/plain": [
       "0"
      ]
     },
     "execution_count": 9,
     "metadata": {},
     "output_type": "execute_result"
    }
   ],
   "source": [
    "# Fill in the parenthesis to count how often 'rhetoric' appears in the sentence\n",
    "\"Rhetoric major says back: NEVER argue with a rhetoric student.\".count('...')"
   ]
  },
  {
   "cell_type": "markdown",
   "metadata": {},
   "source": [
    "We can clearly see the word 'rhetoric' appears twice, but the count function only returns 1. That's because Python differentiates between capital and lowercase letters:"
   ]
  },
  {
   "cell_type": "code",
   "execution_count": 10,
   "metadata": {},
   "outputs": [
    {
     "data": {
      "text/plain": [
       "False"
      ]
     },
     "execution_count": 10,
     "metadata": {},
     "output_type": "execute_result"
    }
   ],
   "source": [
    "'r' is 'R'"
   ]
  },
  {
   "cell_type": "markdown",
   "metadata": {},
   "source": [
    "To get around this, we can use the .lower() function, which changes all letters in the string to lowercase:"
   ]
  },
  {
   "cell_type": "code",
   "execution_count": 11,
   "metadata": {},
   "outputs": [
    {
     "data": {
      "text/plain": [
       "'rhetoric major says back: never argue with a rhetoric student.'"
      ]
     },
     "execution_count": 11,
     "metadata": {},
     "output_type": "execute_result"
    }
   ],
   "source": [
    "\"Rhetoric major says back: NEVER argue with a rhetoric student.\".lower()"
   ]
  },
  {
   "cell_type": "code",
   "execution_count": 12,
   "metadata": {},
   "outputs": [
    {
     "data": {
      "text/plain": [
       "{'care': ['word1', 'word2'], 'loyalty': ['wlekf']}"
      ]
     },
     "execution_count": 12,
     "metadata": {},
     "output_type": "execute_result"
    }
   ],
   "source": [
    "my_dict = {'care': ['word1', 'word2'], \n",
    "           'loyalty': ['wlekf']}\n",
    "my_dict"
   ]
  },
  {
   "cell_type": "markdown",
   "metadata": {},
   "source": [
    "Let's add a column to our 'speeches' table that contains the lowercase text of the speeches. The `clean_text` function lowers the case of the text in addition to implementing some of the text cleaning methods seen in Module 01, like removing the punctuation and splitting the text into individual words."
   ]
  },
  {
   "cell_type": "code",
   "execution_count": 13,
   "metadata": {},
   "outputs": [
    {
     "data": {
      "text/html": [
       "<div>\n",
       "<style>\n",
       "    .dataframe thead tr:only-child th {\n",
       "        text-align: right;\n",
       "    }\n",
       "\n",
       "    .dataframe thead th {\n",
       "        text-align: left;\n",
       "    }\n",
       "\n",
       "    .dataframe tbody tr th {\n",
       "        vertical-align: top;\n",
       "    }\n",
       "</style>\n",
       "<table border=\"1\" class=\"dataframe\">\n",
       "  <thead>\n",
       "    <tr style=\"text-align: right;\">\n",
       "      <th></th>\n",
       "      <th>Candidate</th>\n",
       "      <th>Party</th>\n",
       "      <th>Type</th>\n",
       "      <th>Date</th>\n",
       "      <th>Title</th>\n",
       "      <th>Speech</th>\n",
       "      <th>clean_speech</th>\n",
       "    </tr>\n",
       "  </thead>\n",
       "  <tbody>\n",
       "    <tr>\n",
       "      <th>0</th>\n",
       "      <td>Jeb Bush</td>\n",
       "      <td>R</td>\n",
       "      <td>c</td>\n",
       "      <td>June 15, 2015</td>\n",
       "      <td>Remarks Announcing Candidacy for President at ...</td>\n",
       "      <td>Thank you all very much. I always feel welcome...</td>\n",
       "      <td>[thank, you, all, very, much, i, always, feel,...</td>\n",
       "    </tr>\n",
       "    <tr>\n",
       "      <th>1</th>\n",
       "      <td>Jeb Bush</td>\n",
       "      <td>R</td>\n",
       "      <td>c</td>\n",
       "      <td>July 30, 2015</td>\n",
       "      <td>Remarks to the National Urban League Conferenc...</td>\n",
       "      <td>Thank you all very much. I appreciate your hos...</td>\n",
       "      <td>[thank, you, all, very, much, i, appreciate, y...</td>\n",
       "    </tr>\n",
       "    <tr>\n",
       "      <th>2</th>\n",
       "      <td>Jeb Bush</td>\n",
       "      <td>R</td>\n",
       "      <td>c</td>\n",
       "      <td>August 11, 2015</td>\n",
       "      <td>Remarks at the Ronald Reagan Presidential Libr...</td>\n",
       "      <td>Thank you very much. It's good to be with all ...</td>\n",
       "      <td>[thank, you, very, much, it, s, good, to, be, ...</td>\n",
       "    </tr>\n",
       "    <tr>\n",
       "      <th>3</th>\n",
       "      <td>Jeb Bush</td>\n",
       "      <td>R</td>\n",
       "      <td>c</td>\n",
       "      <td>September 9, 2015</td>\n",
       "      <td>Remarks in Garner, North Carolina</td>\n",
       "      <td>Thank you very much. I appreciate your hospita...</td>\n",
       "      <td>[thank, you, very, much, i, appreciate, your, ...</td>\n",
       "    </tr>\n",
       "    <tr>\n",
       "      <th>4</th>\n",
       "      <td>Jeb Bush</td>\n",
       "      <td>R</td>\n",
       "      <td>c</td>\n",
       "      <td>November 2, 2015</td>\n",
       "      <td>Remarks in Tampa, Florida</td>\n",
       "      <td>Thank you. It's great to be in Tampa with so m...</td>\n",
       "      <td>[thank, you, it, s, great, to, be, in, tampa, ...</td>\n",
       "    </tr>\n",
       "  </tbody>\n",
       "</table>\n",
       "</div>"
      ],
      "text/plain": [
       "  Candidate Party Type               Date  \\\n",
       "0  Jeb Bush     R    c      June 15, 2015   \n",
       "1  Jeb Bush     R    c      July 30, 2015   \n",
       "2  Jeb Bush     R    c    August 11, 2015   \n",
       "3  Jeb Bush     R    c  September 9, 2015   \n",
       "4  Jeb Bush     R    c   November 2, 2015   \n",
       "\n",
       "                                               Title  \\\n",
       "0  Remarks Announcing Candidacy for President at ...   \n",
       "1  Remarks to the National Urban League Conferenc...   \n",
       "2  Remarks at the Ronald Reagan Presidential Libr...   \n",
       "3                  Remarks in Garner, North Carolina   \n",
       "4                          Remarks in Tampa, Florida   \n",
       "\n",
       "                                              Speech  \\\n",
       "0  Thank you all very much. I always feel welcome...   \n",
       "1  Thank you all very much. I appreciate your hos...   \n",
       "2  Thank you very much. It's good to be with all ...   \n",
       "3  Thank you very much. I appreciate your hospita...   \n",
       "4  Thank you. It's great to be in Tampa with so m...   \n",
       "\n",
       "                                        clean_speech  \n",
       "0  [thank, you, all, very, much, i, always, feel,...  \n",
       "1  [thank, you, all, very, much, i, appreciate, y...  \n",
       "2  [thank, you, very, much, it, s, good, to, be, ...  \n",
       "3  [thank, you, very, much, i, appreciate, your, ...  \n",
       "4  [thank, you, it, s, great, to, be, in, tampa, ...  "
      ]
     },
     "execution_count": 13,
     "metadata": {},
     "output_type": "execute_result"
    }
   ],
   "source": [
    "def clean_text(text):\n",
    "    # remove punctuation using a regular expression (not covered in these modules)\n",
    "    p = re.compile(r'[^\\w\\s]')\n",
    "    no_punc = p.sub(' ', text)\n",
    "    # convert to lowercase\n",
    "    no_punc_lower = no_punc.lower()\n",
    "    # split into individual words\n",
    "    clean = no_punc_lower.split()\n",
    "    return clean\n",
    "    \n",
    "speeches['clean_speech'] = [clean_text(s) for s in speeches['Speech']]\n",
    "\n",
    "speeches.head()"
   ]
  },
  {
   "cell_type": "markdown",
   "metadata": {},
   "source": [
    "---\n",
    "## Part 2: Exploratory Data Analysis <a id='section 2'></a>"
   ]
  },
  {
   "cell_type": "markdown",
   "metadata": {},
   "source": [
    "Now that we have our speech data and our dictionary, we can start our analysis. First, we'll formally state our hypothesis. Then, to visualize the data we'll perform 3 steps:\n",
    "1. Count the occurances of words from our dictionary in each speech\n",
    "2. Calculate how often words from each category are used by each political party\n",
    "3. Plot the percents on a bar graph"
   ]
  },
  {
   "cell_type": "markdown",
   "metadata": {},
   "source": [
    "### Hypothesis <a id='subsection 3'></a>"
   ]
  },
  {
   "cell_type": "markdown",
   "metadata": {},
   "source": [
    "An important part of data science is understanding the question you're trying to answer and formulating an appropriate hypothesis. The hypothesis must be testable given your data, and you must be able to say what kinds of results would support or refute your hypothesis. \n",
    "\n",
    "Today, our question asks whether the word use of 2016 presidential candidates aligns with Moral Foundations Theory.\n",
    "\n",
    "Think about what you know about Moral Foundations Theory. If this data is consistent with the theory, what should our analysis show for Republican candidates? What about for Democratic candidates? Try sketching a possible graph for each political party, assuming that candidates' speech aligns with the theory."
   ]
  },
  {
   "cell_type": "markdown",
   "metadata": {},
   "source": [
    "### Filtering table rows"
   ]
  },
  {
   "cell_type": "markdown",
   "metadata": {},
   "source": [
    "To examine the data for a particular political party, it is necessary to filter out rows of our table that correspond to speeches from the other party, something we can do with **Boolean indexing**.\n",
    "\n",
    "A **Boolean** is a Python data type. There are exactly two: `True` and `False`. A Boolean expression is an expression that evaluates to `True` or `False`. Boolean expressions are often conditions on two variables; that is, they ask how one variable compares to another (e.g. is `a` greater than `b`? Does `a` equal `c`?)."
   ]
  },
  {
   "cell_type": "code",
   "execution_count": 14,
   "metadata": {},
   "outputs": [
    {
     "data": {
      "text/plain": [
       "False"
      ]
     },
     "execution_count": 14,
     "metadata": {},
     "output_type": "execute_result"
    }
   ],
   "source": [
    "# These are all Booleans\n",
    "True\n",
    "\n",
    "not False\n",
    "\n",
    "6 > 0\n",
    "\n",
    "\"Ted Cruz\" == \"zodiac killer\""
   ]
  },
  {
   "cell_type": "markdown",
   "metadata": {},
   "source": [
    "Note that to ask if something is equal to something else in Python, you use `==`. This is because the `=` sign is already used for variable assignement.\n",
    "\n",
    "Filtering out DataFrame rows can be broken into two steps:\n",
    "1. identify the correct feature column \n",
    "2. specify the desired condition for that column\n",
    "3. index the Dataframe with that condition in square brackets\n",
    "\n",
    "Here's an example of how to create a new table with only Bernie Sanders' speeches."
   ]
  },
  {
   "cell_type": "code",
   "execution_count": 15,
   "metadata": {},
   "outputs": [
    {
     "data": {
      "text/html": [
       "<div>\n",
       "<style>\n",
       "    .dataframe thead tr:only-child th {\n",
       "        text-align: right;\n",
       "    }\n",
       "\n",
       "    .dataframe thead th {\n",
       "        text-align: left;\n",
       "    }\n",
       "\n",
       "    .dataframe tbody tr th {\n",
       "        vertical-align: top;\n",
       "    }\n",
       "</style>\n",
       "<table border=\"1\" class=\"dataframe\">\n",
       "  <thead>\n",
       "    <tr style=\"text-align: right;\">\n",
       "      <th></th>\n",
       "      <th>Candidate</th>\n",
       "      <th>Party</th>\n",
       "      <th>Type</th>\n",
       "      <th>Date</th>\n",
       "      <th>Title</th>\n",
       "      <th>Speech</th>\n",
       "      <th>clean_speech</th>\n",
       "    </tr>\n",
       "  </thead>\n",
       "  <tbody>\n",
       "    <tr>\n",
       "      <th>272</th>\n",
       "      <td>Bernie Sanders</td>\n",
       "      <td>D</td>\n",
       "      <td>c</td>\n",
       "      <td>April 30, 2015</td>\n",
       "      <td>Interview with Ed Schultz of MSNBC Regarding S...</td>\n",
       "      <td>Schultz: A gentleman who has appeared on the p...</td>\n",
       "      <td>[schultz, a, gentleman, who, has, appeared, on...</td>\n",
       "    </tr>\n",
       "    <tr>\n",
       "      <th>273</th>\n",
       "      <td>Bernie Sanders</td>\n",
       "      <td>D</td>\n",
       "      <td>c</td>\n",
       "      <td>April 30, 2015</td>\n",
       "      <td>Interview with Wolf Blitzer of CNN Regarding S...</td>\n",
       "      <td>Blitzer: I want to move to politics right now ...</td>\n",
       "      <td>[blitzer, i, want, to, move, to, politics, rig...</td>\n",
       "    </tr>\n",
       "    <tr>\n",
       "      <th>274</th>\n",
       "      <td>Bernie Sanders</td>\n",
       "      <td>D</td>\n",
       "      <td>c</td>\n",
       "      <td>April 30, 2015</td>\n",
       "      <td>Interview with Andrea Mitchell of MSNBC Regard...</td>\n",
       "      <td>Sanders (from video clip): I believe that in a...</td>\n",
       "      <td>[sanders, from, video, clip, i, believe, that,...</td>\n",
       "    </tr>\n",
       "    <tr>\n",
       "      <th>275</th>\n",
       "      <td>Bernie Sanders</td>\n",
       "      <td>D</td>\n",
       "      <td>c</td>\n",
       "      <td>May 6, 2015</td>\n",
       "      <td>Interview with Chris Cuomo of CNN's \"New Day\"</td>\n",
       "      <td>CUOMO: Senator Sanders, welcome to the race. G...</td>\n",
       "      <td>[cuomo, senator, sanders, welcome, to, the, ra...</td>\n",
       "    </tr>\n",
       "    <tr>\n",
       "      <th>276</th>\n",
       "      <td>Bernie Sanders</td>\n",
       "      <td>D</td>\n",
       "      <td>c</td>\n",
       "      <td>May 11, 2015</td>\n",
       "      <td>Interview with Andrea Mitchell of MSNBC</td>\n",
       "      <td>MITCHELL: Vermont Senator and Democratic presi...</td>\n",
       "      <td>[mitchell, vermont, senator, and, democratic, ...</td>\n",
       "    </tr>\n",
       "  </tbody>\n",
       "</table>\n",
       "</div>"
      ],
      "text/plain": [
       "          Candidate Party Type            Date  \\\n",
       "272  Bernie Sanders     D    c  April 30, 2015   \n",
       "273  Bernie Sanders     D    c  April 30, 2015   \n",
       "274  Bernie Sanders     D    c  April 30, 2015   \n",
       "275  Bernie Sanders     D    c     May 6, 2015   \n",
       "276  Bernie Sanders     D    c    May 11, 2015   \n",
       "\n",
       "                                                 Title  \\\n",
       "272  Interview with Ed Schultz of MSNBC Regarding S...   \n",
       "273  Interview with Wolf Blitzer of CNN Regarding S...   \n",
       "274  Interview with Andrea Mitchell of MSNBC Regard...   \n",
       "275      Interview with Chris Cuomo of CNN's \"New Day\"   \n",
       "276            Interview with Andrea Mitchell of MSNBC   \n",
       "\n",
       "                                                Speech  \\\n",
       "272  Schultz: A gentleman who has appeared on the p...   \n",
       "273  Blitzer: I want to move to politics right now ...   \n",
       "274  Sanders (from video clip): I believe that in a...   \n",
       "275  CUOMO: Senator Sanders, welcome to the race. G...   \n",
       "276  MITCHELL: Vermont Senator and Democratic presi...   \n",
       "\n",
       "                                          clean_speech  \n",
       "272  [schultz, a, gentleman, who, has, appeared, on...  \n",
       "273  [blitzer, i, want, to, move, to, politics, rig...  \n",
       "274  [sanders, from, video, clip, i, believe, that,...  \n",
       "275  [cuomo, senator, sanders, welcome, to, the, ra...  \n",
       "276  [mitchell, vermont, senator, and, democratic, ...  "
      ]
     },
     "execution_count": 15,
     "metadata": {},
     "output_type": "execute_result"
    }
   ],
   "source": [
    "# find the column\n",
    "speech_col = speeches['Candidate']\n",
    "\n",
    "# specify the condition\n",
    "sanders_condition =  speech_col == 'Bernie Sanders'\n",
    "\n",
    "# index the original DataFrame by the condition\n",
    "sanders_speeches = speeches[sanders_condition]\n",
    "sanders_speeches.head()"
   ]
  },
  {
   "cell_type": "markdown",
   "metadata": {},
   "source": [
    "### Democrats <a id='subsection 4'></a>"
   ]
  },
  {
   "cell_type": "markdown",
   "metadata": {
    "collapsed": true
   },
   "source": [
    "Let's start by looking at Democratic candidates. First, we need to make a table that only contains Democrats using boolean indexing."
   ]
  },
  {
   "cell_type": "code",
   "execution_count": 16,
   "metadata": {},
   "outputs": [
    {
     "data": {
      "text/html": [
       "<div>\n",
       "<style>\n",
       "    .dataframe thead tr:only-child th {\n",
       "        text-align: right;\n",
       "    }\n",
       "\n",
       "    .dataframe thead th {\n",
       "        text-align: left;\n",
       "    }\n",
       "\n",
       "    .dataframe tbody tr th {\n",
       "        vertical-align: top;\n",
       "    }\n",
       "</style>\n",
       "<table border=\"1\" class=\"dataframe\">\n",
       "  <thead>\n",
       "    <tr style=\"text-align: right;\">\n",
       "      <th></th>\n",
       "      <th>Candidate</th>\n",
       "      <th>Party</th>\n",
       "      <th>Type</th>\n",
       "      <th>Date</th>\n",
       "      <th>Title</th>\n",
       "      <th>Speech</th>\n",
       "      <th>clean_speech</th>\n",
       "    </tr>\n",
       "  </thead>\n",
       "  <tbody>\n",
       "    <tr>\n",
       "      <th>8</th>\n",
       "      <td>Lincoln Chafee</td>\n",
       "      <td>D</td>\n",
       "      <td>c</td>\n",
       "      <td>June 3, 2015</td>\n",
       "      <td>Remarks Announcing Candidacy for President at ...</td>\n",
       "      <td>Thank you, Bob. Thank you, Bob and Mark, very ...</td>\n",
       "      <td>[thank, you, bob, thank, you, bob, and, mark, ...</td>\n",
       "    </tr>\n",
       "    <tr>\n",
       "      <th>9</th>\n",
       "      <td>Lincoln Chafee</td>\n",
       "      <td>D</td>\n",
       "      <td>c</td>\n",
       "      <td>July 17, 2015</td>\n",
       "      <td>Remarks at the Iowa Democrats Hall of Fame Din...</td>\n",
       "      <td>Congratulations to the Hall of Fame Inductees....</td>\n",
       "      <td>[congratulations, to, the, hall, of, fame, ind...</td>\n",
       "    </tr>\n",
       "    <tr>\n",
       "      <th>10</th>\n",
       "      <td>Lincoln Chafee</td>\n",
       "      <td>D</td>\n",
       "      <td>c</td>\n",
       "      <td>October 23, 2015</td>\n",
       "      <td>Remarks Announcing the End of Presidential Cam...</td>\n",
       "      <td>Once again it is a pleasure to join so many De...</td>\n",
       "      <td>[once, again, it, is, a, pleasure, to, join, s...</td>\n",
       "    </tr>\n",
       "    <tr>\n",
       "      <th>13</th>\n",
       "      <td>Hillary Clinton</td>\n",
       "      <td>D</td>\n",
       "      <td>c</td>\n",
       "      <td>January 20, 2007</td>\n",
       "      <td>Video Transcript: Presidential Exploratory Com...</td>\n",
       "      <td>HILLARY CLINTON: I announced today that I am f...</td>\n",
       "      <td>[hillary, clinton, i, announced, today, that, ...</td>\n",
       "    </tr>\n",
       "    <tr>\n",
       "      <th>14</th>\n",
       "      <td>Hillary Clinton</td>\n",
       "      <td>D</td>\n",
       "      <td>c</td>\n",
       "      <td>January 22, 2007</td>\n",
       "      <td>Remarks in a \"Let the Conversation Begin Webcast\"</td>\n",
       "      <td>SENATOR CLINTON: Hi, everyone, and welcome to ...</td>\n",
       "      <td>[senator, clinton, hi, everyone, and, welcome,...</td>\n",
       "    </tr>\n",
       "  </tbody>\n",
       "</table>\n",
       "</div>"
      ],
      "text/plain": [
       "           Candidate Party Type              Date  \\\n",
       "8     Lincoln Chafee     D    c      June 3, 2015   \n",
       "9     Lincoln Chafee     D    c     July 17, 2015   \n",
       "10    Lincoln Chafee     D    c  October 23, 2015   \n",
       "13  Hillary Clinton      D    c  January 20, 2007   \n",
       "14  Hillary Clinton      D    c  January 22, 2007   \n",
       "\n",
       "                                                Title  \\\n",
       "8   Remarks Announcing Candidacy for President at ...   \n",
       "9   Remarks at the Iowa Democrats Hall of Fame Din...   \n",
       "10  Remarks Announcing the End of Presidential Cam...   \n",
       "13  Video Transcript: Presidential Exploratory Com...   \n",
       "14  Remarks in a \"Let the Conversation Begin Webcast\"   \n",
       "\n",
       "                                               Speech  \\\n",
       "8   Thank you, Bob. Thank you, Bob and Mark, very ...   \n",
       "9   Congratulations to the Hall of Fame Inductees....   \n",
       "10  Once again it is a pleasure to join so many De...   \n",
       "13  HILLARY CLINTON: I announced today that I am f...   \n",
       "14  SENATOR CLINTON: Hi, everyone, and welcome to ...   \n",
       "\n",
       "                                         clean_speech  \n",
       "8   [thank, you, bob, thank, you, bob, and, mark, ...  \n",
       "9   [congratulations, to, the, hall, of, fame, ind...  \n",
       "10  [once, again, it, is, a, pleasure, to, join, s...  \n",
       "13  [hillary, clinton, i, announced, today, that, ...  \n",
       "14  [senator, clinton, hi, everyone, and, welcome,...  "
      ]
     },
     "execution_count": 16,
     "metadata": {},
     "output_type": "execute_result"
    }
   ],
   "source": [
    "# Filter out non-Democrat speeches\n",
    "party_col = speeches['Party']\n",
    "\n",
    "dem_cond = party_col == 'D'\n",
    "\n",
    "democrats = speeches[dem_cond]\n",
    "\n",
    "democrats.head()"
   ]
  },
  {
   "cell_type": "markdown",
   "metadata": {},
   "source": [
    "Our test statistic is the percent of words that correspond to a Moral Foundation in Democratic speeches- in other words, how often candidates use words related to a specific foundation. \n",
    "\n",
    "(Bonus question: why don't we just use the **number** of Moral Foundation words instead of the **percent** as our test statistic?)\n",
    "\n",
    "To calculate the percent, we'll first need the total number of words in each speech."
   ]
  },
  {
   "cell_type": "code",
   "execution_count": 17,
   "metadata": {},
   "outputs": [
    {
     "name": "stderr",
     "output_type": "stream",
     "text": [
      "C:\\Users\\keeley\\AppData\\Local\\conda\\conda\\envs\\dsmodules\\lib\\site-packages\\ipykernel_launcher.py:2: SettingWithCopyWarning: \n",
      "A value is trying to be set on a copy of a slice from a DataFrame.\n",
      "Try using .loc[row_indexer,col_indexer] = value instead\n",
      "\n",
      "See the caveats in the documentation: http://pandas.pydata.org/pandas-docs/stable/indexing.html#indexing-view-versus-copy\n",
      "  \n"
     ]
    },
    {
     "data": {
      "text/html": [
       "<div>\n",
       "<style>\n",
       "    .dataframe thead tr:only-child th {\n",
       "        text-align: right;\n",
       "    }\n",
       "\n",
       "    .dataframe thead th {\n",
       "        text-align: left;\n",
       "    }\n",
       "\n",
       "    .dataframe tbody tr th {\n",
       "        vertical-align: top;\n",
       "    }\n",
       "</style>\n",
       "<table border=\"1\" class=\"dataframe\">\n",
       "  <thead>\n",
       "    <tr style=\"text-align: right;\">\n",
       "      <th></th>\n",
       "      <th>Candidate</th>\n",
       "      <th>Party</th>\n",
       "      <th>Type</th>\n",
       "      <th>Date</th>\n",
       "      <th>Title</th>\n",
       "      <th>Speech</th>\n",
       "      <th>clean_speech</th>\n",
       "      <th>total_words</th>\n",
       "    </tr>\n",
       "  </thead>\n",
       "  <tbody>\n",
       "    <tr>\n",
       "      <th>8</th>\n",
       "      <td>Lincoln Chafee</td>\n",
       "      <td>D</td>\n",
       "      <td>c</td>\n",
       "      <td>June 3, 2015</td>\n",
       "      <td>Remarks Announcing Candidacy for President at ...</td>\n",
       "      <td>Thank you, Bob. Thank you, Bob and Mark, very ...</td>\n",
       "      <td>[thank, you, bob, thank, you, bob, and, mark, ...</td>\n",
       "      <td>5512</td>\n",
       "    </tr>\n",
       "    <tr>\n",
       "      <th>9</th>\n",
       "      <td>Lincoln Chafee</td>\n",
       "      <td>D</td>\n",
       "      <td>c</td>\n",
       "      <td>July 17, 2015</td>\n",
       "      <td>Remarks at the Iowa Democrats Hall of Fame Din...</td>\n",
       "      <td>Congratulations to the Hall of Fame Inductees....</td>\n",
       "      <td>[congratulations, to, the, hall, of, fame, ind...</td>\n",
       "      <td>745</td>\n",
       "    </tr>\n",
       "    <tr>\n",
       "      <th>10</th>\n",
       "      <td>Lincoln Chafee</td>\n",
       "      <td>D</td>\n",
       "      <td>c</td>\n",
       "      <td>October 23, 2015</td>\n",
       "      <td>Remarks Announcing the End of Presidential Cam...</td>\n",
       "      <td>Once again it is a pleasure to join so many De...</td>\n",
       "      <td>[once, again, it, is, a, pleasure, to, join, s...</td>\n",
       "      <td>939</td>\n",
       "    </tr>\n",
       "    <tr>\n",
       "      <th>13</th>\n",
       "      <td>Hillary Clinton</td>\n",
       "      <td>D</td>\n",
       "      <td>c</td>\n",
       "      <td>January 20, 2007</td>\n",
       "      <td>Video Transcript: Presidential Exploratory Com...</td>\n",
       "      <td>HILLARY CLINTON: I announced today that I am f...</td>\n",
       "      <td>[hillary, clinton, i, announced, today, that, ...</td>\n",
       "      <td>349</td>\n",
       "    </tr>\n",
       "    <tr>\n",
       "      <th>14</th>\n",
       "      <td>Hillary Clinton</td>\n",
       "      <td>D</td>\n",
       "      <td>c</td>\n",
       "      <td>January 22, 2007</td>\n",
       "      <td>Remarks in a \"Let the Conversation Begin Webcast\"</td>\n",
       "      <td>SENATOR CLINTON: Hi, everyone, and welcome to ...</td>\n",
       "      <td>[senator, clinton, hi, everyone, and, welcome,...</td>\n",
       "      <td>5349</td>\n",
       "    </tr>\n",
       "  </tbody>\n",
       "</table>\n",
       "</div>"
      ],
      "text/plain": [
       "           Candidate Party Type              Date  \\\n",
       "8     Lincoln Chafee     D    c      June 3, 2015   \n",
       "9     Lincoln Chafee     D    c     July 17, 2015   \n",
       "10    Lincoln Chafee     D    c  October 23, 2015   \n",
       "13  Hillary Clinton      D    c  January 20, 2007   \n",
       "14  Hillary Clinton      D    c  January 22, 2007   \n",
       "\n",
       "                                                Title  \\\n",
       "8   Remarks Announcing Candidacy for President at ...   \n",
       "9   Remarks at the Iowa Democrats Hall of Fame Din...   \n",
       "10  Remarks Announcing the End of Presidential Cam...   \n",
       "13  Video Transcript: Presidential Exploratory Com...   \n",
       "14  Remarks in a \"Let the Conversation Begin Webcast\"   \n",
       "\n",
       "                                               Speech  \\\n",
       "8   Thank you, Bob. Thank you, Bob and Mark, very ...   \n",
       "9   Congratulations to the Hall of Fame Inductees....   \n",
       "10  Once again it is a pleasure to join so many De...   \n",
       "13  HILLARY CLINTON: I announced today that I am f...   \n",
       "14  SENATOR CLINTON: Hi, everyone, and welcome to ...   \n",
       "\n",
       "                                         clean_speech  total_words  \n",
       "8   [thank, you, bob, thank, you, bob, and, mark, ...         5512  \n",
       "9   [congratulations, to, the, hall, of, fame, ind...          745  \n",
       "10  [once, again, it, is, a, pleasure, to, join, s...          939  \n",
       "13  [hillary, clinton, i, announced, today, that, ...          349  \n",
       "14  [senator, clinton, hi, everyone, and, welcome,...         5349  "
      ]
     },
     "execution_count": 17,
     "metadata": {},
     "output_type": "execute_result"
    }
   ],
   "source": [
    "# create a new column called 'total_words'\n",
    "democrats['total_words'] = [len(speech) for speech in democrats['clean_speech']]\n",
    "democrats.head()"
   ]
  },
  {
   "cell_type": "markdown",
   "metadata": {},
   "source": [
    "Next, we need to calculate the number of matches to entries in our dictionary for each speech and for each foundation. Some of the following code uses syntax not covered in these Modules. Don't sweat the details, as long as you can understand what the new columns mean."
   ]
  },
  {
   "cell_type": "code",
   "execution_count": 18,
   "metadata": {},
   "outputs": [
    {
     "name": "stderr",
     "output_type": "stream",
     "text": [
      "C:\\Users\\keeley\\AppData\\Local\\conda\\conda\\envs\\dsmodules\\lib\\site-packages\\ipykernel_launcher.py:15: SettingWithCopyWarning: \n",
      "A value is trying to be set on a copy of a slice from a DataFrame.\n",
      "Try using .loc[row_indexer,col_indexer] = value instead\n",
      "\n",
      "See the caveats in the documentation: http://pandas.pydata.org/pandas-docs/stable/indexing.html#indexing-view-versus-copy\n",
      "  from ipykernel import kernelapp as app\n"
     ]
    },
    {
     "data": {
      "text/html": [
       "<div>\n",
       "<style>\n",
       "    .dataframe thead tr:only-child th {\n",
       "        text-align: right;\n",
       "    }\n",
       "\n",
       "    .dataframe thead th {\n",
       "        text-align: left;\n",
       "    }\n",
       "\n",
       "    .dataframe tbody tr th {\n",
       "        vertical-align: top;\n",
       "    }\n",
       "</style>\n",
       "<table border=\"1\" class=\"dataframe\">\n",
       "  <thead>\n",
       "    <tr style=\"text-align: right;\">\n",
       "      <th></th>\n",
       "      <th>Candidate</th>\n",
       "      <th>Party</th>\n",
       "      <th>Type</th>\n",
       "      <th>Date</th>\n",
       "      <th>Title</th>\n",
       "      <th>Speech</th>\n",
       "      <th>clean_speech</th>\n",
       "      <th>total_words</th>\n",
       "      <th>authority/respect</th>\n",
       "      <th>care</th>\n",
       "      <th>fairness/proportionality</th>\n",
       "      <th>liberty</th>\n",
       "      <th>loyalty/ingroup</th>\n",
       "      <th>sanctity/purity</th>\n",
       "    </tr>\n",
       "  </thead>\n",
       "  <tbody>\n",
       "    <tr>\n",
       "      <th>8</th>\n",
       "      <td>Lincoln Chafee</td>\n",
       "      <td>D</td>\n",
       "      <td>c</td>\n",
       "      <td>June 3, 2015</td>\n",
       "      <td>Remarks Announcing Candidacy for President at ...</td>\n",
       "      <td>Thank you, Bob. Thank you, Bob and Mark, very ...</td>\n",
       "      <td>[thank, you, bob, thank, you, bob, and, mark, ...</td>\n",
       "      <td>5512</td>\n",
       "      <td>0.199565</td>\n",
       "      <td>0.163280</td>\n",
       "      <td>0.199565</td>\n",
       "      <td>0.000000</td>\n",
       "      <td>0.199565</td>\n",
       "      <td>0.000000</td>\n",
       "    </tr>\n",
       "    <tr>\n",
       "      <th>9</th>\n",
       "      <td>Lincoln Chafee</td>\n",
       "      <td>D</td>\n",
       "      <td>c</td>\n",
       "      <td>July 17, 2015</td>\n",
       "      <td>Remarks at the Iowa Democrats Hall of Fame Din...</td>\n",
       "      <td>Congratulations to the Hall of Fame Inductees....</td>\n",
       "      <td>[congratulations, to, the, hall, of, fame, ind...</td>\n",
       "      <td>745</td>\n",
       "      <td>0.268456</td>\n",
       "      <td>0.134228</td>\n",
       "      <td>0.268456</td>\n",
       "      <td>0.000000</td>\n",
       "      <td>0.402685</td>\n",
       "      <td>0.000000</td>\n",
       "    </tr>\n",
       "    <tr>\n",
       "      <th>10</th>\n",
       "      <td>Lincoln Chafee</td>\n",
       "      <td>D</td>\n",
       "      <td>c</td>\n",
       "      <td>October 23, 2015</td>\n",
       "      <td>Remarks Announcing the End of Presidential Cam...</td>\n",
       "      <td>Once again it is a pleasure to join so many De...</td>\n",
       "      <td>[once, again, it, is, a, pleasure, to, join, s...</td>\n",
       "      <td>939</td>\n",
       "      <td>0.212993</td>\n",
       "      <td>0.106496</td>\n",
       "      <td>0.212993</td>\n",
       "      <td>0.106496</td>\n",
       "      <td>0.532481</td>\n",
       "      <td>0.000000</td>\n",
       "    </tr>\n",
       "    <tr>\n",
       "      <th>13</th>\n",
       "      <td>Hillary Clinton</td>\n",
       "      <td>D</td>\n",
       "      <td>c</td>\n",
       "      <td>January 20, 2007</td>\n",
       "      <td>Video Transcript: Presidential Exploratory Com...</td>\n",
       "      <td>HILLARY CLINTON: I announced today that I am f...</td>\n",
       "      <td>[hillary, clinton, i, announced, today, that, ...</td>\n",
       "      <td>349</td>\n",
       "      <td>0.286533</td>\n",
       "      <td>0.573066</td>\n",
       "      <td>0.000000</td>\n",
       "      <td>0.000000</td>\n",
       "      <td>0.859599</td>\n",
       "      <td>0.000000</td>\n",
       "    </tr>\n",
       "    <tr>\n",
       "      <th>14</th>\n",
       "      <td>Hillary Clinton</td>\n",
       "      <td>D</td>\n",
       "      <td>c</td>\n",
       "      <td>January 22, 2007</td>\n",
       "      <td>Remarks in a \"Let the Conversation Begin Webcast\"</td>\n",
       "      <td>SENATOR CLINTON: Hi, everyone, and welcome to ...</td>\n",
       "      <td>[senator, clinton, hi, everyone, and, welcome,...</td>\n",
       "      <td>5349</td>\n",
       "      <td>0.317816</td>\n",
       "      <td>0.261731</td>\n",
       "      <td>0.093475</td>\n",
       "      <td>0.000000</td>\n",
       "      <td>0.243036</td>\n",
       "      <td>0.056085</td>\n",
       "    </tr>\n",
       "  </tbody>\n",
       "</table>\n",
       "</div>"
      ],
      "text/plain": [
       "           Candidate Party Type              Date  \\\n",
       "8     Lincoln Chafee     D    c      June 3, 2015   \n",
       "9     Lincoln Chafee     D    c     July 17, 2015   \n",
       "10    Lincoln Chafee     D    c  October 23, 2015   \n",
       "13  Hillary Clinton      D    c  January 20, 2007   \n",
       "14  Hillary Clinton      D    c  January 22, 2007   \n",
       "\n",
       "                                                Title  \\\n",
       "8   Remarks Announcing Candidacy for President at ...   \n",
       "9   Remarks at the Iowa Democrats Hall of Fame Din...   \n",
       "10  Remarks Announcing the End of Presidential Cam...   \n",
       "13  Video Transcript: Presidential Exploratory Com...   \n",
       "14  Remarks in a \"Let the Conversation Begin Webcast\"   \n",
       "\n",
       "                                               Speech  \\\n",
       "8   Thank you, Bob. Thank you, Bob and Mark, very ...   \n",
       "9   Congratulations to the Hall of Fame Inductees....   \n",
       "10  Once again it is a pleasure to join so many De...   \n",
       "13  HILLARY CLINTON: I announced today that I am f...   \n",
       "14  SENATOR CLINTON: Hi, everyone, and welcome to ...   \n",
       "\n",
       "                                         clean_speech  total_words  \\\n",
       "8   [thank, you, bob, thank, you, bob, and, mark, ...         5512   \n",
       "9   [congratulations, to, the, hall, of, fame, ind...          745   \n",
       "10  [once, again, it, is, a, pleasure, to, join, s...          939   \n",
       "13  [hillary, clinton, i, announced, today, that, ...          349   \n",
       "14  [senator, clinton, hi, everyone, and, welcome,...         5349   \n",
       "\n",
       "    authority/respect      care  fairness/proportionality   liberty  \\\n",
       "8            0.199565  0.163280                  0.199565  0.000000   \n",
       "9            0.268456  0.134228                  0.268456  0.000000   \n",
       "10           0.212993  0.106496                  0.212993  0.106496   \n",
       "13           0.286533  0.573066                  0.000000  0.000000   \n",
       "14           0.317816  0.261731                  0.093475  0.000000   \n",
       "\n",
       "    loyalty/ingroup  sanctity/purity  \n",
       "8          0.199565         0.000000  \n",
       "9          0.402685         0.000000  \n",
       "10         0.532481         0.000000  \n",
       "13         0.859599         0.000000  \n",
       "14         0.243036         0.056085  "
      ]
     },
     "execution_count": 18,
     "metadata": {},
     "output_type": "execute_result"
    }
   ],
   "source": [
    "# do the following code for each foundation\n",
    "for key in mft_dict.keys():\n",
    "    # create a new, empty column\n",
    "    num_key_words = np.zeros(len(democrats))\n",
    "    stems = mft_dict[key]\n",
    "    \n",
    "    # do the following code for each foundation word\n",
    "    for stem in stems:\n",
    "        # find synonym matches\n",
    "        wd_count = np.array([sum([wd.startswith(stem) for wd in speech]) for speech in democrats['clean_speech']])\n",
    "        # add the number of matches to the total\n",
    "        num_key_words += wd_count\n",
    "        \n",
    "    # create a new column for each foundation with the percent of foundation words per speech\n",
    "    democrats[key] = num_key_words / democrats['total_words'] * 100\n",
    "\n",
    "democrats.head()"
   ]
  },
  {
   "cell_type": "markdown",
   "metadata": {},
   "source": [
    "We have our percentages, but it's much easier to understand what's going on when the results are in graph form. Let's start by looking at the average percents for Democrats as a group. \n"
   ]
  },
  {
   "cell_type": "code",
   "execution_count": 19,
   "metadata": {},
   "outputs": [
    {
     "data": {
      "text/html": [
       "<div>\n",
       "<style>\n",
       "    .dataframe thead tr:only-child th {\n",
       "        text-align: right;\n",
       "    }\n",
       "\n",
       "    .dataframe thead th {\n",
       "        text-align: left;\n",
       "    }\n",
       "\n",
       "    .dataframe tbody tr th {\n",
       "        vertical-align: top;\n",
       "    }\n",
       "</style>\n",
       "<table border=\"1\" class=\"dataframe\">\n",
       "  <thead>\n",
       "    <tr style=\"text-align: right;\">\n",
       "      <th></th>\n",
       "      <th>D_percent</th>\n",
       "    </tr>\n",
       "  </thead>\n",
       "  <tbody>\n",
       "    <tr>\n",
       "      <th>authority/respect</th>\n",
       "      <td>0.297649</td>\n",
       "    </tr>\n",
       "    <tr>\n",
       "      <th>care</th>\n",
       "      <td>0.275039</td>\n",
       "    </tr>\n",
       "    <tr>\n",
       "      <th>fairness/proportionality</th>\n",
       "      <td>0.167275</td>\n",
       "    </tr>\n",
       "    <tr>\n",
       "      <th>liberty</th>\n",
       "      <td>0.001454</td>\n",
       "    </tr>\n",
       "    <tr>\n",
       "      <th>loyalty/ingroup</th>\n",
       "      <td>0.236776</td>\n",
       "    </tr>\n",
       "    <tr>\n",
       "      <th>sanctity/purity</th>\n",
       "      <td>0.080898</td>\n",
       "    </tr>\n",
       "  </tbody>\n",
       "</table>\n",
       "</div>"
      ],
      "text/plain": [
       "                          D_percent\n",
       "authority/respect          0.297649\n",
       "care                       0.275039\n",
       "fairness/proportionality   0.167275\n",
       "liberty                    0.001454\n",
       "loyalty/ingroup            0.236776\n",
       "sanctity/purity            0.080898"
      ]
     },
     "execution_count": 19,
     "metadata": {},
     "output_type": "execute_result"
    }
   ],
   "source": [
    "# select the foundations columns and calculate the mean percent for each\n",
    "foundation_cols = list(mft_dict.keys())\n",
    "avg_dem_stats = (democrats.loc[:, foundation_cols]\n",
    "                 .apply(np.mean)\n",
    "                 .to_frame('D_percent'))\n",
    "\n",
    "avg_dem_stats"
   ]
  },
  {
   "cell_type": "markdown",
   "metadata": {},
   "source": [
    "Now, create a horizontal bar plot by calling the `.plot.barh()` method on `avg_dem_stats`. "
   ]
  },
  {
   "cell_type": "code",
   "execution_count": 20,
   "metadata": {},
   "outputs": [
    {
     "data": {
      "text/plain": [
       "<matplotlib.axes._subplots.AxesSubplot at 0x26c88a5a978>"
      ]
     },
     "execution_count": 20,
     "metadata": {},
     "output_type": "execute_result"
    },
    {
     "data": {
      "image/png": "[encoded data removed]",
      "text/plain": [
       "<matplotlib.figure.Figure at 0x26cff58f710>"
      ]
     },
     "metadata": {},
     "output_type": "display_data"
    }
   ],
   "source": [
    "avg_dem_stats.plot.barh()"
   ]
  },
  {
   "cell_type": "markdown",
   "metadata": {},
   "source": [
    "Take a look at this graph. What does it show? Does it support our hypothesis?\n",
    "\n",
    "We can also look at how different candidates used different foundations:"
   ]
  },
  {
   "cell_type": "code",
   "execution_count": 21,
   "metadata": {},
   "outputs": [
    {
     "data": {
      "text/plain": [
       "<matplotlib.axes._subplots.AxesSubplot at 0x26c88efdd30>"
      ]
     },
     "execution_count": 21,
     "metadata": {},
     "output_type": "execute_result"
    },
    {
     "data": {
      "image/png": "[encoded data removed]",
      "text/plain": [
       "<matplotlib.figure.Figure at 0x26c88a924a8>"
      ]
     },
     "metadata": {},
     "output_type": "display_data"
    }
   ],
   "source": [
    "dem_indivs = (democrats.loc[:, ['Candidate', 'authority/respect', 'care', 'loyalty/ingroup', 'fairness/proportionality',\n",
    "                               'sanctity/purity', 'liberty']]\n",
    "             .groupby(['Candidate'])\n",
    "             .mean())\n",
    "dem_indivs.plot.barh(figsize=(10, 6))"
   ]
  },
  {
   "cell_type": "markdown",
   "metadata": {},
   "source": [
    "### Republicans <a id='subsection 5'></a>"
   ]
  },
  {
   "cell_type": "markdown",
   "metadata": {},
   "source": [
    "Now, let's repeat the process for Republicans. Replace the ellipses with the correct code to select only Republican speeches, then run the cell to create the table. \n",
    "\n",
    "(Hint: look back at how we made the 'democrats' table to see how to fill in the ellipses)"
   ]
  },
  {
   "cell_type": "code",
   "execution_count": 22,
   "metadata": {},
   "outputs": [],
   "source": [
    "# Filter out non-Republican speeches\n",
    "\n",
    "# select 'Party' column from 'speeches'\n",
    "party_col = ...\n",
    "\n",
    "# create a condition (boolean expression) that checks if a party is Republican\n",
    "republican_cond = ...\n",
    "\n",
    "# index `speeches` using `republican_cond\n",
    "republicans = speeches\n",
    "\n",
    "# uncomment the next line to show the first 5 rows of the `republican` DataFrame\n",
    "#republicans.head()"
   ]
  },
  {
   "cell_type": "markdown",
   "metadata": {},
   "source": [
    "Next, we need to calculate our test statistic for Republicans. Fill in the ellipses in the cell below with the correct code to create a table with the statistics. Once again, look at how we made this table for Democrats, and think about how you need to change the code for Republicans."
   ]
  },
  {
   "cell_type": "code",
   "execution_count": 23,
   "metadata": {},
   "outputs": [],
   "source": [
    "# Calculate the proportions for Republican speeches\n",
    "republicans['total_words'] = [len(speech) for speech in republicans['Speech']]\n",
    "\n",
    "# uncomment the next line to show the DataFrame with the total word counts\n",
    "#republicans.head()"
   ]
  },
  {
   "cell_type": "markdown",
   "metadata": {},
   "source": [
    "Then, calculate foundation synonym percents:"
   ]
  },
  {
   "cell_type": "code",
   "execution_count": 24,
   "metadata": {},
   "outputs": [
    {
     "data": {
      "text/html": [
       "<div>\n",
       "<style>\n",
       "    .dataframe thead tr:only-child th {\n",
       "        text-align: right;\n",
       "    }\n",
       "\n",
       "    .dataframe thead th {\n",
       "        text-align: left;\n",
       "    }\n",
       "\n",
       "    .dataframe tbody tr th {\n",
       "        vertical-align: top;\n",
       "    }\n",
       "</style>\n",
       "<table border=\"1\" class=\"dataframe\">\n",
       "  <thead>\n",
       "    <tr style=\"text-align: right;\">\n",
       "      <th></th>\n",
       "      <th>Candidate</th>\n",
       "      <th>Party</th>\n",
       "      <th>Type</th>\n",
       "      <th>Date</th>\n",
       "      <th>Title</th>\n",
       "      <th>Speech</th>\n",
       "      <th>clean_speech</th>\n",
       "      <th>total_words</th>\n",
       "      <th>authority/respect</th>\n",
       "      <th>care</th>\n",
       "      <th>fairness/proportionality</th>\n",
       "      <th>liberty</th>\n",
       "      <th>loyalty/ingroup</th>\n",
       "      <th>sanctity/purity</th>\n",
       "    </tr>\n",
       "  </thead>\n",
       "  <tbody>\n",
       "    <tr>\n",
       "      <th>0</th>\n",
       "      <td>Jeb Bush</td>\n",
       "      <td>R</td>\n",
       "      <td>c</td>\n",
       "      <td>June 15, 2015</td>\n",
       "      <td>Remarks Announcing Candidacy for President at ...</td>\n",
       "      <td>Thank you all very much. I always feel welcome...</td>\n",
       "      <td>[thank, you, all, very, much, i, always, feel,...</td>\n",
       "      <td>12383</td>\n",
       "      <td>0.032302</td>\n",
       "      <td>0.040378</td>\n",
       "      <td>0.056529</td>\n",
       "      <td>0.0</td>\n",
       "      <td>0.056529</td>\n",
       "      <td>0.016151</td>\n",
       "    </tr>\n",
       "    <tr>\n",
       "      <th>1</th>\n",
       "      <td>Jeb Bush</td>\n",
       "      <td>R</td>\n",
       "      <td>c</td>\n",
       "      <td>July 30, 2015</td>\n",
       "      <td>Remarks to the National Urban League Conferenc...</td>\n",
       "      <td>Thank you all very much. I appreciate your hos...</td>\n",
       "      <td>[thank, you, all, very, much, i, appreciate, y...</td>\n",
       "      <td>14457</td>\n",
       "      <td>0.055337</td>\n",
       "      <td>0.013834</td>\n",
       "      <td>0.048419</td>\n",
       "      <td>0.0</td>\n",
       "      <td>0.013834</td>\n",
       "      <td>0.013834</td>\n",
       "    </tr>\n",
       "    <tr>\n",
       "      <th>2</th>\n",
       "      <td>Jeb Bush</td>\n",
       "      <td>R</td>\n",
       "      <td>c</td>\n",
       "      <td>August 11, 2015</td>\n",
       "      <td>Remarks at the Ronald Reagan Presidential Libr...</td>\n",
       "      <td>Thank you very much. It's good to be with all ...</td>\n",
       "      <td>[thank, you, very, much, it, s, good, to, be, ...</td>\n",
       "      <td>21283</td>\n",
       "      <td>0.056383</td>\n",
       "      <td>0.023493</td>\n",
       "      <td>0.028192</td>\n",
       "      <td>0.0</td>\n",
       "      <td>0.009397</td>\n",
       "      <td>0.014096</td>\n",
       "    </tr>\n",
       "    <tr>\n",
       "      <th>3</th>\n",
       "      <td>Jeb Bush</td>\n",
       "      <td>R</td>\n",
       "      <td>c</td>\n",
       "      <td>September 9, 2015</td>\n",
       "      <td>Remarks in Garner, North Carolina</td>\n",
       "      <td>Thank you very much. I appreciate your hospita...</td>\n",
       "      <td>[thank, you, very, much, i, appreciate, your, ...</td>\n",
       "      <td>10049</td>\n",
       "      <td>0.029854</td>\n",
       "      <td>0.009951</td>\n",
       "      <td>0.029854</td>\n",
       "      <td>0.0</td>\n",
       "      <td>0.000000</td>\n",
       "      <td>0.000000</td>\n",
       "    </tr>\n",
       "    <tr>\n",
       "      <th>4</th>\n",
       "      <td>Jeb Bush</td>\n",
       "      <td>R</td>\n",
       "      <td>c</td>\n",
       "      <td>November 2, 2015</td>\n",
       "      <td>Remarks in Tampa, Florida</td>\n",
       "      <td>Thank you. It's great to be in Tampa with so m...</td>\n",
       "      <td>[thank, you, it, s, great, to, be, in, tampa, ...</td>\n",
       "      <td>14189</td>\n",
       "      <td>0.049334</td>\n",
       "      <td>0.021143</td>\n",
       "      <td>0.007048</td>\n",
       "      <td>0.0</td>\n",
       "      <td>0.021143</td>\n",
       "      <td>0.021143</td>\n",
       "    </tr>\n",
       "  </tbody>\n",
       "</table>\n",
       "</div>"
      ],
      "text/plain": [
       "  Candidate Party Type               Date  \\\n",
       "0  Jeb Bush     R    c      June 15, 2015   \n",
       "1  Jeb Bush     R    c      July 30, 2015   \n",
       "2  Jeb Bush     R    c    August 11, 2015   \n",
       "3  Jeb Bush     R    c  September 9, 2015   \n",
       "4  Jeb Bush     R    c   November 2, 2015   \n",
       "\n",
       "                                               Title  \\\n",
       "0  Remarks Announcing Candidacy for President at ...   \n",
       "1  Remarks to the National Urban League Conferenc...   \n",
       "2  Remarks at the Ronald Reagan Presidential Libr...   \n",
       "3                  Remarks in Garner, North Carolina   \n",
       "4                          Remarks in Tampa, Florida   \n",
       "\n",
       "                                              Speech  \\\n",
       "0  Thank you all very much. I always feel welcome...   \n",
       "1  Thank you all very much. I appreciate your hos...   \n",
       "2  Thank you very much. It's good to be with all ...   \n",
       "3  Thank you very much. I appreciate your hospita...   \n",
       "4  Thank you. It's great to be in Tampa with so m...   \n",
       "\n",
       "                                        clean_speech  total_words  \\\n",
       "0  [thank, you, all, very, much, i, always, feel,...        12383   \n",
       "1  [thank, you, all, very, much, i, appreciate, y...        14457   \n",
       "2  [thank, you, very, much, it, s, good, to, be, ...        21283   \n",
       "3  [thank, you, very, much, i, appreciate, your, ...        10049   \n",
       "4  [thank, you, it, s, great, to, be, in, tampa, ...        14189   \n",
       "\n",
       "   authority/respect      care  fairness/proportionality  liberty  \\\n",
       "0           0.032302  0.040378                  0.056529      0.0   \n",
       "1           0.055337  0.013834                  0.048419      0.0   \n",
       "2           0.056383  0.023493                  0.028192      0.0   \n",
       "3           0.029854  0.009951                  0.029854      0.0   \n",
       "4           0.049334  0.021143                  0.007048      0.0   \n",
       "\n",
       "   loyalty/ingroup  sanctity/purity  \n",
       "0         0.056529         0.016151  \n",
       "1         0.013834         0.013834  \n",
       "2         0.009397         0.014096  \n",
       "3         0.000000         0.000000  \n",
       "4         0.021143         0.021143  "
      ]
     },
     "execution_count": 24,
     "metadata": {},
     "output_type": "execute_result"
    }
   ],
   "source": [
    "# do the following code for each foundation\n",
    "for key in mft_dict.keys():\n",
    "    # create a new, empty column\n",
    "    num_key_words = np.zeros(len(republicans))\n",
    "    stems = mft_dict[key]\n",
    "    \n",
    "    # do the following code for each foundation word\n",
    "    for stem in stems:\n",
    "        # find synonym matches\n",
    "        wd_count = np.array([sum([wd.startswith(stem) for wd in speech]) for speech in republicans['clean_speech']])\n",
    "        # add the number of matches to the total\n",
    "        num_key_words += wd_count\n",
    "        \n",
    "    # create a new column for each foundation with the percent of foundation words per speech\n",
    "    republicans[key] = num_key_words / republicans['total_words'] * 100\n",
    "\n",
    "republicans.head()"
   ]
  },
  {
   "cell_type": "markdown",
   "metadata": {},
   "source": [
    "Then, calculate the averages."
   ]
  },
  {
   "cell_type": "code",
   "execution_count": 25,
   "metadata": {},
   "outputs": [
    {
     "data": {
      "text/html": [
       "<div>\n",
       "<style>\n",
       "    .dataframe thead tr:only-child th {\n",
       "        text-align: right;\n",
       "    }\n",
       "\n",
       "    .dataframe thead th {\n",
       "        text-align: left;\n",
       "    }\n",
       "\n",
       "    .dataframe tbody tr th {\n",
       "        vertical-align: top;\n",
       "    }\n",
       "</style>\n",
       "<table border=\"1\" class=\"dataframe\">\n",
       "  <thead>\n",
       "    <tr style=\"text-align: right;\">\n",
       "      <th></th>\n",
       "      <th>R_percent</th>\n",
       "    </tr>\n",
       "  </thead>\n",
       "  <tbody>\n",
       "    <tr>\n",
       "      <th>authority/respect</th>\n",
       "      <td>0.055909</td>\n",
       "    </tr>\n",
       "    <tr>\n",
       "      <th>care</th>\n",
       "      <td>0.042317</td>\n",
       "    </tr>\n",
       "    <tr>\n",
       "      <th>fairness/proportionality</th>\n",
       "      <td>0.031424</td>\n",
       "    </tr>\n",
       "    <tr>\n",
       "      <th>liberty</th>\n",
       "      <td>0.000267</td>\n",
       "    </tr>\n",
       "    <tr>\n",
       "      <th>loyalty/ingroup</th>\n",
       "      <td>0.037831</td>\n",
       "    </tr>\n",
       "    <tr>\n",
       "      <th>sanctity/purity</th>\n",
       "      <td>0.014723</td>\n",
       "    </tr>\n",
       "  </tbody>\n",
       "</table>\n",
       "</div>"
      ],
      "text/plain": [
       "                          R_percent\n",
       "authority/respect          0.055909\n",
       "care                       0.042317\n",
       "fairness/proportionality   0.031424\n",
       "liberty                    0.000267\n",
       "loyalty/ingroup            0.037831\n",
       "sanctity/purity            0.014723"
      ]
     },
     "execution_count": 25,
     "metadata": {},
     "output_type": "execute_result"
    }
   ],
   "source": [
    "# select the foundations columns and calculate the mean percent for each\n",
    "foundation_cols = list(mft_dict.keys())\n",
    "avg_rep_stats = (republicans.loc[:, foundation_cols]\n",
    "                 .apply(np.mean)\n",
    "                 .to_frame('R_percent'))\n",
    "\n",
    "avg_rep_stats "
   ]
  },
  {
   "cell_type": "markdown",
   "metadata": {},
   "source": [
    "Finally, create a bar plot of `avg_rep_stats` using the `.plot.barh()` method."
   ]
  },
  {
   "cell_type": "code",
   "execution_count": 26,
   "metadata": {
    "collapsed": true
   },
   "outputs": [],
   "source": [
    "# your code here\n"
   ]
  },
  {
   "cell_type": "markdown",
   "metadata": {},
   "source": [
    "Does this graph support our hypothesis? \n",
    "\n",
    "Finally, let's look at individual Republican candidate averages."
   ]
  },
  {
   "cell_type": "code",
   "execution_count": 27,
   "metadata": {},
   "outputs": [
    {
     "data": {
      "text/plain": [
       "<matplotlib.axes._subplots.AxesSubplot at 0x26c88f9df60>"
      ]
     },
     "execution_count": 27,
     "metadata": {},
     "output_type": "execute_result"
    },
    {
     "data": {
      "image/png": "[encoded data removed]",
      "text/plain": [
       "<matplotlib.figure.Figure at 0x26c88ff7ef0>"
      ]
     },
     "metadata": {},
     "output_type": "display_data"
    }
   ],
   "source": [
    "rep_indivs = (republicans.loc[:, ['Candidate', 'authority/respect', 'care', 'loyalty/ingroup', 'fairness/proportionality',\n",
    "                               'sanctity/purity', 'liberty']]\n",
    "             .groupby(['Candidate'])\n",
    "             .mean())\n",
    "rep_indivs.plot.barh(figsize=(5, 15))"
   ]
  },
  {
   "cell_type": "markdown",
   "metadata": {},
   "source": [
    "### Democrats vs Republicans <a id='subsection 6'></a>"
   ]
  },
  {
   "cell_type": "markdown",
   "metadata": {
    "collapsed": true
   },
   "source": [
    "Comparing two groups becomes much easier when they are plotted on the same graph. \n",
    "\n",
    "First, combine `avg_dem_stats` and `avg_rep_stats` into one DataFrame with the `join` function. `join` is called on one table using `.join()`, takes the other table as its argument (in the parentheses), and returns a table with the indices matched. \n",
    "\n",
    "Here's an example of a simple join:"
   ]
  },
  {
   "cell_type": "code",
   "execution_count": 28,
   "metadata": {},
   "outputs": [
    {
     "data": {
      "text/html": [
       "<div>\n",
       "<style>\n",
       "    .dataframe thead tr:only-child th {\n",
       "        text-align: right;\n",
       "    }\n",
       "\n",
       "    .dataframe thead th {\n",
       "        text-align: left;\n",
       "    }\n",
       "\n",
       "    .dataframe tbody tr th {\n",
       "        vertical-align: top;\n",
       "    }\n",
       "</style>\n",
       "<table border=\"1\" class=\"dataframe\">\n",
       "  <thead>\n",
       "    <tr style=\"text-align: right;\">\n",
       "      <th></th>\n",
       "      <th>pb_price</th>\n",
       "    </tr>\n",
       "  </thead>\n",
       "  <tbody>\n",
       "    <tr>\n",
       "      <th>Trader Joes</th>\n",
       "      <td>2.99</td>\n",
       "    </tr>\n",
       "    <tr>\n",
       "      <th>Safeway</th>\n",
       "      <td>3.49</td>\n",
       "    </tr>\n",
       "  </tbody>\n",
       "</table>\n",
       "</div>"
      ],
      "text/plain": [
       "             pb_price\n",
       "Trader Joes      2.99\n",
       "Safeway          3.49"
      ]
     },
     "execution_count": 28,
     "metadata": {},
     "output_type": "execute_result"
    }
   ],
   "source": [
    "peanut_butter = pd.DataFrame(data=[2.99, 3.49], index = ['Trader Joes', 'Safeway'], columns=['pb_price'])\n",
    "peanut_butter"
   ]
  },
  {
   "cell_type": "code",
   "execution_count": 29,
   "metadata": {},
   "outputs": [
    {
     "data": {
      "text/html": [
       "<div>\n",
       "<style>\n",
       "    .dataframe thead tr:only-child th {\n",
       "        text-align: right;\n",
       "    }\n",
       "\n",
       "    .dataframe thead th {\n",
       "        text-align: left;\n",
       "    }\n",
       "\n",
       "    .dataframe tbody tr th {\n",
       "        vertical-align: top;\n",
       "    }\n",
       "</style>\n",
       "<table border=\"1\" class=\"dataframe\">\n",
       "  <thead>\n",
       "    <tr style=\"text-align: right;\">\n",
       "      <th></th>\n",
       "      <th>jelly_price</th>\n",
       "    </tr>\n",
       "  </thead>\n",
       "  <tbody>\n",
       "    <tr>\n",
       "      <th>Trader Joes</th>\n",
       "      <td>4.99</td>\n",
       "    </tr>\n",
       "    <tr>\n",
       "      <th>Safeway</th>\n",
       "      <td>3.59</td>\n",
       "    </tr>\n",
       "  </tbody>\n",
       "</table>\n",
       "</div>"
      ],
      "text/plain": [
       "             jelly_price\n",
       "Trader Joes         4.99\n",
       "Safeway             3.59"
      ]
     },
     "execution_count": 29,
     "metadata": {},
     "output_type": "execute_result"
    }
   ],
   "source": [
    "jelly = pd.DataFrame(data=[4.99, 3.59], index = ['Trader Joes', 'Safeway'], columns=['jelly_price'])\n",
    "jelly"
   ]
  },
  {
   "cell_type": "code",
   "execution_count": 30,
   "metadata": {},
   "outputs": [
    {
     "data": {
      "text/html": [
       "<div>\n",
       "<style>\n",
       "    .dataframe thead tr:only-child th {\n",
       "        text-align: right;\n",
       "    }\n",
       "\n",
       "    .dataframe thead th {\n",
       "        text-align: left;\n",
       "    }\n",
       "\n",
       "    .dataframe tbody tr th {\n",
       "        vertical-align: top;\n",
       "    }\n",
       "</style>\n",
       "<table border=\"1\" class=\"dataframe\">\n",
       "  <thead>\n",
       "    <tr style=\"text-align: right;\">\n",
       "      <th></th>\n",
       "      <th>jelly_price</th>\n",
       "      <th>pb_price</th>\n",
       "    </tr>\n",
       "  </thead>\n",
       "  <tbody>\n",
       "    <tr>\n",
       "      <th>Trader Joes</th>\n",
       "      <td>4.99</td>\n",
       "      <td>2.99</td>\n",
       "    </tr>\n",
       "    <tr>\n",
       "      <th>Safeway</th>\n",
       "      <td>3.59</td>\n",
       "      <td>3.49</td>\n",
       "    </tr>\n",
       "  </tbody>\n",
       "</table>\n",
       "</div>"
      ],
      "text/plain": [
       "             jelly_price  pb_price\n",
       "Trader Joes         4.99      2.99\n",
       "Safeway             3.59      3.49"
      ]
     },
     "execution_count": 30,
     "metadata": {},
     "output_type": "execute_result"
    }
   ],
   "source": [
    "jelly.join(peanut_butter)"
   ]
  },
  {
   "cell_type": "markdown",
   "metadata": {},
   "source": [
    "Now, write the code to join `'avg_dem_stats` with `avg_rep_stats`."
   ]
  },
  {
   "cell_type": "code",
   "execution_count": 31,
   "metadata": {},
   "outputs": [
    {
     "data": {
      "text/plain": [
       "Ellipsis"
      ]
     },
     "execution_count": 31,
     "metadata": {},
     "output_type": "execute_result"
    }
   ],
   "source": [
    "# fill in the ellipses with your code\n",
    "all_avg_stats = ...\n",
    "all_avg_stats"
   ]
  },
  {
   "cell_type": "markdown",
   "metadata": {},
   "source": [
    "Then, make a horiztonal bar plot for `all_avg_stats'."
   ]
  },
  {
   "cell_type": "code",
   "execution_count": 32,
   "metadata": {},
   "outputs": [],
   "source": [
    "# your code here\n"
   ]
  },
  {
   "cell_type": "markdown",
   "metadata": {},
   "source": [
    "---\n",
    "## Assignment: Run Analysis With Your Dictionary  <a id='section 3'></a>"
   ]
  },
  {
   "cell_type": "markdown",
   "metadata": {},
   "source": [
    "One of the advantages of coding is how easy it is to repeat one method of analysis with different parameters. Run the cell below to load the dictionary you compiled into the `mft_dict` variable \n",
    "\n",
    "(Note that Section 1 sets `mft_dict` to the Wordnet dictionary. By running the next cell, you will overwrite it and set it to the dictionary you made. It's possible to reset it to the Wordnet dictionary by re-running the cell in [Section 1.2](#subsection 2).)\n",
    "\n",
    "After you reset `mft_dict`, return to [Section 2](#section 2) and run the code cells to regenerate the graphs using your dictionary. You should be able to answer the following questions:\n",
    "\n",
    "* What does each graph show?\n",
    "* How are these graphs different from the ones made using the Wordnet dictionary?\n",
    "* Do these graphs support Moral Foundations Theory?"
   ]
  },
  {
   "cell_type": "code",
   "execution_count": 33,
   "metadata": {},
   "outputs": [],
   "source": [
    "# Tip: if you're working on this assignment after class, remember to import your \n",
    "# dependencies by running the very first code cell in this module\n",
    "\n",
    "# Load your dictionary into the mft_dict variable\n",
    "with open('../mft_data/my_dict.json') as json_data:\n",
    "    mft_dict = json.load(json_data)\n",
    "\n",
    "# Stem the words in your dictionary (this will help you get more matches)\n",
    "stemmer = SnowballStemmer('english')\n",
    "\n",
    "for foundation in mft_dict.keys():\n",
    "    curr_words = mft_dict[foundation]\n",
    "    stemmed_words = [stemmer.stem(word) for word in curr_words]\n",
    "    mft_dict[foundation] = stemmed_words"
   ]
  },
  {
   "cell_type": "markdown",
   "metadata": {},
   "source": [
    "---\n",
    "\n",
    "## Bibliography"
   ]
  },
  {
   "cell_type": "markdown",
   "metadata": {},
   "source": [
    "* Election documents scraped from http://www.presidency.ucsb.edu/2016_election.php\n",
    "* Graham, J., Haidt, J., & Nosek, B. A. (2009). Liberals and conservatives rely on different sets of moral foundations. Journal of personality and social psychology, 96(5), 1029. http://projectimplicit.net/nosek/papers/GHN2009.pdf, October 9 2017."
   ]
  },
  {
   "cell_type": "markdown",
   "metadata": {},
   "source": [
    "---\n",
    "Notebook developed by: Keeley Takimoto, Sean Seungwoo Son, Sujude Dalieh\n",
    "\n",
    "Data Science Modules: http://data.berkeley.edu/education/modules\n"
   ]
  }
 ],
 "metadata": {
  "anaconda-cloud": {},
  "kernelspec": {
   "display_name": "Python 3",
   "language": "python",
   "name": "python3"
  },
  "language_info": {
   "codemirror_mode": {
    "name": "ipython",
    "version": 3
   },
   "file_extension": ".py",
   "mimetype": "text/x-python",
   "name": "python",
   "nbconvert_exporter": "python",
   "pygments_lexer": "ipython3",
   "version": "3.6.1"
  }
 },
 "nbformat": 4,
 "nbformat_minor": 1
}
