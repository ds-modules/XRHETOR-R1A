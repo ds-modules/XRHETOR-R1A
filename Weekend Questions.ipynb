{
 "cells": [
  {
   "cell_type": "markdown",
   "metadata": {},
   "source": [
    "## For each of the following, set the "
   ]
  },
  {
   "cell_type": "markdown",
   "metadata": {},
   "source": [
    "### Question 1\n",
    "max((3*4), (18-4))"
   ]
  },
  {
   "cell_type": "code",
   "execution_count": null,
   "metadata": {},
   "outputs": [],
   "source": [
    "q1 = "
   ]
  },
  {
   "cell_type": "markdown",
   "metadata": {},
   "source": [
    "### Question 2\n",
    "hours_in_a_day = \"twenty four\"\n",
    "hours_in_a_day.upper().lower()"
   ]
  },
  {
   "cell_type": "code",
   "execution_count": null,
   "metadata": {},
   "outputs": [],
   "source": [
    "q2 = "
   ]
  },
  {
   "cell_type": "markdown",
   "metadata": {},
   "source": [
    "### Question 3\n",
    "pets = {}\n",
    "\n",
    "pets['dog'] = 6\n",
    "\n",
    "pets[\"cat\"] = 2\n",
    "\n",
    "pets['turtle'] = 1\n",
    "\n",
    "pets['dog'] = 'fluffy'\n",
    "\n",
    "pets['dog'].upper()"
   ]
  },
  {
   "cell_type": "code",
   "execution_count": null,
   "metadata": {},
   "outputs": [],
   "source": [
    "q3 = "
   ]
  },
  {
   "cell_type": "markdown",
   "metadata": {},
   "source": [
    "### Question 4\n",
    "Write one line that determines the maximum of 5 added to one third of 4 multiplied by 6 compared to 2 multiplied by 8 divided by one tenth."
   ]
  },
  {
   "cell_type": "code",
   "execution_count": null,
   "metadata": {},
   "outputs": [],
   "source": [
    "q4 = "
   ]
  },
  {
   "cell_type": "markdown",
   "metadata": {},
   "source": [
    "### Question 5\n",
    "Write a function add_upper that takes a string parameter, and adds an upper-case version to a set my_set. Return my_set"
   ]
  },
  {
   "cell_type": "code",
   "execution_count": null,
   "metadata": {},
   "outputs": [],
   "source": []
  },
  {
   "cell_type": "markdown",
   "metadata": {},
   "source": [
    "### Question 6\n",
    "Write a function square_and_half that takes in a number, and returns that number squared and then reduced by the square of half that number"
   ]
  },
  {
   "cell_type": "code",
   "execution_count": null,
   "metadata": {},
   "outputs": [],
   "source": []
  },
  {
   "cell_type": "markdown",
   "metadata": {},
   "source": [
    "### Question 7: Optional\n",
    "Write a function that takes a one string parameter and returns a dictionary with each character in the string. Each character should have a value equal to its position in the string"
   ]
  },
  {
   "cell_type": "code",
   "execution_count": null,
   "metadata": {},
   "outputs": [],
   "source": []
  },
  {
   "cell_type": "code",
   "execution_count": null,
   "metadata": {},
   "outputs": [],
   "source": [
    "assert q1 == max((3*4), (18-4)), \"Not quite, try again!\"\n",
    "assert q2 == hours_in_a_day.upper().lower(), \"Not quite, try again!\"\n",
    "assert q3 == pets['dog'].upper(), \"Not quite, try again!\"\n",
    "assert q4 == 160.0, \"Not quite, try again!\"\n",
    "assert add_upper(\"test\") == my_set, \"Not quite, try again!\"\n",
    "assert square_and_half(9) == 60.75, \"Not quite, try again!\""
   ]
  }
 ],
 "metadata": {
  "kernelspec": {
   "display_name": "Python 3",
   "language": "python",
   "name": "python3"
  },
  "language_info": {
   "codemirror_mode": {
    "name": "ipython",
    "version": 3
   },
   "file_extension": ".py",
   "mimetype": "text/x-python",
   "name": "python",
   "nbconvert_exporter": "python",
   "pygments_lexer": "ipython3",
   "version": "3.6.5"
  }
 },
 "nbformat": 4,
 "nbformat_minor": 2
}
