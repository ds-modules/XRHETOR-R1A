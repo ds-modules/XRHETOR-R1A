{
 "cells": [
  {
   "cell_type": "markdown",
   "metadata": {},
   "source": [
    "# XRHETOR-R1A Data Science Module \n",
    "\n",
    "## 01 - Intro to Data Science in Rhetoric\n",
    "\n",
    "## Professor Amy Tick \n",
    "\n",
    "Data Science is a fast-growing discipline with applications in many fields. Over the course of the next week, these modules will explore the use of Data Science in Rhetoric. Module 01 introduces the Python programming language and the Pandas DataFrame table structure and shows how to apply coding skills exploratory analysis for text data. Module 02 walks through the data science process start to finish to test Moral Foundations Theory. Finally, Module 03 examines data science as a rhetorical tool: how human biases, conscious or unconscious, affect how data is processed and perceived. \n",
    "\n",
    "Estimated Time: 50 minutes"
   ]
  },
  {
   "cell_type": "markdown",
   "metadata": {},
   "source": [
    "## __Topics Covered__\n",
    "\n",
    "### Data Science Intro\n",
    "- The field of Data Science <br>\n",
    "- Environment (Jupyter Notebook/Data hub)<br>\n",
    "- Basic Python\n",
    "- Introduction to Pandas DataFrames\n",
    "\n",
    "### Data\n",
    "- Election 2016 <br> http://www.presidency.ucsb.edu/2016_election.php <br>\n",
    "\n",
    "### Text processing\n",
    "- String manipulation\n",
    "- Word counts\n",
    "\n",
    "### What you need to know\n",
    "- csv\n",
    "- variables\n",
    "- table\n",
    "- dictionary\n",
    "- list\n",
    "- functions"
   ]
  },
  {
   "cell_type": "markdown",
   "metadata": {},
   "source": [
    "**Dependencies: datascience, nltk, pandas"
   ]
  },
  {
   "cell_type": "markdown",
   "metadata": {},
   "source": [
    "## What is Datascience?\n",
    "### Data science is an interdisciplinary field that seeks to extract knowledge or insights from various forms of data.\n",
    "\n",
    "<img src=\"http://www.kiwidatascience.com/wp/wp-content/uploads/2016/01/data_scientist.png\" style=\"width: 550px; height: 500px;\\\" />\n",
    "Statistics is a central component of data science because statistics studies how to make robust conclusions with incomplete information. Computing is a central component because programming allows us to apply analysis techniques to the large and diverse data sets that arise in real-world applications. Domain knowlege is the most important compoent among above. Domain expertise is perhaps most relevant in the interpretation of insights. Without knowlege in the domain of the subject, we can't decide what to analyze."
   ]
  },
  {
   "cell_type": "markdown",
   "metadata": {},
   "source": [
    "## The Jupyter Notebook\n",
    "\n",
    "Note that this page is divided into what are called \"cells\". For example, the following cell is a \"code cell\" where you will write your code. You'll see a In [ ]: next to each cell for code, which is a counter for the cells you have run. You can navigate cells by clicking on them or by using the up and down arrows. Cells will be highlighted as you navigate them."
   ]
  },
  {
   "cell_type": "code",
   "execution_count": null,
   "metadata": {
    "collapsed": true
   },
   "outputs": [],
   "source": [
    "# this is a code cell"
   ]
  },
  {
   "cell_type": "markdown",
   "metadata": {},
   "source": [
    "## Python"
   ]
  },
  {
   "cell_type": "markdown",
   "metadata": {},
   "source": [
    "### Data Types"
   ]
  },
  {
   "cell_type": "markdown",
   "metadata": {},
   "source": [
    "Text analysis uses two basic types of data: numbers and text. \n",
    "\n",
    "In Jupyter notebooks, Python numbers are shown in green. \n",
    "\n",
    "Python text is referred to as a **string** and is written inside of single or double quotation marks. Jupyter shows it in red."
   ]
  },
  {
   "cell_type": "code",
   "execution_count": null,
   "metadata": {},
   "outputs": [],
   "source": [
    "# Numbers in Python\n",
    "3\n",
    "6.0\n",
    "1837720.8787623"
   ]
  },
  {
   "cell_type": "code",
   "execution_count": null,
   "metadata": {},
   "outputs": [],
   "source": [
    "# Python text, aka strings\n",
    "\"a\"\n",
    "\"word\"\n",
    "\"The quick brown fox jumped over the lazy dog\""
   ]
  },
  {
   "cell_type": "markdown",
   "metadata": {},
   "source": [
    "### Expressions\n",
    "Programs are made up of expressions, which describe to the computer how to combine pieces of data. \n",
    "\n",
    "Running a code cell will output the result of the expression below the cell. Code cells are run by navigating to the cell and pressing `Ctrl` + `Enter`."
   ]
  },
  {
   "cell_type": "code",
   "execution_count": null,
   "metadata": {},
   "outputs": [],
   "source": [
    "# number expression\n",
    "3 * 4"
   ]
  },
  {
   "cell_type": "code",
   "execution_count": null,
   "metadata": {},
   "outputs": [],
   "source": [
    "24 * 7"
   ]
  },
  {
   "cell_type": "markdown",
   "metadata": {},
   "source": [
    "### Names (Identifiers)\n",
    "Names are given to values in Python using an assignment statement. In an assignment, a name is followed by =, which is followed by any expression. The value of the expression to the right of = is assigned to the name."
   ]
  },
  {
   "cell_type": "code",
   "execution_count": null,
   "metadata": {
    "collapsed": true
   },
   "outputs": [],
   "source": [
    "#if you want to save it for later use\n",
    "hours_per_week = 24 * 7"
   ]
  },
  {
   "cell_type": "code",
   "execution_count": null,
   "metadata": {},
   "outputs": [],
   "source": [
    "hours_per_week * 60"
   ]
  },
  {
   "cell_type": "code",
   "execution_count": null,
   "metadata": {
    "collapsed": true
   },
   "outputs": [],
   "source": [
    "seconds_per_year = 60 * 60 * 24 * 365"
   ]
  },
  {
   "cell_type": "code",
   "execution_count": null,
   "metadata": {},
   "outputs": [],
   "source": [
    "seconds_per_year"
   ]
  },
  {
   "cell_type": "code",
   "execution_count": null,
   "metadata": {},
   "outputs": [],
   "source": [
    "seconds_per_hour = 60 * 60\n",
    "hours_per_year = 24 * 365\n",
    "seconds_per_year = seconds_per_hour * hours_per_year\n",
    "seconds_per_year"
   ]
  },
  {
   "cell_type": "markdown",
   "metadata": {},
   "source": [
    "### Call Expressions"
   ]
  },
  {
   "cell_type": "markdown",
   "metadata": {},
   "source": [
    "The most important kind of compound expression is a call expression, which applies a function to some arguments. Recall from algebra that the mathematical notion of a function is a mapping from some input arguments to an output value. The way in which Python expresses function application is the same as in conventional mathematics."
   ]
  },
  {
   "cell_type": "markdown",
   "metadata": {},
   "source": [
    "For instance, the abs function maps its single inputs to a single output, which is the absolute value of the inputs. "
   ]
  },
  {
   "cell_type": "code",
   "execution_count": null,
   "metadata": {},
   "outputs": [],
   "source": [
    "abs(-5)"
   ]
  },
  {
   "cell_type": "markdown",
   "metadata": {},
   "source": [
    "For instance, the max function maps its inputs to a single output, which is the largest of the inputs."
   ]
  },
  {
   "cell_type": "code",
   "execution_count": null,
   "metadata": {},
   "outputs": [],
   "source": [
    "max(3, 4)"
   ]
  },
  {
   "cell_type": "code",
   "execution_count": null,
   "metadata": {
    "collapsed": true
   },
   "outputs": [],
   "source": [
    "y = max(3, 4)"
   ]
  },
  {
   "cell_type": "code",
   "execution_count": null,
   "metadata": {},
   "outputs": [],
   "source": [
    "y"
   ]
  },
  {
   "cell_type": "markdown",
   "metadata": {},
   "source": [
    "### Attribute Operator\n",
    "A few functions are available by default, such as abs and max, but most functions that are built into the Python language are stored in a collection of functions called a module. An import statement is used to provide access to a module, such as math or operator. Operators and call expressions can be used together in an expression.\n",
    "\n",
    "Put another way, specific types of data have specific functions that can be used with **dot notation**. The order of the syntax goes `data` then a '.' then the function. \n",
    "\n",
    "For example, the `upper()` function can be called on a string to make all of its characters uppercase."
   ]
  },
  {
   "cell_type": "code",
   "execution_count": null,
   "metadata": {
    "collapsed": true
   },
   "outputs": [],
   "source": [
    "message = \"python is fun\""
   ]
  },
  {
   "cell_type": "code",
   "execution_count": null,
   "metadata": {},
   "outputs": [],
   "source": [
    "message.upper()"
   ]
  },
  {
   "cell_type": "markdown",
   "metadata": {},
   "source": [
    "### Lists"
   ]
  },
  {
   "cell_type": "markdown",
   "metadata": {},
   "source": [
    "Python has a great built-in list type named \"list\". Items in a list are written within square brackets [ ] and separated by commas. Lists work similarly to strings -- use square brackets [ ] to access data, with the first element at index 0."
   ]
  },
  {
   "cell_type": "code",
   "execution_count": null,
   "metadata": {
    "collapsed": true
   },
   "outputs": [],
   "source": [
    "colors = ['red', 'blue', 'green']"
   ]
  },
  {
   "cell_type": "code",
   "execution_count": null,
   "metadata": {},
   "outputs": [],
   "source": [
    "colors[0]    ## red"
   ]
  },
  {
   "cell_type": "code",
   "execution_count": null,
   "metadata": {
    "scrolled": true
   },
   "outputs": [],
   "source": [
    "colors[2]    ## green"
   ]
  },
  {
   "cell_type": "code",
   "execution_count": null,
   "metadata": {},
   "outputs": [],
   "source": [
    "len(colors)  ## 3"
   ]
  },
  {
   "cell_type": "markdown",
   "metadata": {},
   "source": [
    "### Dict (Python dictionary)"
   ]
  },
  {
   "cell_type": "markdown",
   "metadata": {},
   "source": [
    "Python also has a **dictionary** structure called a \"dict\". The contents of a dict can be written as a series of key:value pairs within braces { }, e.g. dict = {key1:value1, key2:value2, ... }. The \"empty dict\" is just an empty pair of curly braces {}."
   ]
  },
  {
   "cell_type": "code",
   "execution_count": null,
   "metadata": {
    "collapsed": true
   },
   "outputs": [],
   "source": [
    "## Can build up a dict by starting with the the empty dict {}\n",
    "## and storing key/value pairs into the dict like this:\n",
    "## dict[key] = value-for-that-key\n",
    "dict = {}\n",
    "dict['a'] = 'alpha'\n",
    "dict['g'] = 'gamma'\n",
    "dict['o'] = 'omega'"
   ]
  },
  {
   "cell_type": "code",
   "execution_count": null,
   "metadata": {},
   "outputs": [],
   "source": [
    "dict"
   ]
  },
  {
   "cell_type": "code",
   "execution_count": null,
   "metadata": {},
   "outputs": [],
   "source": [
    "dict['a']     ## Simple lookup, returns 'alpha'"
   ]
  },
  {
   "cell_type": "code",
   "execution_count": null,
   "metadata": {
    "collapsed": true
   },
   "outputs": [],
   "source": [
    "dict['a'] = 6       ## Put new key/value into dict"
   ]
  },
  {
   "cell_type": "code",
   "execution_count": null,
   "metadata": {},
   "outputs": [],
   "source": [
    "'a' in dict         ## True"
   ]
  },
  {
   "cell_type": "markdown",
   "metadata": {},
   "source": [
    "### Errors"
   ]
  },
  {
   "cell_type": "markdown",
   "metadata": {},
   "source": [
    "The Python language has a very specific syntax. If code is not written in that syntax, running a cell will result in an **error** and show an error message.\n",
    "\n",
    "Error messages can be confusing, but they can also give information about what is wrong."
   ]
  },
  {
   "cell_type": "code",
   "execution_count": null,
   "metadata": {},
   "outputs": [],
   "source": [
    "# Un-comment the next line, then run the cell to create an error\n",
    "# dict['b']"
   ]
  },
  {
   "cell_type": "markdown",
   "metadata": {},
   "source": [
    "### Importing Library Functions"
   ]
  },
  {
   "cell_type": "markdown",
   "metadata": {},
   "source": [
    "Python defines a very large number of functions, including the operator functions mentioned in the preceding section, but does not make all of their names available by default. Instead, it organizes the functions and other quantities that it knows about into modules, which together comprise the Python Library. To use these elements, one imports them.\n",
    "These libraries below are what we are using in this demo."
   ]
  },
  {
   "cell_type": "code",
   "execution_count": 2,
   "metadata": {
    "collapsed": true
   },
   "outputs": [],
   "source": [
    "import pandas as pd\n",
    "import json\n",
    "from collections import Counter\n",
    "from nltk.corpus import stopwords\n",
    "from nltk.tokenize import word_tokenize\n",
    "from nltk.corpus import wordnet as wn\n",
    "from nltk.stem.snowball import SnowballStemmer"
   ]
  },
  {
   "cell_type": "markdown",
   "metadata": {},
   "source": [
    "## Data Source\n",
    "http://www.presidency.ucsb.edu/2016_election.php "
   ]
  },
  {
   "cell_type": "code",
   "execution_count": 6,
   "metadata": {
    "scrolled": true
   },
   "outputs": [],
   "source": [
    "# All the csv files are prepared.\n",
    "# We are not going to cover web scraping but you can see the code later if you have interest.\n",
    "\n",
    "# Loading csv data to jupyter notebook and save it as table.\n",
    "\n",
    "clinton_press = pd.read_csv(\"../mft_data/csv/Clinton_p.csv\")"
   ]
  },
  {
   "cell_type": "markdown",
   "metadata": {},
   "source": [
    "## Using DataFrame in pandas\n"
   ]
  },
  {
   "cell_type": "markdown",
   "metadata": {},
   "source": [
    "A DataFrame is a 2-dimensional labeled data structure with columns of potentially different types. You can think of it like a spreadsheet or table.\n",
    "\n",
    "Each row represents one **entry**: in this case, a speech, statement, or press release. Each column column describes an **aspect** of entries, like the title or date of the speech.\n",
    "\n",
    "The `head()` function shows us the first five rows of the table."
   ]
  },
  {
   "cell_type": "code",
   "execution_count": 7,
   "metadata": {},
   "outputs": [
    {
     "data": {
      "text/html": [
       "<div>\n",
       "<style>\n",
       "    .dataframe thead tr:only-child th {\n",
       "        text-align: right;\n",
       "    }\n",
       "\n",
       "    .dataframe thead th {\n",
       "        text-align: left;\n",
       "    }\n",
       "\n",
       "    .dataframe tbody tr th {\n",
       "        vertical-align: top;\n",
       "    }\n",
       "</style>\n",
       "<table border=\"1\" class=\"dataframe\">\n",
       "  <thead>\n",
       "    <tr style=\"text-align: right;\">\n",
       "      <th></th>\n",
       "      <th>Candidate</th>\n",
       "      <th>Party</th>\n",
       "      <th>Type</th>\n",
       "      <th>Date</th>\n",
       "      <th>Title</th>\n",
       "      <th>Speech</th>\n",
       "    </tr>\n",
       "  </thead>\n",
       "  <tbody>\n",
       "    <tr>\n",
       "      <th>0</th>\n",
       "      <td>Hillary Clinton</td>\n",
       "      <td>D</td>\n",
       "      <td>p</td>\n",
       "      <td>January 20, 2007</td>\n",
       "      <td>Press Release - Clinton Candidacy Garners Huge...</td>\n",
       "      <td>Campaign web site signs up 100 new members per...</td>\n",
       "    </tr>\n",
       "    <tr>\n",
       "      <th>1</th>\n",
       "      <td>Hillary Clinton</td>\n",
       "      <td>D</td>\n",
       "      <td>p</td>\n",
       "      <td>January 20, 2007</td>\n",
       "      <td>FYI: New Washington Post-ABC Poll Shows Senato...</td>\n",
       "      <td>The new Washington Post-ABC poll out this afte...</td>\n",
       "    </tr>\n",
       "    <tr>\n",
       "      <th>2</th>\n",
       "      <td>Hillary Clinton</td>\n",
       "      <td>D</td>\n",
       "      <td>p</td>\n",
       "      <td>January 21, 2007</td>\n",
       "      <td>Press Release - 24 Hours Later, the Reviews Ar...</td>\n",
       "      <td>Top pundits on Hillary's announcement: 'brilli...</td>\n",
       "    </tr>\n",
       "    <tr>\n",
       "      <th>3</th>\n",
       "      <td>Hillary Clinton</td>\n",
       "      <td>D</td>\n",
       "      <td>p</td>\n",
       "      <td>January 22, 2007</td>\n",
       "      <td>Press Release - Conversation Begins Tonight</td>\n",
       "      <td>Senator Clinton's first video webcast is live ...</td>\n",
       "    </tr>\n",
       "    <tr>\n",
       "      <th>4</th>\n",
       "      <td>Hillary Clinton</td>\n",
       "      <td>D</td>\n",
       "      <td>p</td>\n",
       "      <td>January 25, 2007</td>\n",
       "      <td>Press Release - Clinton Hires Former Harkin Ch...</td>\n",
       "      <td>Fourth-generation Iowan is veteran of numerous...</td>\n",
       "    </tr>\n",
       "  </tbody>\n",
       "</table>\n",
       "</div>"
      ],
      "text/plain": [
       "          Candidate Party Type              Date  \\\n",
       "0  Hillary Clinton      D    p  January 20, 2007   \n",
       "1  Hillary Clinton      D    p  January 20, 2007   \n",
       "2  Hillary Clinton      D    p  January 21, 2007   \n",
       "3  Hillary Clinton      D    p  January 22, 2007   \n",
       "4  Hillary Clinton      D    p  January 25, 2007   \n",
       "\n",
       "                                               Title  \\\n",
       "0  Press Release - Clinton Candidacy Garners Huge...   \n",
       "1  FYI: New Washington Post-ABC Poll Shows Senato...   \n",
       "2  Press Release - 24 Hours Later, the Reviews Ar...   \n",
       "3        Press Release - Conversation Begins Tonight   \n",
       "4  Press Release - Clinton Hires Former Harkin Ch...   \n",
       "\n",
       "                                              Speech  \n",
       "0  Campaign web site signs up 100 new members per...  \n",
       "1  The new Washington Post-ABC poll out this afte...  \n",
       "2  Top pundits on Hillary's announcement: 'brilli...  \n",
       "3  Senator Clinton's first video webcast is live ...  \n",
       "4  Fourth-generation Iowan is veteran of numerous...  "
      ]
     },
     "execution_count": 7,
     "metadata": {},
     "output_type": "execute_result"
    }
   ],
   "source": [
    "clinton_press.head()"
   ]
  },
  {
   "cell_type": "markdown",
   "metadata": {},
   "source": [
    "While `shape` shows the number of rows and columns."
   ]
  },
  {
   "cell_type": "code",
   "execution_count": 5,
   "metadata": {
    "scrolled": true
   },
   "outputs": [
    {
     "data": {
      "text/plain": [
       "(1925, 6)"
      ]
     },
     "execution_count": 5,
     "metadata": {},
     "output_type": "execute_result"
    }
   ],
   "source": [
    "# A csv file is either campaign speeches, statements or press releases of a candidate.\n",
    "# This is an example of candiate \"Hillary\" and her press releases\n",
    "# A single press release is saved in \"Speech\" column\n",
    "# How many press releases do we have?\n",
    "clinton_press.shape"
   ]
  },
  {
   "cell_type": "markdown",
   "metadata": {},
   "source": [
    "To select a single column, put the column name in square brackets next to the DataFrame (similar to looking up an entry in a Python dictionary)."
   ]
  },
  {
   "cell_type": "code",
   "execution_count": 41,
   "metadata": {},
   "outputs": [
    {
     "data": {
      "text/plain": [
       "0    Press Release - Clinton Candidacy Garners Huge...\n",
       "1    FYI: New Washington Post-ABC Poll Shows Senato...\n",
       "2    Press Release - 24 Hours Later, the Reviews Ar...\n",
       "3          Press Release - Conversation Begins Tonight\n",
       "4    Press Release - Clinton Hires Former Harkin Ch...\n",
       "Name: Title, dtype: object"
      ]
     },
     "execution_count": 41,
     "metadata": {},
     "output_type": "execute_result"
    }
   ],
   "source": [
    "# Selecting a single column\n",
    "title_col = clinton_press['Title']\n",
    "title_col.head()"
   ]
  },
  {
   "cell_type": "markdown",
   "metadata": {},
   "source": [
    "Items in a column can be accessed like items in a Python list using square brackets."
   ]
  },
  {
   "cell_type": "code",
   "execution_count": 42,
   "metadata": {},
   "outputs": [
    {
     "data": {
      "text/plain": [
       "'Press Release - Clinton Candidacy Garners Huge Online Response'"
      ]
     },
     "execution_count": 42,
     "metadata": {},
     "output_type": "execute_result"
    }
   ],
   "source": [
    "title_col[0]"
   ]
  },
  {
   "cell_type": "markdown",
   "metadata": {},
   "source": [
    "Select a row using `.loc[]` with the number of the row inside the brackets. \n",
    "\n",
    "A range of rows can be selected by giving two numbers separated by a colon. The first number is the first row returned, and the last number is the last row returned."
   ]
  },
  {
   "cell_type": "code",
   "execution_count": 49,
   "metadata": {},
   "outputs": [
    {
     "data": {
      "text/plain": [
       "Candidate                                     Hillary Clinton \n",
       "Party                                                        D\n",
       "Type                                                         p\n",
       "Date                                          January 20, 2007\n",
       "Title        FYI: New Washington Post-ABC Poll Shows Senato...\n",
       "Speech       The new Washington Post-ABC poll out this afte...\n",
       "Name: 1, dtype: object"
      ]
     },
     "execution_count": 49,
     "metadata": {},
     "output_type": "execute_result"
    }
   ],
   "source": [
    "# Locate the 1st row\n",
    "clinton_press.loc[1]"
   ]
  },
  {
   "cell_type": "code",
   "execution_count": 44,
   "metadata": {},
   "outputs": [
    {
     "data": {
      "text/html": [
       "<div>\n",
       "<style>\n",
       "    .dataframe thead tr:only-child th {\n",
       "        text-align: right;\n",
       "    }\n",
       "\n",
       "    .dataframe thead th {\n",
       "        text-align: left;\n",
       "    }\n",
       "\n",
       "    .dataframe tbody tr th {\n",
       "        vertical-align: top;\n",
       "    }\n",
       "</style>\n",
       "<table border=\"1\" class=\"dataframe\">\n",
       "  <thead>\n",
       "    <tr style=\"text-align: right;\">\n",
       "      <th></th>\n",
       "      <th>Candidate</th>\n",
       "      <th>Party</th>\n",
       "      <th>Type</th>\n",
       "      <th>Date</th>\n",
       "      <th>Title</th>\n",
       "      <th>Speech</th>\n",
       "    </tr>\n",
       "  </thead>\n",
       "  <tbody>\n",
       "    <tr>\n",
       "      <th>50</th>\n",
       "      <td>Hillary Clinton</td>\n",
       "      <td>D</td>\n",
       "      <td>p</td>\n",
       "      <td>April 1, 2007</td>\n",
       "      <td>Press Release - Clinton Reports $36 Million in...</td>\n",
       "      <td>Total includes $26 million raised since Jan 20...</td>\n",
       "    </tr>\n",
       "    <tr>\n",
       "      <th>51</th>\n",
       "      <td>Hillary Clinton</td>\n",
       "      <td>D</td>\n",
       "      <td>p</td>\n",
       "      <td>April 2, 2007</td>\n",
       "      <td>Gov. Corzine, NJ Officials Endorse Clinton</td>\n",
       "      <td>The Clinton Campaign today announced the endor...</td>\n",
       "    </tr>\n",
       "    <tr>\n",
       "      <th>52</th>\n",
       "      <td>Hillary Clinton</td>\n",
       "      <td>D</td>\n",
       "      <td>p</td>\n",
       "      <td>April 3, 2007</td>\n",
       "      <td>Press Release - Clinton Launches Petition Call...</td>\n",
       "      <td>Bush Renews Veto Threat Today, Defying Congres...</td>\n",
       "    </tr>\n",
       "    <tr>\n",
       "      <th>53</th>\n",
       "      <td>Hillary Clinton</td>\n",
       "      <td>D</td>\n",
       "      <td>p</td>\n",
       "      <td>April 5, 2007</td>\n",
       "      <td>Press Release - Nine More NH State Representat...</td>\n",
       "      <td>NH House Support Continues to Grow; Now Totals...</td>\n",
       "    </tr>\n",
       "    <tr>\n",
       "      <th>54</th>\n",
       "      <td>Hillary Clinton</td>\n",
       "      <td>D</td>\n",
       "      <td>p</td>\n",
       "      <td>April 6, 2007</td>\n",
       "      <td>Clinton to Participate in South Carolina Debate</td>\n",
       "      <td>The Clinton campaign announced today that Hill...</td>\n",
       "    </tr>\n",
       "    <tr>\n",
       "      <th>55</th>\n",
       "      <td>Hillary Clinton</td>\n",
       "      <td>D</td>\n",
       "      <td>p</td>\n",
       "      <td>April 10, 2007</td>\n",
       "      <td>Press Release - From the Senate: Senator Clint...</td>\n",
       "      <td>Visit to three Upstate New York VA &amp; Military ...</td>\n",
       "    </tr>\n",
       "  </tbody>\n",
       "</table>\n",
       "</div>"
      ],
      "text/plain": [
       "           Candidate Party Type            Date  \\\n",
       "50  Hillary Clinton      D    p   April 1, 2007   \n",
       "51  Hillary Clinton      D    p   April 2, 2007   \n",
       "52  Hillary Clinton      D    p   April 3, 2007   \n",
       "53  Hillary Clinton      D    p   April 5, 2007   \n",
       "54  Hillary Clinton      D    p   April 6, 2007   \n",
       "55  Hillary Clinton      D    p  April 10, 2007   \n",
       "\n",
       "                                                Title  \\\n",
       "50  Press Release - Clinton Reports $36 Million in...   \n",
       "51         Gov. Corzine, NJ Officials Endorse Clinton   \n",
       "52  Press Release - Clinton Launches Petition Call...   \n",
       "53  Press Release - Nine More NH State Representat...   \n",
       "54    Clinton to Participate in South Carolina Debate   \n",
       "55  Press Release - From the Senate: Senator Clint...   \n",
       "\n",
       "                                               Speech  \n",
       "50  Total includes $26 million raised since Jan 20...  \n",
       "51  The Clinton Campaign today announced the endor...  \n",
       "52  Bush Renews Veto Threat Today, Defying Congres...  \n",
       "53  NH House Support Continues to Grow; Now Totals...  \n",
       "54  The Clinton campaign announced today that Hill...  \n",
       "55  Visit to three Upstate New York VA & Military ...  "
      ]
     },
     "execution_count": 44,
     "metadata": {},
     "output_type": "execute_result"
    }
   ],
   "source": [
    "# Locate the 50th-55th rows\n",
    "clinton_press.loc[50:55]"
   ]
  },
  {
   "cell_type": "markdown",
   "metadata": {},
   "source": [
    "These filtering tools help us in text analysis. In the next section, we'll analyze the first speech in the DataFrame. Run the next cell to select the speech and save it to a variable."
   ]
  },
  {
   "cell_type": "code",
   "execution_count": 38,
   "metadata": {},
   "outputs": [
    {
     "data": {
      "text/plain": [
       "'Campaign web site signs up 100 new members per minute, racks up 10,000 messages of support within 6 hours of announcement  Clinton candidacy hailed online as \"profoundly moving\"; \"top tier\"; \"exciting\"; \"remarkable\"; \"smart\"; and \"news of a generation\" Demonstrating the groundswell of enthusiasm generated by her historic candidacy, Senator Hillary Rodham Clinton\\'s announcement for President lit up the internet today, garnering rave reviews in the blogosphere, and thousands of supporters flocking to her web site each hour. Within just six hours of the announcement going live on her campaign web site, Senator Clinton\\'s candidacy attracted thousands of messages of support, and widespread accolades online. Overwhelming Response Within Hours of Going Live:  SIGN UPS = 100 per minute MESSAGES OF SUPPORT = 10,000 VIDEO WEBCAST SIGN-UPS = 7,700 BLOG CONTEST SUBMISSIONS = 2,200  Bloggers Give Clinton Announcement Rave Reviews: MYDD (Jerome Armstrong) - \"And as blogger savvy as John Edwards was in outreach, Clinton internet team had the emails of bloggers to notify them separate from the press (no such outreach from the Obama camp). The website has the clean, Kerry-2004 look about it. A smart \"write our first post\" call to action on the website. The announcement of \"an unprecedented series of video webcasts beginning Monday, January 22nd at 7pm EST for three nights\" creates a quick narrative of interaction and response around Bush\\'s SOTU address.\" DAILY KOS DIARY (nyceve) - \"I\\'m an open and honest person, and I\\'m profoundly moved by her announcement. What was unimaginable just a few decades ago, is now something we can almost touch.\" THE CARPETBAGGER REPORT - \"Clinton enters the race, without a doubt, at the top of the top tier. I\\'ve heard all the various concerns about her candidacy, but I don\\'t have any doubt that she has what it takes to win. Indeed, Clinton brings an enormous amount of talent, experience, and intelligence to the table.\" TAYLOR MARSH - \"Sitting in a living room setting, Senator Hillary Clinton made one simple statement that changed the landscape of the \\'08 presidential tournament to come. (To add, I got an email about this event this morning just after 6:00 a.m.) Because when the first woman to run for president, with an actual chance of winning, puts her name and reputation on the line, it becomes news of the day, week, even a generation.\" TALK LEFT - It is exciting to have a serious female candidate for President. OUTSIDE THE BELTWAY - After nearly eight years of speculation, Hillary Clinton has announced her candidacy for president.... she has done a remarkable job these past several years getting out of her husband\\'s shadow, positioning herself as more moderate than previously thought, and garnering bipartisan praise for collegiality and hard work in the Senate. DAILY KOS DIARY (Yellow Dog Blue) - \"How has she survived and thrived? Not by heavying up her armor. Not by engaging and overwhelming her opponents. Not even by appealing for public sympathy. Instead Hillary has just gone her business being a Senator, building personal relationships and support, getting and using power. And I really admire that.\" SEEING THE FOREST (Dave Johnson) - \"People say Hillary Clinton has \"baggage\" and is \"divisive.\" Actually she has been investigated more thoroughly than almost anyone in the country\\'s history and they found nothing at all. It isn\\'t Hillary who is divisive, it\\'s the people making all the accusations.\"'"
      ]
     },
     "execution_count": 38,
     "metadata": {},
     "output_type": "execute_result"
    }
   ],
   "source": [
    "a_speech = clinton_press[\"Speech\"][0]\n",
    "a_speech"
   ]
  },
  {
   "cell_type": "markdown",
   "metadata": {},
   "source": [
    "## Using String and split\n",
    "\n",
    "When you break a large string down into smaller chunks, or strings.\n",
    "\n"
   ]
  },
  {
   "cell_type": "code",
   "execution_count": null,
   "metadata": {},
   "outputs": [],
   "source": [
    "sentence = \"This is random text we’re going to split apart\"\n",
    "words = sentence.split(\" \")\n",
    "words"
   ]
  },
  {
   "cell_type": "code",
   "execution_count": null,
   "metadata": {
    "collapsed": true
   },
   "outputs": [],
   "source": [
    "# Splitting speech by words\n",
    "by_words = a_speech.split(' ')"
   ]
  },
  {
   "cell_type": "markdown",
   "metadata": {},
   "source": [
    "## Counting words\n",
    "A Counter is a dict subclass for counting. most_common() returns all elements in the counter."
   ]
  },
  {
   "cell_type": "code",
   "execution_count": null,
   "metadata": {},
   "outputs": [],
   "source": [
    "# Counting the number of words showed up in a speech\n",
    "count_words_freq = Counter(by_words)\n",
    "count_words_freq"
   ]
  },
  {
   "cell_type": "code",
   "execution_count": null,
   "metadata": {},
   "outputs": [],
   "source": [
    "# Guess what are the most frequent words in it\n",
    "# Is it what you expected?\n",
    "# Why? / Why not?\n",
    "count_words_freq.most_common()"
   ]
  },
  {
   "cell_type": "markdown",
   "metadata": {},
   "source": [
    "## Data Processing"
   ]
  },
  {
   "cell_type": "markdown",
   "metadata": {},
   "source": [
    "Some libraries are huge. It takes time to retrieve the data from the libraries.\n",
    "So we prepared stopwords from  \"from nltk.corpus import stopwords\".\n",
    "\n",
    "A **stopword** is a word that is often filtered out during text processing. Stopwords are usually common function words, like 'the', 'a', or 'and'. These words are used frequently but aren't very informative. Filtering them out results in more informative and interesting analysis."
   ]
  },
  {
   "cell_type": "code",
   "execution_count": null,
   "metadata": {},
   "outputs": [],
   "source": [
    "# stop_words = set(stopwords.words(\"english\"))\n",
    "with open('stopwords.json') as json_data:\n",
    "    stop_words_json = json.load(json_data)\n",
    "    \n",
    "# with open('foundations_dict.json') as json_data:\n",
    "#     mft_dict = json.load(json_data)\n",
    "stop_words = stop_words_json['words']\n",
    "stop_words"
   ]
  },
  {
   "cell_type": "markdown",
   "metadata": {},
   "source": [
    "### Functions"
   ]
  },
  {
   "cell_type": "markdown",
   "metadata": {},
   "source": [
    "Here are simple rules to define a function in Python. \n",
    "\n",
    "Function blocks begin with the keyword `def` followed by the function name and parentheses ( ( ) ). \n",
    "\n",
    "Any input parameters or arguments should be placed within these parentheses. You can also define parameters inside these parentheses."
   ]
  },
  {
   "cell_type": "markdown",
   "metadata": {},
   "source": [
    "Function definitions consist of a def statement that indicates a `<name>` and a comma-separated list of named `<formal parameters>`, then a return statement, called the function body, that specifies the `<return expression>` of the function, which is an expression to be evaluated whenever the function is applied:\n",
    "\n"
   ]
  },
  {
   "cell_type": "code",
   "execution_count": null,
   "metadata": {
    "collapsed": true
   },
   "outputs": [],
   "source": [
    "# def <name>(<formal parameters>):\n",
    "#    return <return expression>"
   ]
  },
  {
   "cell_type": "code",
   "execution_count": null,
   "metadata": {},
   "outputs": [],
   "source": [
    "def three():\n",
    "    return 3\n",
    "\n",
    "three()"
   ]
  },
  {
   "cell_type": "markdown",
   "metadata": {},
   "source": [
    "The second line must be indented — most programmers use four spaces to indent. The return expression is not evaluated right away; it is stored as part of the newly defined function and evaluated only when the function is eventually applied."
   ]
  },
  {
   "cell_type": "markdown",
   "metadata": {},
   "source": [
    "I defined a function whose name is without_stopwords. I will explain how this works. However, it is okay for you not to understand the details of the code inside the function. All you have to know is what the function does and how to use it."
   ]
  },
  {
   "cell_type": "code",
   "execution_count": null,
   "metadata": {
    "collapsed": true
   },
   "outputs": [],
   "source": [
    "def without_stopwords(a_speech):\n",
    "    \"\"\" input(a_speech): string type of a speech\n",
    "        output : list of words in the speech without stop words\n",
    "        \n",
    "        >>> exstr = \"This is an example showing off stop word filter\"\n",
    "        >>> without_stopwords(exstr)\n",
    "        ... ['This', 'example', 'showing', 'stop', 'word', 'filter']\n",
    "    \"\"\"\n",
    "    a_speech = word_tokenize(a_speech)\n",
    "    filtered = []\n",
    "    #this is for-loop and it makes program repeat the following lines of code.\n",
    "    for word in a_speech:\n",
    "        #if is conditional statement that makes program execute the code when the condition is true.\n",
    "        if word not in stop_words:\n",
    "            filtered.append(word)\n",
    "    return filtered"
   ]
  },
  {
   "cell_type": "code",
   "execution_count": null,
   "metadata": {
    "collapsed": true
   },
   "outputs": [],
   "source": [
    "exstr = \"This is an example showing off stop word filter\""
   ]
  },
  {
   "cell_type": "code",
   "execution_count": null,
   "metadata": {},
   "outputs": [],
   "source": [
    "without_stopwords(exstr)"
   ]
  },
  {
   "cell_type": "code",
   "execution_count": null,
   "metadata": {
    "collapsed": true
   },
   "outputs": [],
   "source": [
    "a_speech"
   ]
  },
  {
   "cell_type": "code",
   "execution_count": null,
   "metadata": {
    "collapsed": true
   },
   "outputs": [],
   "source": [
    "without_stopwords(a_speech)"
   ]
  },
  {
   "cell_type": "code",
   "execution_count": null,
   "metadata": {
    "collapsed": true
   },
   "outputs": [],
   "source": [
    "list_of_words_c = without_stopwords(a_speech)"
   ]
  },
  {
   "cell_type": "code",
   "execution_count": null,
   "metadata": {
    "collapsed": true
   },
   "outputs": [],
   "source": [
    "Counter(list_of_words_c).most_common()"
   ]
  },
  {
   "cell_type": "markdown",
   "metadata": {},
   "source": [
    "The function below is to filter special characters, such as commas, quotes, colons and so on."
   ]
  },
  {
   "cell_type": "code",
   "execution_count": null,
   "metadata": {
    "collapsed": true
   },
   "outputs": [],
   "source": [
    "def without_words_set(a_speech, a_set):\n",
    "    a_speech = word_tokenize(a_speech)\n",
    "    filtered = []\n",
    "    for word in a_speech:\n",
    "        if word not in a_set:\n",
    "            filtered.append(word)\n",
    "    return filtered"
   ]
  },
  {
   "cell_type": "code",
   "execution_count": null,
   "metadata": {
    "collapsed": true
   },
   "outputs": [],
   "source": [
    "stop_words_set = set(stop_words)"
   ]
  },
  {
   "cell_type": "code",
   "execution_count": null,
   "metadata": {
    "collapsed": true
   },
   "outputs": [],
   "source": [
    "filter_set = {',', '.', '1', '(', ')','*',':','2', '\\'', ';', '?', '=','-', '``', \"''\"}"
   ]
  },
  {
   "cell_type": "code",
   "execution_count": null,
   "metadata": {
    "collapsed": true
   },
   "outputs": [],
   "source": [
    "custom_filter = stop_words_set | filter_set"
   ]
  },
  {
   "cell_type": "code",
   "execution_count": null,
   "metadata": {
    "collapsed": true
   },
   "outputs": [],
   "source": [
    "custom_filter"
   ]
  },
  {
   "cell_type": "code",
   "execution_count": null,
   "metadata": {
    "collapsed": true,
    "scrolled": true
   },
   "outputs": [],
   "source": [
    "filtered = without_words_set(a_speech, custom_filter)\n",
    "filtered"
   ]
  },
  {
   "cell_type": "code",
   "execution_count": null,
   "metadata": {
    "collapsed": true
   },
   "outputs": [],
   "source": [
    "Counter(filtered).most_common(15)"
   ]
  },
  {
   "cell_type": "markdown",
   "metadata": {},
   "source": [
    "## Counts words 2\n",
    "Build your own dictionary you want to count and run it"
   ]
  },
  {
   "cell_type": "code",
   "execution_count": null,
   "metadata": {
    "collapsed": true
   },
   "outputs": [],
   "source": [
    "def words_to_dictionary(words):\n",
    "    \"\"\"Making a dictionary with given words. \n",
    "    Set key as each word and set value to initail counting 0\"\"\"\n",
    "    dic = {}\n",
    "    for word in words:\n",
    "        dic[word] = 0\n",
    "    return dic"
   ]
  },
  {
   "cell_type": "code",
   "execution_count": null,
   "metadata": {
    "collapsed": true
   },
   "outputs": [],
   "source": [
    "my_words = [\"Clinton\", \"Hillary\", \"action\", \"her\"]\n",
    "my_dictionary = words_to_dictionary(my_words)\n",
    "my_dictionary"
   ]
  },
  {
   "cell_type": "code",
   "execution_count": null,
   "metadata": {
    "collapsed": true
   },
   "outputs": [],
   "source": [
    "def count_words(dictionary, speech):\n",
    "    speech_words = speech.split(' ')\n",
    "    for word in speech_words:\n",
    "        if word in dictionary:\n",
    "            dictionary[word] = dictionary[word] + 1\n",
    "    return dictionary\n",
    "count_words(my_dictionary, a_speech)"
   ]
  },
  {
   "cell_type": "markdown",
   "metadata": {},
   "source": [
    "### Assignment: Code your dictionary into Python"
   ]
  },
  {
   "cell_type": "markdown",
   "metadata": {},
   "source": [
    "First, make a list of the words you found corresponding to each foundation. Assign them to the variable names below by filling in the lists."
   ]
  },
  {
   "cell_type": "code",
   "execution_count": null,
   "metadata": {
    "collapsed": true
   },
   "outputs": [],
   "source": [
    "# Make 6 lists. \n",
    "# Tip: each word needs to go in quotation marks and each string must be separated by commas\n",
    "care_words = []\n",
    "authority_words = []\n",
    "loyalty_words = []\n",
    "sanctity_words = []\n",
    "fairness_words = []\n",
    "liberty_words = []\n"
   ]
  },
  {
   "cell_type": "markdown",
   "metadata": {},
   "source": [
    "Next, make your dictionary by creating a new dictionary with the foundations as keys and your lists as the values."
   ]
  },
  {
   "cell_type": "code",
   "execution_count": null,
   "metadata": {
    "collapsed": true
   },
   "outputs": [],
   "source": [
    "# \n",
    "my_dict = {'test': 1}"
   ]
  },
  {
   "cell_type": "markdown",
   "metadata": {},
   "source": [
    "Finally, run the next cell to write your dictionary to a file."
   ]
  },
  {
   "cell_type": "code",
   "execution_count": null,
   "metadata": {
    "collapsed": true
   },
   "outputs": [],
   "source": [
    "# Run this cell to write dictionary to a file\n",
    "import json \n",
    "# convert dictionary to a JSON-formatted string\n",
    "with open('../mft_data/my_dict.json', 'w') as fp:\n",
    "    json.dump(my_dict, fp, sort_keys=True, indent=4)"
   ]
  },
  {
   "cell_type": "markdown",
   "metadata": {},
   "source": [
    "## What's next? \n",
    "\n",
    "### Module 02: Moral Foundations Analysis\n",
    "### Module 03: The Rhetoric of Data"
   ]
  },
  {
   "cell_type": "markdown",
   "metadata": {
    "collapsed": true
   },
   "source": [
    "Notebook developed by: Seungwoo Sean Son,  Keeley Takimoto, Sujude Dalieh\n",
    "\n",
    "Data Science Modules: http://data.berkeley.edu/education/modules\n",
    "\n",
    "Some materials are from http://composingprograms.com and https://developers.google.com/edu/python"
   ]
  }
 ],
 "metadata": {
  "kernelspec": {
   "display_name": "Python 3",
   "language": "python",
   "name": "python3"
  },
  "language_info": {
   "codemirror_mode": {
    "name": "ipython",
    "version": 3
   },
   "file_extension": ".py",
   "mimetype": "text/x-python",
   "name": "python",
   "nbconvert_exporter": "python",
   "pygments_lexer": "ipython3",
   "version": "3.6.1"
  }
 },
 "nbformat": 4,
 "nbformat_minor": 2
}
