{
 "cells": [
  {
   "cell_type": "markdown",
   "metadata": {},
   "source": [
    "# XRHETOR-R1A Data Science Module \n",
    "\n",
    "## Election Data Processing - day1\n",
    "\n",
    "## Professor Amy Tick \n",
    "\n",
    "A brief description of the notebook and how it fits into the overall module and domain.\n",
    "\n",
    "Estimated Time: X minutes"
   ]
  },
  {
   "cell_type": "markdown",
   "metadata": {},
   "source": [
    "## __Topics Covered__\n",
    "\n",
    "### Data Science Intro (Details will be added to notebook)\n",
    "- Data Science? <br>\n",
    "- Python basic\n",
    "- Environment (Jupyter Notebook /Data hub)<br>\n",
    "\n",
    "### Data\n",
    "- Election 2016 <br> http://www.presidency.ucsb.edu/2016_election.php <br>\n",
    "- Web Crawling (to CSV)\n",
    "\n",
    "### What we do\n",
    "- NLP(Natural Language Processing)\n",
    "\n",
    "### How we do\n",
    "- Word Counting\n",
    "\n",
    "### How we count\n",
    "- Most frequent words\n",
    "- Five Moral Foundation (Care, Fairness, Loyalty, Authority, Sanctity)\n",
    "\n",
    "### What do you need to know\n",
    "- csv\n",
    "- variables\n",
    "- table\n",
    "- dictionary\n",
    "- loop/function"
   ]
  },
  {
   "cell_type": "markdown",
   "metadata": {},
   "source": [
    "**Dependencies: datascience, nltk, pandas"
   ]
  },
  {
   "cell_type": "markdown",
   "metadata": {},
   "source": [
    "## What is Datascience?\n",
    "<img src=\"http://www.kiwidatascience.com/wp/wp-content/uploads/2016/01/data_scientist.png\" style=\"width: 500px; height: 500px;\\\" />"
   ]
  },
  {
   "cell_type": "markdown",
   "metadata": {},
   "source": [
    "## The Jupyter Notebook\n",
    "\n",
    "Note that this page is divided into what are called \"cells\". For example, the following cell is a \"code cell\" where you will write your code. You'll see a In [ ]: next to each cell for code, which is a counter for the cells you have run. You can navigate cells by clicking on them or by using the up and down arrows. Cells will be highlighted as you navigate them."
   ]
  },
  {
   "cell_type": "code",
   "execution_count": null,
   "metadata": {
    "collapsed": true
   },
   "outputs": [],
   "source": [
    "# this is a code cell"
   ]
  },
  {
   "cell_type": "markdown",
   "metadata": {},
   "source": [
    "## Python"
   ]
  },
  {
   "cell_type": "markdown",
   "metadata": {},
   "source": [
    "### Expressions"
   ]
  },
  {
   "cell_type": "code",
   "execution_count": null,
   "metadata": {
    "collapsed": true
   },
   "outputs": [],
   "source": [
    "# number expression\n",
    "3 * 4"
   ]
  },
  {
   "cell_type": "code",
   "execution_count": null,
   "metadata": {
    "collapsed": true
   },
   "outputs": [],
   "source": [
    "24 * 7"
   ]
  },
  {
   "cell_type": "markdown",
   "metadata": {},
   "source": [
    "### Names (Identifiers)"
   ]
  },
  {
   "cell_type": "code",
   "execution_count": null,
   "metadata": {
    "collapsed": true
   },
   "outputs": [],
   "source": [
    "#if you want to save it for later use\n",
    "hours_per_week = 24 * 7"
   ]
  },
  {
   "cell_type": "code",
   "execution_count": null,
   "metadata": {
    "collapsed": true
   },
   "outputs": [],
   "source": [
    "hours_per_week * 60"
   ]
  },
  {
   "cell_type": "code",
   "execution_count": null,
   "metadata": {
    "collapsed": true
   },
   "outputs": [],
   "source": [
    "seconds_per_year = 60 * 60 * 24 * 365"
   ]
  },
  {
   "cell_type": "code",
   "execution_count": null,
   "metadata": {
    "collapsed": true
   },
   "outputs": [],
   "source": [
    "seconds_per_year"
   ]
  },
  {
   "cell_type": "code",
   "execution_count": null,
   "metadata": {
    "collapsed": true
   },
   "outputs": [],
   "source": [
    "seconds_per_hour = 60 * 60\n",
    "hours_per_year = 24 * 365\n",
    "seconds_per_year = seconds_per_hour * hours_per_year\n",
    "seconds_per_year"
   ]
  },
  {
   "cell_type": "markdown",
   "metadata": {},
   "source": [
    "### Call Expressions"
   ]
  },
  {
   "cell_type": "markdown",
   "metadata": {},
   "source": [
    "The most important kind of compound expression is a call expression, which applies a function to some arguments. Recall from algebra that the mathematical notion of a function is a mapping from some input arguments to an output value. The way in which Python expresses function application is the same as in conventional mathematics."
   ]
  },
  {
   "cell_type": "markdown",
   "metadata": {},
   "source": [
    "For instance, the abs function maps its single inputs to a single output, which is the absolute value of the inputs. "
   ]
  },
  {
   "cell_type": "code",
   "execution_count": null,
   "metadata": {
    "collapsed": true
   },
   "outputs": [],
   "source": [
    "abs(-5)"
   ]
  },
  {
   "cell_type": "markdown",
   "metadata": {},
   "source": [
    "For instance, the max function maps its inputs to a single output, which is the largest of the inputs."
   ]
  },
  {
   "cell_type": "code",
   "execution_count": null,
   "metadata": {
    "collapsed": true
   },
   "outputs": [],
   "source": [
    "max(3, 4)"
   ]
  },
  {
   "cell_type": "code",
   "execution_count": null,
   "metadata": {
    "collapsed": true
   },
   "outputs": [],
   "source": [
    "y = max(3, 4)"
   ]
  },
  {
   "cell_type": "code",
   "execution_count": null,
   "metadata": {
    "collapsed": true
   },
   "outputs": [],
   "source": [
    "y"
   ]
  },
  {
   "cell_type": "markdown",
   "metadata": {},
   "source": [
    "### Lists"
   ]
  },
  {
   "cell_type": "markdown",
   "metadata": {},
   "source": [
    "Python has a great built-in list type named \"list\". List literals are written within square brackets [ ]. Lists work similarly to strings -- use the len() function and square brackets [ ] to access data, with the first element at index 0."
   ]
  },
  {
   "cell_type": "code",
   "execution_count": null,
   "metadata": {
    "collapsed": true
   },
   "outputs": [],
   "source": [
    "colors = ['red', 'blue', 'green']"
   ]
  },
  {
   "cell_type": "code",
   "execution_count": null,
   "metadata": {
    "collapsed": true
   },
   "outputs": [],
   "source": [
    "colors[0]    ## red"
   ]
  },
  {
   "cell_type": "code",
   "execution_count": null,
   "metadata": {
    "collapsed": true,
    "scrolled": true
   },
   "outputs": [],
   "source": [
    "colors[2]    ## green"
   ]
  },
  {
   "cell_type": "code",
   "execution_count": null,
   "metadata": {
    "collapsed": true
   },
   "outputs": [],
   "source": [
    "len(colors)  ## 3"
   ]
  },
  {
   "cell_type": "markdown",
   "metadata": {},
   "source": [
    "### Dict (Python dictionary)"
   ]
  },
  {
   "cell_type": "markdown",
   "metadata": {},
   "source": [
    "Python's efficient key/value hash table structure is called a \"dict\". The contents of a dict can be written as a series of key:value pairs within braces { }, e.g. dict = {key1:value1, key2:value2, ... }. The \"empty dict\" is just an empty pair of curly braces {}."
   ]
  },
  {
   "cell_type": "code",
   "execution_count": null,
   "metadata": {
    "collapsed": true
   },
   "outputs": [],
   "source": [
    "## Can build up a dict by starting with the the empty dict {}\n",
    "## and storing key/value pairs into the dict like this:\n",
    "## dict[key] = value-for-that-key\n",
    "dict = {}\n",
    "dict['a'] = 'alpha'\n",
    "dict['g'] = 'gamma'\n",
    "dict['o'] = 'omega'"
   ]
  },
  {
   "cell_type": "code",
   "execution_count": null,
   "metadata": {
    "collapsed": true
   },
   "outputs": [],
   "source": [
    "dict"
   ]
  },
  {
   "cell_type": "code",
   "execution_count": null,
   "metadata": {
    "collapsed": true
   },
   "outputs": [],
   "source": [
    "dict['a']     ## Simple lookup, returns 'alpha'"
   ]
  },
  {
   "cell_type": "code",
   "execution_count": null,
   "metadata": {
    "collapsed": true
   },
   "outputs": [],
   "source": [
    "dict['a'] = 6       ## Put new key/value into dict"
   ]
  },
  {
   "cell_type": "code",
   "execution_count": null,
   "metadata": {
    "collapsed": true
   },
   "outputs": [],
   "source": [
    "'a' in dict         ## True"
   ]
  },
  {
   "cell_type": "markdown",
   "metadata": {},
   "source": [
    "### Importing Library Functions"
   ]
  },
  {
   "cell_type": "markdown",
   "metadata": {},
   "source": [
    "Python defines a very large number of functions, including the operator functions mentioned in the preceding section, but does not make all of their names available by default. Instead, it organizes the functions and other quantities that it knows about into modules, which together comprise the Python Library. To use these elements, one imports them.\n",
    "These libraries below are what we are using in this demo."
   ]
  },
  {
   "cell_type": "code",
   "execution_count": 1,
   "metadata": {
    "collapsed": true
   },
   "outputs": [],
   "source": [
    "import pandas as pd\n",
    "import json\n",
    "from collections import Counter\n",
    "from nltk.corpus import stopwords\n",
    "from nltk.tokenize import word_tokenize\n",
    "from nltk.corpus import wordnet as wn\n",
    "from nltk.stem.snowball import SnowballStemmer"
   ]
  },
  {
   "cell_type": "markdown",
   "metadata": {},
   "source": [
    "## Data Source\n",
    "http://www.presidency.ucsb.edu/2016_election.php "
   ]
  },
  {
   "cell_type": "code",
   "execution_count": 2,
   "metadata": {
    "scrolled": true
   },
   "outputs": [
    {
     "data": {
      "text/html": [
       "<div>\n",
       "<style>\n",
       "    .dataframe thead tr:only-child th {\n",
       "        text-align: right;\n",
       "    }\n",
       "\n",
       "    .dataframe thead th {\n",
       "        text-align: left;\n",
       "    }\n",
       "\n",
       "    .dataframe tbody tr th {\n",
       "        vertical-align: top;\n",
       "    }\n",
       "</style>\n",
       "<table border=\"1\" class=\"dataframe\">\n",
       "  <thead>\n",
       "    <tr style=\"text-align: right;\">\n",
       "      <th></th>\n",
       "      <th>Candidate</th>\n",
       "      <th>Party</th>\n",
       "      <th>Type</th>\n",
       "      <th>Date</th>\n",
       "      <th>Title</th>\n",
       "      <th>Speech</th>\n",
       "    </tr>\n",
       "  </thead>\n",
       "  <tbody>\n",
       "    <tr>\n",
       "      <th>0</th>\n",
       "      <td>Hillary Clinton</td>\n",
       "      <td>D</td>\n",
       "      <td>p</td>\n",
       "      <td>January 20, 2007</td>\n",
       "      <td>Press Release - Clinton Candidacy Garners Huge...</td>\n",
       "      <td>Campaign web site signs up 100 new members per...</td>\n",
       "    </tr>\n",
       "    <tr>\n",
       "      <th>1</th>\n",
       "      <td>Hillary Clinton</td>\n",
       "      <td>D</td>\n",
       "      <td>p</td>\n",
       "      <td>January 20, 2007</td>\n",
       "      <td>FYI: New Washington Post-ABC Poll Shows Senato...</td>\n",
       "      <td>The new Washington Post-ABC poll out this afte...</td>\n",
       "    </tr>\n",
       "    <tr>\n",
       "      <th>2</th>\n",
       "      <td>Hillary Clinton</td>\n",
       "      <td>D</td>\n",
       "      <td>p</td>\n",
       "      <td>January 21, 2007</td>\n",
       "      <td>Press Release - 24 Hours Later, the Reviews Ar...</td>\n",
       "      <td>Top pundits on Hillary's announcement: 'brilli...</td>\n",
       "    </tr>\n",
       "    <tr>\n",
       "      <th>3</th>\n",
       "      <td>Hillary Clinton</td>\n",
       "      <td>D</td>\n",
       "      <td>p</td>\n",
       "      <td>January 22, 2007</td>\n",
       "      <td>Press Release - Conversation Begins Tonight</td>\n",
       "      <td>Senator Clinton's first video webcast is live ...</td>\n",
       "    </tr>\n",
       "    <tr>\n",
       "      <th>4</th>\n",
       "      <td>Hillary Clinton</td>\n",
       "      <td>D</td>\n",
       "      <td>p</td>\n",
       "      <td>January 25, 2007</td>\n",
       "      <td>Press Release - Clinton Hires Former Harkin Ch...</td>\n",
       "      <td>Fourth-generation Iowan is veteran of numerous...</td>\n",
       "    </tr>\n",
       "    <tr>\n",
       "      <th>5</th>\n",
       "      <td>Hillary Clinton</td>\n",
       "      <td>D</td>\n",
       "      <td>p</td>\n",
       "      <td>January 25, 2007</td>\n",
       "      <td>Press Release - New Numbers Show Supporters Fl...</td>\n",
       "      <td>Campaign has signed up more than 140,000 suppo...</td>\n",
       "    </tr>\n",
       "    <tr>\n",
       "      <th>6</th>\n",
       "      <td>Hillary Clinton</td>\n",
       "      <td>D</td>\n",
       "      <td>p</td>\n",
       "      <td>January 26, 2007</td>\n",
       "      <td>Hillary for President: Internet Strategy &amp; Ini...</td>\n",
       "      <td>Campaign Memo Peter Daou, Internet Director Hi...</td>\n",
       "    </tr>\n",
       "    <tr>\n",
       "      <th>7</th>\n",
       "      <td>Hillary Clinton</td>\n",
       "      <td>D</td>\n",
       "      <td>p</td>\n",
       "      <td>January 29, 2007</td>\n",
       "      <td>Press Release - The Reviews Are In: Hillary's ...</td>\n",
       "      <td>Thousands of Iowans came out to town halls, li...</td>\n",
       "    </tr>\n",
       "    <tr>\n",
       "      <th>8</th>\n",
       "      <td>Hillary Clinton</td>\n",
       "      <td>D</td>\n",
       "      <td>p</td>\n",
       "      <td>January 30, 2007</td>\n",
       "      <td>Press Release - New Poll: Clinton Winning Ohio</td>\n",
       "      <td>Ohio pollster: \"Those who say Hillary can't wi...</td>\n",
       "    </tr>\n",
       "    <tr>\n",
       "      <th>9</th>\n",
       "      <td>Hillary Clinton</td>\n",
       "      <td>D</td>\n",
       "      <td>p</td>\n",
       "      <td>February 1, 2007</td>\n",
       "      <td>Press Release - New Fox Poll: Hillary Toughest...</td>\n",
       "      <td>Majority of general election voters polled say...</td>\n",
       "    </tr>\n",
       "    <tr>\n",
       "      <th>10</th>\n",
       "      <td>Hillary Clinton</td>\n",
       "      <td>D</td>\n",
       "      <td>p</td>\n",
       "      <td>February 9, 2007</td>\n",
       "      <td>Press Release - Campaign Memo: Clinton in New ...</td>\n",
       "      <td>Hillary Clinton kicks off her New Hampshire ca...</td>\n",
       "    </tr>\n",
       "    <tr>\n",
       "      <th>11</th>\n",
       "      <td>Hillary Clinton</td>\n",
       "      <td>D</td>\n",
       "      <td>p</td>\n",
       "      <td>February 10, 2007</td>\n",
       "      <td>Clinton's New Hampshire Kick-Off Draws Record ...</td>\n",
       "      <td>500 Come Out for Clinton, Largest Crowd in Rec...</td>\n",
       "    </tr>\n",
       "    <tr>\n",
       "      <th>12</th>\n",
       "      <td>Hillary Clinton</td>\n",
       "      <td>D</td>\n",
       "      <td>p</td>\n",
       "      <td>February 10, 2007</td>\n",
       "      <td>Clinton's Concord Conversation Draws Over 3,00...</td>\n",
       "      <td>Clinton Pledges to Earn Every Vote, Campaign t...</td>\n",
       "    </tr>\n",
       "    <tr>\n",
       "      <th>13</th>\n",
       "      <td>Hillary Clinton</td>\n",
       "      <td>D</td>\n",
       "      <td>p</td>\n",
       "      <td>February 12, 2007</td>\n",
       "      <td>Press Release - What Granite Staters Are Sayin...</td>\n",
       "      <td>Thousands of Granite Staters came out to meet ...</td>\n",
       "    </tr>\n",
       "    <tr>\n",
       "      <th>14</th>\n",
       "      <td>Hillary Clinton</td>\n",
       "      <td>D</td>\n",
       "      <td>p</td>\n",
       "      <td>February 13, 2007</td>\n",
       "      <td>Press Release - Must Reads from the Campaign T...</td>\n",
       "      <td>Local Coverage from Hillary's Trip to New Hamp...</td>\n",
       "    </tr>\n",
       "    <tr>\n",
       "      <th>15</th>\n",
       "      <td>Hillary Clinton</td>\n",
       "      <td>D</td>\n",
       "      <td>p</td>\n",
       "      <td>February 13, 2007</td>\n",
       "      <td>Press Release - Fact Check: Hillary Has Long S...</td>\n",
       "      <td>Senator Obama is mistaken. Senator Clinton has...</td>\n",
       "    </tr>\n",
       "    <tr>\n",
       "      <th>16</th>\n",
       "      <td>Hillary Clinton</td>\n",
       "      <td>D</td>\n",
       "      <td>p</td>\n",
       "      <td>February 14, 2007</td>\n",
       "      <td>Press Release - USA Today/Gallup: After This W...</td>\n",
       "      <td>New poll: Hillary's margin of victory in Dem p...</td>\n",
       "    </tr>\n",
       "    <tr>\n",
       "      <th>17</th>\n",
       "      <td>Hillary Clinton</td>\n",
       "      <td>D</td>\n",
       "      <td>p</td>\n",
       "      <td>February 17, 2007</td>\n",
       "      <td>Press Release - New Video: Clinton Details Roa...</td>\n",
       "      <td>In first \"HillCast,\" Hillary talks about her p...</td>\n",
       "    </tr>\n",
       "    <tr>\n",
       "      <th>18</th>\n",
       "      <td>Hillary Clinton</td>\n",
       "      <td>D</td>\n",
       "      <td>p</td>\n",
       "      <td>February 18, 2007</td>\n",
       "      <td>Press Release - Clinton Announces Nevada Chair</td>\n",
       "      <td>Clark County Commissioner Rory Reid will also ...</td>\n",
       "    </tr>\n",
       "    <tr>\n",
       "      <th>19</th>\n",
       "      <td>Hillary Clinton</td>\n",
       "      <td>D</td>\n",
       "      <td>p</td>\n",
       "      <td>February 19, 2007</td>\n",
       "      <td>Press Release - Clinton Announces South Caroli...</td>\n",
       "      <td>The Clinton Campaign today announced the endor...</td>\n",
       "    </tr>\n",
       "    <tr>\n",
       "      <th>20</th>\n",
       "      <td>Hillary Clinton</td>\n",
       "      <td>D</td>\n",
       "      <td>p</td>\n",
       "      <td>February 20, 2007</td>\n",
       "      <td>Press Release - Reps. Wasserman Schultz, Hasti...</td>\n",
       "      <td>Join other South Florida and Tampa leaders in ...</td>\n",
       "    </tr>\n",
       "    <tr>\n",
       "      <th>21</th>\n",
       "      <td>Hillary Clinton</td>\n",
       "      <td>D</td>\n",
       "      <td>p</td>\n",
       "      <td>February 21, 2007</td>\n",
       "      <td>Press Release - Obama Embraces Slash &amp; Burn Po...</td>\n",
       "      <td>Clinton Communications Director Howard Wolfson...</td>\n",
       "    </tr>\n",
       "    <tr>\n",
       "      <th>22</th>\n",
       "      <td>Hillary Clinton</td>\n",
       "      <td>D</td>\n",
       "      <td>p</td>\n",
       "      <td>February 21, 2007</td>\n",
       "      <td>Press Release - Clinton Camp to Obama: Cut Tie...</td>\n",
       "      <td>As Obama rails against \"slash &amp; burn\" politics...</td>\n",
       "    </tr>\n",
       "    <tr>\n",
       "      <th>23</th>\n",
       "      <td>Hillary Clinton</td>\n",
       "      <td>D</td>\n",
       "      <td>p</td>\n",
       "      <td>February 27, 2007</td>\n",
       "      <td>Press Release - New Video: Clinton Details Pla...</td>\n",
       "      <td>In second \"HillCast,\" Hillary talks about her ...</td>\n",
       "    </tr>\n",
       "    <tr>\n",
       "      <th>24</th>\n",
       "      <td>Hillary Clinton</td>\n",
       "      <td>D</td>\n",
       "      <td>p</td>\n",
       "      <td>February 28, 2007</td>\n",
       "      <td>Press Release - Clinton Raises Over $1 Million...</td>\n",
       "      <td>Nearly 15,000 grassroots supporters from all 5...</td>\n",
       "    </tr>\n",
       "    <tr>\n",
       "      <th>25</th>\n",
       "      <td>Hillary Clinton</td>\n",
       "      <td>D</td>\n",
       "      <td>p</td>\n",
       "      <td>March 3, 2007</td>\n",
       "      <td>Clinton, Mayor Villaraigosa Kick-Off Great Ame...</td>\n",
       "      <td>Effort is nation's largest community improveme...</td>\n",
       "    </tr>\n",
       "    <tr>\n",
       "      <th>26</th>\n",
       "      <td>Hillary Clinton</td>\n",
       "      <td>D</td>\n",
       "      <td>p</td>\n",
       "      <td>March 6, 2007</td>\n",
       "      <td>Press Release - Clinton Campaign Launches \"Wom...</td>\n",
       "      <td>National Grassroots Campaign Will Use Web to M...</td>\n",
       "    </tr>\n",
       "    <tr>\n",
       "      <th>27</th>\n",
       "      <td>Hillary Clinton</td>\n",
       "      <td>D</td>\n",
       "      <td>p</td>\n",
       "      <td>March 6, 2007</td>\n",
       "      <td>Press Release - Clinton Announces Additions to...</td>\n",
       "      <td>Veteran Nevada Operatives Build on Silver Stat...</td>\n",
       "    </tr>\n",
       "    <tr>\n",
       "      <th>28</th>\n",
       "      <td>Hillary Clinton</td>\n",
       "      <td>D</td>\n",
       "      <td>p</td>\n",
       "      <td>March 6, 2007</td>\n",
       "      <td>Press Release - NH House Majority Leader Mary ...</td>\n",
       "      <td>Major NH Legislative Endorsement Announced; Cl...</td>\n",
       "    </tr>\n",
       "    <tr>\n",
       "      <th>29</th>\n",
       "      <td>Hillary Clinton</td>\n",
       "      <td>D</td>\n",
       "      <td>p</td>\n",
       "      <td>March 6, 2007</td>\n",
       "      <td>Press Release - Women for Hillary: \"Let's Make...</td>\n",
       "      <td>March is Women's History Month Hillary Clinton...</td>\n",
       "    </tr>\n",
       "    <tr>\n",
       "      <th>...</th>\n",
       "      <td>...</td>\n",
       "      <td>...</td>\n",
       "      <td>...</td>\n",
       "      <td>...</td>\n",
       "      <td>...</td>\n",
       "      <td>...</td>\n",
       "    </tr>\n",
       "    <tr>\n",
       "      <th>1895</th>\n",
       "      <td>Hillary Clinton</td>\n",
       "      <td>D</td>\n",
       "      <td>p</td>\n",
       "      <td>September 17, 2016</td>\n",
       "      <td>Statement from Robby Mook On Trump's Comments ...</td>\n",
       "      <td>RobbyMook, campaign manager for Hillary for Am...</td>\n",
       "    </tr>\n",
       "    <tr>\n",
       "      <th>1896</th>\n",
       "      <td>Hillary Clinton</td>\n",
       "      <td>D</td>\n",
       "      <td>p</td>\n",
       "      <td>September 21, 2016</td>\n",
       "      <td>Statement from Hillary for America on Trump's ...</td>\n",
       "      <td>After spending 5 years championing a conspirac...</td>\n",
       "    </tr>\n",
       "    <tr>\n",
       "      <th>1897</th>\n",
       "      <td>Hillary Clinton</td>\n",
       "      <td>D</td>\n",
       "      <td>p</td>\n",
       "      <td>September 22, 2016</td>\n",
       "      <td>Hillary for America Statement on Donald Trump'...</td>\n",
       "      <td>After morenewsreportsof Donald Trump's busines...</td>\n",
       "    </tr>\n",
       "    <tr>\n",
       "      <th>1898</th>\n",
       "      <td>Hillary Clinton</td>\n",
       "      <td>D</td>\n",
       "      <td>p</td>\n",
       "      <td>September 23, 2016</td>\n",
       "      <td>Hillary for America Statement on Bombshell Rep...</td>\n",
       "      <td>Friday, HFA senior national spokesperson Glen ...</td>\n",
       "    </tr>\n",
       "    <tr>\n",
       "      <th>1899</th>\n",
       "      <td>Hillary Clinton</td>\n",
       "      <td>D</td>\n",
       "      <td>p</td>\n",
       "      <td>September 25, 2016</td>\n",
       "      <td>Former George H.W. Bush National Security Advi...</td>\n",
       "      <td>Statement by Donald P Gregg, National Security...</td>\n",
       "    </tr>\n",
       "    <tr>\n",
       "      <th>1900</th>\n",
       "      <td>Hillary Clinton</td>\n",
       "      <td>D</td>\n",
       "      <td>p</td>\n",
       "      <td>September 28, 2016</td>\n",
       "      <td>Civil Rights Leader Rev. Dr. Otis Moss Jr. End...</td>\n",
       "      <td>Today, the Reverend Dr. Otis Moss. Jr, one of ...</td>\n",
       "    </tr>\n",
       "    <tr>\n",
       "      <th>1901</th>\n",
       "      <td>Hillary Clinton</td>\n",
       "      <td>D</td>\n",
       "      <td>p</td>\n",
       "      <td>September 29, 2016</td>\n",
       "      <td>Statement from Jake Sullivan on Trump's Report...</td>\n",
       "      <td>Hillary for America senior policyadviserJake S...</td>\n",
       "    </tr>\n",
       "    <tr>\n",
       "      <th>1902</th>\n",
       "      <td>Hillary Clinton</td>\n",
       "      <td>D</td>\n",
       "      <td>p</td>\n",
       "      <td>September 30, 2016</td>\n",
       "      <td>Influential Leaders Praise Hillary Clinton's N...</td>\n",
       "      <td>The individuals listed herein are speaking in ...</td>\n",
       "    </tr>\n",
       "    <tr>\n",
       "      <th>1903</th>\n",
       "      <td>Hillary Clinton</td>\n",
       "      <td>D</td>\n",
       "      <td>p</td>\n",
       "      <td>October 1, 2016</td>\n",
       "      <td>Hillary for America Statement on Report That D...</td>\n",
       "      <td>After aNew York Times reportthat Donald Trump ...</td>\n",
       "    </tr>\n",
       "    <tr>\n",
       "      <th>1904</th>\n",
       "      <td>Hillary Clinton</td>\n",
       "      <td>D</td>\n",
       "      <td>p</td>\n",
       "      <td>October 3, 2016</td>\n",
       "      <td>Statement from Jake Sullivan on Report That Do...</td>\n",
       "      <td>Afteran ICIJ reportthat the Trump Organization...</td>\n",
       "    </tr>\n",
       "    <tr>\n",
       "      <th>1905</th>\n",
       "      <td>Hillary Clinton</td>\n",
       "      <td>D</td>\n",
       "      <td>p</td>\n",
       "      <td>October 6, 2016</td>\n",
       "      <td>Hillary For America's Response to Trump's Inac...</td>\n",
       "      <td>Today, in response to Donald Trump's new inacc...</td>\n",
       "    </tr>\n",
       "    <tr>\n",
       "      <th>1906</th>\n",
       "      <td>Hillary Clinton</td>\n",
       "      <td>D</td>\n",
       "      <td>p</td>\n",
       "      <td>October 7, 2016</td>\n",
       "      <td>Hillary for America Statement on Trump's Comme...</td>\n",
       "      <td>After Donald Trump doubled down his view that ...</td>\n",
       "    </tr>\n",
       "    <tr>\n",
       "      <th>1907</th>\n",
       "      <td>Hillary Clinton</td>\n",
       "      <td>D</td>\n",
       "      <td>p</td>\n",
       "      <td>October 7, 2016</td>\n",
       "      <td>Hillary For America Statement On U.S. Governme...</td>\n",
       "      <td>John Podesta, Chair of Hillary of America, rel...</td>\n",
       "    </tr>\n",
       "    <tr>\n",
       "      <th>1908</th>\n",
       "      <td>Hillary Clinton</td>\n",
       "      <td>D</td>\n",
       "      <td>p</td>\n",
       "      <td>October 9, 2016</td>\n",
       "      <td>Hillary for America Statement on Trump's Lates...</td>\n",
       "      <td>Today, Hillary for America Communications Dire...</td>\n",
       "    </tr>\n",
       "    <tr>\n",
       "      <th>1909</th>\n",
       "      <td>Hillary Clinton</td>\n",
       "      <td>D</td>\n",
       "      <td>p</td>\n",
       "      <td>October 11, 2016</td>\n",
       "      <td>Hillary for America Statement on Latest Indepe...</td>\n",
       "      <td>In response to new reports on theClintonandTru...</td>\n",
       "    </tr>\n",
       "    <tr>\n",
       "      <th>1910</th>\n",
       "      <td>Hillary Clinton</td>\n",
       "      <td>D</td>\n",
       "      <td>p</td>\n",
       "      <td>October 12, 2016</td>\n",
       "      <td>Hillary for America Response to Tonight's Trou...</td>\n",
       "      <td>HFA Communications Director Jennifer Palmieri ...</td>\n",
       "    </tr>\n",
       "    <tr>\n",
       "      <th>1911</th>\n",
       "      <td>Hillary Clinton</td>\n",
       "      <td>D</td>\n",
       "      <td>p</td>\n",
       "      <td>October 12, 2016</td>\n",
       "      <td>Statement from Glen Caplin on Roger Stone's Ad...</td>\n",
       "      <td>?HFA Senior National Spokesperson Glen Caplin ...</td>\n",
       "    </tr>\n",
       "    <tr>\n",
       "      <th>1912</th>\n",
       "      <td>Hillary Clinton</td>\n",
       "      <td>D</td>\n",
       "      <td>p</td>\n",
       "      <td>October 15, 2016</td>\n",
       "      <td>Hillary for America Statement on Trump's Comme...</td>\n",
       "      <td>HFA Campaign Manager Robby Mook offered the fo...</td>\n",
       "    </tr>\n",
       "    <tr>\n",
       "      <th>1913</th>\n",
       "      <td>Hillary Clinton</td>\n",
       "      <td>D</td>\n",
       "      <td>p</td>\n",
       "      <td>October 16, 2016</td>\n",
       "      <td>Hillary for America Senior Policy Adviser Jake...</td>\n",
       "      <td>Hillary for America Senior Policy Adviser Jake...</td>\n",
       "    </tr>\n",
       "    <tr>\n",
       "      <th>1914</th>\n",
       "      <td>Hillary Clinton</td>\n",
       "      <td>D</td>\n",
       "      <td>p</td>\n",
       "      <td>October 18, 2016</td>\n",
       "      <td>Clinton Campaign Statement on Donald Trump's C...</td>\n",
       "      <td>Hillary for America Senior National Spokespers...</td>\n",
       "    </tr>\n",
       "    <tr>\n",
       "      <th>1915</th>\n",
       "      <td>Hillary Clinton</td>\n",
       "      <td>D</td>\n",
       "      <td>p</td>\n",
       "      <td>October 20, 2016</td>\n",
       "      <td>Jake Sullivan Statement on Breaking News That ...</td>\n",
       "      <td>Hillary for America Senior Policy Advisor Jake...</td>\n",
       "    </tr>\n",
       "    <tr>\n",
       "      <th>1916</th>\n",
       "      <td>Hillary Clinton</td>\n",
       "      <td>D</td>\n",
       "      <td>p</td>\n",
       "      <td>October 22, 2016</td>\n",
       "      <td>Hillary for America Statement on Trump's Closi...</td>\n",
       "      <td>HFA Deputy Communications Director Christina R...</td>\n",
       "    </tr>\n",
       "    <tr>\n",
       "      <th>1917</th>\n",
       "      <td>Hillary Clinton</td>\n",
       "      <td>D</td>\n",
       "      <td>p</td>\n",
       "      <td>October 26, 2016</td>\n",
       "      <td>Hillary for America Statement On Trump's Lates...</td>\n",
       "      <td>Wednesday, Lt. Gen. John Castellaw released th...</td>\n",
       "    </tr>\n",
       "    <tr>\n",
       "      <th>1918</th>\n",
       "      <td>Hillary Clinton</td>\n",
       "      <td>D</td>\n",
       "      <td>p</td>\n",
       "      <td>October 28, 2016</td>\n",
       "      <td>?Statement from John Podesta in Response to FB...</td>\n",
       "      <td>In response to the letter sent by FBI Director...</td>\n",
       "    </tr>\n",
       "    <tr>\n",
       "      <th>1919</th>\n",
       "      <td>Hillary Clinton</td>\n",
       "      <td>D</td>\n",
       "      <td>p</td>\n",
       "      <td>October 28, 2016</td>\n",
       "      <td>Hillary for America Statement on Third-Quarter...</td>\n",
       "      <td>In response to new data showing that the econo...</td>\n",
       "    </tr>\n",
       "    <tr>\n",
       "      <th>1920</th>\n",
       "      <td>Hillary Clinton</td>\n",
       "      <td>D</td>\n",
       "      <td>p</td>\n",
       "      <td>October 30, 2016</td>\n",
       "      <td>Open Letter from Former Federal Prosecutors an...</td>\n",
       "      <td>Sunday, as reported by the Associated Press, a...</td>\n",
       "    </tr>\n",
       "    <tr>\n",
       "      <th>1921</th>\n",
       "      <td>Hillary Clinton</td>\n",
       "      <td>D</td>\n",
       "      <td>p</td>\n",
       "      <td>October 31, 2016</td>\n",
       "      <td>Former Democratic and Republican State Attorne...</td>\n",
       "      <td>A bipartisan group of nearly 50 former state a...</td>\n",
       "    </tr>\n",
       "    <tr>\n",
       "      <th>1922</th>\n",
       "      <td>Hillary Clinton</td>\n",
       "      <td>D</td>\n",
       "      <td>p</td>\n",
       "      <td>October 31, 2016</td>\n",
       "      <td>Statement from Jake Sullivan on New Report Exp...</td>\n",
       "      <td>In response to a new report from Slate showing...</td>\n",
       "    </tr>\n",
       "    <tr>\n",
       "      <th>1923</th>\n",
       "      <td>Hillary Clinton</td>\n",
       "      <td>D</td>\n",
       "      <td>p</td>\n",
       "      <td>November 1, 2016</td>\n",
       "      <td>Statement on Trump's \"Legally Dubious\" Tax Avo...</td>\n",
       "      <td>Calls on Trump to Release at Least 2015Yesterd...</td>\n",
       "    </tr>\n",
       "    <tr>\n",
       "      <th>1924</th>\n",
       "      <td>Hillary Clinton</td>\n",
       "      <td>D</td>\n",
       "      <td>p</td>\n",
       "      <td>November 2, 2016</td>\n",
       "      <td>Statement on Trump's Foreign Business Entangle...</td>\n",
       "      <td>In response to new reporting from theWall Stre...</td>\n",
       "    </tr>\n",
       "  </tbody>\n",
       "</table>\n",
       "<p>1925 rows × 6 columns</p>\n",
       "</div>"
      ],
      "text/plain": [
       "             Candidate Party Type                Date  \\\n",
       "0     Hillary Clinton      D    p    January 20, 2007   \n",
       "1     Hillary Clinton      D    p    January 20, 2007   \n",
       "2     Hillary Clinton      D    p    January 21, 2007   \n",
       "3     Hillary Clinton      D    p    January 22, 2007   \n",
       "4     Hillary Clinton      D    p    January 25, 2007   \n",
       "5     Hillary Clinton      D    p    January 25, 2007   \n",
       "6     Hillary Clinton      D    p    January 26, 2007   \n",
       "7     Hillary Clinton      D    p    January 29, 2007   \n",
       "8     Hillary Clinton      D    p    January 30, 2007   \n",
       "9     Hillary Clinton      D    p    February 1, 2007   \n",
       "10    Hillary Clinton      D    p    February 9, 2007   \n",
       "11    Hillary Clinton      D    p   February 10, 2007   \n",
       "12    Hillary Clinton      D    p   February 10, 2007   \n",
       "13    Hillary Clinton      D    p   February 12, 2007   \n",
       "14    Hillary Clinton      D    p   February 13, 2007   \n",
       "15    Hillary Clinton      D    p   February 13, 2007   \n",
       "16    Hillary Clinton      D    p   February 14, 2007   \n",
       "17    Hillary Clinton      D    p   February 17, 2007   \n",
       "18    Hillary Clinton      D    p   February 18, 2007   \n",
       "19    Hillary Clinton      D    p   February 19, 2007   \n",
       "20    Hillary Clinton      D    p   February 20, 2007   \n",
       "21    Hillary Clinton      D    p   February 21, 2007   \n",
       "22    Hillary Clinton      D    p   February 21, 2007   \n",
       "23    Hillary Clinton      D    p   February 27, 2007   \n",
       "24    Hillary Clinton      D    p   February 28, 2007   \n",
       "25    Hillary Clinton      D    p       March 3, 2007   \n",
       "26    Hillary Clinton      D    p       March 6, 2007   \n",
       "27    Hillary Clinton      D    p       March 6, 2007   \n",
       "28    Hillary Clinton      D    p       March 6, 2007   \n",
       "29    Hillary Clinton      D    p       March 6, 2007   \n",
       "...                ...   ...  ...                 ...   \n",
       "1895  Hillary Clinton      D    p  September 17, 2016   \n",
       "1896  Hillary Clinton      D    p  September 21, 2016   \n",
       "1897  Hillary Clinton      D    p  September 22, 2016   \n",
       "1898  Hillary Clinton      D    p  September 23, 2016   \n",
       "1899  Hillary Clinton      D    p  September 25, 2016   \n",
       "1900  Hillary Clinton      D    p  September 28, 2016   \n",
       "1901  Hillary Clinton      D    p  September 29, 2016   \n",
       "1902  Hillary Clinton      D    p  September 30, 2016   \n",
       "1903  Hillary Clinton      D    p     October 1, 2016   \n",
       "1904  Hillary Clinton      D    p     October 3, 2016   \n",
       "1905  Hillary Clinton      D    p     October 6, 2016   \n",
       "1906  Hillary Clinton      D    p     October 7, 2016   \n",
       "1907  Hillary Clinton      D    p     October 7, 2016   \n",
       "1908  Hillary Clinton      D    p     October 9, 2016   \n",
       "1909  Hillary Clinton      D    p    October 11, 2016   \n",
       "1910  Hillary Clinton      D    p    October 12, 2016   \n",
       "1911  Hillary Clinton      D    p    October 12, 2016   \n",
       "1912  Hillary Clinton      D    p    October 15, 2016   \n",
       "1913  Hillary Clinton      D    p    October 16, 2016   \n",
       "1914  Hillary Clinton      D    p    October 18, 2016   \n",
       "1915  Hillary Clinton      D    p    October 20, 2016   \n",
       "1916  Hillary Clinton      D    p    October 22, 2016   \n",
       "1917  Hillary Clinton      D    p    October 26, 2016   \n",
       "1918  Hillary Clinton      D    p    October 28, 2016   \n",
       "1919  Hillary Clinton      D    p    October 28, 2016   \n",
       "1920  Hillary Clinton      D    p    October 30, 2016   \n",
       "1921  Hillary Clinton      D    p    October 31, 2016   \n",
       "1922  Hillary Clinton      D    p    October 31, 2016   \n",
       "1923  Hillary Clinton      D    p    November 1, 2016   \n",
       "1924  Hillary Clinton      D    p    November 2, 2016   \n",
       "\n",
       "                                                  Title  \\\n",
       "0     Press Release - Clinton Candidacy Garners Huge...   \n",
       "1     FYI: New Washington Post-ABC Poll Shows Senato...   \n",
       "2     Press Release - 24 Hours Later, the Reviews Ar...   \n",
       "3           Press Release - Conversation Begins Tonight   \n",
       "4     Press Release - Clinton Hires Former Harkin Ch...   \n",
       "5     Press Release - New Numbers Show Supporters Fl...   \n",
       "6     Hillary for President: Internet Strategy & Ini...   \n",
       "7     Press Release - The Reviews Are In: Hillary's ...   \n",
       "8        Press Release - New Poll: Clinton Winning Ohio   \n",
       "9     Press Release - New Fox Poll: Hillary Toughest...   \n",
       "10    Press Release - Campaign Memo: Clinton in New ...   \n",
       "11    Clinton's New Hampshire Kick-Off Draws Record ...   \n",
       "12    Clinton's Concord Conversation Draws Over 3,00...   \n",
       "13    Press Release - What Granite Staters Are Sayin...   \n",
       "14    Press Release - Must Reads from the Campaign T...   \n",
       "15    Press Release - Fact Check: Hillary Has Long S...   \n",
       "16    Press Release - USA Today/Gallup: After This W...   \n",
       "17    Press Release - New Video: Clinton Details Roa...   \n",
       "18       Press Release - Clinton Announces Nevada Chair   \n",
       "19    Press Release - Clinton Announces South Caroli...   \n",
       "20    Press Release - Reps. Wasserman Schultz, Hasti...   \n",
       "21    Press Release - Obama Embraces Slash & Burn Po...   \n",
       "22    Press Release - Clinton Camp to Obama: Cut Tie...   \n",
       "23    Press Release - New Video: Clinton Details Pla...   \n",
       "24    Press Release - Clinton Raises Over $1 Million...   \n",
       "25    Clinton, Mayor Villaraigosa Kick-Off Great Ame...   \n",
       "26    Press Release - Clinton Campaign Launches \"Wom...   \n",
       "27    Press Release - Clinton Announces Additions to...   \n",
       "28    Press Release - NH House Majority Leader Mary ...   \n",
       "29    Press Release - Women for Hillary: \"Let's Make...   \n",
       "...                                                 ...   \n",
       "1895  Statement from Robby Mook On Trump's Comments ...   \n",
       "1896  Statement from Hillary for America on Trump's ...   \n",
       "1897  Hillary for America Statement on Donald Trump'...   \n",
       "1898  Hillary for America Statement on Bombshell Rep...   \n",
       "1899  Former George H.W. Bush National Security Advi...   \n",
       "1900  Civil Rights Leader Rev. Dr. Otis Moss Jr. End...   \n",
       "1901  Statement from Jake Sullivan on Trump's Report...   \n",
       "1902  Influential Leaders Praise Hillary Clinton's N...   \n",
       "1903  Hillary for America Statement on Report That D...   \n",
       "1904  Statement from Jake Sullivan on Report That Do...   \n",
       "1905  Hillary For America's Response to Trump's Inac...   \n",
       "1906  Hillary for America Statement on Trump's Comme...   \n",
       "1907  Hillary For America Statement On U.S. Governme...   \n",
       "1908  Hillary for America Statement on Trump's Lates...   \n",
       "1909  Hillary for America Statement on Latest Indepe...   \n",
       "1910  Hillary for America Response to Tonight's Trou...   \n",
       "1911  Statement from Glen Caplin on Roger Stone's Ad...   \n",
       "1912  Hillary for America Statement on Trump's Comme...   \n",
       "1913  Hillary for America Senior Policy Adviser Jake...   \n",
       "1914  Clinton Campaign Statement on Donald Trump's C...   \n",
       "1915  Jake Sullivan Statement on Breaking News That ...   \n",
       "1916  Hillary for America Statement on Trump's Closi...   \n",
       "1917  Hillary for America Statement On Trump's Lates...   \n",
       "1918  ?Statement from John Podesta in Response to FB...   \n",
       "1919  Hillary for America Statement on Third-Quarter...   \n",
       "1920  Open Letter from Former Federal Prosecutors an...   \n",
       "1921  Former Democratic and Republican State Attorne...   \n",
       "1922  Statement from Jake Sullivan on New Report Exp...   \n",
       "1923  Statement on Trump's \"Legally Dubious\" Tax Avo...   \n",
       "1924  Statement on Trump's Foreign Business Entangle...   \n",
       "\n",
       "                                                 Speech  \n",
       "0     Campaign web site signs up 100 new members per...  \n",
       "1     The new Washington Post-ABC poll out this afte...  \n",
       "2     Top pundits on Hillary's announcement: 'brilli...  \n",
       "3     Senator Clinton's first video webcast is live ...  \n",
       "4     Fourth-generation Iowan is veteran of numerous...  \n",
       "5     Campaign has signed up more than 140,000 suppo...  \n",
       "6     Campaign Memo Peter Daou, Internet Director Hi...  \n",
       "7     Thousands of Iowans came out to town halls, li...  \n",
       "8     Ohio pollster: \"Those who say Hillary can't wi...  \n",
       "9     Majority of general election voters polled say...  \n",
       "10    Hillary Clinton kicks off her New Hampshire ca...  \n",
       "11    500 Come Out for Clinton, Largest Crowd in Rec...  \n",
       "12    Clinton Pledges to Earn Every Vote, Campaign t...  \n",
       "13    Thousands of Granite Staters came out to meet ...  \n",
       "14    Local Coverage from Hillary's Trip to New Hamp...  \n",
       "15    Senator Obama is mistaken. Senator Clinton has...  \n",
       "16    New poll: Hillary's margin of victory in Dem p...  \n",
       "17    In first \"HillCast,\" Hillary talks about her p...  \n",
       "18    Clark County Commissioner Rory Reid will also ...  \n",
       "19    The Clinton Campaign today announced the endor...  \n",
       "20    Join other South Florida and Tampa leaders in ...  \n",
       "21    Clinton Communications Director Howard Wolfson...  \n",
       "22    As Obama rails against \"slash & burn\" politics...  \n",
       "23    In second \"HillCast,\" Hillary talks about her ...  \n",
       "24    Nearly 15,000 grassroots supporters from all 5...  \n",
       "25    Effort is nation's largest community improveme...  \n",
       "26    National Grassroots Campaign Will Use Web to M...  \n",
       "27    Veteran Nevada Operatives Build on Silver Stat...  \n",
       "28    Major NH Legislative Endorsement Announced; Cl...  \n",
       "29    March is Women's History Month Hillary Clinton...  \n",
       "...                                                 ...  \n",
       "1895  RobbyMook, campaign manager for Hillary for Am...  \n",
       "1896  After spending 5 years championing a conspirac...  \n",
       "1897  After morenewsreportsof Donald Trump's busines...  \n",
       "1898  Friday, HFA senior national spokesperson Glen ...  \n",
       "1899  Statement by Donald P Gregg, National Security...  \n",
       "1900  Today, the Reverend Dr. Otis Moss. Jr, one of ...  \n",
       "1901  Hillary for America senior policyadviserJake S...  \n",
       "1902  The individuals listed herein are speaking in ...  \n",
       "1903  After aNew York Times reportthat Donald Trump ...  \n",
       "1904  Afteran ICIJ reportthat the Trump Organization...  \n",
       "1905  Today, in response to Donald Trump's new inacc...  \n",
       "1906  After Donald Trump doubled down his view that ...  \n",
       "1907  John Podesta, Chair of Hillary of America, rel...  \n",
       "1908  Today, Hillary for America Communications Dire...  \n",
       "1909  In response to new reports on theClintonandTru...  \n",
       "1910  HFA Communications Director Jennifer Palmieri ...  \n",
       "1911  ?HFA Senior National Spokesperson Glen Caplin ...  \n",
       "1912  HFA Campaign Manager Robby Mook offered the fo...  \n",
       "1913  Hillary for America Senior Policy Adviser Jake...  \n",
       "1914  Hillary for America Senior National Spokespers...  \n",
       "1915  Hillary for America Senior Policy Advisor Jake...  \n",
       "1916  HFA Deputy Communications Director Christina R...  \n",
       "1917  Wednesday, Lt. Gen. John Castellaw released th...  \n",
       "1918  In response to the letter sent by FBI Director...  \n",
       "1919  In response to new data showing that the econo...  \n",
       "1920  Sunday, as reported by the Associated Press, a...  \n",
       "1921  A bipartisan group of nearly 50 former state a...  \n",
       "1922  In response to a new report from Slate showing...  \n",
       "1923  Calls on Trump to Release at Least 2015Yesterd...  \n",
       "1924  In response to new reporting from theWall Stre...  \n",
       "\n",
       "[1925 rows x 6 columns]"
      ]
     },
     "execution_count": 2,
     "metadata": {},
     "output_type": "execute_result"
    }
   ],
   "source": [
    "# All the csv files are prepared.\n",
    "# We are not going to cover crawling part but you can see the code later if you have interest.\n",
    "\n",
    "# Loading csv data to jupyter notebook and save it as table.\n",
    "\n",
    "clinton_press = pd.read_csv(\"csv/Clinton_p.csv\")\n",
    "clinton_press"
   ]
  },
  {
   "cell_type": "code",
   "execution_count": null,
   "metadata": {
    "collapsed": true
   },
   "outputs": [],
   "source": [
    "clinton_press.head()"
   ]
  },
  {
   "cell_type": "markdown",
   "metadata": {},
   "source": [
    "## Using DataFrame in pandas\n"
   ]
  },
  {
   "cell_type": "code",
   "execution_count": null,
   "metadata": {
    "collapsed": true,
    "scrolled": true
   },
   "outputs": [],
   "source": [
    "# A csv file is either campaign speeches, statements or press releases of a candidate.\n",
    "# This is an example of candiate \"Hillary\" and her press releases\n",
    "# A single press release is saved in \"Speech\" column\n",
    "# How many press releases do we have?\n",
    "clinton_press.shape"
   ]
  },
  {
   "cell_type": "code",
   "execution_count": 6,
   "metadata": {},
   "outputs": [
    {
     "data": {
      "text/plain": [
       "'Campaign web site signs up 100 new members per minute, racks up 10,000 messages of support within 6 hours of announcement  Clinton candidacy hailed online as \"profoundly moving\"; \"top tier\"; \"exciting\"; \"remarkable\"; \"smart\"; and \"news of a generation\" Demonstrating the groundswell of enthusiasm generated by her historic candidacy, Senator Hillary Rodham Clinton\\'s announcement for President lit up the internet today, garnering rave reviews in the blogosphere, and thousands of supporters flocking to her web site each hour. Within just six hours of the announcement going live on her campaign web site, Senator Clinton\\'s candidacy attracted thousands of messages of support, and widespread accolades online. Overwhelming Response Within Hours of Going Live:  SIGN UPS = 100 per minute MESSAGES OF SUPPORT = 10,000 VIDEO WEBCAST SIGN-UPS = 7,700 BLOG CONTEST SUBMISSIONS = 2,200  Bloggers Give Clinton Announcement Rave Reviews: MYDD (Jerome Armstrong) - \"And as blogger savvy as John Edwards was in outreach, Clinton internet team had the emails of bloggers to notify them separate from the press (no such outreach from the Obama camp). The website has the clean, Kerry-2004 look about it. A smart \"write our first post\" call to action on the website. The announcement of \"an unprecedented series of video webcasts beginning Monday, January 22nd at 7pm EST for three nights\" creates a quick narrative of interaction and response around Bush\\'s SOTU address.\" DAILY KOS DIARY (nyceve) - \"I\\'m an open and honest person, and I\\'m profoundly moved by her announcement. What was unimaginable just a few decades ago, is now something we can almost touch.\" THE CARPETBAGGER REPORT - \"Clinton enters the race, without a doubt, at the top of the top tier. I\\'ve heard all the various concerns about her candidacy, but I don\\'t have any doubt that she has what it takes to win. Indeed, Clinton brings an enormous amount of talent, experience, and intelligence to the table.\" TAYLOR MARSH - \"Sitting in a living room setting, Senator Hillary Clinton made one simple statement that changed the landscape of the \\'08 presidential tournament to come. (To add, I got an email about this event this morning just after 6:00 a.m.) Because when the first woman to run for president, with an actual chance of winning, puts her name and reputation on the line, it becomes news of the day, week, even a generation.\" TALK LEFT - It is exciting to have a serious female candidate for President. OUTSIDE THE BELTWAY - After nearly eight years of speculation, Hillary Clinton has announced her candidacy for president.... she has done a remarkable job these past several years getting out of her husband\\'s shadow, positioning herself as more moderate than previously thought, and garnering bipartisan praise for collegiality and hard work in the Senate. DAILY KOS DIARY (Yellow Dog Blue) - \"How has she survived and thrived? Not by heavying up her armor. Not by engaging and overwhelming her opponents. Not even by appealing for public sympathy. Instead Hillary has just gone her business being a Senator, building personal relationships and support, getting and using power. And I really admire that.\" SEEING THE FOREST (Dave Johnson) - \"People say Hillary Clinton has \"baggage\" and is \"divisive.\" Actually she has been investigated more thoroughly than almost anyone in the country\\'s history and they found nothing at all. It isn\\'t Hillary who is divisive, it\\'s the people making all the accusations.\"'"
      ]
     },
     "execution_count": 6,
     "metadata": {},
     "output_type": "execute_result"
    }
   ],
   "source": [
    "# Selecting a single press release\n",
    "# a_speech = clinton_press.column('Speech').item(0)\n",
    "# pd.DataFrame(df, columns=columns)\n",
    "a_speech = clinton_press[:1][\"Speech\"].tolist()[0]\n",
    "a_speech"
   ]
  },
  {
   "cell_type": "code",
   "execution_count": 7,
   "metadata": {
    "collapsed": true
   },
   "outputs": [],
   "source": [
    "# Spliting by words\n",
    "by_words = a_speech.split(' ')"
   ]
  },
  {
   "cell_type": "markdown",
   "metadata": {},
   "source": [
    "## Using String and split\n",
    "\n",
    "When you break a large string down into smaller chunks, or strings.\n",
    "\n"
   ]
  },
  {
   "cell_type": "code",
   "execution_count": 3,
   "metadata": {},
   "outputs": [
    {
     "data": {
      "text/plain": [
       "['This', 'is', 'random', 'text', 'we’re', 'going', 'to', 'split', 'apart']"
      ]
     },
     "execution_count": 3,
     "metadata": {},
     "output_type": "execute_result"
    }
   ],
   "source": [
    "sentence = \"This is random text we’re going to split apart\"\n",
    "words = sentence.split(\" \")\n",
    "words"
   ]
  },
  {
   "cell_type": "markdown",
   "metadata": {},
   "source": [
    "## Counting words"
   ]
  },
  {
   "cell_type": "code",
   "execution_count": 8,
   "metadata": {},
   "outputs": [
    {
     "data": {
      "text/plain": [
       "Counter({'': 3,\n",
       "         '\"And': 1,\n",
       "         '\"Clinton': 1,\n",
       "         '\"How': 1,\n",
       "         '\"I\\'m': 1,\n",
       "         '\"People': 1,\n",
       "         '\"Sitting': 1,\n",
       "         '\"an': 1,\n",
       "         '\"baggage\"': 1,\n",
       "         '\"divisive.\"': 1,\n",
       "         '\"exciting\";': 1,\n",
       "         '\"news': 1,\n",
       "         '\"profoundly': 1,\n",
       "         '\"remarkable\";': 1,\n",
       "         '\"smart\";': 1,\n",
       "         '\"top': 1,\n",
       "         '\"write': 1,\n",
       "         \"'08\": 1,\n",
       "         '(Dave': 1,\n",
       "         '(Jerome': 1,\n",
       "         '(To': 1,\n",
       "         '(Yellow': 1,\n",
       "         '(no': 1,\n",
       "         '(nyceve)': 1,\n",
       "         '-': 8,\n",
       "         '10,000': 2,\n",
       "         '100': 2,\n",
       "         '2,200': 1,\n",
       "         '22nd': 1,\n",
       "         '6': 1,\n",
       "         '6:00': 1,\n",
       "         '7,700': 1,\n",
       "         '7pm': 1,\n",
       "         '=': 4,\n",
       "         'A': 1,\n",
       "         'Actually': 1,\n",
       "         'After': 1,\n",
       "         'And': 1,\n",
       "         'Announcement': 1,\n",
       "         'Armstrong)': 1,\n",
       "         'BELTWAY': 1,\n",
       "         'BLOG': 1,\n",
       "         'Because': 1,\n",
       "         'Bloggers': 1,\n",
       "         'Blue)': 1,\n",
       "         \"Bush's\": 1,\n",
       "         'CARPETBAGGER': 1,\n",
       "         'CONTEST': 1,\n",
       "         'Campaign': 1,\n",
       "         'Clinton': 7,\n",
       "         \"Clinton's\": 2,\n",
       "         'DAILY': 2,\n",
       "         'DIARY': 2,\n",
       "         'Demonstrating': 1,\n",
       "         'Dog': 1,\n",
       "         'EST': 1,\n",
       "         'Edwards': 1,\n",
       "         'FOREST': 1,\n",
       "         'Give': 1,\n",
       "         'Going': 1,\n",
       "         'Hillary': 6,\n",
       "         'Hours': 1,\n",
       "         'I': 3,\n",
       "         \"I'm\": 1,\n",
       "         \"I've\": 1,\n",
       "         'Indeed,': 1,\n",
       "         'Instead': 1,\n",
       "         'It': 2,\n",
       "         'January': 1,\n",
       "         'John': 1,\n",
       "         'Johnson)': 1,\n",
       "         'KOS': 2,\n",
       "         'Kerry-2004': 1,\n",
       "         'LEFT': 1,\n",
       "         'Live:': 1,\n",
       "         'MARSH': 1,\n",
       "         'MESSAGES': 1,\n",
       "         'MYDD': 1,\n",
       "         'Monday,': 1,\n",
       "         'Not': 3,\n",
       "         'OF': 1,\n",
       "         'OUTSIDE': 1,\n",
       "         'Obama': 1,\n",
       "         'Overwhelming': 1,\n",
       "         'President': 1,\n",
       "         'President.': 1,\n",
       "         'REPORT': 1,\n",
       "         'Rave': 1,\n",
       "         'Response': 1,\n",
       "         'Reviews:': 1,\n",
       "         'Rodham': 1,\n",
       "         'SEEING': 1,\n",
       "         'SIGN': 1,\n",
       "         'SIGN-UPS': 1,\n",
       "         'SOTU': 1,\n",
       "         'SUBMISSIONS': 1,\n",
       "         'SUPPORT': 1,\n",
       "         'Senate.': 1,\n",
       "         'Senator': 3,\n",
       "         'Senator,': 1,\n",
       "         'TALK': 1,\n",
       "         'TAYLOR': 1,\n",
       "         'THE': 3,\n",
       "         'The': 2,\n",
       "         'UPS': 1,\n",
       "         'VIDEO': 1,\n",
       "         'WEBCAST': 1,\n",
       "         'What': 1,\n",
       "         'Within': 2,\n",
       "         'a': 9,\n",
       "         'a.m.)': 1,\n",
       "         'about': 3,\n",
       "         'accolades': 1,\n",
       "         'accusations.\"': 1,\n",
       "         'action': 1,\n",
       "         'actual': 1,\n",
       "         'add,': 1,\n",
       "         'address.\"': 1,\n",
       "         'admire': 1,\n",
       "         'after': 1,\n",
       "         'ago,': 1,\n",
       "         'all': 2,\n",
       "         'all.': 1,\n",
       "         'almost': 2,\n",
       "         'amount': 1,\n",
       "         'an': 4,\n",
       "         'and': 16,\n",
       "         'announced': 1,\n",
       "         'announcement': 4,\n",
       "         'announcement.': 1,\n",
       "         'any': 1,\n",
       "         'anyone': 1,\n",
       "         'appealing': 1,\n",
       "         'armor.': 1,\n",
       "         'around': 1,\n",
       "         'as': 4,\n",
       "         'at': 3,\n",
       "         'attracted': 1,\n",
       "         'becomes': 1,\n",
       "         'been': 1,\n",
       "         'beginning': 1,\n",
       "         'being': 1,\n",
       "         'bipartisan': 1,\n",
       "         'blogger': 1,\n",
       "         'bloggers': 1,\n",
       "         'blogosphere,': 1,\n",
       "         'brings': 1,\n",
       "         'building': 1,\n",
       "         'business': 1,\n",
       "         'but': 1,\n",
       "         'by': 5,\n",
       "         'call': 1,\n",
       "         'camp).': 1,\n",
       "         'campaign': 1,\n",
       "         'can': 1,\n",
       "         'candidacy': 3,\n",
       "         'candidacy,': 2,\n",
       "         'candidate': 1,\n",
       "         'chance': 1,\n",
       "         'changed': 1,\n",
       "         'clean,': 1,\n",
       "         'collegiality': 1,\n",
       "         'come.': 1,\n",
       "         'concerns': 1,\n",
       "         \"country's\": 1,\n",
       "         'creates': 1,\n",
       "         'day,': 1,\n",
       "         'decades': 1,\n",
       "         'divisive,': 1,\n",
       "         \"don't\": 1,\n",
       "         'done': 1,\n",
       "         'doubt': 1,\n",
       "         'doubt,': 1,\n",
       "         'each': 1,\n",
       "         'eight': 1,\n",
       "         'email': 1,\n",
       "         'emails': 1,\n",
       "         'engaging': 1,\n",
       "         'enormous': 1,\n",
       "         'enters': 1,\n",
       "         'enthusiasm': 1,\n",
       "         'even': 2,\n",
       "         'event': 1,\n",
       "         'exciting': 1,\n",
       "         'experience,': 1,\n",
       "         'female': 1,\n",
       "         'few': 1,\n",
       "         'first': 2,\n",
       "         'flocking': 1,\n",
       "         'for': 7,\n",
       "         'found': 1,\n",
       "         'from': 2,\n",
       "         'garnering': 2,\n",
       "         'generated': 1,\n",
       "         'generation\"': 1,\n",
       "         'generation.\"': 1,\n",
       "         'getting': 2,\n",
       "         'going': 1,\n",
       "         'gone': 1,\n",
       "         'got': 1,\n",
       "         'groundswell': 1,\n",
       "         'had': 1,\n",
       "         'hailed': 1,\n",
       "         'hard': 1,\n",
       "         'has': 8,\n",
       "         'have': 2,\n",
       "         'heard': 1,\n",
       "         'heavying': 1,\n",
       "         'her': 11,\n",
       "         'herself': 1,\n",
       "         'historic': 1,\n",
       "         'history': 1,\n",
       "         'honest': 1,\n",
       "         'hour.': 1,\n",
       "         'hours': 2,\n",
       "         \"husband's\": 1,\n",
       "         'in': 5,\n",
       "         'intelligence': 1,\n",
       "         'interaction': 1,\n",
       "         'internet': 2,\n",
       "         'investigated': 1,\n",
       "         'is': 4,\n",
       "         \"isn't\": 1,\n",
       "         'it': 2,\n",
       "         \"it's\": 1,\n",
       "         'it.': 1,\n",
       "         'job': 1,\n",
       "         'just': 4,\n",
       "         'landscape': 1,\n",
       "         'line,': 1,\n",
       "         'lit': 1,\n",
       "         'live': 1,\n",
       "         'living': 1,\n",
       "         'look': 1,\n",
       "         'made': 1,\n",
       "         'making': 1,\n",
       "         'members': 1,\n",
       "         'messages': 2,\n",
       "         'minute': 1,\n",
       "         'minute,': 1,\n",
       "         'moderate': 1,\n",
       "         'more': 2,\n",
       "         'morning': 1,\n",
       "         'moved': 1,\n",
       "         'moving\";': 1,\n",
       "         'name': 1,\n",
       "         'narrative': 1,\n",
       "         'nearly': 1,\n",
       "         'new': 1,\n",
       "         'news': 1,\n",
       "         'nights\"': 1,\n",
       "         'nothing': 1,\n",
       "         'notify': 1,\n",
       "         'now': 1,\n",
       "         'of': 20,\n",
       "         'on': 3,\n",
       "         'one': 1,\n",
       "         'online': 1,\n",
       "         'online.': 1,\n",
       "         'open': 1,\n",
       "         'opponents.': 1,\n",
       "         'our': 1,\n",
       "         'out': 1,\n",
       "         'outreach': 1,\n",
       "         'outreach,': 1,\n",
       "         'overwhelming': 1,\n",
       "         'past': 1,\n",
       "         'people': 1,\n",
       "         'per': 2,\n",
       "         'person,': 1,\n",
       "         'personal': 1,\n",
       "         'positioning': 1,\n",
       "         'post\"': 1,\n",
       "         'power.': 1,\n",
       "         'praise': 1,\n",
       "         'president,': 1,\n",
       "         'president....': 1,\n",
       "         'presidential': 1,\n",
       "         'press': 1,\n",
       "         'previously': 1,\n",
       "         'profoundly': 1,\n",
       "         'public': 1,\n",
       "         'puts': 1,\n",
       "         'quick': 1,\n",
       "         'race,': 1,\n",
       "         'racks': 1,\n",
       "         'rave': 1,\n",
       "         'really': 1,\n",
       "         'relationships': 1,\n",
       "         'remarkable': 1,\n",
       "         'reputation': 1,\n",
       "         'response': 1,\n",
       "         'reviews': 1,\n",
       "         'room': 1,\n",
       "         'run': 1,\n",
       "         'savvy': 1,\n",
       "         'say': 1,\n",
       "         'separate': 1,\n",
       "         'series': 1,\n",
       "         'serious': 1,\n",
       "         'setting,': 1,\n",
       "         'several': 1,\n",
       "         'shadow,': 1,\n",
       "         'she': 4,\n",
       "         'signs': 1,\n",
       "         'simple': 1,\n",
       "         'site': 2,\n",
       "         'site,': 1,\n",
       "         'six': 1,\n",
       "         'smart': 1,\n",
       "         'something': 1,\n",
       "         'speculation,': 1,\n",
       "         'statement': 1,\n",
       "         'such': 1,\n",
       "         'support': 1,\n",
       "         'support,': 2,\n",
       "         'supporters': 1,\n",
       "         'survived': 1,\n",
       "         'sympathy.': 1,\n",
       "         'table.\"': 1,\n",
       "         'takes': 1,\n",
       "         'talent,': 1,\n",
       "         'team': 1,\n",
       "         'than': 2,\n",
       "         'that': 2,\n",
       "         'that.\"': 1,\n",
       "         'the': 23,\n",
       "         'them': 1,\n",
       "         'these': 1,\n",
       "         'they': 1,\n",
       "         'this': 2,\n",
       "         'thoroughly': 1,\n",
       "         'thought,': 1,\n",
       "         'thousands': 2,\n",
       "         'three': 1,\n",
       "         'thrived?': 1,\n",
       "         'tier\";': 1,\n",
       "         'tier.': 1,\n",
       "         'to': 8,\n",
       "         'today,': 1,\n",
       "         'top': 2,\n",
       "         'touch.\"': 1,\n",
       "         'tournament': 1,\n",
       "         'unimaginable': 1,\n",
       "         'unprecedented': 1,\n",
       "         'up': 4,\n",
       "         'using': 1,\n",
       "         'various': 1,\n",
       "         'video': 1,\n",
       "         'was': 2,\n",
       "         'we': 1,\n",
       "         'web': 3,\n",
       "         'webcasts': 1,\n",
       "         'website': 1,\n",
       "         'website.': 1,\n",
       "         'week,': 1,\n",
       "         'what': 1,\n",
       "         'when': 1,\n",
       "         'who': 1,\n",
       "         'widespread': 1,\n",
       "         'win.': 1,\n",
       "         'winning,': 1,\n",
       "         'with': 1,\n",
       "         'within': 1,\n",
       "         'without': 1,\n",
       "         'woman': 1,\n",
       "         'work': 1,\n",
       "         'years': 2})"
      ]
     },
     "execution_count": 8,
     "metadata": {},
     "output_type": "execute_result"
    }
   ],
   "source": [
    "# Counting the number of words showed up in a speech\n",
    "count_words_freq = Counter(by_words)\n",
    "count_words_freq"
   ]
  },
  {
   "cell_type": "code",
   "execution_count": null,
   "metadata": {
    "collapsed": true
   },
   "outputs": [],
   "source": [
    "# Guess what are the most frequent words in it\n",
    "# Is it what you expected?\n",
    "# Why? / Why not?\n",
    "count_words_freq.most_common()"
   ]
  },
  {
   "cell_type": "markdown",
   "metadata": {},
   "source": [
    "## Data Processing"
   ]
  },
  {
   "cell_type": "markdown",
   "metadata": {},
   "source": [
    "Some libraries are huge. It takes time to retrieve the data from the libraries.\n",
    "So we prepared stopwords from  \"from nltk.corpus import stopwords\"."
   ]
  },
  {
   "cell_type": "code",
   "execution_count": 9,
   "metadata": {
    "collapsed": true
   },
   "outputs": [],
   "source": [
    "# stop_words = set(stopwords.words(\"english\"))\n",
    "with open('stopwords.json') as json_data:\n",
    "    stop_words_json = json.load(json_data)\n",
    "    \n",
    "# with open('foundations_dict.json') as json_data:\n",
    "#     mft_dict = json.load(json_data)\n",
    "stop_words = stop_words_json['words']"
   ]
  },
  {
   "cell_type": "markdown",
   "metadata": {},
   "source": [
    "### Functions"
   ]
  },
  {
   "cell_type": "markdown",
   "metadata": {},
   "source": [
    "Here are simple rules to define a function in Python. \n",
    "Function blocks begin with the keyword def followed by the function name and parentheses ( ( ) ). \n",
    "Any input parameters or arguments should be placed within these parentheses. You can also define parameters inside these parentheses."
   ]
  },
  {
   "cell_type": "markdown",
   "metadata": {},
   "source": [
    "How to define a function. Function definitions consist of a def statement that indicates a <name> and a comma-separated list of named <formal parameters>, then a return statement, called the function body, that specifies the <return expression> of the function, which is an expression to be evaluated whenever the function is applied:\n",
    "\n"
   ]
  },
  {
   "cell_type": "code",
   "execution_count": null,
   "metadata": {
    "collapsed": true
   },
   "outputs": [],
   "source": [
    "# def <name>(<formal parameters>):\n",
    "#    return <return expression>"
   ]
  },
  {
   "cell_type": "markdown",
   "metadata": {},
   "source": [
    "The second line must be indented — most programmers use four spaces to indent. The return expression is not evaluated right away; it is stored as part of the newly defined function and evaluated only when the function is eventually applied."
   ]
  },
  {
   "cell_type": "code",
   "execution_count": 10,
   "metadata": {
    "collapsed": true
   },
   "outputs": [],
   "source": [
    "def without_stopwords(a_speech):\n",
    "    \"\"\" >>> exstr = \"This is an example showing off stop word filter\"\n",
    "        >>> without_stopwords(exstr)\n",
    "        ... ['This', 'example', 'showing', 'stop', 'word', 'filter']\n",
    "    \"\"\"\n",
    "    a_speech = word_tokenize(a_speech)\n",
    "    filtered = []\n",
    "    for word in a_speech:\n",
    "        if word not in stop_words:\n",
    "            filtered.append(word)\n",
    "    return filtered"
   ]
  },
  {
   "cell_type": "code",
   "execution_count": 11,
   "metadata": {},
   "outputs": [
    {
     "ename": "LookupError",
     "evalue": "\n**********************************************************************\n  Resource 'tokenizers/punkt/english.pickle' not found.  Please\n  use the NLTK Downloader to obtain the resource:  >>>\n  nltk.download()\n  Searched in:\n    - 'C:\\\\Users\\\\keeley/nltk_data'\n    - 'C:\\\\nltk_data'\n    - 'D:\\\\nltk_data'\n    - 'E:\\\\nltk_data'\n    - 'C:\\\\Users\\\\keeley\\\\AppData\\\\Local\\\\conda\\\\conda\\\\envs\\\\ds100\\\\nltk_data'\n    - 'C:\\\\Users\\\\keeley\\\\AppData\\\\Local\\\\conda\\\\conda\\\\envs\\\\ds100\\\\lib\\\\nltk_data'\n    - 'C:\\\\Users\\\\keeley\\\\AppData\\\\Roaming\\\\nltk_data'\n    - ''\n**********************************************************************",
     "output_type": "error",
     "traceback": [
      "\u001b[1;31m---------------------------------------------------------------------------\u001b[0m",
      "\u001b[1;31mLookupError\u001b[0m                               Traceback (most recent call last)",
      "\u001b[1;32m<ipython-input-11-11c16bd306b5>\u001b[0m in \u001b[0;36m<module>\u001b[1;34m()\u001b[0m\n\u001b[1;32m----> 1\u001b[1;33m \u001b[0mwithout_stopwords\u001b[0m\u001b[1;33m(\u001b[0m\u001b[0ma_speech\u001b[0m\u001b[1;33m)\u001b[0m\u001b[1;33m\u001b[0m\u001b[0m\n\u001b[0m",
      "\u001b[1;32m<ipython-input-10-bb16befb67a4>\u001b[0m in \u001b[0;36mwithout_stopwords\u001b[1;34m(a_speech)\u001b[0m\n\u001b[0;32m      4\u001b[0m         \u001b[1;33m...\u001b[0m \u001b[1;33m[\u001b[0m\u001b[1;34m'This'\u001b[0m\u001b[1;33m,\u001b[0m \u001b[1;34m'example'\u001b[0m\u001b[1;33m,\u001b[0m \u001b[1;34m'showing'\u001b[0m\u001b[1;33m,\u001b[0m \u001b[1;34m'stop'\u001b[0m\u001b[1;33m,\u001b[0m \u001b[1;34m'word'\u001b[0m\u001b[1;33m,\u001b[0m \u001b[1;34m'filter'\u001b[0m\u001b[1;33m]\u001b[0m\u001b[1;33m\u001b[0m\u001b[0m\n\u001b[0;32m      5\u001b[0m     \"\"\"\n\u001b[1;32m----> 6\u001b[1;33m     \u001b[0ma_speech\u001b[0m \u001b[1;33m=\u001b[0m \u001b[0mword_tokenize\u001b[0m\u001b[1;33m(\u001b[0m\u001b[0ma_speech\u001b[0m\u001b[1;33m)\u001b[0m\u001b[1;33m\u001b[0m\u001b[0m\n\u001b[0m\u001b[0;32m      7\u001b[0m     \u001b[0mfiltered\u001b[0m \u001b[1;33m=\u001b[0m \u001b[1;33m[\u001b[0m\u001b[1;33m]\u001b[0m\u001b[1;33m\u001b[0m\u001b[0m\n\u001b[0;32m      8\u001b[0m     \u001b[1;32mfor\u001b[0m \u001b[0mword\u001b[0m \u001b[1;32min\u001b[0m \u001b[0ma_speech\u001b[0m\u001b[1;33m:\u001b[0m\u001b[1;33m\u001b[0m\u001b[0m\n",
      "\u001b[1;32mC:\\Users\\keeley\\AppData\\Local\\conda\\conda\\envs\\ds100\\lib\\site-packages\\nltk\\tokenize\\__init__.py\u001b[0m in \u001b[0;36mword_tokenize\u001b[1;34m(text, language, preserve_line)\u001b[0m\n\u001b[0;32m    128\u001b[0m     \u001b[1;33m:\u001b[0m\u001b[0mtype\u001b[0m \u001b[0mpreserver_line\u001b[0m\u001b[1;33m:\u001b[0m \u001b[0mbool\u001b[0m\u001b[1;33m\u001b[0m\u001b[0m\n\u001b[0;32m    129\u001b[0m     \"\"\"\n\u001b[1;32m--> 130\u001b[1;33m     \u001b[0msentences\u001b[0m \u001b[1;33m=\u001b[0m \u001b[1;33m[\u001b[0m\u001b[0mtext\u001b[0m\u001b[1;33m]\u001b[0m \u001b[1;32mif\u001b[0m \u001b[0mpreserve_line\u001b[0m \u001b[1;32melse\u001b[0m \u001b[0msent_tokenize\u001b[0m\u001b[1;33m(\u001b[0m\u001b[0mtext\u001b[0m\u001b[1;33m,\u001b[0m \u001b[0mlanguage\u001b[0m\u001b[1;33m)\u001b[0m\u001b[1;33m\u001b[0m\u001b[0m\n\u001b[0m\u001b[0;32m    131\u001b[0m     return [token for sent in sentences\n\u001b[0;32m    132\u001b[0m             for token in _treebank_word_tokenizer.tokenize(sent)]\n",
      "\u001b[1;32mC:\\Users\\keeley\\AppData\\Local\\conda\\conda\\envs\\ds100\\lib\\site-packages\\nltk\\tokenize\\__init__.py\u001b[0m in \u001b[0;36msent_tokenize\u001b[1;34m(text, language)\u001b[0m\n\u001b[0;32m     94\u001b[0m     \u001b[1;33m:\u001b[0m\u001b[0mparam\u001b[0m \u001b[0mlanguage\u001b[0m\u001b[1;33m:\u001b[0m \u001b[0mthe\u001b[0m \u001b[0mmodel\u001b[0m \u001b[0mname\u001b[0m \u001b[1;32min\u001b[0m \u001b[0mthe\u001b[0m \u001b[0mPunkt\u001b[0m \u001b[0mcorpus\u001b[0m\u001b[1;33m\u001b[0m\u001b[0m\n\u001b[0;32m     95\u001b[0m     \"\"\"\n\u001b[1;32m---> 96\u001b[1;33m     \u001b[0mtokenizer\u001b[0m \u001b[1;33m=\u001b[0m \u001b[0mload\u001b[0m\u001b[1;33m(\u001b[0m\u001b[1;34m'tokenizers/punkt/{0}.pickle'\u001b[0m\u001b[1;33m.\u001b[0m\u001b[0mformat\u001b[0m\u001b[1;33m(\u001b[0m\u001b[0mlanguage\u001b[0m\u001b[1;33m)\u001b[0m\u001b[1;33m)\u001b[0m\u001b[1;33m\u001b[0m\u001b[0m\n\u001b[0m\u001b[0;32m     97\u001b[0m     \u001b[1;32mreturn\u001b[0m \u001b[0mtokenizer\u001b[0m\u001b[1;33m.\u001b[0m\u001b[0mtokenize\u001b[0m\u001b[1;33m(\u001b[0m\u001b[0mtext\u001b[0m\u001b[1;33m)\u001b[0m\u001b[1;33m\u001b[0m\u001b[0m\n\u001b[0;32m     98\u001b[0m \u001b[1;33m\u001b[0m\u001b[0m\n",
      "\u001b[1;32mC:\\Users\\keeley\\AppData\\Local\\conda\\conda\\envs\\ds100\\lib\\site-packages\\nltk\\data.py\u001b[0m in \u001b[0;36mload\u001b[1;34m(resource_url, format, cache, verbose, logic_parser, fstruct_reader, encoding)\u001b[0m\n\u001b[0;32m    812\u001b[0m \u001b[1;33m\u001b[0m\u001b[0m\n\u001b[0;32m    813\u001b[0m     \u001b[1;31m# Load the resource.\u001b[0m\u001b[1;33m\u001b[0m\u001b[1;33m\u001b[0m\u001b[0m\n\u001b[1;32m--> 814\u001b[1;33m     \u001b[0mopened_resource\u001b[0m \u001b[1;33m=\u001b[0m \u001b[0m_open\u001b[0m\u001b[1;33m(\u001b[0m\u001b[0mresource_url\u001b[0m\u001b[1;33m)\u001b[0m\u001b[1;33m\u001b[0m\u001b[0m\n\u001b[0m\u001b[0;32m    815\u001b[0m \u001b[1;33m\u001b[0m\u001b[0m\n\u001b[0;32m    816\u001b[0m     \u001b[1;32mif\u001b[0m \u001b[0mformat\u001b[0m \u001b[1;33m==\u001b[0m \u001b[1;34m'raw'\u001b[0m\u001b[1;33m:\u001b[0m\u001b[1;33m\u001b[0m\u001b[0m\n",
      "\u001b[1;32mC:\\Users\\keeley\\AppData\\Local\\conda\\conda\\envs\\ds100\\lib\\site-packages\\nltk\\data.py\u001b[0m in \u001b[0;36m_open\u001b[1;34m(resource_url)\u001b[0m\n\u001b[0;32m    930\u001b[0m \u001b[1;33m\u001b[0m\u001b[0m\n\u001b[0;32m    931\u001b[0m     \u001b[1;32mif\u001b[0m \u001b[0mprotocol\u001b[0m \u001b[1;32mis\u001b[0m \u001b[1;32mNone\u001b[0m \u001b[1;32mor\u001b[0m \u001b[0mprotocol\u001b[0m\u001b[1;33m.\u001b[0m\u001b[0mlower\u001b[0m\u001b[1;33m(\u001b[0m\u001b[1;33m)\u001b[0m \u001b[1;33m==\u001b[0m \u001b[1;34m'nltk'\u001b[0m\u001b[1;33m:\u001b[0m\u001b[1;33m\u001b[0m\u001b[0m\n\u001b[1;32m--> 932\u001b[1;33m         \u001b[1;32mreturn\u001b[0m \u001b[0mfind\u001b[0m\u001b[1;33m(\u001b[0m\u001b[0mpath_\u001b[0m\u001b[1;33m,\u001b[0m \u001b[0mpath\u001b[0m \u001b[1;33m+\u001b[0m \u001b[1;33m[\u001b[0m\u001b[1;34m''\u001b[0m\u001b[1;33m]\u001b[0m\u001b[1;33m)\u001b[0m\u001b[1;33m.\u001b[0m\u001b[0mopen\u001b[0m\u001b[1;33m(\u001b[0m\u001b[1;33m)\u001b[0m\u001b[1;33m\u001b[0m\u001b[0m\n\u001b[0m\u001b[0;32m    933\u001b[0m     \u001b[1;32melif\u001b[0m \u001b[0mprotocol\u001b[0m\u001b[1;33m.\u001b[0m\u001b[0mlower\u001b[0m\u001b[1;33m(\u001b[0m\u001b[1;33m)\u001b[0m \u001b[1;33m==\u001b[0m \u001b[1;34m'file'\u001b[0m\u001b[1;33m:\u001b[0m\u001b[1;33m\u001b[0m\u001b[0m\n\u001b[0;32m    934\u001b[0m         \u001b[1;31m# urllib might not use mode='rb', so handle this one ourselves:\u001b[0m\u001b[1;33m\u001b[0m\u001b[1;33m\u001b[0m\u001b[0m\n",
      "\u001b[1;32mC:\\Users\\keeley\\AppData\\Local\\conda\\conda\\envs\\ds100\\lib\\site-packages\\nltk\\data.py\u001b[0m in \u001b[0;36mfind\u001b[1;34m(resource_name, paths)\u001b[0m\n\u001b[0;32m    651\u001b[0m     \u001b[0msep\u001b[0m \u001b[1;33m=\u001b[0m \u001b[1;34m'*'\u001b[0m \u001b[1;33m*\u001b[0m \u001b[1;36m70\u001b[0m\u001b[1;33m\u001b[0m\u001b[0m\n\u001b[0;32m    652\u001b[0m     \u001b[0mresource_not_found\u001b[0m \u001b[1;33m=\u001b[0m \u001b[1;34m'\\n%s\\n%s\\n%s'\u001b[0m \u001b[1;33m%\u001b[0m \u001b[1;33m(\u001b[0m\u001b[0msep\u001b[0m\u001b[1;33m,\u001b[0m \u001b[0mmsg\u001b[0m\u001b[1;33m,\u001b[0m \u001b[0msep\u001b[0m\u001b[1;33m)\u001b[0m\u001b[1;33m\u001b[0m\u001b[0m\n\u001b[1;32m--> 653\u001b[1;33m     \u001b[1;32mraise\u001b[0m \u001b[0mLookupError\u001b[0m\u001b[1;33m(\u001b[0m\u001b[0mresource_not_found\u001b[0m\u001b[1;33m)\u001b[0m\u001b[1;33m\u001b[0m\u001b[0m\n\u001b[0m\u001b[0;32m    654\u001b[0m \u001b[1;33m\u001b[0m\u001b[0m\n\u001b[0;32m    655\u001b[0m \u001b[1;33m\u001b[0m\u001b[0m\n",
      "\u001b[1;31mLookupError\u001b[0m: \n**********************************************************************\n  Resource 'tokenizers/punkt/english.pickle' not found.  Please\n  use the NLTK Downloader to obtain the resource:  >>>\n  nltk.download()\n  Searched in:\n    - 'C:\\\\Users\\\\keeley/nltk_data'\n    - 'C:\\\\nltk_data'\n    - 'D:\\\\nltk_data'\n    - 'E:\\\\nltk_data'\n    - 'C:\\\\Users\\\\keeley\\\\AppData\\\\Local\\\\conda\\\\conda\\\\envs\\\\ds100\\\\nltk_data'\n    - 'C:\\\\Users\\\\keeley\\\\AppData\\\\Local\\\\conda\\\\conda\\\\envs\\\\ds100\\\\lib\\\\nltk_data'\n    - 'C:\\\\Users\\\\keeley\\\\AppData\\\\Roaming\\\\nltk_data'\n    - ''\n**********************************************************************"
     ]
    }
   ],
   "source": [
    "without_stopwords(a_speech)"
   ]
  },
  {
   "cell_type": "code",
   "execution_count": null,
   "metadata": {
    "collapsed": true
   },
   "outputs": [],
   "source": [
    "exstr = \"This is an example showing off stop word filter\""
   ]
  },
  {
   "cell_type": "code",
   "execution_count": null,
   "metadata": {
    "collapsed": true
   },
   "outputs": [],
   "source": [
    "without_stopwords(exstr)"
   ]
  },
  {
   "cell_type": "code",
   "execution_count": null,
   "metadata": {
    "collapsed": true,
    "scrolled": true
   },
   "outputs": [],
   "source": [
    "without_stopwords(a_speech)"
   ]
  },
  {
   "cell_type": "code",
   "execution_count": null,
   "metadata": {
    "collapsed": true
   },
   "outputs": [],
   "source": [
    "Counter(without_stopwords(a_speech)).most_common()"
   ]
  },
  {
   "cell_type": "code",
   "execution_count": null,
   "metadata": {
    "collapsed": true
   },
   "outputs": [],
   "source": [
    "def without_words_set(a_speech, a_set):\n",
    "    a_speech = word_tokenize(a_speech)\n",
    "    filtered = []\n",
    "    for word in a_speech:\n",
    "        if word not in a_set:\n",
    "            filtered.append(word)\n",
    "    return filtered"
   ]
  },
  {
   "cell_type": "code",
   "execution_count": null,
   "metadata": {
    "collapsed": true
   },
   "outputs": [],
   "source": [
    "stop_words_set = set(stop_words)"
   ]
  },
  {
   "cell_type": "code",
   "execution_count": null,
   "metadata": {
    "collapsed": true
   },
   "outputs": [],
   "source": [
    "filter_set = {',', '.', '1', '(', ')','*',':','2', '\\'', ';', '?', '=','-', '``', \"''\"}"
   ]
  },
  {
   "cell_type": "code",
   "execution_count": null,
   "metadata": {
    "collapsed": true
   },
   "outputs": [],
   "source": [
    "custom_filter = stop_words_set | filter_set"
   ]
  },
  {
   "cell_type": "code",
   "execution_count": null,
   "metadata": {
    "collapsed": true
   },
   "outputs": [],
   "source": [
    "custom_filter"
   ]
  },
  {
   "cell_type": "code",
   "execution_count": null,
   "metadata": {
    "collapsed": true,
    "scrolled": true
   },
   "outputs": [],
   "source": [
    "filtered = without_words_set(a_speech, custom_filter)\n",
    "filtered"
   ]
  },
  {
   "cell_type": "code",
   "execution_count": null,
   "metadata": {
    "collapsed": true
   },
   "outputs": [],
   "source": [
    "Counter(filtered).most_common(15)"
   ]
  },
  {
   "cell_type": "markdown",
   "metadata": {},
   "source": [
    "## Counts words 2\n",
    "Build your own dictionary you want to count and run it"
   ]
  },
  {
   "cell_type": "code",
   "execution_count": null,
   "metadata": {
    "collapsed": true
   },
   "outputs": [],
   "source": [
    "def words_to_dictionary(words):\n",
    "    \"\"\"Making a dictionarh with given words. \n",
    "    Set key as each word and set value to initail counting 0\"\"\"\n",
    "    dic = {}\n",
    "    for word in words:\n",
    "        dic[word] = 0\n",
    "    return dic"
   ]
  },
  {
   "cell_type": "code",
   "execution_count": null,
   "metadata": {
    "collapsed": true
   },
   "outputs": [],
   "source": [
    "my_words = [\"Clinton\", \"Hillary\", \"action\", \"her\"]\n",
    "my_dictionary = words_to_dictionary(my_words)\n",
    "my_dictionary"
   ]
  },
  {
   "cell_type": "code",
   "execution_count": null,
   "metadata": {
    "collapsed": true
   },
   "outputs": [],
   "source": [
    "def count_words(dictionary, speech):\n",
    "    speech_words = speech.split(' ')\n",
    "    for word in speech_words:\n",
    "        if word in dictionary:\n",
    "            dictionary[word] = dictionary[word] + 1\n",
    "    return dictionary\n",
    "count_words(my_dictionary, a_speech)"
   ]
  },
  {
   "cell_type": "markdown",
   "metadata": {
    "collapsed": true
   },
   "source": [
    "## What's next? \n",
    "\n",
    "### Counting Moral foundation words\n",
    "### Visualization"
   ]
  },
  {
   "cell_type": "markdown",
   "metadata": {},
   "source": [
    "### Assignment: Code your dictionary into Python"
   ]
  },
  {
   "cell_type": "markdown",
   "metadata": {},
   "source": [
    "First, make a list of the words you found corresponding to each foundation. Assign them to the variable names below by replacing the ellipses with the correct lists."
   ]
  },
  {
   "cell_type": "code",
   "execution_count": null,
   "metadata": {
    "collapsed": true
   },
   "outputs": [],
   "source": [
    "# Make 6 lists. You can use \n",
    "care_words = ...\n",
    "authority_words = ...\n",
    "loyalty_words = ...\n",
    "sanctity_words = ...\n",
    "fairness_words = ...\n",
    "liberty_words = ...\n"
   ]
  },
  {
   "cell_type": "markdown",
   "metadata": {},
   "source": [
    "Next, make your dictionary by creating a new dictionary with the foundations as keys and your lists as the values."
   ]
  },
  {
   "cell_type": "code",
   "execution_count": null,
   "metadata": {
    "collapsed": true
   },
   "outputs": [],
   "source": [
    "my_dict = ..."
   ]
  },
  {
   "cell_type": "markdown",
   "metadata": {},
   "source": [
    "Finally, run the next cell to write your dictionary to a file."
   ]
  },
  {
   "cell_type": "code",
   "execution_count": null,
   "metadata": {
    "collapsed": true
   },
   "outputs": [],
   "source": [
    "# write dictionary to a file\n",
    "import json \n",
    "# convert dictionary to a JSON-formatted string\n",
    "with open('my_dict.json', 'w') as fp:\n",
    "    json.dump(my_dict, fp, sort_keys=True, indent=4)"
   ]
  },
  {
   "cell_type": "markdown",
   "metadata": {
    "collapsed": true
   },
   "source": [
    "Notebook developed by: Seungwoo Sean Son,  Keeley Takimoto, Sujude Dalieh\n",
    "Data Science Modules: http://data.berkeley.edu/education/modules\n",
    "\n",
    "Some materials are from http://composingprograms.com and https://developers.google.com/edu/python"
   ]
  }
 ],
 "metadata": {
  "kernelspec": {
   "display_name": "Python 3",
   "language": "python",
   "name": "python3"
  },
  "language_info": {
   "codemirror_mode": {
    "name": "ipython",
    "version": 3
   },
   "file_extension": ".py",
   "mimetype": "text/x-python",
   "name": "python",
   "nbconvert_exporter": "python",
   "pygments_lexer": "ipython3",
   "version": "3.6.1"
  }
 },
 "nbformat": 4,
 "nbformat_minor": 2
}
