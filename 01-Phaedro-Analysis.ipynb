{
 "cells": [
  {
   "cell_type": "markdown",
   "metadata": {},
   "source": [
    "# Phaedrus text analysis and character/topic mapping\n",
    "\n",
    "Text taken from: http://www.gutenberg.org/files/1636/1636-h/1636-h.htm"
   ]
  },
  {
   "cell_type": "code",
   "execution_count": null,
   "metadata": {
    "collapsed": false
   },
   "outputs": [],
   "source": [
    "%matplotlib inline\n",
    "import numpy as np\n",
    "from ipywidgets import interact, interactive, fixed\n",
    "import ipywidgets as widgets\n",
    "import matplotlib.pyplot as plt\n",
    "import matplotlib.lines as lines\n",
    "import string\n",
    "import re\n",
    "from datascience import Table"
   ]
  },
  {
   "cell_type": "markdown",
   "metadata": {},
   "source": [
    "Read in the table and index by row number"
   ]
  },
  {
   "cell_type": "code",
   "execution_count": null,
   "metadata": {
    "collapsed": false
   },
   "outputs": [],
   "source": [
    "phaedrus = Table.read_table('data/Phaedro.txt', names = ['line'])\n",
    "phaedrus.append_column('line #', np.arange(1,phaedrus.num_rows+1))"
   ]
  },
  {
   "cell_type": "markdown",
   "metadata": {},
   "source": [
    "Create helper functions that separate the speaker from the quote and add them to the table"
   ]
  },
  {
   "cell_type": "code",
   "execution_count": null,
   "metadata": {
    "collapsed": false,
    "scrolled": true
   },
   "outputs": [],
   "source": [
    "def name_separator(line):\n",
    "    name = line[:8]\n",
    "    if (name == 'PHAEDRUS') or (name == 'SOCRATES'):\n",
    "        return name\n",
    "    else:\n",
    "        return 'no speaker'\n",
    "\n",
    "def line_separator(line):\n",
    "    name = line[:8]\n",
    "    if (name == 'PHAEDRUS') or (name == 'SOCRATES'):\n",
    "        return line [10:]\n",
    "    else:\n",
    "        return line\n",
    "\n",
    "phaedrus.append_column('speaker', phaedrus.apply(name_separator, 'line'))\n",
    "phaedrus.append_column('quote', phaedrus.apply(line_separator, 'line'))\n",
    "phaedrus = phaedrus.drop('line')\n",
    "phaedrus"
   ]
  },
  {
   "cell_type": "markdown",
   "metadata": {},
   "source": [
    "Interactive widget that can give the most popular words of a certain character"
   ]
  },
  {
   "cell_type": "code",
   "execution_count": null,
   "metadata": {
    "collapsed": false
   },
   "outputs": [],
   "source": [
    "def word_freq(speaker, table, removed = False):\n",
    "    common_words = ['the','that','of','is','i','which','he','and','a','you','that','what','in']\n",
    "    spkr_table = table.where(table['speaker'] == speaker.upper())\n",
    "    wdict = {}\n",
    "    for line in spkr_table['quote']:\n",
    "        line = line.split(' ')\n",
    "        for word in line:\n",
    "            word = word.lower()\n",
    "            exclude = set(string.punctuation)\n",
    "            word = ''.join(char for char in word if char not in exclude)\n",
    "            if word not in wdict:\n",
    "                wdict[word] = 1\n",
    "            else:\n",
    "                wdict[word] += 1\n",
    "    speaker_frequencies = Table().with_columns(['word', wdict.keys(), 'frequency', wdict.values()])\n",
    "    speaker_frequencies = speaker_frequencies.sort('frequency', descending = True)\n",
    "    if removed:\n",
    "        def select_values(table, column, vals):\n",
    "            lst = []\n",
    "            for i in range(len(table[column])):\n",
    "                val = table[column][i]\n",
    "                if val not in vals:\n",
    "                    lst.append(i)\n",
    "            return lst\n",
    "        speaker_frequencies = speaker_frequencies.take(select_values(speaker_frequencies, 'word', common_words))\n",
    "    return speaker_frequencies\n",
    "\n",
    "interact(word_freq, speaker=['Phaedrus', 'Socrates'], table = fixed(phaedrus), common_words = False)"
   ]
  },
  {
   "cell_type": "code",
   "execution_count": null,
   "metadata": {
    "collapsed": false
   },
   "outputs": [],
   "source": [
    "def visualizer(table, string = False, normed = False, Socrates = True, Phaedrus = True):\n",
    "    test_table = table.copy()\n",
    "    if string:\n",
    "        def string_searcher(line):\n",
    "            return re.findall(string, line)\n",
    "        test_table['quote'] = test_table.apply(string_searcher, 'quote')\n",
    "    socrat = test_table.where(test_table['speaker'] == 'SOCRATES')\n",
    "    socrat.append_column('len', socrat.apply(len, 'quote'))\n",
    "    phaed = test_table.where(test_table['speaker'] == 'PHAEDRUS')\n",
    "    phaed.append_column('len', phaed.apply(len, 'quote'))\n",
    "    if normed:\n",
    "        phaed['len'] = [x/pha_total for x in phaed['len']]\n",
    "        socrat['len'] = [x/soc_total for x in socrat['len']]\n",
    "    if Phaedrus:\n",
    "        plt.plot(np.arange(1,197,2), phaed['len'], color = 'blue')\n",
    "    if Socrates:\n",
    "        plt.plot(np.arange(0,196,2), socrat['len'], color = 'red')\n",
    "    plt.legend(['Phaedrus', 'Socrates'], loc = 2)"
   ]
  },
  {
   "cell_type": "code",
   "execution_count": null,
   "metadata": {
    "collapsed": false
   },
   "outputs": [],
   "source": [
    "soc_total = np.sum(word_freq('Socrates', phaedrus)['frequency'])\n",
    "pha_total = np.sum(word_freq('Phaedrus', phaedrus)['frequency'])\n",
    "print('Socrates said a total of', soc_total, 'words.')\n",
    "print('Phaedrus said a total of', pha_total, 'words.')"
   ]
  },
  {
   "cell_type": "markdown",
   "metadata": {},
   "source": [
    "## Interactive word finder\n",
    "\n",
    "This takes in any string and returns a graph of the amount of times that character says each of those words. The default is just the amount of words they say at all."
   ]
  },
  {
   "cell_type": "code",
   "execution_count": null,
   "metadata": {
    "collapsed": false
   },
   "outputs": [],
   "source": [
    "interact(visualizer, table = fixed(phaedrus), string = '', normed = False)"
   ]
  },
  {
   "cell_type": "code",
   "execution_count": null,
   "metadata": {
    "collapsed": true
   },
   "outputs": [],
   "source": []
  }
 ],
 "metadata": {
  "anaconda-cloud": {},
  "kernelspec": {
   "display_name": "Python [default]",
   "language": "python",
   "name": "python3"
  },
  "language_info": {
   "codemirror_mode": {
    "name": "ipython",
    "version": 3
   },
   "file_extension": ".py",
   "mimetype": "text/x-python",
   "name": "python",
   "nbconvert_exporter": "python",
   "pygments_lexer": "ipython3",
   "version": "3.5.2"
  },
  "widgets": {
   "state": {
    "3ffbe4697ee5472d975daf695ad49c0e": {
     "views": [
      {
       "cell_index": 7
      }
     ]
    },
    "bff6b28909d64a26a4d677b1194d6af5": {
     "views": [
      {
       "cell_index": 11
      }
     ]
    }
   },
   "version": "1.2.0"
  }
 },
 "nbformat": 4,
 "nbformat_minor": 0
}
