{
 "cells": [
  {
   "cell_type": "markdown",
   "metadata": {},
   "source": [
    "# Individual Zip Code Analysis#\n",
    "\n",
    "Now that you've seen a basic analysis over general data, you will to look at data from your <b>own zipcode</b> and test the predictions you made in the previous notebook."
   ]
  },
  {
   "cell_type": "markdown",
   "metadata": {},
   "source": [
    "## A Few Reminders\n",
    "\n",
    "* Each block of code or text is called a \"cell\"\n",
    "* To select a cell, click on it. You should see an outline around the cell you have selected. To edit a cell, double click it (you'll be doing this to answer questions).\n",
    "* To run a cell, first select it, then hold down shift and press enter. That's it!\n",
    "* It's important to run cells in order, starting from the top of the notebook. All of the code works together, and relies on being run in the correct order for everything to work!\n",
    "* Don't hesitate to ask questions, whether about how to use the notebook, about the data set, or anything else related!\n",
    "\n",
    "## The Data\n",
    "\n",
    "In this notebook, you'll be working with data from your own home zip code. This data was collected from <a href = http://politicaldata.com/>Political Data, Inc.</a> and features demographics such as <b>age</b>, <b>gender</b>, and <b>ethnicity</b>. You will also get to work with data for people who vote by mail, and analyze possible relationships between certain demographics and submission time. \n",
    "\n",
    "## Goals\n",
    "\n",
    "By working through this notebook, you will:\n",
    "* Test the predictions you've made previously on your own home zip code\n",
    "* Form theories about voter tendencies \n",
    "* Analyze data, and use it to support your predictions"
   ]
  },
  {
   "cell_type": "markdown",
   "metadata": {},
   "source": [
    "### Before You Begin\n",
    "Think about and add to the predictions you made on Monday about possible voting trends in your home area based on certain demographics. List them out here."
   ]
  },
  {
   "cell_type": "markdown",
   "metadata": {},
   "source": [
    "### <span style=\"color:red\">ANSWER:</span>"
   ]
  },
  {
   "cell_type": "markdown",
   "metadata": {},
   "source": [
    "(your answer here)"
   ]
  },
  {
   "cell_type": "markdown",
   "metadata": {},
   "source": [
    "### Code Import"
   ]
  },
  {
   "cell_type": "code",
   "execution_count": 1,
   "metadata": {
    "collapsed": true
   },
   "outputs": [],
   "source": [
    "# Import some useful libraries\n",
    "from datascience import * \n",
    "import numpy as np\n",
    "import matplotlib "
   ]
  },
  {
   "cell_type": "markdown",
   "metadata": {},
   "source": [
    "## IMPORTANT: Input your zipcode in next cell\n",
    "In order to get the data for your own zip code, make sure to change  'YOUR ZIPCODE' to your own home zipcode."
   ]
  },
  {
   "cell_type": "code",
   "execution_count": 2,
   "metadata": {
    "collapsed": true
   },
   "outputs": [],
   "source": [
    "# Replace 'YOUR ZIPCODE' with your own zip code (i.e. 92603, 94704)\n",
    "# zipcode = 'YOUR ZIPCODE'\n",
    "zipcode = 92603"
   ]
  },
  {
   "cell_type": "markdown",
   "metadata": {},
   "source": [
    "### Party v Race ###\n",
    "Running the following two cells displays a table and a bar graph of the breakdown of Democrats and Republicans per stated race in your zipcode. Notice that there are high counts listed under 'No Ethnic ID'."
   ]
  },
  {
   "cell_type": "code",
   "execution_count": 6,
   "metadata": {
    "collapsed": false
   },
   "outputs": [
    {
     "data": {
      "text/html": [
       "<table border=\"1\" class=\"dataframe\">\n",
       "    <thead>\n",
       "        <tr>\n",
       "            <th>Race</th> <th>Democrat</th> <th>Republican</th>\n",
       "        </tr>\n",
       "    </thead>\n",
       "    <tbody>\n",
       "        <tr>\n",
       "            <td>African American       </td> <td>9       </td> <td>16        </td>\n",
       "        </tr>\n",
       "    </tbody>\n",
       "        <tr>\n",
       "            <td>Arabic                 </td> <td>13      </td> <td>3         </td>\n",
       "        </tr>\n",
       "    </tbody>\n",
       "        <tr>\n",
       "            <td>Armenian               </td> <td>29      </td> <td>29        </td>\n",
       "        </tr>\n",
       "    </tbody>\n",
       "        <tr>\n",
       "            <td>Asian - Anglo          </td> <td>22      </td> <td>17        </td>\n",
       "        </tr>\n",
       "    </tbody>\n",
       "        <tr>\n",
       "            <td>Chinese                </td> <td>191     </td> <td>231       </td>\n",
       "        </tr>\n",
       "    </tbody>\n",
       "        <tr>\n",
       "            <td>Chinese - Korean       </td> <td>34      </td> <td>21        </td>\n",
       "        </tr>\n",
       "    </tbody>\n",
       "        <tr>\n",
       "            <td>Chinese - Korean - Viet</td> <td>3       </td> <td>4         </td>\n",
       "        </tr>\n",
       "    </tbody>\n",
       "        <tr>\n",
       "            <td>Chinese - Vietnamese   </td> <td>8       </td> <td>8         </td>\n",
       "        </tr>\n",
       "    </tbody>\n",
       "        <tr>\n",
       "            <td>East Indian            </td> <td>127     </td> <td>36        </td>\n",
       "        </tr>\n",
       "    </tbody>\n",
       "        <tr>\n",
       "            <td>Filipino               </td> <td>33      </td> <td>43        </td>\n",
       "        </tr>\n",
       "    </tbody>\n",
       "        <tr>\n",
       "            <td>Greek                  </td> <td>5       </td> <td>6         </td>\n",
       "        </tr>\n",
       "    </tbody>\n",
       "        <tr>\n",
       "            <td>Italian                </td> <td>48      </td> <td>94        </td>\n",
       "        </tr>\n",
       "    </tbody>\n",
       "        <tr>\n",
       "            <td>Japanese               </td> <td>52      </td> <td>63        </td>\n",
       "        </tr>\n",
       "    </tbody>\n",
       "        <tr>\n",
       "            <td>Jewish                 </td> <td>202     </td> <td>127       </td>\n",
       "        </tr>\n",
       "    </tbody>\n",
       "        <tr>\n",
       "            <td>Korean                 </td> <td>95      </td> <td>86        </td>\n",
       "        </tr>\n",
       "    </tbody>\n",
       "        <tr>\n",
       "            <td>Latino                 </td> <td>169     </td> <td>145       </td>\n",
       "        </tr>\n",
       "    </tbody>\n",
       "        <tr>\n",
       "            <td>No Ethnic ID           </td> <td>1784    </td> <td>2744      </td>\n",
       "        </tr>\n",
       "    </tbody>\n",
       "        <tr>\n",
       "            <td>Persian                </td> <td>158     </td> <td>61        </td>\n",
       "        </tr>\n",
       "    </tbody>\n",
       "        <tr>\n",
       "            <td>Portuguese             </td> <td>9       </td> <td>2         </td>\n",
       "        </tr>\n",
       "    </tbody>\n",
       "        <tr>\n",
       "            <td>Russian                </td> <td>7       </td> <td>6         </td>\n",
       "        </tr>\n",
       "    </tbody>\n",
       "        <tr>\n",
       "            <td>SoutheastAsian         </td> <td>3       </td> <td>3         </td>\n",
       "        </tr>\n",
       "    </tbody>\n",
       "        <tr>\n",
       "            <td>Vietnamese             </td> <td>54      </td> <td>93        </td>\n",
       "        </tr>\n",
       "    </tbody>\n",
       "</table>"
      ],
      "text/plain": [
       "<IPython.core.display.HTML object>"
      ]
     },
     "metadata": {},
     "output_type": "display_data"
    }
   ],
   "source": [
    "# Generates table of the number of democrats/republicans per race in your zipcode\n",
    "\n",
    "# We load in the table\n",
    "party_race = Table().read_table(\"Party v Race.csv\")\n",
    "\n",
    "# We look at data that matches our zipcode only, and group the data (votes) by race\n",
    "party_race = party_race.where(party_race['Zip'] == zipcode).group('Race',sum)\n",
    "\n",
    "# We relabel the data to make it more clear\n",
    "party_race = party_race.relabeled('D sum', 'Democrat').relabeled('R sum', 'Republican').drop('Zip sum')\n",
    "\n",
    "# We display the table below\n",
    "party_race.show()"
   ]
  },
  {
   "cell_type": "code",
   "execution_count": 7,
   "metadata": {
    "collapsed": false
   },
   "outputs": [],
   "source": [
    "# Generates bar graph of number of democrats/republicans per race for your zipcode \n",
    "party_race.drop('Zip').barh('Race')"
   ]
  },
  {
   "cell_type": "markdown",
   "metadata": {},
   "source": [
    "### Party v Gender \n",
    "Running the following two cells displays a table and bar graph of the number of Males and Females per major party in your zipcode."
   ]
  },
  {
   "cell_type": "code",
   "execution_count": 8,
   "metadata": {
    "collapsed": false
   },
   "outputs": [
    {
     "data": {
      "text/html": [
       "<table border=\"1\" class=\"dataframe\">\n",
       "    <thead>\n",
       "        <tr>\n",
       "            <th>Party</th> <th>Male</th> <th>Female</th>\n",
       "        </tr>\n",
       "    </thead>\n",
       "    <tbody>\n",
       "        <tr>\n",
       "            <td>Democrat     </td> <td>1039</td> <td>1328  </td>\n",
       "        </tr>\n",
       "    </tbody>\n",
       "        <tr>\n",
       "            <td>Republican   </td> <td>1660</td> <td>1613  </td>\n",
       "        </tr>\n",
       "    </tbody>\n",
       "        <tr>\n",
       "            <td>Did not state</td> <td>993 </td> <td>987   </td>\n",
       "        </tr>\n",
       "    </tbody>\n",
       "</table>"
      ],
      "text/plain": [
       "Party         | Male | Female\n",
       "Democrat      | 1039 | 1328\n",
       "Republican    | 1660 | 1613\n",
       "Did not state | 993  | 987"
      ]
     },
     "execution_count": 8,
     "metadata": {},
     "output_type": "execute_result"
    }
   ],
   "source": [
    "# We load in the table from the file called \"Party v Gender.csv\"\n",
    "party_gender = Table().read_table(\"Party v Gender.csv\")\n",
    "\n",
    "# Again, we match only the data that matches our zipcode.\n",
    "party_gender = party_gender.where(party_gender['Zipcode'] == zipcode).drop('Zipcode')\n",
    "\n",
    "# We group the data based on political party and gender\n",
    "pg = Table().with_columns([\"Party\", [\"Democrat\", \"Republican\", \"Did not state\"],\n",
    "                          \"Male\", party_gender.row(0)[1:],\n",
    "                          \"Female\", party_gender.row(1)[1:]])\n",
    "pg"
   ]
  },
  {
   "cell_type": "code",
   "execution_count": 9,
   "metadata": {
    "collapsed": false
   },
   "outputs": [],
   "source": [
    "# Generates bar graph of # democrats/republicans/did not state per gender in your zipcode \n",
    "pg.barh(\"Party\")"
   ]
  },
  {
   "cell_type": "markdown",
   "metadata": {},
   "source": [
    "### Party v Age \n",
    "Running the following two cells displays a table and bar graph of the number of people in each age group per major party in your zipcode."
   ]
  },
  {
   "cell_type": "code",
   "execution_count": 53,
   "metadata": {
    "collapsed": false
   },
   "outputs": [
    {
     "data": {
      "text/html": [
       "<table border=\"1\" class=\"dataframe\">\n",
       "    <thead>\n",
       "        <tr>\n",
       "            <th>Age</th> <th>D</th> <th>R</th> <th>DS</th>\n",
       "        </tr>\n",
       "    </thead>\n",
       "    <tbody>\n",
       "        <tr>\n",
       "            <td>Age1824</td> <td>353 </td> <td>191 </td> <td>372 </td>\n",
       "        </tr>\n",
       "    </tbody>\n",
       "        <tr>\n",
       "            <td>Age2534</td> <td>467 </td> <td>367 </td> <td>479 </td>\n",
       "        </tr>\n",
       "    </tbody>\n",
       "        <tr>\n",
       "            <td>Age3544</td> <td>460 </td> <td>487 </td> <td>531 </td>\n",
       "        </tr>\n",
       "    </tbody>\n",
       "        <tr>\n",
       "            <td>Age4554</td> <td>617 </td> <td>757 </td> <td>754 </td>\n",
       "        </tr>\n",
       "    </tbody>\n",
       "        <tr>\n",
       "            <td>Age5564</td> <td>577 </td> <td>882 </td> <td>535 </td>\n",
       "        </tr>\n",
       "    </tbody>\n",
       "        <tr>\n",
       "            <td>Age65NA</td> <td>669 </td> <td>1174</td> <td>463 </td>\n",
       "        </tr>\n",
       "    </tbody>\n",
       "</table>"
      ],
      "text/plain": [
       "<IPython.core.display.HTML object>"
      ]
     },
     "metadata": {},
     "output_type": "display_data"
    }
   ],
   "source": [
    "# Generates table of # democrats/republicans/did not state per age group for your zipcode \n",
    "party_age = Table().read_table(\"Party v Age.csv\")\n",
    "party_age = party_age.where(party_age['Zip'] == zipcode).drop(\"Zip\")\n",
    "party_age.show()"
   ]
  },
  {
   "cell_type": "code",
   "execution_count": 54,
   "metadata": {
    "collapsed": false
   },
   "outputs": [
    {
     "data": {
      "image/png": "[encoded data removed]",
      "text/plain": [
       "<matplotlib.figure.Figure at 0x7fd02c3b8ef0>"
      ]
     },
     "metadata": {},
     "output_type": "display_data"
    }
   ],
   "source": [
    "# Generates bar graph of # democrats/republicans/did not state per age group for your zipcode \n",
    "party_age.drop('Zip').barh('Age')"
   ]
  },
  {
   "cell_type": "markdown",
   "metadata": {},
   "source": [
    "## Data Analysis\n",
    "Now that you've been exposed to data from your own zip code, you can now test your hypothesis and draw conclusions. Using the data shown above about your home zipcode, compare your previous predictions on how people in your area vote and general trends to the actual data.\n",
    "1. How does your hypothesis of how voters in your area will vote change or expand? \n",
    "2. Which demographic do you think is the most impactful in your area? "
   ]
  },
  {
   "cell_type": "markdown",
   "metadata": {},
   "source": [
    "### <span style=\"color:red\">ANSWERS:</span>"
   ]
  },
  {
   "cell_type": "markdown",
   "metadata": {},
   "source": [
    "1. (answer to 1. here)"
   ]
  },
  {
   "cell_type": "markdown",
   "metadata": {},
   "source": [
    "2. (answer to 2. here)"
   ]
  },
  {
   "cell_type": "markdown",
   "metadata": {},
   "source": [
    "# Vote By Mail Data Analysis\n",
    "We will now introduce additional data that could help you understand more about voting trends and demographic impacts. This set of data is based on people who always vote by mail, and is further sectioned by demographics and submission time."
   ]
  },
  {
   "cell_type": "markdown",
   "metadata": {},
   "source": [
    "### Submission Time Key"
   ]
  },
  {
   "cell_type": "markdown",
   "metadata": {},
   "source": [
    "AE -\tAlways early\n",
    "\n",
    "SE -\tSometimes Early\n",
    "\n",
    "EL -\tEarly or Late\n",
    "\n",
    "SL -\tSometimes Late\n",
    "\n",
    "AL -\tAlways Late"
   ]
  },
  {
   "cell_type": "markdown",
   "metadata": {},
   "source": [
    "### Submission Time v Age\n",
    "This data counts number per party in each age group. To look at data for a specific submission time, change the following variable called `vbm_age_time` to be one of the abbreviated submission times listed in the key above (i.e. 'AE' or 'SE')"
   ]
  },
  {
   "cell_type": "code",
   "execution_count": 62,
   "metadata": {
    "collapsed": true
   },
   "outputs": [],
   "source": [
    "# Update this variable to submission time, 'SE' to see data for the various submission times listed in the key above\n",
    "vbm_age_time = 'AE'"
   ]
  },
  {
   "cell_type": "code",
   "execution_count": 63,
   "metadata": {
    "collapsed": false
   },
   "outputs": [
    {
     "data": {
      "text/html": [
       "<table border=\"1\" class=\"dataframe\">\n",
       "    <thead>\n",
       "        <tr>\n",
       "            <th>Age</th> <th>D</th> <th>R</th> <th>DS/O </th> <th>Submission Time</th>\n",
       "        </tr>\n",
       "    </thead>\n",
       "    <tbody>\n",
       "        <tr>\n",
       "            <td>Age1824</td> <td>41  </td> <td>22  </td> <td>31   </td> <td>AE             </td>\n",
       "        </tr>\n",
       "    </tbody>\n",
       "        <tr>\n",
       "            <td>Age2534</td> <td>200 </td> <td>77  </td> <td>120  </td> <td>AE             </td>\n",
       "        </tr>\n",
       "    </tbody>\n",
       "        <tr>\n",
       "            <td>Age3544</td> <td>253 </td> <td>136 </td> <td>196  </td> <td>AE             </td>\n",
       "        </tr>\n",
       "    </tbody>\n",
       "        <tr>\n",
       "            <td>Age4554</td> <td>353 </td> <td>274 </td> <td>197  </td> <td>AE             </td>\n",
       "        </tr>\n",
       "    </tbody>\n",
       "        <tr>\n",
       "            <td>Age5564</td> <td>406 </td> <td>298 </td> <td>214  </td> <td>AE             </td>\n",
       "        </tr>\n",
       "    </tbody>\n",
       "        <tr>\n",
       "            <td>Age65NA</td> <td>1010</td> <td>833 </td> <td>422  </td> <td>AE             </td>\n",
       "        </tr>\n",
       "    </tbody>\n",
       "</table>"
      ],
      "text/plain": [
       "<IPython.core.display.HTML object>"
      ]
     },
     "metadata": {},
     "output_type": "display_data"
    }
   ],
   "source": [
    "# Table of # democrats, republicans, did not state/other per age group for input submission time \n",
    "vbm_age = Table().read_table(\"VBM_age.csv\").relabeled('Unnamed: 0', 'Age')\n",
    "\n",
    "# We select the data that matches our desired submission time, and display it in a table\n",
    "vbm_age.where(vbm_age['Submission Time'] == vbm_age_time).show()"
   ]
  },
  {
   "cell_type": "code",
   "execution_count": 65,
   "metadata": {
    "collapsed": false
   },
   "outputs": [
    {
     "data": {
      "image/png": "[encoded data removed]",
      "text/plain": [
       "<matplotlib.figure.Figure at 0x7fd02c086b38>"
      ]
     },
     "metadata": {},
     "output_type": "display_data"
    }
   ],
   "source": [
    "# Bar graph of # democrats, republicans, did not state/other per age group for input submission time \n",
    "vbm_age_bar = vbm_age.where(vbm_age['Submission Time'] == vbm_age_time)\n",
    "vbm_age_bar.drop('Submission Time').barh('Age')"
   ]
  },
  {
   "cell_type": "markdown",
   "metadata": {},
   "source": [
    "Look at the data using all the different submission times by changing the variable `vbm_age_time` above and re running the cells starting from that one. Are there trends or relationships between submission time and age for people who vote by mail? Can this be connected to the earlier data on your own zip code about party and age to make further inferences?"
   ]
  },
  {
   "cell_type": "markdown",
   "metadata": {},
   "source": [
    "### <span style=\"color:red\">ANSWER:</span>"
   ]
  },
  {
   "cell_type": "markdown",
   "metadata": {},
   "source": [
    "(your answer here)"
   ]
  },
  {
   "cell_type": "markdown",
   "metadata": {},
   "source": [
    "### Submission Time v Gender\n",
    "This data counts number per party for male/female. To look at data for a specific submission time, change the following variable called `vbm_gender_time` to be one of the abbreviated submission times listed in the key above (i.e. 'AE' or 'SE')"
   ]
  },
  {
   "cell_type": "code",
   "execution_count": 66,
   "metadata": {
    "collapsed": true
   },
   "outputs": [],
   "source": [
    "vbm_gender_time = 'AE'"
   ]
  },
  {
   "cell_type": "code",
   "execution_count": 67,
   "metadata": {
    "collapsed": false
   },
   "outputs": [
    {
     "data": {
      "text/html": [
       "<table border=\"1\" class=\"dataframe\">\n",
       "    <thead>\n",
       "        <tr>\n",
       "            <th>Gender</th> <th>D</th> <th>R</th> <th>DS</th> <th>Submission Time</th>\n",
       "        </tr>\n",
       "    </thead>\n",
       "    <tbody>\n",
       "        <tr>\n",
       "            <td>Male  </td> <td>1030</td> <td>759 </td> <td>629 </td> <td>AE             </td>\n",
       "        </tr>\n",
       "    </tbody>\n",
       "        <tr>\n",
       "            <td>Female</td> <td>1178</td> <td>856 </td> <td>502 </td> <td>AE             </td>\n",
       "        </tr>\n",
       "    </tbody>\n",
       "        <tr>\n",
       "            <td>Other </td> <td>55  </td> <td>25  </td> <td>49  </td> <td>AE             </td>\n",
       "        </tr>\n",
       "    </tbody>\n",
       "</table>"
      ],
      "text/plain": [
       "Gender | D    | R    | DS   | Submission Time\n",
       "Male   | 1030 | 759  | 629  | AE\n",
       "Female | 1178 | 856  | 502  | AE\n",
       "Other  | 55   | 25   | 49   | AE"
      ]
     },
     "execution_count": 67,
     "metadata": {},
     "output_type": "execute_result"
    }
   ],
   "source": [
    "# Table of # democrats, republicans, did not state/other per gender for input submission time \n",
    "vbm_gender = Table().read_table(\"VBM_gender.csv\")\n",
    "vbm_gender.where(vbm_gender['Submission Time'] == vbm_gender_time)"
   ]
  },
  {
   "cell_type": "code",
   "execution_count": 71,
   "metadata": {
    "collapsed": false
   },
   "outputs": [
    {
     "name": "stderr",
     "output_type": "stream",
     "text": [
      "/opt/conda/lib/python3.5/site-packages/datascience/tables.py:193: FutureWarning: Implicit column method lookup is deprecated.\n",
      "  warnings.warn(\"Implicit column method lookup is deprecated.\", FutureWarning)\n",
      "/opt/conda/lib/python3.5/site-packages/ipykernel/__main__.py:2: DeprecationWarning: elementwise == comparison failed; this will raise an error in the future.\n",
      "  from ipykernel import kernelapp as app\n"
     ]
    },
    {
     "data": {
      "image/png": "[encoded data removed]",
      "text/plain": [
       "<matplotlib.figure.Figure at 0x7fd025c17320>"
      ]
     },
     "metadata": {},
     "output_type": "display_data"
    }
   ],
   "source": [
    "# Bar graph of # democrats, republicans, did not state/other per age group for input submission time\n",
    "\n",
    "# Here, we select data that matches our submission time\n",
    "vbm_gender_time = vbm_gender.where(vbm_gender['Submission Time'] == vbm_gender_time).drop('Submission Time')\n",
    "\n",
    "# We create a table with columns based on poltical party seperated by gender.\n",
    "vgt = Table().with_columns([\"Party\", [\"Democrat\", \"Republican\", \"Did not state\"],\n",
    "                          \"Male\", vbm_gender_time.row(0)[1:],\n",
    "                          \"Female\", vbm_gender_time.row(1)[1:],\n",
    "                          \"Other\", vbm_gender_time.row(2)[1:]])\n",
    "vgt.barh('Party')"
   ]
  },
  {
   "cell_type": "markdown",
   "metadata": {},
   "source": [
    "Look at the data using all the different submission times by changing the variable `vbm_gender_time` above and re running the cells starting from that one. Are there trends or relationships between submission time and gender for people who vote by mail? Can this be connected to the earlier data on your own zip code about party and gender to make further inferences?"
   ]
  },
  {
   "cell_type": "markdown",
   "metadata": {},
   "source": [
    "### <span style=\"color:red\">ANSWER:</span>"
   ]
  },
  {
   "cell_type": "markdown",
   "metadata": {
    "collapsed": true
   },
   "source": [
    "(answer here)"
   ]
  }
 ],
 "metadata": {
  "anaconda-cloud": {},
  "kernelspec": {
   "display_name": "Python [default]",
   "language": "python",
   "name": "python3"
  },
  "language_info": {
   "codemirror_mode": {
    "name": "ipython",
    "version": 3
   },
   "file_extension": ".py",
   "mimetype": "text/x-python",
   "name": "python",
   "nbconvert_exporter": "python",
   "pygments_lexer": "ipython3",
   "version": "3.5.3"
  }
 },
 "nbformat": 4,
 "nbformat_minor": 0
}
