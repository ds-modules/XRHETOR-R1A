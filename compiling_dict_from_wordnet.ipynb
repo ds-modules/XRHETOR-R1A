{
 "cells": [
  {
   "cell_type": "markdown",
   "metadata": {},
   "source": [
    "Code used to compile Moral Foundations Theory dictionary from Wordnet synsets."
   ]
  },
  {
   "cell_type": "code",
   "execution_count": 25,
   "metadata": {
    "collapsed": true
   },
   "outputs": [],
   "source": [
    "import csv\n",
    "import nltk\n",
    "from nltk.corpus import wordnet as wn\n",
    "from nltk.stem.snowball import SnowballStemmer"
   ]
  },
  {
   "cell_type": "code",
   "execution_count": 26,
   "metadata": {
    "collapsed": true
   },
   "outputs": [],
   "source": [
    "# a dictionary: to contain 6 moral foundations as keys, lists of synonyms as values\n",
    "foundations_dict = dict()\n",
    "\n",
    "# keys for which to find synonyms/antonyms\n",
    "moral_foundations = [\"care\", \"fairness\", \"loyalty\", \"authority\", \"sanctity\"]\n",
    "\n",
    "# stemmer to reduce words to their roots\n",
    "stemmer = SnowballStemmer('english')"
   ]
  },
  {
   "cell_type": "code",
   "execution_count": 41,
   "metadata": {},
   "outputs": [],
   "source": [
    "# compile dictionary\n",
    "for found in moral_foundations:\n",
    "    # create a set of synonyms\n",
    "    syns = wn.synsets(found)\n",
    "    values = []\n",
    "    for syn in syns:\n",
    "        for wd in syn.lemma_names():\n",
    "            # stem synonym \n",
    "            wd = stemmer.stem(wd)\n",
    "            #check for duplicates\n",
    "            if wd not in values:\n",
    "                values.append(wd)\n",
    "    foundations_dict[found] = values"
   ]
  },
  {
   "cell_type": "code",
   "execution_count": 43,
   "metadata": {},
   "outputs": [],
   "source": [
    "# write dictionary to a file\n",
    "\n",
    "import json \n",
    "# convert dictionary to a JSON-formatted string\n",
    "with open('foundations_dict.json', 'w') as fp:\n",
    "    json.dump(foundations_dict, fp, sort_keys=True, indent=4)"
   ]
  }
 ],
 "metadata": {
  "kernelspec": {
   "display_name": "Python 3",
   "language": "python",
   "name": "python3"
  },
  "language_info": {
   "codemirror_mode": {
    "name": "ipython",
    "version": 3
   },
   "file_extension": ".py",
   "mimetype": "text/x-python",
   "name": "python",
   "nbconvert_exporter": "python",
   "pygments_lexer": "ipython3",
   "version": "3.6.1"
  }
 },
 "nbformat": 4,
 "nbformat_minor": 2
}
