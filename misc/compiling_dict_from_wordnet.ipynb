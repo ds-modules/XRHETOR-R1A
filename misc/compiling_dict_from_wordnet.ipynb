{
 "cells": [
  {
   "cell_type": "markdown",
   "metadata": {},
   "source": [
    "Compiling Moral Foundations Theory dictionary from Wordnet synsets: **Naive Implementation**."
   ]
  },
  {
   "cell_type": "code",
   "execution_count": 1,
   "metadata": {
    "collapsed": true
   },
   "outputs": [],
   "source": [
    "import csv\n",
    "import nltk\n",
    "from nltk.corpus import wordnet as wn\n",
    "from nltk.stem.snowball import SnowballStemmer"
   ]
  },
  {
   "cell_type": "code",
   "execution_count": 2,
   "metadata": {
    "collapsed": true
   },
   "outputs": [],
   "source": [
    "# a dictionary: to contain 6 moral foundations as keys, lists of synonyms as values\n",
    "foundations_dict = dict()\n",
    "\n",
    "# keys for which to find synonyms/antonyms\n",
    "moral_foundations = [\"care\", \"fairness\", \"loyalty\", \"authority\", \"sanctity\", \"liberty\"]\n",
    "\n",
    "# stemmer to reduce words to their roots\n",
    "stemmer = SnowballStemmer('english')"
   ]
  },
  {
   "cell_type": "code",
   "execution_count": null,
   "metadata": {
    "collapsed": true
   },
   "outputs": [],
   "source": [
    "# compile dictionary\n",
    "for found in moral_foundations:\n",
    "    # create a set of synonyms\n",
    "    syns = wn.synsets(found)\n",
    "    values = []\n",
    "    for syn in syns:\n",
    "        for wd in syn.lemma_names():\n",
    "            # stem synonym \n",
    "            wd = stemmer.stem(wd)\n",
    "            #check for duplicates\n",
    "            if wd not in values:\n",
    "                values.append(wd)\n",
    "    while len(values) < 5:\n",
    "        for syn in syns:\n",
    "            for wd in syn.lemma_names():\n",
    "            # stem synonym \n",
    "                wd = stemmer.stem(wd)\n",
    "            #check for duplicates\n",
    "            if wd not in values:\n",
    "                values.append(wd)\n",
    "    foundations_dict[found] = values"
   ]
  },
  {
   "cell_type": "code",
   "execution_count": null,
   "metadata": {
    "collapsed": true
   },
   "outputs": [],
   "source": [
    "foundations_dict"
   ]
  },
  {
   "cell_type": "code",
   "execution_count": 3,
   "metadata": {},
   "outputs": [
    {
     "ename": "NameError",
     "evalue": "name 'foundations_dict' is not defined",
     "output_type": "error",
     "traceback": [
      "\u001b[0;31m---------------------------------------------------------------------------\u001b[0m",
      "\u001b[0;31mNameError\u001b[0m                                 Traceback (most recent call last)",
      "\u001b[0;32m<ipython-input-3-7ddab6b793d3>\u001b[0m in \u001b[0;36m<module>\u001b[0;34m()\u001b[0m\n\u001b[1;32m      4\u001b[0m \u001b[0;31m# convert dictionary to a JSON-formatted string\u001b[0m\u001b[0;34m\u001b[0m\u001b[0;34m\u001b[0m\u001b[0m\n\u001b[1;32m      5\u001b[0m \u001b[0;32mwith\u001b[0m \u001b[0mopen\u001b[0m\u001b[0;34m(\u001b[0m\u001b[0;34m'foundations_dict.json'\u001b[0m\u001b[0;34m,\u001b[0m \u001b[0;34m'w'\u001b[0m\u001b[0;34m)\u001b[0m \u001b[0;32mas\u001b[0m \u001b[0mfp\u001b[0m\u001b[0;34m:\u001b[0m\u001b[0;34m\u001b[0m\u001b[0m\n\u001b[0;32m----> 6\u001b[0;31m     \u001b[0mjson\u001b[0m\u001b[0;34m.\u001b[0m\u001b[0mdump\u001b[0m\u001b[0;34m(\u001b[0m\u001b[0mfoundations_dict\u001b[0m\u001b[0;34m,\u001b[0m \u001b[0mfp\u001b[0m\u001b[0;34m,\u001b[0m \u001b[0msort_keys\u001b[0m\u001b[0;34m=\u001b[0m\u001b[0;32mTrue\u001b[0m\u001b[0;34m,\u001b[0m \u001b[0mindent\u001b[0m\u001b[0;34m=\u001b[0m\u001b[0;36m4\u001b[0m\u001b[0;34m)\u001b[0m\u001b[0;34m\u001b[0m\u001b[0m\n\u001b[0m",
      "\u001b[0;31mNameError\u001b[0m: name 'foundations_dict' is not defined"
     ]
    }
   ],
   "source": [
    "# write dictionary to a file\n",
    "\n",
    "import json \n",
    "# convert dictionary to a JSON-formatted string\n",
    "with open('foundations_dict.json', 'w') as fp:\n",
    "    json.dump(foundations_dict, fp, sort_keys=True, indent=4)"
   ]
  },
  {
   "cell_type": "markdown",
   "metadata": {},
   "source": [
    "Compiling Moral Foundations Theory dictionary from Wordnet synsets: **Final Implementation**."
   ]
  },
  {
   "cell_type": "code",
   "execution_count": 4,
   "metadata": {
    "collapsed": true
   },
   "outputs": [],
   "source": [
    "import csv\n",
    "import nltk\n",
    "from nltk.corpus import wordnet as wn\n",
    "from nltk.stem.snowball import SnowballStemmer"
   ]
  },
  {
   "cell_type": "code",
   "execution_count": 9,
   "metadata": {
    "collapsed": true
   },
   "outputs": [],
   "source": [
    "# a dictionary: to contain 6 moral foundations as keys, lists of synonyms as values\n",
    "foundations_dict = dict()\n",
    "\n",
    "# keys for which to find synonyms/antonyms\n",
    "moral_foundations = [\"care\", \"fairness/proportionality\", \"loyalty/ingroup\", \"authority/respect\", \\\n",
    "                     \"sanctity/purity\", \"liberty\"]\n",
    "\n",
    "# stemmer to reduce words to their roots\n",
    "stemmer = SnowballStemmer('english')"
   ]
  },
  {
   "cell_type": "code",
   "execution_count": 6,
   "metadata": {
    "collapsed": true
   },
   "outputs": [],
   "source": [
    "def get_synonyms(word):\n",
    "    # returns the set of synonyms for WORD in Wordnet\n",
    "    syns = wn.synsets(word)\n",
    "    values = []\n",
    "    for syn in syns:\n",
    "        for wd in syn.lemma_names():\n",
    "            if wd not in values:\n",
    "                values.append(wd)\n",
    "    return values"
   ]
  },
  {
   "cell_type": "code",
   "execution_count": 20,
   "metadata": {
    "collapsed": true
   },
   "outputs": [],
   "source": [
    "# create dictionary\n",
    "for found in moral_foundations:\n",
    "    founds = found.split('/')\n",
    "    synonyms = []\n",
    "    for subfound in founds:\n",
    "        for wd in get_synonyms(subfound):\n",
    "            if wd not in synonyms:\n",
    "                synonyms.append(wd)\n",
    "    # ensure that there are at least 5 synonyms per foundation\n",
    "    if len(synonyms) < 10:\n",
    "        for syn in synonyms:\n",
    "            while len(synonyms) < 5:\n",
    "                lemma_syns = get_synonyms(syn)\n",
    "                for lemma_syn in lemma_syns:\n",
    "                    if lemma_syn not in synonyms:\n",
    "                        synonyms.append(lemma_syn)\n",
    "    foundations_dict[found] = synonyms"
   ]
  },
  {
   "cell_type": "code",
   "execution_count": 21,
   "metadata": {},
   "outputs": [
    {
     "data": {
      "text/plain": [
       "{'authority/respect': ['authority',\n",
       "  'authorization',\n",
       "  'authorisation',\n",
       "  'potency',\n",
       "  'dominance',\n",
       "  'say-so',\n",
       "  'assurance',\n",
       "  'self-assurance',\n",
       "  'confidence',\n",
       "  'self-confidence',\n",
       "  'sureness',\n",
       "  'agency',\n",
       "  'federal_agency',\n",
       "  'government_agency',\n",
       "  'bureau',\n",
       "  'office',\n",
       "  'sanction',\n",
       "  'respect',\n",
       "  'regard',\n",
       "  'esteem',\n",
       "  'deference',\n",
       "  'obedience',\n",
       "  'respectfulness',\n",
       "  'value',\n",
       "  'prize',\n",
       "  'prise',\n",
       "  'honor',\n",
       "  'honour',\n",
       "  'abide_by',\n",
       "  'observe'],\n",
       " 'care': ['care',\n",
       "  'attention',\n",
       "  'aid',\n",
       "  'tending',\n",
       "  'caution',\n",
       "  'precaution',\n",
       "  'forethought',\n",
       "  'concern',\n",
       "  'fear',\n",
       "  'charge',\n",
       "  'tutelage',\n",
       "  'guardianship',\n",
       "  'maintenance',\n",
       "  'upkeep',\n",
       "  'give_care',\n",
       "  'wish',\n",
       "  'like',\n",
       "  'manage',\n",
       "  'deal',\n",
       "  'handle',\n",
       "  'worry'],\n",
       " 'fairness/proportionality': ['fairness',\n",
       "  'equity',\n",
       "  'fair-mindedness',\n",
       "  'candor',\n",
       "  'candour',\n",
       "  'paleness',\n",
       "  'blondness',\n",
       "  'comeliness',\n",
       "  'loveliness',\n",
       "  'beauteousness',\n",
       "  'proportionality',\n",
       "  'proportion',\n",
       "  'balance'],\n",
       " 'liberty': ['autonomy',\n",
       "  'liberty',\n",
       "  'shore_leave',\n",
       "  'familiarity',\n",
       "  'impropriety',\n",
       "  'indecorum'],\n",
       " 'loyalty/ingroup': ['loyalty',\n",
       "  'trueness',\n",
       "  'commitment',\n",
       "  'allegiance',\n",
       "  'dedication',\n",
       "  'clique',\n",
       "  'coterie',\n",
       "  'ingroup',\n",
       "  'inner_circle',\n",
       "  'pack',\n",
       "  'camp'],\n",
       " 'sanctity/purity': ['holiness',\n",
       "  'sanctity',\n",
       "  'sanctitude',\n",
       "  'purity',\n",
       "  'pureness',\n",
       "  'sinlessness',\n",
       "  'innocence',\n",
       "  'whiteness',\n",
       "  'honor',\n",
       "  'honour']}"
      ]
     },
     "execution_count": 21,
     "metadata": {},
     "output_type": "execute_result"
    }
   ],
   "source": [
    "# look at key-value pairs\n",
    "foundations_dict"
   ]
  },
  {
   "cell_type": "code",
   "execution_count": 25,
   "metadata": {
    "collapsed": true
   },
   "outputs": [],
   "source": [
    "# dictionary of words with unrelated senses\n",
    "to_remove = {'authority/respect': ['potency', 'self-assurance', 'self-confidence', 'prise', 'prize'],\n",
    "            'care': ['fear', 'wish', 'like', 'deal'],\n",
    "            'fairness/proportionality': ['paleness', 'blondness', 'loveliness', 'beauteousness'],\n",
    "            'liberty': ['familiarity', 'impropriety', 'indecorum'],\n",
    "            'loyalty/ingroup': [],\n",
    "            'sanctity/purity': []}"
   ]
  },
  {
   "cell_type": "code",
   "execution_count": 26,
   "metadata": {
    "collapsed": true
   },
   "outputs": [],
   "source": [
    "# stem values in dictionary and remove duplicates and words with unrelated senses\n",
    "for key in foundations_dict.keys():\n",
    "    final_vals = []\n",
    "    foundations_dict[key] = [wd for wd in foundations_dict[key] if wd not in to_remove[key]]\n",
    "    for val in foundations_dict[key]:\n",
    "        val = stemmer.stem(val)\n",
    "        if val not in final_vals:\n",
    "            final_vals.append(val.replace('_', ' '))\n",
    "    foundations_dict[key] = final_vals"
   ]
  },
  {
   "cell_type": "code",
   "execution_count": 27,
   "metadata": {
    "collapsed": true
   },
   "outputs": [],
   "source": [
    "# write dictionary to a file\n",
    "import json \n",
    "# convert dictionary to a JSON-formatted string\n",
    "with open('foundations_dict.json', 'w') as fp:\n",
    "    json.dump(foundations_dict, fp, sort_keys=True, indent=4)"
   ]
  },
  {
   "cell_type": "code",
   "execution_count": null,
   "metadata": {
    "collapsed": true
   },
   "outputs": [],
   "source": []
  },
  {
   "cell_type": "code",
   "execution_count": null,
   "metadata": {
    "collapsed": true
   },
   "outputs": [],
   "source": []
  },
  {
   "cell_type": "code",
   "execution_count": null,
   "metadata": {
    "collapsed": true
   },
   "outputs": [],
   "source": []
  }
 ],
 "metadata": {
  "kernelspec": {
   "display_name": "Python 3",
   "language": "python",
   "name": "python3"
  },
  "language_info": {
   "codemirror_mode": {
    "name": "ipython",
    "version": 3
   },
   "file_extension": ".py",
   "mimetype": "text/x-python",
   "name": "python",
   "nbconvert_exporter": "python",
   "pygments_lexer": "ipython3",
   "version": "3.6.1"
  }
 },
 "nbformat": 4,
 "nbformat_minor": 2
}
