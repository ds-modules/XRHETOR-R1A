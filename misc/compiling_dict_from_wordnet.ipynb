{
 "cells": [
  {
   "cell_type": "markdown",
   "metadata": {},
   "source": [
    "Compiling Moral Foundations Theory dictionary from Wordnet synsets: **Naive Implementation**."
   ]
  },
  {
   "cell_type": "code",
   "execution_count": null,
   "metadata": {
    "collapsed": true
   },
   "outputs": [],
   "source": [
    "import csv\n",
    "import nltk\n",
    "from nltk.corpus import wordnet as wn\n",
    "from nltk.stem.snowball import SnowballStemmer"
   ]
  },
  {
   "cell_type": "code",
   "execution_count": null,
   "metadata": {
    "collapsed": true
   },
   "outputs": [],
   "source": [
    "# a dictionary: to contain 6 moral foundations as keys, lists of synonyms as values\n",
    "foundations_dict = dict()\n",
    "\n",
    "# keys for which to find synonyms/antonyms\n",
    "moral_foundations = [\"care\", \"fairness\", \"loyalty\", \"authority\", \"sanctity\", \"liberty\"]\n",
    "\n",
    "# stemmer to reduce words to their roots\n",
    "stemmer = SnowballStemmer('english')"
   ]
  },
  {
   "cell_type": "code",
   "execution_count": null,
   "metadata": {
    "collapsed": true
   },
   "outputs": [],
   "source": [
    "# compile dictionary\n",
    "for found in moral_foundations:\n",
    "    # create a set of synonyms\n",
    "    syns = wn.synsets(found)\n",
    "    values = []\n",
    "    for syn in syns:\n",
    "        for wd in syn.lemma_names():\n",
    "            # stem synonym \n",
    "            wd = stemmer.stem(wd)\n",
    "            #check for duplicates\n",
    "            if wd not in values:\n",
    "                values.append(wd)\n",
    "    while len(values) < 5:\n",
    "        for syn in syns:\n",
    "            for wd in syn.lemma_names():\n",
    "            # stem synonym \n",
    "                wd = stemmer.stem(wd)\n",
    "            #check for duplicates\n",
    "            if wd not in values:\n",
    "                values.append(wd)\n",
    "    foundations_dict[found] = values"
   ]
  },
  {
   "cell_type": "code",
   "execution_count": null,
   "metadata": {
    "collapsed": true
   },
   "outputs": [],
   "source": [
    "foundations_dict"
   ]
  },
  {
   "cell_type": "markdown",
   "metadata": {},
   "source": [
    "Compiling Moral Foundations Theory dictionary from Wordnet synsets: **Final Implementation**."
   ]
  },
  {
   "cell_type": "code",
   "execution_count": 21,
   "metadata": {
    "collapsed": true
   },
   "outputs": [],
   "source": [
    "import csv\n",
    "import nltk\n",
    "from nltk.corpus import wordnet as wn\n",
    "from nltk.stem.snowball import SnowballStemmer"
   ]
  },
  {
   "cell_type": "code",
   "execution_count": 22,
   "metadata": {
    "collapsed": true
   },
   "outputs": [],
   "source": [
    "# a dictionary: to contain 6 moral foundations as keys, lists of synonyms as values\n",
    "foundations_dict = dict()\n",
    "\n",
    "# keys for which to find synonyms/antonyms\n",
    "moral_foundations = [\"care/harm\", \"fairness/proportionality/cheating\", \"loyalty/betrayal\", \"authority/respect/subversion\", \\\n",
    "                     \"sanctity/purity/degradation\", \"liberty/independence/oppression\"]\n",
    "\n",
    "# stemmer to reduce words to their roots\n",
    "stemmer = SnowballStemmer('english')"
   ]
  },
  {
   "cell_type": "code",
   "execution_count": 23,
   "metadata": {
    "collapsed": true
   },
   "outputs": [],
   "source": [
    "def get_rel_wds(word):\n",
    "    ''' returns the set of synonyms and antonyms for WORD in Wordnet'''\n",
    "    syns = wn.synsets(word)\n",
    "    values = []\n",
    "    for syn in syns:\n",
    "        for lem in syn.lemmas():\n",
    "            values.append(lem.name())\n",
    "            if lem.antonyms():\n",
    "                for ant in lem.antonyms():\n",
    "                    values.append(ant.name())     \n",
    "    return values"
   ]
  },
  {
   "cell_type": "code",
   "execution_count": 24,
   "metadata": {
    "collapsed": true
   },
   "outputs": [],
   "source": [
    "# create dictionary\n",
    "for found in moral_foundations:\n",
    "    founds = found.split('/')\n",
    "    results = []\n",
    "    for subfound in founds:\n",
    "        for wd in get_rel_wds(subfound):\n",
    "            if wd not in results:\n",
    "                results.append(wd)\n",
    "    foundations_dict[found] = results"
   ]
  },
  {
   "cell_type": "code",
   "execution_count": 25,
   "metadata": {},
   "outputs": [
    {
     "data": {
      "text/plain": [
       "{'authority/respect/subversion': ['authority',\n",
       "  'authorization',\n",
       "  'authorisation',\n",
       "  'potency',\n",
       "  'dominance',\n",
       "  'say-so',\n",
       "  'assurance',\n",
       "  'self-assurance',\n",
       "  'confidence',\n",
       "  'self-confidence',\n",
       "  'sureness',\n",
       "  'agency',\n",
       "  'federal_agency',\n",
       "  'government_agency',\n",
       "  'bureau',\n",
       "  'office',\n",
       "  'sanction',\n",
       "  'respect',\n",
       "  'regard',\n",
       "  'esteem',\n",
       "  'disesteem',\n",
       "  'disrespect',\n",
       "  'deference',\n",
       "  'obedience',\n",
       "  'respectfulness',\n",
       "  'value',\n",
       "  'prize',\n",
       "  'prise',\n",
       "  'honor',\n",
       "  'honour',\n",
       "  'abide_by',\n",
       "  'observe',\n",
       "  'corruption',\n",
       "  'subversion',\n",
       "  'subversive_activity'],\n",
       " 'care/harm': ['care',\n",
       "  'attention',\n",
       "  'aid',\n",
       "  'tending',\n",
       "  'caution',\n",
       "  'precaution',\n",
       "  'forethought',\n",
       "  'concern',\n",
       "  'fear',\n",
       "  'charge',\n",
       "  'tutelage',\n",
       "  'guardianship',\n",
       "  'maintenance',\n",
       "  'upkeep',\n",
       "  'give_care',\n",
       "  'wish',\n",
       "  'like',\n",
       "  'manage',\n",
       "  'deal',\n",
       "  'handle',\n",
       "  'worry',\n",
       "  'injury',\n",
       "  'hurt',\n",
       "  'harm',\n",
       "  'trauma',\n",
       "  'damage',\n",
       "  'impairment',\n",
       "  'scathe'],\n",
       " 'fairness/proportionality/cheating': ['fairness',\n",
       "  'unfairness',\n",
       "  'equity',\n",
       "  'inequity',\n",
       "  'fair-mindedness',\n",
       "  'candor',\n",
       "  'candour',\n",
       "  'paleness',\n",
       "  'blondness',\n",
       "  'comeliness',\n",
       "  'loveliness',\n",
       "  'beauteousness',\n",
       "  'proportionality',\n",
       "  'proportion',\n",
       "  'balance',\n",
       "  'cheat',\n",
       "  'cheating',\n",
       "  'rip_off',\n",
       "  'chisel',\n",
       "  'chouse',\n",
       "  'shaft',\n",
       "  'screw',\n",
       "  'chicane',\n",
       "  'jockey',\n",
       "  'cheat_on',\n",
       "  'cuckold',\n",
       "  'betray',\n",
       "  'wander',\n",
       "  'adulterous',\n",
       "  'two-timing',\n",
       "  'dirty',\n",
       "  'foul',\n",
       "  'unsporting',\n",
       "  'unsportsmanlike'],\n",
       " 'liberty/independence/oppression': ['autonomy',\n",
       "  'liberty',\n",
       "  'shore_leave',\n",
       "  'familiarity',\n",
       "  'impropriety',\n",
       "  'indecorum',\n",
       "  'independence',\n",
       "  'independency',\n",
       "  'Independence',\n",
       "  'oppression',\n",
       "  'subjugation',\n",
       "  'oppressiveness'],\n",
       " 'loyalty/betrayal': ['loyalty',\n",
       "  'disloyalty',\n",
       "  'trueness',\n",
       "  'commitment',\n",
       "  'allegiance',\n",
       "  'dedication',\n",
       "  'treachery',\n",
       "  'betrayal',\n",
       "  'treason',\n",
       "  'perfidy'],\n",
       " 'sanctity/purity/degradation': ['holiness',\n",
       "  'unholiness',\n",
       "  'sanctity',\n",
       "  'sanctitude',\n",
       "  'purity',\n",
       "  'impurity',\n",
       "  'pureness',\n",
       "  'sinlessness',\n",
       "  'innocence',\n",
       "  'whiteness',\n",
       "  'honor',\n",
       "  'honour',\n",
       "  'degradation',\n",
       "  'debasement',\n",
       "  'abasement',\n",
       "  'abjection']}"
      ]
     },
     "execution_count": 25,
     "metadata": {},
     "output_type": "execute_result"
    }
   ],
   "source": [
    "# look at key-value pairs\n",
    "foundations_dict"
   ]
  },
  {
   "cell_type": "code",
   "execution_count": 26,
   "metadata": {
    "collapsed": true
   },
   "outputs": [],
   "source": [
    "# dictionary of words with unrelated senses\n",
    "to_remove = {\"care/harm\": ['fear', 'wish', 'like', 'deal', 'handle'],\n",
    "             \"fairness/proportionality/cheating\": ['paleness', 'blondness', 'comeliness', 'loveliness',\n",
    "                                                   'beauteousness', 'chisel', 'wander', 'jockey'], \n",
    "             \"loyalty/betrayal\": [], \n",
    "             \"authority/respect/subversion\":['potency', 'self-assurance', 'self-confidence', 'prize', 'prise'], \n",
    "             \"sanctity/purity/degradation\": ['whiteness'], \n",
    "             \"liberty/independence/oppression\": ['shore_leave', 'familiarity', 'impropriety', 'indecorum']}\n",
    "\n",
    "def remove_wds(orig_dict, to_remove):\n",
    "    for key in orig_dict.keys():\n",
    "        vals = orig_dict[key]\n",
    "        for bad_wd in to_remove[key]:\n",
    "            vals.remove(bad_wd)\n",
    "        orig_dict[key] = vals\n",
    "        \n",
    "remove_wds(foundations_dict, to_remove)"
   ]
  },
  {
   "cell_type": "code",
   "execution_count": 27,
   "metadata": {},
   "outputs": [
    {
     "name": "stdout",
     "output_type": "stream",
     "text": [
      "care/harm 23\n",
      "fairness/proportionality/cheating 26\n",
      "loyalty/betrayal 10\n",
      "authority/respect/subversion 30\n",
      "sanctity/purity/degradation 15\n",
      "liberty/independence/oppression 8\n"
     ]
    }
   ],
   "source": [
    "for found in foundations_dict.keys():\n",
    "    print(found, len(foundations_dict[found]))"
   ]
  },
  {
   "cell_type": "code",
   "execution_count": 28,
   "metadata": {
    "collapsed": true
   },
   "outputs": [],
   "source": [
    "# look up synonyms/antonyms of synonyms/antonyms for foundations with few values\n",
    "scant_vals = ['loyalty/betrayal', 'sanctity/purity/degradation', 'liberty/independence/oppression']\n",
    "for found in scant_vals:\n",
    "    results = foundations_dict[found]\n",
    "    for wd in results.copy():\n",
    "        syns_of_syn = get_rel_wds(wd)\n",
    "        for syn in syns_of_syn:\n",
    "                if syn not in results:\n",
    "                    results.append(syn)\n",
    "    foundations_dict[found] = results"
   ]
  },
  {
   "cell_type": "code",
   "execution_count": 29,
   "metadata": {},
   "outputs": [
    {
     "data": {
      "text/plain": [
       "{'authority/respect/subversion': ['authority',\n",
       "  'authorization',\n",
       "  'authorisation',\n",
       "  'dominance',\n",
       "  'say-so',\n",
       "  'assurance',\n",
       "  'confidence',\n",
       "  'sureness',\n",
       "  'agency',\n",
       "  'federal_agency',\n",
       "  'government_agency',\n",
       "  'bureau',\n",
       "  'office',\n",
       "  'sanction',\n",
       "  'respect',\n",
       "  'regard',\n",
       "  'esteem',\n",
       "  'disesteem',\n",
       "  'disrespect',\n",
       "  'deference',\n",
       "  'obedience',\n",
       "  'respectfulness',\n",
       "  'value',\n",
       "  'honor',\n",
       "  'honour',\n",
       "  'abide_by',\n",
       "  'observe',\n",
       "  'corruption',\n",
       "  'subversion',\n",
       "  'subversive_activity'],\n",
       " 'care/harm': ['care',\n",
       "  'attention',\n",
       "  'aid',\n",
       "  'tending',\n",
       "  'caution',\n",
       "  'precaution',\n",
       "  'forethought',\n",
       "  'concern',\n",
       "  'charge',\n",
       "  'tutelage',\n",
       "  'guardianship',\n",
       "  'maintenance',\n",
       "  'upkeep',\n",
       "  'give_care',\n",
       "  'manage',\n",
       "  'worry',\n",
       "  'injury',\n",
       "  'hurt',\n",
       "  'harm',\n",
       "  'trauma',\n",
       "  'damage',\n",
       "  'impairment',\n",
       "  'scathe'],\n",
       " 'fairness/proportionality/cheating': ['fairness',\n",
       "  'unfairness',\n",
       "  'equity',\n",
       "  'inequity',\n",
       "  'fair-mindedness',\n",
       "  'candor',\n",
       "  'candour',\n",
       "  'proportionality',\n",
       "  'proportion',\n",
       "  'balance',\n",
       "  'cheat',\n",
       "  'cheating',\n",
       "  'rip_off',\n",
       "  'chouse',\n",
       "  'shaft',\n",
       "  'screw',\n",
       "  'chicane',\n",
       "  'cheat_on',\n",
       "  'cuckold',\n",
       "  'betray',\n",
       "  'adulterous',\n",
       "  'two-timing',\n",
       "  'dirty',\n",
       "  'foul',\n",
       "  'unsporting',\n",
       "  'unsportsmanlike'],\n",
       " 'liberty/independence/oppression': ['autonomy',\n",
       "  'liberty',\n",
       "  'independence',\n",
       "  'independency',\n",
       "  'Independence',\n",
       "  'oppression',\n",
       "  'subjugation',\n",
       "  'oppressiveness',\n",
       "  'self-direction',\n",
       "  'self-reliance',\n",
       "  'self-sufficiency',\n",
       "  'shore_leave',\n",
       "  'familiarity',\n",
       "  'impropriety',\n",
       "  'indecorum',\n",
       "  'subjection',\n",
       "  'conquest',\n",
       "  'conquering',\n",
       "  'burdensomeness',\n",
       "  'heaviness',\n",
       "  'onerousness'],\n",
       " 'loyalty/betrayal': ['loyalty',\n",
       "  'disloyalty',\n",
       "  'trueness',\n",
       "  'commitment',\n",
       "  'allegiance',\n",
       "  'dedication',\n",
       "  'treachery',\n",
       "  'betrayal',\n",
       "  'treason',\n",
       "  'perfidy',\n",
       "  'truth',\n",
       "  'falsity',\n",
       "  'the_true',\n",
       "  'verity',\n",
       "  'committedness',\n",
       "  'committal',\n",
       "  'consignment',\n",
       "  'fealty',\n",
       "  'inscription',\n",
       "  'perfidiousness',\n",
       "  'high_treason',\n",
       "  'lese_majesty',\n",
       "  'subversiveness',\n",
       "  'traitorousness'],\n",
       " 'sanctity/purity/degradation': ['holiness',\n",
       "  'unholiness',\n",
       "  'sanctity',\n",
       "  'sanctitude',\n",
       "  'purity',\n",
       "  'impurity',\n",
       "  'pureness',\n",
       "  'sinlessness',\n",
       "  'innocence',\n",
       "  'honor',\n",
       "  'honour',\n",
       "  'degradation',\n",
       "  'debasement',\n",
       "  'abasement',\n",
       "  'abjection',\n",
       "  'whiteness',\n",
       "  'dross',\n",
       "  'impureness',\n",
       "  'artlessness',\n",
       "  'ingenuousness',\n",
       "  'naturalness',\n",
       "  'guilt',\n",
       "  'award',\n",
       "  'accolade',\n",
       "  'laurels',\n",
       "  'dishonor',\n",
       "  'reward',\n",
       "  'respect',\n",
       "  'disrespect',\n",
       "  'abide_by',\n",
       "  'observe',\n",
       "  'adulteration',\n",
       "  'humiliation']}"
      ]
     },
     "execution_count": 29,
     "metadata": {},
     "output_type": "execute_result"
    }
   ],
   "source": [
    "foundations_dict"
   ]
  },
  {
   "cell_type": "code",
   "execution_count": 30,
   "metadata": {},
   "outputs": [],
   "source": [
    "to_remove2 = {'loyalty/betrayal': ['lese_majesty', 'high_treason'], \n",
    "              'sanctity/purity/degradation': ['artlessness', 'award', 'accolade', 'laurels'], \n",
    "              'liberty/independence/oppression': ['shore_leave', 'familiarity', 'impropriety', 'indecorum'],\n",
    "              'care/harm':[],\n",
    "              'fairness/proportionality/cheating':[],\n",
    "              'authority/respect/subversion':[]}\n",
    "\n",
    "remove_wds(foundations_dict, to_remove2)"
   ]
  },
  {
   "cell_type": "code",
   "execution_count": 31,
   "metadata": {},
   "outputs": [],
   "source": [
    "# stem values in dictionary and remove words with underscores\n",
    "\n",
    "for key in foundations_dict.keys():\n",
    "    final_vals = []\n",
    "    foundations_dict[key] = [wd for wd in foundations_dict[key] if wd.find('_') == -1]\n",
    "    for val in foundations_dict[key]:\n",
    "        final_vals.append(stemmer.stem(val))\n",
    "    foundations_dict[key] = list(set(final_vals))"
   ]
  },
  {
   "cell_type": "code",
   "execution_count": 34,
   "metadata": {},
   "outputs": [],
   "source": [
    "# rename keys\n",
    "foundations_dict['sanctity/degradation'] = foundations_dict['sanctity/purity/degradation']\n",
    "del foundations_dict['sanctity/purity/degradation']\n",
    "foundations_dict['fairness/cheating'] = foundations_dict['fairness/proportionality/cheating']\n",
    "del foundations_dict['fairness/proportionality/cheating']\n",
    "foundations_dict['liberty/oppression'] = foundations_dict['liberty/independence/oppression']\n",
    "del foundations_dict['liberty/independence/oppression']\n",
    "foundations_dict['authority/subversion'] = foundations_dict['authority/respect/subversion']\n",
    "del foundations_dict['authority/respect/subversion']\n",
    "\n"
   ]
  },
  {
   "cell_type": "code",
   "execution_count": 35,
   "metadata": {
    "collapsed": true
   },
   "outputs": [],
   "source": [
    "# write dictionary to a file\n",
    "import json \n",
    "# convert dictionary to a JSON-formatted string\n",
    "with open('../mft_data/foundations_dict.json', 'w') as fp:\n",
    "    json.dump(foundations_dict, fp, sort_keys=True, indent=4)"
   ]
  },
  {
   "cell_type": "code",
   "execution_count": null,
   "metadata": {
    "collapsed": true
   },
   "outputs": [],
   "source": []
  },
  {
   "cell_type": "code",
   "execution_count": null,
   "metadata": {
    "collapsed": true
   },
   "outputs": [],
   "source": []
  },
  {
   "cell_type": "code",
   "execution_count": null,
   "metadata": {
    "collapsed": true
   },
   "outputs": [],
   "source": []
  }
 ],
 "metadata": {
  "kernelspec": {
   "display_name": "Python 3",
   "language": "python",
   "name": "python3"
  },
  "language_info": {
   "codemirror_mode": {
    "name": "ipython",
    "version": 3
   },
   "file_extension": ".py",
   "mimetype": "text/x-python",
   "name": "python",
   "nbconvert_exporter": "python",
   "pygments_lexer": "ipython3",
   "version": "3.6.1"
  }
 },
 "nbformat": 4,
 "nbformat_minor": 2
}
