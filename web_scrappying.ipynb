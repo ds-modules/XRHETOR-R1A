{
 "cells": [
  {
   "cell_type": "code",
   "execution_count": 441,
   "metadata": {
    "collapsed": true
   },
   "outputs": [],
   "source": [
    "# Web Scrappying"
   ]
  },
  {
   "cell_type": "code",
   "execution_count": 442,
   "metadata": {
    "collapsed": true
   },
   "outputs": [],
   "source": [
    "# Anaconda 4.3 provide Beautifulsoup4 which is a great library that we are going to use for web scrappying.\n",
    "# If you have installed your python environment with pip3, \n",
    "#   you need to install Beautifulsoup4 library ahead of using this code."
   ]
  },
  {
   "cell_type": "code",
   "execution_count": 443,
   "metadata": {
    "collapsed": true
   },
   "outputs": [],
   "source": [
    "from bs4 import BeautifulSoup as bs\n",
    "import requests\n",
    "import numpy as np\n",
    "import csv\n",
    "import pandas"
   ]
  },
  {
   "cell_type": "code",
   "execution_count": 444,
   "metadata": {
    "collapsed": true
   },
   "outputs": [],
   "source": [
    "source_url = \"http://www.presidency.ucsb.edu/2016_election.php\"\n",
    "response = requests.get(source_url)\n",
    "soup = bs(response.text, \"html.parser\")"
   ]
  },
  {
   "cell_type": "code",
   "execution_count": 445,
   "metadata": {
    "collapsed": true
   },
   "outputs": [],
   "source": [
    "#type(bs_dom)\n",
    "all_links = soup.find_all(\"td\")"
   ]
  },
  {
   "cell_type": "code",
   "execution_count": 446,
   "metadata": {},
   "outputs": [],
   "source": [
    "#len(all_links)\n",
    "#all_links"
   ]
  },
  {
   "cell_type": "code",
   "execution_count": 447,
   "metadata": {
    "scrolled": true
   },
   "outputs": [],
   "source": [
    "#dom.select(\"td.doctext\")\n",
    "#len(dom.select(\"td.doctext\"))"
   ]
  },
  {
   "cell_type": "code",
   "execution_count": 448,
   "metadata": {},
   "outputs": [],
   "source": [
    "first = soup.select(\"td.doctext\")[0]\n",
    "# type(first)"
   ]
  },
  {
   "cell_type": "code",
   "execution_count": 449,
   "metadata": {
    "collapsed": true
   },
   "outputs": [],
   "source": [
    "link_of_sources = first.find_all(\"a\")"
   ]
  },
  {
   "cell_type": "code",
   "execution_count": 450,
   "metadata": {},
   "outputs": [],
   "source": [
    "clinton = link_of_sources[0]"
   ]
  },
  {
   "cell_type": "code",
   "execution_count": 451,
   "metadata": {},
   "outputs": [],
   "source": [
    "speeches = clinton['href']\n",
    "# statements = clinton['href']\n",
    "# press_release = clinton['href']"
   ]
  },
  {
   "cell_type": "code",
   "execution_count": 452,
   "metadata": {
    "collapsed": true
   },
   "outputs": [],
   "source": [
    "base_url = \"http://www.presidency.ucsb.edu/\""
   ]
  },
  {
   "cell_type": "code",
   "execution_count": 453,
   "metadata": {},
   "outputs": [],
   "source": [
    "clinton_speeches_url = base_url + speeches"
   ]
  },
  {
   "cell_type": "code",
   "execution_count": 454,
   "metadata": {},
   "outputs": [
    {
     "data": {
      "text/plain": [
       "'http://www.presidency.ucsb.edu/2016_election_speeches.php?candidate=70&campaign=2016CLINTON&doctype=5000'"
      ]
     },
     "execution_count": 454,
     "metadata": {},
     "output_type": "execute_result"
    }
   ],
   "source": [
    "clinton_speeches_url"
   ]
  },
  {
   "cell_type": "code",
   "execution_count": null,
   "metadata": {
    "collapsed": true
   },
   "outputs": [],
   "source": []
  },
  {
   "cell_type": "code",
   "execution_count": 455,
   "metadata": {
    "collapsed": true
   },
   "outputs": [],
   "source": [
    "# part2"
   ]
  },
  {
   "cell_type": "code",
   "execution_count": 456,
   "metadata": {
    "collapsed": true
   },
   "outputs": [],
   "source": [
    "response2 = requests.get(clinton_speeches_url)\n",
    "soup2 = bs(response2.text, \"html.parser\")"
   ]
  },
  {
   "cell_type": "code",
   "execution_count": 457,
   "metadata": {
    "collapsed": true
   },
   "outputs": [],
   "source": [
    "#soup2"
   ]
  },
  {
   "cell_type": "code",
   "execution_count": 458,
   "metadata": {},
   "outputs": [
    {
     "data": {
      "text/plain": [
       "'../ws/index.php?pid=96348'"
      ]
     },
     "execution_count": 458,
     "metadata": {},
     "output_type": "execute_result"
    }
   ],
   "source": [
    "soup2.select(\"tr\")[49].a['href']"
   ]
  },
  {
   "cell_type": "code",
   "execution_count": 459,
   "metadata": {},
   "outputs": [
    {
     "data": {
      "text/plain": [
       "<tr>\n",
       "<td class=\"colname\" valign=\"top\" width=\"150\">Actor</td>\n",
       "<td class=\"colname\" width=\"150\">Date</td>\n",
       "<td class=\"colname\" width=\"450\">Title</td>\n",
       "</tr>"
      ]
     },
     "execution_count": 459,
     "metadata": {},
     "output_type": "execute_result"
    }
   ],
   "source": [
    "soup2.select(\"tr\")[48]"
   ]
  },
  {
   "cell_type": "code",
   "execution_count": 460,
   "metadata": {},
   "outputs": [
    {
     "data": {
      "text/plain": [
       "<tr bgcolor=\"#ffffff\">\n",
       "<td bgcolor=\"#ffffff\" class=\"listdate\" valign=\"top\">Hillary Clinton</td>\n",
       "<td bgcolor=\"#ffffff\" class=\"listdate\" valign=\"top\">January 20, 2007</td>\n",
       "<td bgcolor=\"#ffffff\" class=\"listdate\" valign=\"top\"><a href=\"../ws/index.php?pid=96348\">Video Transcript: Presidential Exploratory Committee Announcement</a></td>\n",
       "</tr>"
      ]
     },
     "execution_count": 460,
     "metadata": {},
     "output_type": "execute_result"
    }
   ],
   "source": [
    "soup2.select(\"tr\")[49]"
   ]
  },
  {
   "cell_type": "code",
   "execution_count": 462,
   "metadata": {},
   "outputs": [
    {
     "data": {
      "text/plain": [
       "249"
      ]
     },
     "execution_count": 462,
     "metadata": {},
     "output_type": "execute_result"
    }
   ],
   "source": [
    "len(soup2.select(\"tr\"))"
   ]
  },
  {
   "cell_type": "code",
   "execution_count": 463,
   "metadata": {},
   "outputs": [
    {
     "data": {
      "text/plain": [
       "'/ws/index.php?pid=96348'"
      ]
     },
     "execution_count": 463,
     "metadata": {},
     "output_type": "execute_result"
    }
   ],
   "source": [
    "soup2.select(\"tr\")[49].a['href'].split(\"..\")[1]"
   ]
  },
  {
   "cell_type": "code",
   "execution_count": 464,
   "metadata": {
    "collapsed": true
   },
   "outputs": [],
   "source": [
    "one_page = base_url + bs_dom2.select(\"tr\")[49].a['href'].split(\"..\")[1]"
   ]
  },
  {
   "cell_type": "code",
   "execution_count": 465,
   "metadata": {},
   "outputs": [
    {
     "data": {
      "text/plain": [
       "'http://www.presidency.ucsb.edu//ws/index.php?pid=96348'"
      ]
     },
     "execution_count": 465,
     "metadata": {},
     "output_type": "execute_result"
    }
   ],
   "source": [
    "one_page"
   ]
  },
  {
   "cell_type": "code",
   "execution_count": 466,
   "metadata": {
    "scrolled": true
   },
   "outputs": [],
   "source": [
    "soup2 = soup2.findAll(\"td\", {\"class\": \"listdate\"})"
   ]
  },
  {
   "cell_type": "code",
   "execution_count": 480,
   "metadata": {},
   "outputs": [
    {
     "data": {
      "text/plain": [
       "'ws/index.php?pid=96348'"
      ]
     },
     "execution_count": 480,
     "metadata": {},
     "output_type": "execute_result"
    }
   ],
   "source": [
    "urls = \"\"\n",
    "for s in soup2:\n",
    "    try:\n",
    "        urls += (s.a['href'])\n",
    "    except: \n",
    "      pass\n",
    "\n",
    "urls = urls.split('../')\n",
    "uu = urls[1]\n",
    "# result = []\n",
    "# for url in urls:\n",
    "#     url = base_url + url\n",
    "#     result +=url\n",
    "# result\n",
    "\n",
    "# numpy_array = np.array\n",
    "# for url in urls:\n",
    "#     numpy_array = np.array(url)\n",
    "# type(links)\n",
    "# urls"
   ]
  },
  {
   "cell_type": "code",
   "execution_count": 422,
   "metadata": {},
   "outputs": [
    {
     "data": {
      "text/plain": [
       "'../ws/index.php?pid=96356'"
      ]
     },
     "execution_count": 422,
     "metadata": {},
     "output_type": "execute_result"
    }
   ],
   "source": [
    "add = \"\"\n",
    "add += soup2[26].a['href']\n",
    "add"
   ]
  },
  {
   "cell_type": "code",
   "execution_count": 315,
   "metadata": {
    "collapsed": true
   },
   "outputs": [],
   "source": [
    "#part3"
   ]
  },
  {
   "cell_type": "code",
   "execution_count": 316,
   "metadata": {
    "collapsed": true
   },
   "outputs": [],
   "source": [
    "response3 = requests.get(one_page)"
   ]
  },
  {
   "cell_type": "code",
   "execution_count": 317,
   "metadata": {
    "collapsed": true
   },
   "outputs": [],
   "source": [
    "soup3 = bs(response3.text, \"html.parser\")\n",
    "soup3"
   ]
  },
  {
   "cell_type": "code",
   "execution_count": 319,
   "metadata": {
    "collapsed": true
   },
   "outputs": [],
   "source": [
    "#class name : paperstitle, docdate, displaytext"
   ]
  },
  {
   "cell_type": "code",
   "execution_count": 320,
   "metadata": {},
   "outputs": [
    {
     "data": {
      "text/plain": [
       "[<span class=\"paperstitle\">Video Transcript: Presidential Exploratory Committee Announcement</span>]"
      ]
     },
     "execution_count": 320,
     "metadata": {},
     "output_type": "execute_result"
    }
   ],
   "source": [
    "title = soup3.findAll(\"span\", {\"class\": \"paperstitle\"})\n",
    "title"
   ]
  },
  {
   "cell_type": "code",
   "execution_count": 321,
   "metadata": {},
   "outputs": [
    {
     "data": {
      "text/plain": [
       "[<span class=\"displaytext\"><b>HILLARY CLINTON:</b> I announced today that I am forming a presidential exploratory committee. <p>I'm not just starting a campaign, though, I'm beginning a conversation -- with you, with America. Because we all need to be part of the discussion if we're all going to be part of the solution. And all of us have to be part of the solution. <p>Let's talk about how to bring the right end to the war in Iraq and to restore respect for America around the world. <p>How to make us energy independent and free of foreign oil. <p>How to end the deficits that threaten Social Security and Medicare. <p>And let's definitely talk about how every American can have quality affordable health care. <p>You know, after six years of George Bush, it is time to renew the promise of America. Our basic bargain that no matter who you are or where you live, if you work hard and play by the rules, you can build a good life for yourself and your family. <p>I grew up in a middle-class family in the middle of America, and we believed in that promise. <p>I still do. I've spent my entire life trying to make good on it. <p>Whether it was fighting for women's basic rights or childrens' basic health care. Protecting our Social Security, or protecting our soldiers. It's a kind of basic bargain, and we've got to keep up our end. <p>So let's talk. Let's chat. Let's start a dialogue about your ideas and mine. <p>Because the conversation in Washington has been just just a little one-sided lately, don't you think? And we can all see how well that works. <p>And while I can't visit everyone's living room, I can try. And with a little help from modern technology, I'll be holding live online video chats this week, starting Monday. <p>So let the conversation begin. I have a feeling it's going to be very interesting. <p><b>TEXT:</b> HillaryClinton.com <p>Paid for by Friends of Hillary Exploratory Committee.</p></p></p></p></p></p></p></p></p></p></p></p></p></p></p></span>]"
      ]
     },
     "execution_count": 321,
     "metadata": {},
     "output_type": "execute_result"
    }
   ],
   "source": [
    "text = soup3.findAll(\"span\", {\"class\": \"displaytext\"})\n",
    "text"
   ]
  },
  {
   "cell_type": "code",
   "execution_count": 322,
   "metadata": {},
   "outputs": [
    {
     "data": {
      "text/plain": [
       "[<span class=\"docdate\">January 20, 2007</span>]"
      ]
     },
     "execution_count": 322,
     "metadata": {},
     "output_type": "execute_result"
    }
   ],
   "source": [
    "date = soup3.findAll(\"span\", {\"class\": \"docdate\"})\n",
    "date"
   ]
  },
  {
   "cell_type": "code",
   "execution_count": 323,
   "metadata": {},
   "outputs": [],
   "source": [
    "def to_text(bs_expression):\n",
    "    out = []\n",
    "    for elem in bs_expression:\n",
    "        out.append(elem.text)\n",
    "    return out"
   ]
  },
  {
   "cell_type": "code",
   "execution_count": 339,
   "metadata": {},
   "outputs": [],
   "source": [
    "date = to_text(date)"
   ]
  },
  {
   "cell_type": "code",
   "execution_count": 340,
   "metadata": {},
   "outputs": [],
   "source": [
    "title = to_text(title)"
   ]
  },
  {
   "cell_type": "code",
   "execution_count": 341,
   "metadata": {},
   "outputs": [],
   "source": [
    "text = to_text(text)"
   ]
  },
  {
   "cell_type": "code",
   "execution_count": 343,
   "metadata": {},
   "outputs": [
    {
     "data": {
      "text/plain": [
       "['January 20, 2007']"
      ]
     },
     "execution_count": 343,
     "metadata": {},
     "output_type": "execute_result"
    }
   ],
   "source": [
    "date"
   ]
  },
  {
   "cell_type": "code",
   "execution_count": 358,
   "metadata": {},
   "outputs": [],
   "source": [
    "mv_data = \"\"\n",
    "mv_data += date[0]\n",
    "mv_data += title[0]\n",
    "mv_data += text[0]\n",
    "\n",
    "url_file = open(\"clinton.txt\", \"w\")\n",
    "url_file.write(mv_data)\n",
    "url_file.close()"
   ]
  }
 ],
 "metadata": {
  "kernelspec": {
   "display_name": "python3.6",
   "language": "python",
   "name": "python3.6"
  },
  "language_info": {
   "codemirror_mode": {
    "name": "ipython",
    "version": 3
   },
   "file_extension": ".py",
   "mimetype": "text/x-python",
   "name": "python",
   "nbconvert_exporter": "python",
   "pygments_lexer": "ipython3",
   "version": "3.6.1"
  }
 },
 "nbformat": 4,
 "nbformat_minor": 2
}
