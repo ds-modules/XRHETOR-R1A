{
 "cells": [
  {
   "cell_type": "markdown",
   "metadata": {},
   "source": [
    "# Phaedrus text analysis and character/topic mapping\n",
    "\n",
    "taken from: http://www.gutenberg.org/files/1636/1636-h/1636-h.htm"
   ]
  },
  {
   "cell_type": "code",
   "execution_count": 23,
   "metadata": {
    "collapsed": false
   },
   "outputs": [],
   "source": [
    "import numpy as np\n",
    "from ipywidgets import interact, interactive, fixed\n",
    "import ipywidgets as widgets\n",
    "import matplotlib.pyplot as plt\n",
    "import matplotlib.lines as lines\n",
    "import string\n",
    "import re\n"
   ]
  },
  {
   "cell_type": "markdown",
   "metadata": {},
   "source": [
    "Read in the table and index by row number"
   ]
  },
  {
   "cell_type": "code",
   "execution_count": 24,
   "metadata": {
    "collapsed": false
   },
   "outputs": [],
   "source": [
    "phaedrus = Table.read_table('Phaedro.txt', names = ['line'])\n",
    "phaedrus.append_column('line #', np.arange(1,phaedrus.num_rows+1))"
   ]
  },
  {
   "cell_type": "markdown",
   "metadata": {},
   "source": [
    "Create helper functions that separate the speaker from the quote and add them to the table"
   ]
  },
  {
   "cell_type": "code",
   "execution_count": 25,
   "metadata": {
    "collapsed": false,
    "scrolled": true
   },
   "outputs": [
    {
     "data": {
      "text/html": [
       "<table border=\"1\" class=\"dataframe\">\n",
       "    <thead>\n",
       "        <tr>\n",
       "            <th>line #</th> <th>speaker</th> <th>quote</th>\n",
       "        </tr>\n",
       "    </thead>\n",
       "    <tbody>\n",
       "        <tr>\n",
       "            <td>1     </td> <td>PHAEDRUS</td> <td>Let us talk.                                                </td>\n",
       "        </tr>\n",
       "    </tbody>\n",
       "        <tr>\n",
       "            <td>2     </td> <td>SOCRATES</td> <td>Shall we discuss the rules of writing and speech as we w ...</td>\n",
       "        </tr>\n",
       "    </tbody>\n",
       "        <tr>\n",
       "            <td>3     </td> <td>PHAEDRUS</td> <td>Very good.                                                  </td>\n",
       "        </tr>\n",
       "    </tbody>\n",
       "        <tr>\n",
       "            <td>4     </td> <td>SOCRATES</td> <td>In good speaking should not the mind of the speaker know ...</td>\n",
       "        </tr>\n",
       "    </tbody>\n",
       "        <tr>\n",
       "            <td>5     </td> <td>PHAEDRUS</td> <td>And yet, Socrates, I have heard that he who would be an  ...</td>\n",
       "        </tr>\n",
       "    </tbody>\n",
       "        <tr>\n",
       "            <td>6     </td> <td>SOCRATES</td> <td>The words of the wise are not to be set aside; for there ...</td>\n",
       "        </tr>\n",
       "    </tbody>\n",
       "        <tr>\n",
       "            <td>7     </td> <td>PHAEDRUS</td> <td>Very true.                                                  </td>\n",
       "        </tr>\n",
       "    </tbody>\n",
       "        <tr>\n",
       "            <td>8     </td> <td>SOCRATES</td> <td>Let us put the matter thus:—Suppose that I persuaded you ...</td>\n",
       "        </tr>\n",
       "    </tbody>\n",
       "        <tr>\n",
       "            <td>9     </td> <td>PHAEDRUS</td> <td>That would be ridiculous.                                   </td>\n",
       "        </tr>\n",
       "    </tbody>\n",
       "        <tr>\n",
       "            <td>10    </td> <td>SOCRATES</td> <td>There is something more ridiculous coming:—Suppose, furt ...</td>\n",
       "        </tr>\n",
       "    </tbody>\n",
       "</table>\n",
       "<p>... (188 rows omitted)</p"
      ],
      "text/plain": [
       "line # | speaker  | quote\n",
       "1      | PHAEDRUS | Let us talk.\n",
       "2      | SOCRATES | Shall we discuss the rules of writing and speech as we w ...\n",
       "3      | PHAEDRUS | Very good.\n",
       "4      | SOCRATES | In good speaking should not the mind of the speaker know ...\n",
       "5      | PHAEDRUS | And yet, Socrates, I have heard that he who would be an  ...\n",
       "6      | SOCRATES | The words of the wise are not to be set aside; for there ...\n",
       "7      | PHAEDRUS | Very true.\n",
       "8      | SOCRATES | Let us put the matter thus:—Suppose that I persuaded you ...\n",
       "9      | PHAEDRUS | That would be ridiculous.\n",
       "10     | SOCRATES | There is something more ridiculous coming:—Suppose, furt ...\n",
       "... (188 rows omitted)"
      ]
     },
     "execution_count": 25,
     "metadata": {},
     "output_type": "execute_result"
    }
   ],
   "source": [
    "def name_separator(line):\n",
    "    name = line[:8]\n",
    "    if (name == 'PHAEDRUS') or (name == 'SOCRATES'):\n",
    "        return name\n",
    "    else:\n",
    "        return 'no speaker'\n",
    "\n",
    "def line_separator(line):\n",
    "    name = line[:8]\n",
    "    if (name == 'PHAEDRUS') or (name == 'SOCRATES'):\n",
    "        return line [10:]\n",
    "    else:\n",
    "        return line\n",
    "\n",
    "phaedrus.append_column('speaker', phaedrus.apply(name_separator, 'line'))\n",
    "phaedrus.append_column('quote', phaedrus.apply(line_separator, 'line'))\n",
    "phaedrus = phaedrus.drop('line')\n",
    "phaedrus"
   ]
  },
  {
   "cell_type": "markdown",
   "metadata": {},
   "source": [
    "Interactive widget that can give the most popular words of a certain character"
   ]
  },
  {
   "cell_type": "code",
   "execution_count": 26,
   "metadata": {
    "collapsed": false
   },
   "outputs": [
    {
     "data": {
      "text/html": [
       "<table border=\"1\" class=\"dataframe\">\n",
       "    <thead>\n",
       "        <tr>\n",
       "            <th>word</th> <th>frequency</th>\n",
       "        </tr>\n",
       "    </thead>\n",
       "    <tbody>\n",
       "        <tr>\n",
       "            <td>to      </td> <td>20       </td>\n",
       "        </tr>\n",
       "    </tbody>\n",
       "        <tr>\n",
       "            <td>be      </td> <td>15       </td>\n",
       "        </tr>\n",
       "    </tbody>\n",
       "        <tr>\n",
       "            <td>not     </td> <td>14       </td>\n",
       "        </tr>\n",
       "    </tbody>\n",
       "        <tr>\n",
       "            <td>true    </td> <td>12       </td>\n",
       "        </tr>\n",
       "    </tbody>\n",
       "        <tr>\n",
       "            <td>socrates</td> <td>10       </td>\n",
       "        </tr>\n",
       "    </tbody>\n",
       "        <tr>\n",
       "            <td>have    </td> <td>10       </td>\n",
       "        </tr>\n",
       "    </tbody>\n",
       "        <tr>\n",
       "            <td>yes     </td> <td>10       </td>\n",
       "        </tr>\n",
       "    </tbody>\n",
       "        <tr>\n",
       "            <td>how     </td> <td>9        </td>\n",
       "        </tr>\n",
       "    </tbody>\n",
       "        <tr>\n",
       "            <td>they    </td> <td>9        </td>\n",
       "        </tr>\n",
       "    </tbody>\n",
       "        <tr>\n",
       "            <td>would   </td> <td>9        </td>\n",
       "        </tr>\n",
       "    </tbody>\n",
       "</table>\n",
       "<p>... (287 rows omitted)</p"
      ],
      "text/plain": [
       "word     | frequency\n",
       "to       | 20\n",
       "be       | 15\n",
       "not      | 14\n",
       "true     | 12\n",
       "socrates | 10\n",
       "have     | 10\n",
       "yes      | 10\n",
       "how      | 9\n",
       "they     | 9\n",
       "would    | 9\n",
       "... (287 rows omitted)"
      ]
     },
     "metadata": {},
     "output_type": "display_data"
    }
   ],
   "source": [
    "def word_freq(speaker, table, removed = False):\n",
    "    common_words = ['the','that','of','is','i','which','he','and','a','you','that','what','in']\n",
    "    spkr_table = table.where(table['speaker'] == speaker.upper())\n",
    "    wdict = {}\n",
    "    for line in spkr_table['quote']:\n",
    "        line = line.split(' ')\n",
    "        for word in line:\n",
    "            word = word.lower()\n",
    "            exclude = set(string.punctuation)\n",
    "            word = ''.join(char for char in word if char not in exclude)\n",
    "            if word not in wdict:\n",
    "                wdict[word] = 1\n",
    "            else:\n",
    "                wdict[word] += 1\n",
    "    speaker_frequencies = Table().with_columns(['word', wdict.keys(), 'frequency', wdict.values()])\n",
    "    speaker_frequencies = speaker_frequencies.sort('frequency', descending = True)\n",
    "    if removed:\n",
    "        def select_values(table, column, vals):\n",
    "            lst = []\n",
    "            for i in range(len(table[column])):\n",
    "                val = table[column][i]\n",
    "                if val not in vals:\n",
    "                    lst.append(i)\n",
    "            return lst\n",
    "        speaker_frequencies = speaker_frequencies.take(select_values(speaker_frequencies, 'word', common_words))\n",
    "    return speaker_frequencies\n",
    "\n",
    "interact(word_freq, speaker=['Phaedrus', 'Socrates'], table = fixed(phaedrus), common_words = False)"
   ]
  },
  {
   "cell_type": "code",
   "execution_count": 27,
   "metadata": {
    "collapsed": false
   },
   "outputs": [],
   "source": [
    "def visualizer(table, string = False, normed = False, Socrates = True, Phaedrus = True):\n",
    "    test_table = table.copy()\n",
    "    if string:\n",
    "        def string_searcher(line):\n",
    "            return re.findall(string, line)\n",
    "        test_table['quote'] = test_table.apply(string_searcher, 'quote')\n",
    "    socrat = test_table.where(test_table['speaker'] == 'SOCRATES')\n",
    "    socrat.append_column('len', socrat.apply(len, 'quote'))\n",
    "    phaed = test_table.where(test_table['speaker'] == 'PHAEDRUS')\n",
    "    phaed.append_column('len', phaed.apply(len, 'quote'))\n",
    "    if normed:\n",
    "        phaed['len'] = [x/pha_total for x in phaed['len']]\n",
    "        socrat['len'] = [x/soc_total for x in socrat['len']]\n",
    "    if Phaedrus:\n",
    "        plt.plot(np.arange(1,197,2), phaed['len'], color = 'blue')\n",
    "    if Socrates:\n",
    "        plt.plot(np.arange(0,196,2), socrat['len'], color = 'red')\n",
    "    plt.legend(['Phaedrus', 'Socrates'], loc = 2)"
   ]
  },
  {
   "cell_type": "code",
   "execution_count": 28,
   "metadata": {
    "collapsed": false
   },
   "outputs": [
    {
     "name": "stdout",
     "output_type": "stream",
     "text": [
      "Socrates said a total of 5004 words.\n",
      "Phaedrus said a total of 905 words.\n"
     ]
    }
   ],
   "source": [
    "soc_total = np.sum(word_freq('Socrates', phaedrus)['frequency'])\n",
    "pha_total = np.sum(word_freq('Phaedrus', phaedrus)['frequency'])\n",
    "print('Socrates said a total of', soc_total, 'words.')\n",
    "print('Phaedrus said a total of', pha_total, 'words.')"
   ]
  },
  {
   "cell_type": "markdown",
   "metadata": {},
   "source": [
    "## Interactive word finder\n",
    "\n",
    "This takes in any string and returns a grah of the amount of times that character says each of those words. The default is just the amount of words they say at all."
   ]
  },
  {
   "cell_type": "code",
   "execution_count": 29,
   "metadata": {
    "collapsed": false
   },
   "outputs": [
    {
     "data": {
      "text/plain": [
       "<function __main__.visualizer>"
      ]
     },
     "execution_count": 29,
     "metadata": {},
     "output_type": "execute_result"
    },
    {
     "data": {
      "image/png": "[encoded data removed]",
      "text/plain": [
       "<matplotlib.figure.Figure at 0x7f323956d160>"
      ]
     },
     "metadata": {},
     "output_type": "display_data"
    }
   ],
   "source": [
    "interact(visualizer, table = fixed(phaedrus), string = '', normed = False)"
   ]
  },
  {
   "cell_type": "code",
   "execution_count": null,
   "metadata": {
    "collapsed": true
   },
   "outputs": [],
   "source": []
  }
 ],
 "metadata": {
  "kernelspec": {
   "display_name": "Python 3",
   "language": "python",
   "name": "python3"
  },
  "language_info": {
   "codemirror_mode": {
    "name": "ipython",
    "version": 3
   },
   "file_extension": ".py",
   "mimetype": "text/x-python",
   "name": "python",
   "nbconvert_exporter": "python",
   "pygments_lexer": "ipython3",
   "version": "3.4.4"
  }
 },
 "nbformat": 4,
 "nbformat_minor": 0
}
